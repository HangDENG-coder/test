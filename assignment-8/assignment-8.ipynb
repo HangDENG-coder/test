{
 "cells": [
  {
   "cell_type": "markdown",
   "metadata": {},
   "source": [
    "# CS6140 Assignments\n",
    "\n",
    "**Instructions**\n",
    "1. In each assignment cell, look for the block:\n",
    " ```\n",
    "  #BEGIN YOUR CODE\n",
    "  raise NotImplementedError.new()\n",
    "  #END YOUR CODE\n",
    " ```\n",
    "1. Replace this block with your solution.\n",
    "1. Test your solution by running the cells following your block (indicated by ##TEST##)\n",
    "1. Click the \"Validate\" button above to validate the work.\n",
    "\n",
    "**Notes**\n",
    "* You may add other cells and functions as needed\n",
    "* Keep all code in the same notebook\n",
    "* In order to receive credit, code must \"Validate\" on the JupyterHub server\n",
    "\n",
    "---"
   ]
  },
  {
   "cell_type": "code",
   "execution_count": null,
   "metadata": {},
   "outputs": [],
   "source": []
  },
  {
   "cell_type": "markdown",
   "metadata": {
    "deletable": false,
    "editable": false,
    "nbgrader": {
     "cell_type": "markdown",
     "checksum": "8f04d4b2d1351bbf0873c31fea360edd",
     "grade": false,
     "grade_id": "cell-b57e519517d6df20",
     "locked": true,
     "schema_version": 3,
     "solution": false,
     "task": false
    }
   },
   "source": [
    "# Assignment 8: Decision Trees\n",
    "\n",
    "Implement a trainer for a single decision tree and an ensemble of decision tress, called Random Forest. Much of the code has already been completed in previous assignments. Once completed, you should have some learners to use for the Final Project.\n",
    "\n",
    "The trainer implementation will happen in the following stages:\n",
    "\n",
    "1. Create a ```NumericSplitter``` and a ```CategoricalSplitter``` which create a ```NumericSplit``` and a ```CategoricalSplit```, respecively. \n",
    "2. Create a ```DecisionTreeLearner``` which implements a recursive trainer given a list of possible splits\n",
    "3. Add a ```predict``` method to the decision tree class that predicts for new examples\n",
    "4. Using your ```DecisionTreeLearner``` as a weak learner, implement Bagging and a random subset of features to train a ```RandomForestTrainer```.\n",
    "5. Implement the ```AUCMetric``` which helps you draw an ROC curve.\n",
    "6. Apply $k$-fold Cross Validation to find the best parameters for two datasets. "
   ]
  },
  {
   "cell_type": "code",
   "execution_count": 1,
   "metadata": {
    "deletable": false,
    "editable": false,
    "nbgrader": {
     "cell_type": "code",
     "checksum": "d12eb51c94015ef2dddb141de58b4122",
     "grade": false,
     "grade_id": "cell-32383ff59bdabdf4",
     "locked": true,
     "schema_version": 3,
     "solution": false,
     "task": false
    }
   },
   "outputs": [
    {
     "data": {
      "application/javascript": [
       "if(window['d3'] === undefined ||\n",
       "   window['Nyaplot'] === undefined){\n",
       "    var path = {\"d3\":\"https://cdnjs.cloudflare.com/ajax/libs/d3/3.5.5/d3.min\",\"downloadable\":\"http://cdn.rawgit.com/domitry/d3-downloadable/master/d3-downloadable\"};\n",
       "\n",
       "\n",
       "\n",
       "    var shim = {\"d3\":{\"exports\":\"d3\"},\"downloadable\":{\"exports\":\"downloadable\"}};\n",
       "\n",
       "    require.config({paths: path, shim:shim});\n",
       "\n",
       "\n",
       "require(['d3'], function(d3){window['d3']=d3;console.log('finished loading d3');require(['downloadable'], function(downloadable){window['downloadable']=downloadable;console.log('finished loading downloadable');\n",
       "\n",
       "\tvar script = d3.select(\"head\")\n",
       "\t    .append(\"script\")\n",
       "\t    .attr(\"src\", \"http://cdn.rawgit.com/domitry/Nyaplotjs/master/release/nyaplot.js\")\n",
       "\t    .attr(\"async\", true);\n",
       "\n",
       "\tscript[0][0].onload = script[0][0].onreadystatechange = function(){\n",
       "\n",
       "\n",
       "\t    var event = document.createEvent(\"HTMLEvents\");\n",
       "\t    event.initEvent(\"load_nyaplot\",false,false);\n",
       "\t    window.dispatchEvent(event);\n",
       "\t    console.log('Finished loading Nyaplotjs');\n",
       "\n",
       "\t};\n",
       "\n",
       "\n",
       "});});\n",
       "}\n"
      ],
      "text/plain": [
       "\"if(window['d3'] === undefined ||\\n   window['Nyaplot'] === undefined){\\n    var path = {\\\"d3\\\":\\\"https://cdnjs.cloudflare.com/ajax/libs/d3/3.5.5/d3.min\\\",\\\"downloadable\\\":\\\"http://cdn.rawgit.com/domitry/d3-downloadable/master/d3-downloadable\\\"};\\n\\n\\n\\n    var shim = {\\\"d3\\\":{\\\"exports\\\":\\\"d3\\\"},\\\"downloadable\\\":{\\\"exports\\\":\\\"downloadable\\\"}};\\n\\n    require.config({paths: path, shim:shim});\\n\\n\\nrequire(['d3'], function(d3){window['d3']=d3;console.log('finished loading d3');require(['downloadable'], function(downloadable){window['downloadable']=downloadable;console.log('finished loading downloadable');\\n\\n\\tvar script = d3.select(\\\"head\\\")\\n\\t    .append(\\\"script\\\")\\n\\t    .attr(\\\"src\\\", \\\"http://cdn.rawgit.com/domitry/Nyaplotjs/master/release/nyaplot.js\\\")\\n\\t    .attr(\\\"async\\\", true);\\n\\n\\tscript[0][0].onload = script[0][0].onreadystatechange = function(){\\n\\n\\n\\t    var event = document.createEvent(\\\"HTMLEvents\\\");\\n\\t    event.initEvent(\\\"load_nyaplot\\\",false,false);\\n\\t    window.dispatchEvent(event);\\n\\t    console.log('Finished loading Nyaplotjs');\\n\\n\\t};\\n\\n\\n});});\\n}\\n\""
      ]
     },
     "metadata": {},
     "output_type": "display_data"
    },
    {
     "name": "stdout",
     "output_type": "stream",
     "text": [
      "**Iris Dataset**\n",
      "Features\n",
      "[\"sepal_length\", \"sepal_width\", \"petal_length\", \"petal_width\"]\n",
      "\n",
      "First example\n",
      "{\"features\"=>{\"sepal_length\"=>7.0, \"sepal_width\"=>3.2, \"petal_length\"=>4.7, \"petal_width\"=>1.4}, \"label\"=>1}\n",
      "\n",
      "\n",
      "**German Credit Dataset**\n",
      "Features\n",
      "[\"checking_account\", \"loan_duration\", \"credit_history\", \"purpose\", \"credit_amount\", \"savings\", \"job_tenure\", \"installment_to_salary\", \"personal_status_gender\", \"other_debtors\", \"residence_tenure\", \"property\", \"age\", \"other_installments\", \"housing\", \"existing credits\", \"job\", \"dependents\", \"has_telephone\", \"is_foreign_worker\"]\n",
      "\n",
      "First example\n",
      "{\"id\"=>0, \"label\"=>1, \"features\"=>{\"checking_account\"=>\"(-inf,0)\", \"loan_duration\"=>6.0, \"credit_history\"=>\"critical account\", \"purpose\"=>\"radio/television\", \"credit_amount\"=>1169.0, \"savings\"=>\"none\", \"job_tenure\"=>\"[7,inf)\", \"installment_to_salary\"=>4.0, \"personal_status_gender\"=>\"m_single\", \"other_debtors\"=>\"none\", \"residence_tenure\"=>4.0, \"property\"=>\"real_estate\", \"age\"=>67.0, \"other_installments\"=>\"none\", \"housing\"=>\"own\", \"existing credits\"=>2.0, \"job\"=>\"skilled\", \"dependents\"=>1.0, \"has_telephone\"=>\"yes\", \"is_foreign_worker\"=>\"yes\"}}\n"
     ]
    }
   ],
   "source": [
    "require './assignment_lib'\n",
    "\n",
    "def load_german_credit_dataset; JSON.parse(File.read('german-credit.json')); end\n",
    "def load_iris_dataset(); read_sparse_data_from_csv \"iris\"; end\n",
    "\n",
    "puts \"**Iris Dataset**\"\n",
    "puts \"Features\", load_iris_dataset()[\"features\"], \"\"\n",
    "puts \"First example\", load_iris_dataset()[\"data\"].first\n",
    "\n",
    "puts \"\\n\\n**German Credit Dataset**\"\n",
    "puts \"Features\", load_german_credit_dataset()[\"features\"], \"\"\n",
    "puts \"First example\", load_german_credit_dataset()[\"data\"].first"
   ]
  },
  {
   "cell_type": "markdown",
   "metadata": {
    "deletable": false,
    "editable": false,
    "nbgrader": {
     "cell_type": "markdown",
     "checksum": "3894e8ad7cd9c016192534d46de2747c",
     "grade": false,
     "grade_id": "cell-b80735c0dc0aa824",
     "locked": true,
     "schema_version": 3,
     "solution": false,
     "task": false
    }
   },
   "source": [
    "# Question 1\n",
    "\n",
    "Copy the various pieces you have already implemented for decision trees\n",
    "\n",
    "## Question 1.1 (1 Point)\n",
    "\n",
    "Copy **your** implementation of ```class_distribution```, mean, and stdev from previous assignments"
   ]
  },
  {
   "cell_type": "code",
   "execution_count": 2,
   "metadata": {
    "deletable": false,
    "nbgrader": {
     "cell_type": "code",
     "checksum": "0ed7bbd169e130319ce052f0f22d0d5e",
     "grade": false,
     "grade_id": "cell-c5c50fa87697e12b",
     "locked": false,
     "schema_version": 3,
     "solution": true
    }
   },
   "outputs": [
    {
     "data": {
      "text/plain": [
       ":stdev"
      ]
     },
     "execution_count": 2,
     "metadata": {},
     "output_type": "execute_result"
    }
   ],
   "source": [
    "def class_distribution dataset\n",
    "  # BEGIN YOUR CODE\n",
    "\n",
    "    prob = Hash.new()\n",
    "    if dataset.nil?\n",
    "    else \n",
    "      i = 0\n",
    "      distribution = []\n",
    "      while i< dataset.length do\n",
    "        distribution.append(dataset[i][\"label\"])\n",
    "        i+=1\n",
    "      end\n",
    "      array = distribution.sort \n",
    "  \n",
    "      type = array.select{ |x| array.count(x) >= 1}.uniq\n",
    "\n",
    "      type.each do |n|\n",
    "      \n",
    "        prob.store(n,distribution.count(n)/(dataset.length).to_f)\n",
    "      end\n",
    "    end\n",
    "    return prob\n",
    "  \n",
    "  #END YOUR CODE\n",
    "end\n",
    "\n",
    "def mean x\n",
    "  # BEGIN YOUR CODE\n",
    "\n",
    "  \n",
    "   x.inject(0.0){|sum,i| sum + i }/x.length()  \n",
    "  #END YOUR CODE\n",
    "end\n",
    "\n",
    "def stdev x\n",
    "  # BEGIN YOUR CODE\n",
    "  mu = mean x\n",
    "  su = x.inject(0.0){|sum,i| sum + (i-mu)**2 }/(x.length()-1)\n",
    "  #END YOUR CODE\n",
    "end\n"
   ]
  },
  {
   "cell_type": "code",
   "execution_count": 3,
   "metadata": {
    "deletable": false,
    "editable": false,
    "nbgrader": {
     "cell_type": "code",
     "checksum": "d4e9241e67fe9a6b941333a847dd9a05",
     "grade": true,
     "grade_id": "cell-d5732b0ff4217fef",
     "locked": true,
     "points": 1,
     "schema_version": 3,
     "solution": false
    }
   },
   "outputs": [],
   "source": [
    "### TESTS ###\n",
    "def test_d5732b\n",
    "  iris = load_iris_dataset()\n",
    "  t1_iris_dist = class_distribution iris[\"data\"]\n",
    "  t1_iris_num_classes = 3\n",
    "  n = t1_iris_num_classes.times do |cls|\n",
    "    assert_in_delta t1_iris_dist[cls], 0.33333, 1e-4\n",
    "  end\n",
    "  assert_equal t1_iris_num_classes, n\n",
    "end\n",
    "test_d5732b()"
   ]
  },
  {
   "cell_type": "code",
   "execution_count": null,
   "metadata": {},
   "outputs": [],
   "source": []
  },
  {
   "cell_type": "markdown",
   "metadata": {
    "deletable": false,
    "editable": false,
    "nbgrader": {
     "cell_type": "markdown",
     "checksum": "f80ec7f620cc2ea6896089f5b1bb5aa3",
     "grade": false,
     "grade_id": "cell-d9ad3f6c384d5c45",
     "locked": true,
     "schema_version": 3,
     "solution": false,
     "task": false
    }
   },
   "source": [
    "## Question 1.2 (1 Point)\n",
    "\n",
    "Copy **your** implementation of ```entropy``` from previous assignments"
   ]
  },
  {
   "cell_type": "code",
   "execution_count": 4,
   "metadata": {
    "deletable": false,
    "nbgrader": {
     "cell_type": "code",
     "checksum": "57ff232c1692e0061a1b6a4518bf3a39",
     "grade": false,
     "grade_id": "cell-fd56a58088d438e0",
     "locked": false,
     "schema_version": 3,
     "solution": true
    }
   },
   "outputs": [
    {
     "data": {
      "text/plain": [
       ":entropy"
      ]
     },
     "execution_count": 4,
     "metadata": {},
     "output_type": "execute_result"
    }
   ],
   "source": [
    "def entropy dist\n",
    "  # BEGIN YOUR CODE\n",
    "  if dist.empty?\n",
    "    en = 0\n",
    "  else\n",
    "    arr =(dist.to_a).transpose[1]\n",
    "    if arr.include? 0 or arr.empty?\n",
    "      en = 0\n",
    "    else\n",
    "      en = arr.inject(0.0){|sum,x| sum -x*Math.log(x) }\n",
    "    end\n",
    "  end\n",
    "return en\n",
    "  #END YOUR CODE\n",
    "end"
   ]
  },
  {
   "cell_type": "code",
   "execution_count": 5,
   "metadata": {
    "deletable": false,
    "editable": false,
    "nbgrader": {
     "cell_type": "code",
     "checksum": "99e12ed1e7efee31b9c89af94b481756",
     "grade": true,
     "grade_id": "cell-4b0b32cb212709a1",
     "locked": true,
     "points": 1,
     "schema_version": 3,
     "solution": false
    }
   },
   "outputs": [],
   "source": [
    "### TESTS ###\n",
    "def test_4b0b32()\n",
    "  iris = load_iris_dataset()\n",
    "  t2_iris_dist = class_distribution iris[\"data\"]\n",
    "  t2_iris_entropy = entropy t2_iris_dist\n",
    "  assert_in_delta(1.0986122886681096, t2_iris_entropy, 1e-4)\n",
    "  \n",
    "\n",
    "  german_credit = load_german_credit_dataset()\n",
    "  german_credit_dist = class_distribution german_credit[\"data\"]\n",
    "  german_credit_entropy = entropy german_credit_dist\n",
    "  assert_in_delta(0.6108643020548935, german_credit_entropy, 1e-4)\n",
    "end\n",
    "\n",
    "test_4b0b32()"
   ]
  },
  {
   "cell_type": "markdown",
   "metadata": {
    "deletable": false,
    "editable": false,
    "nbgrader": {
     "cell_type": "markdown",
     "checksum": "ef7cbe8d06d1ab199d7dc54207e3d7ed",
     "grade": false,
     "grade_id": "cell-b3e87660d3594fe2",
     "locked": true,
     "schema_version": 3,
     "solution": false,
     "task": false
    }
   },
   "source": [
    "## Question 1.3 (1 Point)\n",
    "\n",
    "Copy **your** implementation of ```information_gain``` from previous assignments"
   ]
  },
  {
   "cell_type": "code",
   "execution_count": 6,
   "metadata": {
    "deletable": false,
    "nbgrader": {
     "cell_type": "code",
     "checksum": "6964b2cb859fd6c3d9e6ce4fcc00677d",
     "grade": false,
     "grade_id": "cell-3c712cfd02e165c5",
     "locked": false,
     "schema_version": 3,
     "solution": true,
     "task": false
    }
   },
   "outputs": [
    {
     "data": {
      "text/plain": [
       ":information_gain"
      ]
     },
     "execution_count": 6,
     "metadata": {},
     "output_type": "execute_result"
    }
   ],
   "source": [
    "def information_gain h0, splits\n",
    "  # BEGIN YOUR CODE\n",
    "  i = 0\n",
    "  name = splits.keys\n",
    "  sum =0.0\n",
    "  h = 0.0\n",
    "  while i<splits.length do\n",
    "    h += (splits[name[i]].length) * entropy( class_distribution(splits[name[i]]))\n",
    "    sum += splits[name[i]].length\n",
    "    i+=1\n",
    "  end\n",
    "  return h0- h/sum\n",
    "  \n",
    "  \n",
    "  #END YOUR CODE\n",
    "end"
   ]
  },
  {
   "cell_type": "code",
   "execution_count": 7,
   "metadata": {
    "deletable": false,
    "editable": false,
    "nbgrader": {
     "cell_type": "code",
     "checksum": "6689dc4df3f365789376f50545bd2119",
     "grade": true,
     "grade_id": "cell-21236c60b85a6f02",
     "locked": true,
     "points": 1,
     "schema_version": 3,
     "solution": false,
     "task": false
    }
   },
   "outputs": [],
   "source": [
    "def test_21236c()\n",
    "  iris = load_iris_dataset()\n",
    "  t3_random_split = iris[\"data\"].group_by {|row| rand > 0.5 ? \"l\" : \"r\"}\n",
    "  t3_entropy = entropy(class_distribution(iris[\"data\"]))\n",
    "\n",
    "  assert_true(!t3_entropy.nil?)\n",
    "end\n",
    "test_21236c()"
   ]
  },
  {
   "cell_type": "markdown",
   "metadata": {
    "deletable": false,
    "editable": false,
    "nbgrader": {
     "cell_type": "markdown",
     "checksum": "47d1794f27fd6f0585973a4fcc04d57d",
     "grade": false,
     "grade_id": "cell-928bb3a04c06901a",
     "locked": true,
     "schema_version": 3,
     "solution": false,
     "task": false
    }
   },
   "source": [
    "# Question 2 Splits\n",
    "\n",
    "Implement a ```NumericSplit``` and a ```CategoricalSplit``` based on methods you implemented in previous assignments. Although much of the code will be reused, we will need to rearrange it.\n",
    "\n",
    "The decision tree uses the ```Splitter``` to find and create the best ```Split``` for a feature. The ```Split``` holds the information needed to define the split and check whether an example shown go down one path or another. \n",
    "\n",
    "\n",
    "## Question 2.1 (5 Points)\n",
    "\n",
    "Implement the ```CategoricalSplit```, which can split a dataset by the values of a categorical value. \n",
    "\n",
    "For example, consider splitting on the feature \"f1\". \n",
    "\n",
    "For the input as follows:\n",
    "```ruby\n",
    "[ \n",
    "    {\"features\" => {\"f1\" => \"a\"}}, \n",
    "    {\"features\" => {\"f1\" => \"b\"}},\n",
    "    {\"features\" => {\"f2\" => \"c\"}}\n",
    "]\n",
    "```\n",
    "\n",
    "The splits are stored in a hash where the key is a name of the path and the values are all examples under that path.\n",
    "```ruby\n",
    "{ \n",
    "    \"f1 == 'a'\" => [{\"features\" => {\"f1\" => \"a\"}}],\n",
    "    \"f1 == 'b'\" => [{\"features\" => {\"f1\" => \"b\"}}]\n",
    "}\n",
    "```\n",
    "\n",
    "Notes:\n",
    "\n",
    "1. Skip any example which has a missing value for the features\n",
    "1. Use the pattern ```@path_pattern % [@feature_name, feature_value]``` to assign a string-valued name to the split."
   ]
  },
  {
   "cell_type": "code",
   "execution_count": 8,
   "metadata": {
    "deletable": false,
    "nbgrader": {
     "cell_type": "code",
     "checksum": "34526fdef9e22a97f85bb7db86261159",
     "grade": false,
     "grade_id": "cell-415123a97885af63",
     "locked": false,
     "schema_version": 3,
     "solution": true,
     "task": false
    }
   },
   "outputs": [
    {
     "data": {
      "text/plain": [
       ":split_on_feature"
      ]
     },
     "execution_count": 8,
     "metadata": {},
     "output_type": "execute_result"
    }
   ],
   "source": [
    "class CategoricalSplit\n",
    "  attr_reader :feature_name\n",
    "  \n",
    "  def initialize fname\n",
    "    @feature_name = fname\n",
    "    @path_pattern = \"%s == '%s'\"\n",
    "  end\n",
    "  \n",
    "  def to_s\n",
    "    \"Categorical[#{@feature_name}]\"\n",
    "  end\n",
    "\n",
    "  def split_on_feature examples\n",
    "    splits = Hash.new\n",
    " \n",
    "    # BEGIN YOUR CODE\n",
    "    ex = examples.select {|e|  e[\"features\"][@feature_name].is_a? String }\n",
    "    name = ex.map {|e|  e[\"features\"][@feature_name] }.compact\n",
    "\n",
    "   \n",
    "    j = 0\n",
    "    while j<name.length do\n",
    "      i = 0    \n",
    "      list = []\n",
    "      list = examples.select{|e|  e[\"features\"][@feature_name] == name[j]} \n",
    "      splits.store(@path_pattern % [@feature_name, name[j]],list)\n",
    "      j+=1\n",
    "    end\n",
    "    \n",
    "    \n",
    "    #END YOUR CODE\n",
    "    \n",
    "    return splits\n",
    "  end\n",
    "end"
   ]
  },
  {
   "cell_type": "markdown",
   "metadata": {
    "deletable": false,
    "editable": false,
    "nbgrader": {
     "cell_type": "markdown",
     "checksum": "daed8286fbdc4e7803a1e1a94c420dd6",
     "grade": false,
     "grade_id": "cell-1acf760543ef9d4b",
     "locked": true,
     "schema_version": 3,
     "solution": false,
     "task": false
    }
   },
   "source": [
    "The following test should output\n",
    "\n",
    "```\n",
    "Splits\n",
    "[\"f1 == 'a'\", \"f1 == 'b'\"]\n",
    "[1, 1]\n",
    "```"
   ]
  },
  {
   "cell_type": "code",
   "execution_count": 9,
   "metadata": {
    "deletable": false,
    "editable": false,
    "nbgrader": {
     "cell_type": "code",
     "checksum": "6fe84e08a29ee1875b1b02bfa4fbdf26",
     "grade": true,
     "grade_id": "cell-af2e0c6d78f7708f",
     "locked": true,
     "points": 2,
     "schema_version": 3,
     "solution": false,
     "task": false
    }
   },
   "outputs": [
    {
     "name": "stdout",
     "output_type": "stream",
     "text": [
      "Splits\n",
      "[\"f1 == 'a'\", \"f1 == 'b'\"]\n",
      "[1, 1]\n"
     ]
    }
   ],
   "source": [
    "def test_af2e0c()  \n",
    "  f1_split = CategoricalSplit.new \"f1\"\n",
    "\n",
    "  example1 = {\"features\" => {\"f1\" => \"a\"}}\n",
    "  example2 = {\"features\" => {\"f1\" => \"b\"}}\n",
    "  example3_missing = {\"features\" => {\"f2\" => \"c\"}}\n",
    "  examples = [example1, example2, example3_missing]\n",
    "  \n",
    "  splits = f1_split.split_on_feature examples\n",
    "  puts \"Splits\", splits.keys  \n",
    "  split_sizes = splits.values.collect {|v| v.size}\n",
    "  puts split_sizes\n",
    "  \n",
    "  assert_equal 2, splits.size, \"Returns all possible values for f1 feature\"\n",
    "  assert_equal 1, splits[\"f1 == 'a'\"].size, \"a\"\n",
    "  assert_equal 1, splits[\"f1 == 'b'\"].size, \"b\"\n",
    "end\n",
    "test_af2e0c()"
   ]
  },
  {
   "cell_type": "markdown",
   "metadata": {
    "deletable": false,
    "editable": false,
    "nbgrader": {
     "cell_type": "markdown",
     "checksum": "c4499623f3625c03db16f3aa130820c8",
     "grade": false,
     "grade_id": "cell-80ca4297e48b670f",
     "locked": true,
     "schema_version": 3,
     "solution": false,
     "task": false
    }
   },
   "source": [
    "The following test should output\n",
    "\n",
    "```\n",
    "Splits for german_credit.jobs\n",
    "[\"job == 'skilled'\", \"job == 'unskilled'\", \"job == 'management'\", \"job == 'unemployed'\"]\n",
    "[630, 200, 148, 22]\n",
    "```"
   ]
  },
  {
   "cell_type": "code",
   "execution_count": 10,
   "metadata": {
    "deletable": false,
    "editable": false,
    "nbgrader": {
     "cell_type": "code",
     "checksum": "25d1e3c6bf399f607eb5e909a97d1611",
     "grade": true,
     "grade_id": "cell-b08a8bbdb9ab651e",
     "locked": true,
     "points": 3,
     "schema_version": 3,
     "solution": false,
     "task": false
    }
   },
   "outputs": [
    {
     "name": "stdout",
     "output_type": "stream",
     "text": [
      "Splits for german_credit.jobs\n",
      "[\"job == 'skilled'\", \"job == 'unskilled'\", \"job == 'management'\", \"job == 'unemployed'\"]\n",
      "[630, 200, 148, 22]\n"
     ]
    }
   ],
   "source": [
    "def test_b08a8b()  \n",
    "  job_split = CategoricalSplit.new \"job\"\n",
    "  \n",
    "  german_credit = load_german_credit_dataset()  \n",
    "  examples = german_credit[\"data\"]\n",
    "  \n",
    "  splits = job_split.split_on_feature examples\n",
    "  puts \"Splits for german_credit.jobs\", splits.keys\n",
    "  \n",
    "  split_sizes = splits.values.collect {|v| v.size}\n",
    "  puts split_sizes\n",
    "  \n",
    "  assert_equal 4, splits.size, \"Returns all possible values for job feature\"\n",
    "  assert_equal 22, splits[\"job == 'unemployed'\"].size, \"unemployed\"\n",
    "  assert_equal 200, splits[\"job == 'unskilled'\"].size, \"unskilled\"\n",
    "end\n",
    "test_b08a8b()"
   ]
  },
  {
   "cell_type": "markdown",
   "metadata": {
    "deletable": false,
    "editable": false,
    "nbgrader": {
     "cell_type": "markdown",
     "checksum": "eafb28c6ab1b5d0f3484ba8f16599e91",
     "grade": false,
     "grade_id": "cell-4fcb5c53a9784f88",
     "locked": true,
     "schema_version": 3,
     "solution": false,
     "task": false
    }
   },
   "source": [
    "## Question 2.2 (4 Points)\n",
    "\n",
    "Add a ```test``` method to your ```CategoricalSplit``` which considers an example and returns the string-valued name of the path to follow. If the example does not have a value for this feature, return ```nil```.\n",
    "\n",
    "For example, for an example with feature \"f1\", defined as follows:\n",
    "\n",
    "```ruby\n",
    "{\"features\" => {\"f1\" => \"a\"}}\n",
    "```\n",
    "\n",
    "The ```test``` method returns the name of the appropriate path to follow based on the feature. Note that the string name is available through the ```@path_pattern``` member variable.\n",
    "\n",
    "Output:\n",
    "```ruby\n",
    "\"f1 == 'a'\"\n",
    "```\n",
    "\n",
    "Notes:\n",
    "\n",
    "1. Note that the categorical value could be generated dynamically. "
   ]
  },
  {
   "cell_type": "code",
   "execution_count": 11,
   "metadata": {
    "deletable": false,
    "nbgrader": {
     "cell_type": "code",
     "checksum": "8f69785a1cd122fa6d52217a30790f40",
     "grade": false,
     "grade_id": "cell-520c0ad52bc57742",
     "locked": false,
     "schema_version": 3,
     "solution": true,
     "task": false
    }
   },
   "outputs": [
    {
     "data": {
      "text/plain": [
       ":test"
      ]
     },
     "execution_count": 11,
     "metadata": {},
     "output_type": "execute_result"
    }
   ],
   "source": [
    "class CategoricalSplit\n",
    "  def test example    \n",
    "     if example[\"features\"].keys.include? @feature_name\n",
    "       vale = example[\"features\"][@feature_name]\n",
    "       path_name = @path_pattern % [@feature_name, vale]\n",
    "     else\n",
    "       path_name = nil\n",
    "     end\n",
    "    \n",
    "  \n",
    "    #END YOUR CODE\n",
    "    \n",
    "    return path_name\n",
    "  end\n",
    "end"
   ]
  },
  {
   "cell_type": "code",
   "execution_count": 12,
   "metadata": {
    "deletable": false,
    "editable": false,
    "nbgrader": {
     "cell_type": "code",
     "checksum": "aeae94e3361c1d836de3a3188b05ac7f",
     "grade": true,
     "grade_id": "cell-7462976ffd30340a",
     "locked": true,
     "points": 4,
     "schema_version": 3,
     "solution": false,
     "task": false
    }
   },
   "outputs": [],
   "source": [
    "def test_746297()  \n",
    "  f1_split = CategoricalSplit.new \"f1\"\n",
    "\n",
    "  example1 = {\"features\" => {\"f1\" => \"a\"}}\n",
    "  example2 = {\"features\" => {\"f1\" => \"b\"}}  \n",
    "  example3 = {\"features\" => {\"f2\" => \"c\"}}\n",
    "  \n",
    "  assert_equal \"f1 == 'a'\", f1_split.test(example1), \"Example 1\"\n",
    "  assert_equal \"f1 == 'b'\", f1_split.test(example2), \"Example 2\"  \n",
    "  assert_equal nil, f1_split.test(example3), \"Example 3\"\n",
    "end\n",
    "test_746297()"
   ]
  },
  {
   "cell_type": "markdown",
   "metadata": {
    "deletable": false,
    "editable": false,
    "nbgrader": {
     "cell_type": "markdown",
     "checksum": "47894dbafd51b1fa63d75e47f6a8d206",
     "grade": false,
     "grade_id": "cell-2ecf049ae1375a23",
     "locked": true,
     "schema_version": 3,
     "solution": false,
     "task": false
    }
   },
   "source": [
    "## Question 2.3 (5 Points)\n",
    "\n",
    "Implement ```NumericSplit``` which splits a dataset based on a provided numeric value. The ```split_on_feature``` method is very similar to the ```split_on_numeric_value``` from previous assignments. You may refactor **your** implementation of ```split_on_numeric_value```.\n",
    "\n",
    "The splits are stored in a hash where the key is a name of the path and the values are all examples under that path. For example, consider the iris dataset, with a feature name \"petal_length\" and the value1 1.7. The ```split_on_feature``` method should return:\n",
    "\n",
    "```ruby\n",
    "{\n",
    "    \"petal_length >= 1.7\" => [...],\n",
    "    \"petal_length < 1.7\" => [...],\n",
    "}\n",
    "```\n",
    "\n",
    "Notes:\n",
    "1. For numeric values, any feature which is missing should be assumed to have a value of zero.\n",
    "1. The path names are stored in a member array for numeric features because they are deterministic."
   ]
  },
  {
   "cell_type": "code",
   "execution_count": 13,
   "metadata": {
    "deletable": false,
    "nbgrader": {
     "cell_type": "code",
     "checksum": "fa60b00ff7410031c2e38bec20806805",
     "grade": false,
     "grade_id": "cell-bffd3efcd0245a35",
     "locked": false,
     "schema_version": 3,
     "solution": true,
     "task": false
    }
   },
   "outputs": [
    {
     "data": {
      "text/plain": [
       ":split_on_feature"
      ]
     },
     "execution_count": 13,
     "metadata": {},
     "output_type": "execute_result"
    }
   ],
   "source": [
    "class NumericSplit\n",
    "  attr_reader :feature_name, :split_point, :paths\n",
    "  def initialize fname, value\n",
    "    @feature_name = fname\n",
    "    @split_point = value\n",
    "    @split_point_str = \"%.2g\" % @split_point\n",
    "    @paths = [\"#{@feature_name} < #{@split_point_str}\", \"#{@feature_name} >= #{@split_point_str}\"]\n",
    "  end\n",
    "  \n",
    "  def to_s\n",
    "    \"Numeric[#{@feature_name} <=> #{@split_point_str}]\"\n",
    "  end\n",
    "\n",
    "  def split_on_feature examples\n",
    "    splits = Hash.new \n",
    "\n",
    "    # BEGIN YOUR CODE\n",
    "\n",
    "    list = examples.select{|e| e[\"features\"][@feature_name]>=@split_point }\n",
    "    splits.store(@paths[1],list)\n",
    "    splits.store(@paths[0],examples - list)\n",
    "    #END YOUR CODE\n",
    "\n",
    "    return splits\n",
    "  end\n",
    "end"
   ]
  },
  {
   "cell_type": "markdown",
   "metadata": {
    "deletable": false,
    "editable": false,
    "nbgrader": {
     "cell_type": "markdown",
     "checksum": "066c71d67bf441d503794aea1c92f255",
     "grade": false,
     "grade_id": "cell-0bbc219ad43cd1f8",
     "locked": true,
     "schema_version": 3,
     "solution": false,
     "task": false
    }
   },
   "source": [
    "The following test should output:\n",
    "\n",
    "```\n",
    "Splits\n",
    "[\"petal_length >= 1.7\", \"petal_length < 1.7\"]\n",
    "[106, 44]\n",
    "```"
   ]
  },
  {
   "cell_type": "code",
   "execution_count": 14,
   "metadata": {
    "deletable": false,
    "editable": false,
    "nbgrader": {
     "cell_type": "code",
     "checksum": "7617f6e85966a02d8dfbb1feb16e2151",
     "grade": true,
     "grade_id": "cell-c028592cc3913c8e",
     "locked": true,
     "points": 2,
     "schema_version": 3,
     "solution": false
    }
   },
   "outputs": [
    {
     "name": "stdout",
     "output_type": "stream",
     "text": [
      "Splits\n",
      "[\"petal_length >= 1.7\", \"petal_length < 1.7\"]\n",
      "[106, 44]\n"
     ]
    }
   ],
   "source": [
    "def test_c02859()  \n",
    "  t21_split = NumericSplit.new \"petal_length\", 1.7\n",
    "  \n",
    "  iris = load_iris_dataset()\n",
    "  t21_iris_splits = t21_split.split_on_feature iris[\"data\"]\n",
    "  puts \"Splits\", t21_iris_splits.keys  \n",
    "  split_sizes = t21_iris_splits.values.collect {|v| v.size}\n",
    "  puts split_sizes\n",
    "\n",
    "  \n",
    "  t21_split_sizes = t21_iris_splits.values.collect {|v| v.size}.sort\n",
    "  t21_num_splits = 2\n",
    "  assert_equal t21_num_splits, t21_split_sizes.size\n",
    "  assert_equal 44, t21_split_sizes[0]\n",
    "  assert_equal 106, t21_split_sizes[1]\n",
    "end\n",
    "test_c02859()"
   ]
  },
  {
   "cell_type": "code",
   "execution_count": 15,
   "metadata": {
    "deletable": false,
    "editable": false,
    "nbgrader": {
     "cell_type": "code",
     "checksum": "d89f802d4bc4ffb6111d73f3aacae58a",
     "grade": true,
     "grade_id": "cell-17d8745a2c8c30d1",
     "locked": true,
     "points": 3,
     "schema_version": 3,
     "solution": false,
     "task": false
    }
   },
   "outputs": [],
   "source": [
    "def test_17d874()\n",
    "  iris = load_iris_dataset()\n",
    "  split = NumericSplit.new \"petal_length\", 1.7\n",
    "  t5_iris_splits = split.split_on_feature iris[\"data\"]\n",
    "  t5_split_sizes = t5_iris_splits.values.collect {|v| v.size}.sort\n",
    "\n",
    "  # Checks the information gain for this split\n",
    "  t5_iris_entropy = entropy(class_distribution(iris[\"data\"]))\n",
    "  t5_iris_information_gain = information_gain t5_iris_entropy, t5_iris_splits\n",
    "  assert_in_delta 0.48280104455013506, t5_iris_information_gain, 5e-2\n",
    "end\n",
    "test_17d874()"
   ]
  },
  {
   "cell_type": "markdown",
   "metadata": {},
   "source": [
    "## Question 2.3 (5 Points)\n",
    "\n",
    "Add the ```test``` method to the ```NumericSplit``` which will return a string-valued path, corresponding to one of the values of the ```@paths``` array defined earlier. \n",
    "\n",
    "For example, consider the input as follows:\n",
    "\n",
    "```ruby\n",
    "{\"features\" => {\"petal_length\" => 0.7}}\n",
    "```\n",
    "\n",
    "The ```test``` method should return:\n",
    "\n",
    "```ruby\n",
    "\"petal_length < 1.7\" \n",
    "```\n",
    "\n",
    "Notes:\n",
    "\n",
    "1. If the feature value does not exist for the example, return ```nil```."
   ]
  },
  {
   "cell_type": "code",
   "execution_count": 16,
   "metadata": {
    "deletable": false,
    "nbgrader": {
     "cell_type": "code",
     "checksum": "502f9c9b0ce611914860e8f4bf519670",
     "grade": false,
     "grade_id": "cell-298619bab5be58b0",
     "locked": false,
     "schema_version": 3,
     "solution": true
    }
   },
   "outputs": [
    {
     "data": {
      "text/plain": [
       ":test"
      ]
     },
     "execution_count": 16,
     "metadata": {},
     "output_type": "execute_result"
    }
   ],
   "source": [
    "class NumericSplit\n",
    "  def test example\n",
    "    # BEGIN YOUR CODE\n",
    "    \n",
    "    if example[\"features\"][@feature_name].nil?\n",
    "      return nil\n",
    "    elsif example[\"features\"][@feature_name] < @split_point\n",
    "      return \"#{@feature_name} < #{@split_point_str}\"\n",
    "    elsif \n",
    "      example[\"features\"][@feature_name] >= @split_point\n",
    "      return \"#{@feature_name} >= #{@split_point_str}\"\n",
    "    end\n",
    "      \n",
    "    \n",
    "    #END YOUR CODE\n",
    "  end\n",
    "end"
   ]
  },
  {
   "cell_type": "code",
   "execution_count": 17,
   "metadata": {
    "deletable": false,
    "editable": false,
    "nbgrader": {
     "cell_type": "code",
     "checksum": "ff9adaabb04ed4f2cfa259e0dbe4f1ff",
     "grade": true,
     "grade_id": "cell-64e0d8c09783adc6",
     "locked": true,
     "points": 3,
     "schema_version": 3,
     "solution": false
    }
   },
   "outputs": [],
   "source": [
    "def test_64e0d8()\n",
    "  splitter = NumericSplit.new \"petal_length\", 1.7\n",
    "  t22_x_left = {\"features\" => {\"petal_length\" => 0.7}}\n",
    "  assert_equal splitter.paths[0], splitter.test(t22_x_left), \"< 1.7\"\n",
    "\n",
    "  t22_x_right = {\"features\" => {\"petal_length\" => 1.71}}\n",
    "  assert_equal splitter.paths[1], splitter.test(t22_x_right), \">= 1.7\"\n",
    "\n",
    "  t22_x_right_eq = {\"features\" => {\"petal_length\" => 1.7}}\n",
    "  assert_equal splitter.paths[1], splitter.test(t22_x_right_eq), \"= 1.7\"\n",
    "end\n",
    "test_64e0d8()"
   ]
  },
  {
   "cell_type": "code",
   "execution_count": 18,
   "metadata": {
    "deletable": false,
    "editable": false,
    "nbgrader": {
     "cell_type": "code",
     "checksum": "8fc60db7f68a51c2cac252d4f1c04377",
     "grade": true,
     "grade_id": "cell-cf6969258e36a7eb",
     "locked": true,
     "points": 2,
     "schema_version": 3,
     "solution": false,
     "task": false
    }
   },
   "outputs": [],
   "source": [
    "def test_cf6969()\n",
    "  splitter = NumericSplit.new \"petal_length\", 1.7\n",
    "  x_missing = {\"features\" => {\"petal_width\" => 0.7}}\n",
    "  assert_equal nil, splitter.test(x_missing), \"Handle missing value\"\n",
    "end\n",
    "test_cf6969()"
   ]
  },
  {
   "cell_type": "markdown",
   "metadata": {
    "deletable": false,
    "editable": false,
    "nbgrader": {
     "cell_type": "markdown",
     "checksum": "3c6f192a7a4ad1f64afe22e86769d043",
     "grade": false,
     "grade_id": "cell-078ee76cdeb9a3fb",
     "locked": true,
     "schema_version": 3,
     "solution": false,
     "task": false
    }
   },
   "source": [
    "# Question 3\n",
    "\n",
    "Implement the ```CategoricalSplitter``` and ```NumericSplitter```. A ```Splitter``` checks that a ```Split``` can be applied, creates the ```Split```, and calculates the information gain. Note that the ```matches?``` function is provided for you and determines whether a split can apply. \n",
    "\n",
    "## Question 3.1 (5 points)\n",
    "\n",
    "Implement the ```CategoricalSplit``` class, whose ```create_split``` method which takes the parent node's entropy, some examples and creates a ```CategoricalSplit``` on that feature name. It also calculates the information gain on the split.\n",
    "\n",
    "For example, given a dataset and a feature name of \"job\", this should return the following:\n",
    "\n",
    "```ruby\n",
    "{\"split\" => CategoricalSplit(...), \"information_gain\" => 0.1234}\n",
    "```\n",
    "\n",
    "Notes:\n",
    "1. You should call your ```information_gain``` function here."
   ]
  },
  {
   "cell_type": "code",
   "execution_count": 19,
   "metadata": {
    "deletable": false,
    "nbgrader": {
     "cell_type": "code",
     "checksum": "058c25e0263a6091c6f85b3c65d5cfd2",
     "grade": false,
     "grade_id": "cell-33f9d2801eea0533",
     "locked": false,
     "schema_version": 3,
     "solution": true,
     "task": false
    }
   },
   "outputs": [
    {
     "data": {
      "text/plain": [
       ":create_split"
      ]
     },
     "execution_count": 19,
     "metadata": {},
     "output_type": "execute_result"
    }
   ],
   "source": [
    "class CategoricalSplitter\n",
    "  def matches? examples, feature_name\n",
    "    has_feature = examples.select {|r| r[\"features\"].has_key? feature_name} \n",
    "    return false if has_feature.empty?    \n",
    "    return has_feature.all? do |r| \n",
    "      r[\"features\"].fetch(feature_name, 0.0).is_a?(String)\n",
    "    end\n",
    "  end\n",
    "  \n",
    "  def create_split examples, parent_entropy, feature_name\n",
    "    # BEGIN YOUR CODE\n",
    "  \n",
    "    split = CategoricalSplit.new feature_name  \n",
    "    splits = split.split_on_feature examples\n",
    "    ig  = information_gain parent_entropy, splits\n",
    "   \n",
    "    #END YOUR CODE\n",
    "    \n",
    "    return {\"split\" => split, \"information_gain\" => ig}\n",
    "  end\n",
    "end"
   ]
  },
  {
   "cell_type": "code",
   "execution_count": 20,
   "metadata": {
    "deletable": false,
    "editable": false,
    "nbgrader": {
     "cell_type": "code",
     "checksum": "0f89bfc28b9b75b940e595162f147715",
     "grade": true,
     "grade_id": "cell-f251f0242af39813",
     "locked": true,
     "points": 5,
     "schema_version": 3,
     "solution": false,
     "task": false
    }
   },
   "outputs": [
    {
     "name": "stdout",
     "output_type": "stream",
     "text": [
      "Split Result:\n",
      "{\"split\"=>#<CategoricalSplit:0x000055d9032217f8 @feature_name=\"job\", @path_pattern=\"%s == '%s'\">, \"information_gain\"=>0.0009269851357646131}\n"
     ]
    }
   ],
   "source": [
    "def test_f251f0()\n",
    "  german_credit = load_german_credit_dataset()\n",
    "  examples = german_credit[\"data\"]\n",
    "  feature_name = \"job\"\n",
    "  \n",
    "  h0 = entropy(class_distribution(examples))\n",
    "  splitter = CategoricalSplitter.new \n",
    "  split_result = splitter.create_split examples, h0, feature_name\n",
    "\n",
    "  puts \"Split Result:\", split_result\n",
    "  \n",
    "  split = split_result[\"split\"]\n",
    "  info_gain = split_result[\"information_gain\"]\n",
    "\n",
    "  assert_not_nil split\n",
    "  assert_in_delta 0.0009269851357646131, info_gain, 1e-2\n",
    "end \n",
    "test_f251f0()"
   ]
  },
  {
   "cell_type": "markdown",
   "metadata": {
    "deletable": false,
    "editable": false,
    "nbgrader": {
     "cell_type": "markdown",
     "checksum": "9653943184d841241ea898a5a9d8ace6",
     "grade": false,
     "grade_id": "cell-188f89d82b6541b5",
     "locked": true,
     "schema_version": 3,
     "solution": false,
     "task": false
    }
   },
   "source": [
    "## Question 3.2 (5 Points\n",
    "\n",
    "Implement the ```NumericSplitter``` class. Given a feature, create_split finds the best feature value and creates the split. This behavior was implemented in a previous assignment, so adapt **your** ```find_split_point_numeric``` method to implement ```create_split```. \n",
    "\n",
    "\n",
    "```ruby\n",
    "{\"split\" => NumericSplit(...), \"information_gain\" => 0.1234}\n",
    "```\n",
    "\n",
    "Notes:\n",
    "1. In previous versions of the ```find_split_point_numeric```, we set missing values to zero. We will do the same thing here. However in the ```matches?``` function, we require at least one non-missing value. \n",
    "1. Return a ```nil``` if there is no available split point."
   ]
  },
  {
   "cell_type": "code",
   "execution_count": 21,
   "metadata": {
    "deletable": false,
    "nbgrader": {
     "cell_type": "code",
     "checksum": "a5c891b6d0ecb171a38bbcce5b3a2d22",
     "grade": false,
     "grade_id": "cell-f21a997a3508866a",
     "locked": false,
     "schema_version": 3,
     "solution": true
    }
   },
   "outputs": [
    {
     "data": {
      "text/plain": [
       ":create_split"
      ]
     },
     "execution_count": 21,
     "metadata": {},
     "output_type": "execute_result"
    }
   ],
   "source": [
    "class NumericSplitter\n",
    "  def matches? examples, feature_name\n",
    "    has_feature = examples.select {|r| r[\"features\"].has_key? feature_name} \n",
    "    return false if has_feature.empty?    \n",
    "    return has_feature.all? do |r| \n",
    "      r[\"features\"].fetch(feature_name, 0.0).is_a?(Numeric)\n",
    "    end\n",
    "  end\n",
    "  \n",
    "  def create_split examples, parent_entropy, feature_name    \n",
    "    # BEGIN YOUR CODE\n",
    "    if examples.empty?\n",
    "      return nil\n",
    "      \n",
    "    else\n",
    "      ex =  examples.select{|e| e[\"features\"][feature_name].is_a? Numeric}\n",
    "      points_list = ex.map{|e| e[\"features\"][feature_name]}.sort\n",
    "      if points_list.empty?\n",
    "        return nil\n",
    "        \n",
    "      else\n",
    "        ig_list = []\n",
    "        i = 0\n",
    "        while i < points_list.length do\n",
    "          split = NumericSplit.new feature_name, points_list[i]\n",
    "          split_list = split.split_on_feature examples\n",
    "          ig_list.append( information_gain parent_entropy, split_list)\n",
    "          i+=1\n",
    "        end    \n",
    "        ind = ig_list.each_with_index.max[1]\n",
    "        if ind.nil?\n",
    "          return nil\n",
    "        else\n",
    "            split = NumericSplit.new feature_name, points_list[ind]\n",
    "    \n",
    "            ig = ig_list[ind]\n",
    "\n",
    "          #END YOUR CODE\n",
    "            return {\"split\" => split, \"information_gain\" => ig}\n",
    "        end\n",
    "        \n",
    "      end\n",
    "  \n",
    "    end\n",
    "      \n",
    "      \n",
    "  end\n",
    "end"
   ]
  },
  {
   "cell_type": "code",
   "execution_count": 22,
   "metadata": {
    "deletable": false,
    "editable": false,
    "nbgrader": {
     "cell_type": "code",
     "checksum": "e4eb8d75f5872deeeecb2b933ebb8522",
     "grade": true,
     "grade_id": "cell-f350086de28b522b",
     "locked": true,
     "points": 2,
     "schema_version": 3,
     "solution": false,
     "task": false
    }
   },
   "outputs": [],
   "source": [
    "def test_f35008()\n",
    "  iris = load_iris_dataset()\n",
    "  t6_iris_entropy = entropy(class_distribution(iris[\"data\"]))\n",
    "  splitter = NumericSplitter.new \n",
    "  split_result = splitter.create_split iris[\"data\"], t6_iris_entropy, \"sepal_width\"\n",
    "  \n",
    "  split = split_result[\"split\"]\n",
    "  info_gain = split_result[\"information_gain\"]\n",
    "\n",
    "  assert_in_delta 3.4, split.split_point, 1e-2, \"Iris best split\"\n",
    "\n",
    "end\n",
    "test_f35008()"
   ]
  },
  {
   "cell_type": "code",
   "execution_count": 23,
   "metadata": {
    "deletable": false,
    "editable": false,
    "nbgrader": {
     "cell_type": "code",
     "checksum": "5f2c2f97d9d40526f8bcba8241b7423c",
     "grade": true,
     "grade_id": "cell-207f3528bfc6a327",
     "locked": true,
     "points": 2,
     "schema_version": 3,
     "solution": false
    }
   },
   "outputs": [],
   "source": [
    "def test_207f35()\n",
    "  gc = load_german_credit_dataset()\n",
    "  gc_entropy = entropy(class_distribution(gc[\"data\"]))  \n",
    "  splitter = NumericSplitter.new \n",
    "  split_result = splitter.create_split gc[\"data\"], gc_entropy, \"age\"\n",
    "\n",
    "  split = split_result[\"split\"]\n",
    "  info_gain = split_result[\"information_gain\"]\n",
    "  \n",
    "  assert_not_nil split\n",
    "  assert_in_delta 0.007817315714005901, info_gain, 1e-3\n",
    "  assert_in_delta 26.0, split.split_point, 1e-2\n",
    "end \n",
    "test_207f35()"
   ]
  },
  {
   "cell_type": "code",
   "execution_count": 24,
   "metadata": {
    "deletable": false,
    "editable": false,
    "nbgrader": {
     "cell_type": "code",
     "checksum": "94d0895f6b7282dd941bdb1d52f0f05e",
     "grade": true,
     "grade_id": "cell-eedbaec7b3dce537",
     "locked": true,
     "points": 1,
     "schema_version": 3,
     "solution": false,
     "task": false
    }
   },
   "outputs": [],
   "source": [
    "def test_eedbae()\n",
    "  parent_entropy = 1.0\n",
    "  splitter = NumericSplitter.new \n",
    "  empty_examples = []\n",
    "  split_result = splitter.create_split empty_examples, parent_entropy, \"none\"\n",
    "\n",
    "  assert_nil split_result, \"Empty examples\"\n",
    "  \n",
    "  one_example = [{\"features\" => {\"f1\" => 1.0}, \"label\" => 1}]\n",
    "  split_result = splitter.create_split one_example, parent_entropy, \"one\"\n",
    "\n",
    "  assert_nil split_result, \"One example\"\n",
    "end \n",
    "test_eedbae()"
   ]
  },
  {
   "cell_type": "code",
   "execution_count": null,
   "metadata": {},
   "outputs": [],
   "source": []
  },
  {
   "cell_type": "markdown",
   "metadata": {
    "deletable": false,
    "editable": false,
    "nbgrader": {
     "cell_type": "markdown",
     "checksum": "8ba77ac48a6362366a72549dfc41623c",
     "grade": false,
     "grade_id": "cell-1babd97dd77f60e8",
     "locked": true,
     "schema_version": 3,
     "solution": false,
     "task": false
    }
   },
   "source": [
    "## Question 4\n",
    "\n",
    "The core of the decision tree is the ```DecisionNode```, which is used in training and evaluation.\n",
    "\n",
    "During training, the ```DecisionNode``` temporarily holds an array of examples, finds the best split and creates the splits. \n",
    "\n",
    "During evaluation, the node applies the test to find which of its children should be consulted for the leaf node. A leaf node is a node without any children.\n",
    "\n",
    "## Question 4.1 (5 Points)\n",
    "\n",
    "Implement the ```score``` method. When in a leaf node, the score for a particular class is calculated as the class distribution for the training data in that node. Because a decision tree is a multi-class classifier, we need to specify the class label when calling the ```score``` function. You should assume that there is no smoothing so if label isn't in the class distribution, the score is zero.\n",
    "\n",
    "The score is the posterior class distribution given that an example is in the leaf $l$, defined as follows:\n",
    "\n",
    "# $P(c \\mid l) = \\frac{ \\left| \\left\\{x \\mid c(x) = c \\wedge x \\in l \\right\\} \\right| }{ \\left| \\left\\{x\\in l \\right\\} \\right| }$\n",
    "\n",
    "where $c(x)$ is the class label for example $x$."
   ]
  },
  {
   "cell_type": "markdown",
   "metadata": {
    "deletable": false,
    "editable": false,
    "nbgrader": {
     "cell_type": "markdown",
     "checksum": "4117ee848ae9238ddf3cb12fb5702581",
     "grade": false,
     "grade_id": "cell-555cc1d3bb0b56ba",
     "locked": true,
     "schema_version": 3,
     "solution": false,
     "task": false
    }
   },
   "source": [
    "Why is the score function for a leaf returning a constant and does not need to even look at the example?\n",
    "  \n",
    "**A**. Decision tree is overfitting by memorizing the training data and thus will not generalize\n",
    "\n",
    "**B**. The code is wrong and it should be looking at the example\n",
    "\n",
    "**C**. Decision tree assumes that all examples in the leaf have the same class distribution\n",
    "\n",
    "**D**. It does look at the example, but it stores a class member variable so it does not need to be provided as an argument\n",
    "\n",
    "\n",
    "_(Instructions) In the function below, return an array of the upper-case letters indicating your answer (zero or more). For example, if you think that the answers is \"Z\", write the following:_\n",
    "\n",
    "```ruby\n",
    "def answer_ce174b()\n",
    "    %w(Z)\n",
    "end\n",
    "```"
   ]
  },
  {
   "cell_type": "code",
   "execution_count": 25,
   "metadata": {
    "deletable": false,
    "nbgrader": {
     "cell_type": "code",
     "checksum": "8f7fbe334513a3d50e059d3fdbefa887",
     "grade": false,
     "grade_id": "cell-673f8ba76f020649",
     "locked": false,
     "schema_version": 3,
     "solution": true,
     "task": false
    }
   },
   "outputs": [
    {
     "data": {
      "text/plain": [
       ":answer_673f8b"
      ]
     },
     "execution_count": 25,
     "metadata": {},
     "output_type": "execute_result"
    }
   ],
   "source": [
    "def answer_673f8b()\n",
    "  # BEGIN YOUR CODE\n",
    "\n",
    "  %w(C)\n",
    "  \n",
    "  \n",
    "  #END YOUR CODE\n",
    "end"
   ]
  },
  {
   "cell_type": "code",
   "execution_count": 26,
   "metadata": {
    "deletable": false,
    "editable": false,
    "nbgrader": {
     "cell_type": "code",
     "checksum": "10159e309953d374a1462f29ec25b579",
     "grade": true,
     "grade_id": "cell-ed35ce92365ed86f",
     "locked": true,
     "points": 3,
     "schema_version": 3,
     "solution": false,
     "task": false
    }
   },
   "outputs": [],
   "source": [
    "assert_not_nil answer_673f8b()"
   ]
  },
  {
   "cell_type": "code",
   "execution_count": 27,
   "metadata": {
    "deletable": false,
    "nbgrader": {
     "cell_type": "code",
     "checksum": "d05c523c5692761dd18d41a61175513a",
     "grade": false,
     "grade_id": "cell-b89e3d010587f933",
     "locked": false,
     "schema_version": 3,
     "solution": true,
     "task": false
    }
   },
   "outputs": [
    {
     "data": {
      "text/plain": [
       ":score"
      ]
     },
     "execution_count": 27,
     "metadata": {},
     "output_type": "execute_result"
    }
   ],
   "source": [
    "class DecisionNode\n",
    "  attr_reader  :children, :examples, :split, :node_entropy, :node_class_distribution\n",
    "  \n",
    "  def initialize examples\n",
    "    @examples = examples\n",
    "    @node_class_distribution = class_distribution examples    \n",
    "    @node_entropy = entropy (@node_class_distribution)\n",
    "    @children = Hash.new\n",
    "  end\n",
    "  \n",
    "  def is_leaf?\n",
    "    self.children.empty?\n",
    "  end\n",
    "      \n",
    "  def score positive_class_label\n",
    "    # BEGIN YOUR CODE\n",
    "    \n",
    "    if is_leaf?\n",
    "      if @node_class_distribution.keys.include? positive_class_label\n",
    "        return @node_class_distribution[positive_class_label]\n",
    "      else \n",
    "        return 0.0\n",
    "      end\n",
    "    end\n",
    "    \n",
    "    \n",
    "    #END YOUR CODE\n",
    "  end\n",
    "\n",
    "end"
   ]
  },
  {
   "cell_type": "code",
   "execution_count": 28,
   "metadata": {
    "deletable": false,
    "editable": false,
    "nbgrader": {
     "cell_type": "code",
     "checksum": "89668082e85831de22e0f7b6058b6c4a",
     "grade": true,
     "grade_id": "cell-42e1b1a28012a7a8",
     "locked": true,
     "points": 2,
     "schema_version": 3,
     "solution": false,
     "task": false
    }
   },
   "outputs": [],
   "source": [
    "def test_42e1b1()\n",
    "  iris = load_iris_dataset()\n",
    "\n",
    "  # Check the first split for iris\n",
    "  examples = iris[\"data\"]\n",
    "  root = DecisionNode.new examples\n",
    "\n",
    "  assert_true root.is_leaf?, \"Single-node root is a leaf\"\n",
    "  \n",
    "  assert_in_delta 0.3333, root.score(0), 1e-3, \"Score for class 0\"\n",
    "  assert_in_delta 0.3333, root.score(1), 1e-3, \"Score for class 1\"\n",
    "  assert_in_delta 0.3333, root.score(2), 1e-3, \"Score for class 2\"\n",
    "  assert_in_delta 0.0, root.score(3), 1e-3, \"Score for class 3 -- there is no class 3\"  \n",
    "end\n",
    "test_42e1b1()"
   ]
  },
  {
   "cell_type": "markdown",
   "metadata": {
    "deletable": false,
    "editable": false,
    "nbgrader": {
     "cell_type": "markdown",
     "checksum": "0ca87ff1f634371986a043d936213051",
     "grade": false,
     "grade_id": "cell-78df94ed3d421382",
     "locked": true,
     "schema_version": 3,
     "solution": false,
     "task": false
    }
   },
   "source": [
    "## Question 4.2 (10 Points)\n",
    "\n",
    "Add ```all_possible_splits``` to the ```DecisionNode```. This considers an array of feature names and an array of splitters (```CategoricalSplitter``` or ```NumericSplitter```). Next, apply all splitters to the data within the node stored in ```@examples```, if they match, to each feature. Then, apply a set of filters:\n",
    "1. Remove any split which is ```nil```\n",
    "1. Remove any split where the information gain is not strictly $> 0$. \n",
    "\n",
    "Return all possible splits that meet the criteria. \n",
    "\n",
    "For example, given the iris dataset and the ```NumericSplitter```, return the following best splits for each feature:\n",
    "\n",
    "```ruby\n",
    "    [\n",
    "        {\"split\"=>NumericSplit(feature_name: \"petal_width\", split_point: X), \"information_gain\" => 0.636514}, \n",
    "        {\"split\"=>NumericSplit(feature_name: \"petal_length\", split_point: X),  \"information_gain\"=>0.636514},\n",
    "        {\"split\"=>NumericSplit(feature_name: \"sepal_length\", split_point: X), \"information_gain\"=>0.38624},\n",
    "        ...\n",
    "    ]\n",
    "```\n",
    "\n",
    "Note that the result above would be the same if we used passed both the ```CategoricalSplitter``` and ```NumericSplitter``` because only the ```NumericSplitter``` will ```matches?``` features in the iris dataset."
   ]
  },
  {
   "cell_type": "code",
   "execution_count": 29,
   "metadata": {
    "deletable": false,
    "nbgrader": {
     "cell_type": "code",
     "checksum": "1fe6edd2592f5fdd4d65e3bf9f1336d3",
     "grade": false,
     "grade_id": "cell-2c8319f1394cb66e",
     "locked": false,
     "schema_version": 3,
     "solution": true,
     "task": false
    }
   },
   "outputs": [
    {
     "data": {
      "text/plain": [
       ":all_possible_splits"
      ]
     },
     "execution_count": 29,
     "metadata": {},
     "output_type": "execute_result"
    }
   ],
   "source": [
    "class DecisionNode\n",
    "  def all_possible_splits feature_names, splitters\n",
    "    all_splits = []\n",
    "    \n",
    "    # BEGIN YOUR CODE\n",
    "\n",
    " \n",
    "   feature_names.each do |n|\n",
    "        splitters.each do |w|\n",
    "            split_result = w.create_split @examples, @node_entropy, n               \n",
    "            if split_result!=nil and split_result[\"information_gain\"] > 0 \n",
    "                all_splits.append(split_result)\n",
    "            end      \n",
    "        end\n",
    "    end\n",
    "\n",
    "    \n",
    "    \n",
    "    #END YOUR CODE\n",
    "    \n",
    "    return all_splits\n",
    "  end\n",
    "end"
   ]
  },
  {
   "cell_type": "code",
   "execution_count": 30,
   "metadata": {
    "deletable": false,
    "editable": false,
    "nbgrader": {
     "cell_type": "code",
     "checksum": "083c59e6c3fd7844e96996a1f8947abb",
     "grade": true,
     "grade_id": "cell-e3c5cb95d7b9a58e",
     "locked": true,
     "points": 5,
     "schema_version": 3,
     "solution": false
    }
   },
   "outputs": [
    {
     "name": "stdout",
     "output_type": "stream",
     "text": [
      "[{\"split\"=>#<NumericSplit:0x000055d903beb838 @feature_name=\"petal_width\", @split_point=1.0, @split_point_str=\"1\", @paths=[\"petal_width < 1\", \"petal_width >= 1\"]>, \"information_gain\"=>0.6365141682948127}, {\"split\"=>#<NumericSplit:0x000055d903c600e8 @feature_name=\"petal_length\", @split_point=3.0, @split_point_str=\"3\", @paths=[\"petal_length < 3\", \"petal_length >= 3\"]>, \"information_gain\"=>0.6365141682948127}, {\"split\"=>#<NumericSplit:0x000055d903d63c60 @feature_name=\"sepal_length\", @split_point=5.6, @split_point_str=\"5.6\", @paths=[\"sepal_length < 5.6\", \"sepal_length >= 5.6\"]>, \"information_gain\"=>0.3862442664692114}, {\"split\"=>#<NumericSplit:0x000055d903c8a668 @feature_name=\"sepal_width\", @split_point=3.4, @split_point_str=\"3.4\", @paths=[\"sepal_width < 3.4\", \"sepal_width >= 3.4\"]>, \"information_gain\"=>0.18570201019349375}]\n",
      "Best split\n",
      "{\"split\"=>#<NumericSplit:0x000055d903beb838 @feature_name=\"petal_width\", @split_point=1.0, @split_point_str=\"1\", @paths=[\"petal_width < 1\", \"petal_width >= 1\"]>, \"information_gain\"=>0.6365141682948127}\n"
     ]
    }
   ],
   "source": [
    "def test_e3c5cb()\n",
    "  iris = load_iris_dataset()\n",
    "\n",
    "  # Check the first split for iris\n",
    "  feature_names = iris[\"features\"]\n",
    "  examples = iris[\"data\"]\n",
    "  root = DecisionNode.new examples\n",
    "  \n",
    "  splitters = [NumericSplitter.new]\n",
    "  all_splits = root.all_possible_splits feature_names, splitters\n",
    "\n",
    "  assert_equal 4, all_splits.size, \"Calculate all possible splits\"  \n",
    "  sorted_splits = all_splits.sort_by {|split| split[\"information_gain\"]}.reverse\n",
    "  \n",
    "  puts sorted_splits\n",
    "  best_split = sorted_splits.first\n",
    "  \n",
    "  puts \"Best split\", best_split\n",
    "  split = best_split[\"split\"]\n",
    "  info_gain = best_split[\"information_gain\"]\n",
    "\n",
    "  assert_not_nil split\n",
    "  assert_in_delta 0.6365141682948128, info_gain, 1e-2, \"Returns top info gain\"\n",
    "  assert_false %w(petal_length petal_width).index(split.feature_name).nil?, \"Find one of the top features\"\n",
    "end\n",
    "test_e3c5cb()"
   ]
  },
  {
   "cell_type": "code",
   "execution_count": 31,
   "metadata": {
    "deletable": false,
    "editable": false,
    "nbgrader": {
     "cell_type": "code",
     "checksum": "6e599dd21b257cf04b4a47b9999fa12e",
     "grade": true,
     "grade_id": "cell-377c129f75bb5762",
     "locked": true,
     "points": 5,
     "schema_version": 3,
     "solution": false,
     "task": false
    }
   },
   "outputs": [
    {
     "name": "stdout",
     "output_type": "stream",
     "text": [
      "[{\"split\"=>#<CategoricalSplit:0x000055d903a4bb90 @feature_name=\"checking_account\", @path_pattern=\"%s == '%s'\">, \"information_gain\"=>0.06566796091172744}, {\"split\"=>#<CategoricalSplit:0x000055d903e0c4a0 @feature_name=\"credit_history\", @path_pattern=\"%s == '%s'\">, \"information_gain\"=>0.03023355461426125}, {\"split\"=>#<CategoricalSplit:0x000055d903df3888 @feature_name=\"savings\", @path_pattern=\"%s == '%s'\">, \"information_gain\"=>0.01948760776931846}, {\"split\"=>#<CategoricalSplit:0x000055d903aab5e0 @feature_name=\"purpose\", @path_pattern=\"%s == '%s'\">, \"information_gain\"=>0.017254887066567637}, {\"split\"=>#<CategoricalSplit:0x000055d903c62028 @feature_name=\"property\", @path_pattern=\"%s == '%s'\">, \"information_gain\"=>0.011773233742666478}, {\"split\"=>#<CategoricalSplit:0x000055d903a65cc0 @feature_name=\"job_tenure\", @path_pattern=\"%s == '%s'\">, \"information_gain\"=>0.009081837924813763}, {\"split\"=>#<CategoricalSplit:0x000055d903bb9658 @feature_name=\"housing\", @path_pattern=\"%s == '%s'\">, \"information_gain\"=>0.00883983525039711}, {\"split\"=>#<CategoricalSplit:0x000055d902e989b0 @feature_name=\"other_installments\", @path_pattern=\"%s == '%s'\">, \"information_gain\"=>0.006151729960983343}, {\"split\"=>#<CategoricalSplit:0x000055d903d8f388 @feature_name=\"personal_status_gender\", @path_pattern=\"%s == '%s'\">, \"information_gain\"=>0.004720713347871053}, {\"split\"=>#<CategoricalSplit:0x000055d903d6fe70 @feature_name=\"is_foreign_worker\", @path_pattern=\"%s == '%s'\">, \"information_gain\"=>0.004036189803978574}, {\"split\"=>#<CategoricalSplit:0x000055d90359f330 @feature_name=\"other_debtors\", @path_pattern=\"%s == '%s'\">, \"information_gain\"=>0.00332504153506763}, {\"split\"=>#<CategoricalSplit:0x000055d903ea0d08 @feature_name=\"job\", @path_pattern=\"%s == '%s'\">, \"information_gain\"=>0.0009269851357646131}, {\"split\"=>#<CategoricalSplit:0x000055d903a97248 @feature_name=\"has_telephone\", @path_pattern=\"%s == '%s'\">, \"information_gain\"=>0.0006679582223527714}]\n",
      "Best split\n",
      "{\"split\"=>#<CategoricalSplit:0x000055d903a4bb90 @feature_name=\"checking_account\", @path_pattern=\"%s == '%s'\">, \"information_gain\"=>0.06566796091172744}\n"
     ]
    }
   ],
   "source": [
    "def test_377c12()\n",
    "  german_credit = load_german_credit_dataset()\n",
    "\n",
    "  # Check the first split for iris\n",
    "  feature_names = german_credit[\"features\"]\n",
    "  examples = german_credit[\"data\"]\n",
    "  root = DecisionNode.new examples\n",
    "  \n",
    "  splitters = [CategoricalSplitter.new]\n",
    "  all_splits = root.all_possible_splits feature_names, splitters\n",
    "\n",
    "  assert_equal 13, all_splits.size, \"Calculate all possible splits\"  \n",
    "  sorted_splits = all_splits.sort_by {|split| split[\"information_gain\"]}.reverse\n",
    "  \n",
    "  puts sorted_splits\n",
    "  best_split = sorted_splits.first\n",
    "  \n",
    "  puts \"Best split\", best_split\n",
    "  split = best_split[\"split\"]\n",
    "  info_gain = best_split[\"information_gain\"]\n",
    "\n",
    "  assert_not_nil split\n",
    "  assert_in_delta 0.06566796091172744, info_gain, 1e-2, \"Returns top info gain\"\n",
    "  assert_false %w(checking_account).index(split.feature_name).nil?, \"Find one of the top features\"\n",
    "end\n",
    "test_377c12()"
   ]
  },
  {
   "cell_type": "markdown",
   "metadata": {
    "deletable": false,
    "editable": false,
    "nbgrader": {
     "cell_type": "markdown",
     "checksum": "cff46238bbc7975184969fb803879a6f",
     "grade": false,
     "grade_id": "cell-7179f911ecdf2c09",
     "locked": true,
     "schema_version": 3,
     "solution": false,
     "task": false
    }
   },
   "source": [
    "## Question 4.3 (5 Points)\n",
    "\n",
    "Given a specific split, possibly created from ```all_possible_splits``` above, implement ```split_node!```. Ruby's convention of adding a \"!\" to a method indicates that the method changes the state of the object. In this case, the ```split_node!``` method calls the ```split_on_feature``` method of the split and creates children ```DecisionNode```s. The ```@children``` member variable is a hash which maps each path calculated by the split to ```DecisionNode```. \n",
    "\n",
    "Given input examples as follows:\n",
    "```ruby\n",
    "[\n",
    "    {\"features\" => {\"f1\" => \"a\", \"f2\" => \"d\"}},\n",
    "    {\"features\" => {\"f1\" => \"a\", \"f2\" => \"c\"}},\n",
    "    {\"features\" => {\"f1\" => \"b\", \"f2\" => \"c\"}}\n",
    "]\n",
    "```\n",
    "\n",
    "Children should be as follows:\n",
    "```ruby\n",
    "{\n",
    "    \"f1 == 'a'\" => DecisionNode(...),\n",
    "    \"f1 == 'b'\" => DecisionNode(...)\n",
    "}\n",
    "```\n",
    "\n",
    "Note:\n",
    "1. The ```@examples``` data held by the node is freed after splitting to reduce memory consumption."
   ]
  },
  {
   "cell_type": "code",
   "execution_count": 32,
   "metadata": {
    "deletable": false,
    "nbgrader": {
     "cell_type": "code",
     "checksum": "0a914c580d8617341332a4957c2cdfcd",
     "grade": false,
     "grade_id": "cell-24ceddd081fb1a2e",
     "locked": false,
     "schema_version": 3,
     "solution": true,
     "task": false
    }
   },
   "outputs": [
    {
     "data": {
      "text/plain": [
       ":split_node!"
      ]
     },
     "execution_count": 32,
     "metadata": {},
     "output_type": "execute_result"
    }
   ],
   "source": [
    "class DecisionNode\n",
    "  def split_node! split    \n",
    "    @split = split\n",
    "    # BEGIN YOUR CODE\n",
    "\n",
    "\n",
    "    b =  @split.split_on_feature @examples\n",
    "\n",
    "    b.keys.each do |n|\n",
    "       @children.store(n,DecisionNode.new( b[n]))  \n",
    "    end\n",
    "\n",
    "    return @children\n",
    "    #END YOUR CODE\n",
    "    \n",
    "    @examples = nil\n",
    "  end\n",
    "end"
   ]
  },
  {
   "cell_type": "markdown",
   "metadata": {
    "deletable": false,
    "editable": false,
    "nbgrader": {
     "cell_type": "markdown",
     "checksum": "59b5add67a87940d93a20220f4374b85",
     "grade": false,
     "grade_id": "cell-166d0e632d612e5d",
     "locked": true,
     "schema_version": 3,
     "solution": false,
     "task": false
    }
   },
   "source": [
    "The following test should output:\n",
    "```\n",
    "{\"f1 == 'a'\"=>#<DecisionNode:0x000056518b298708 @examples=[{\"features\"=>{\"f1\"=>\"a\", \"f2\"=>\"d\"}}, {\"features\"=>{\"f1\"=>\"a\", \"f2\"=>\"c\"}}], @node_class_distribution={nil=>1.0}, @node_entropy=-0.0, @children={}>, \"f1 == 'b'\"=>#<DecisionNode:0x000056518b298488 @examples=[{\"features\"=>{\"f1\"=>\"b\", \"f2\"=>\"c\"}}], @node_class_distribution={nil=>1.0}, @node_entropy=-0.0, @children={}>}\n",
    "```"
   ]
  },
  {
   "cell_type": "code",
   "execution_count": 33,
   "metadata": {
    "deletable": false,
    "editable": false,
    "nbgrader": {
     "cell_type": "code",
     "checksum": "13c1815314098055eedf4cb0cf05d6e8",
     "grade": true,
     "grade_id": "cell-cfc3609bda0990e0",
     "locked": true,
     "points": 5,
     "schema_version": 3,
     "solution": false,
     "task": false
    }
   },
   "outputs": [
    {
     "name": "stdout",
     "output_type": "stream",
     "text": [
      "{\"f1 == 'a'\"=>#<DecisionNode:0x000055d90327bf28 @examples=[{\"features\"=>{\"f1\"=>\"a\", \"f2\"=>\"d\"}}, {\"features\"=>{\"f1\"=>\"a\", \"f2\"=>\"c\"}}], @node_class_distribution={nil=>1.0}, @node_entropy=0.0, @children={}>, \"f1 == 'b'\"=>#<DecisionNode:0x000055d90327b8e8 @examples=[{\"features\"=>{\"f1\"=>\"b\", \"f2\"=>\"c\"}}], @node_class_distribution={nil=>1.0}, @node_entropy=0.0, @children={}>}\n"
     ]
    }
   ],
   "source": [
    "def test_cfc360()  \n",
    "  # Check the first split for iris\n",
    "  example1 = {\"features\" => {\"f1\" => \"a\", \"f2\" => \"d\"}}\n",
    "  example2 = {\"features\" => {\"f1\" => \"a\", \"f2\" => \"c\"}}\n",
    "  example3 = {\"features\" => {\"f1\" => \"b\", \"f2\" => \"c\"}}\n",
    "  \n",
    "  examples = [example1, example2, example3]\n",
    "  \n",
    "  root = DecisionNode.new examples  \n",
    "  split = CategoricalSplit.new \"f1\"  \n",
    "  root.split_node! split\n",
    "\n",
    "  children = root.children\n",
    "  puts children\n",
    "  assert_equal 2, children.size, \"Creates 2 children\"  \n",
    "  assert_not_same examples, children[\"f1 == 'a'\"].examples, \"Child a did not see a subset of data\"\n",
    "  assert_not_same examples, children[\"f1 == 'b'\"].examples, \"Child b did not see a subset of data\"\n",
    "  assert_equal 2, children[\"f1 == 'a'\"].examples.size, \"Child a\"\n",
    "  assert_equal 1, children[\"f1 == 'b'\"].examples.size, \"Child b\"\n",
    "end\n",
    "test_cfc360()"
   ]
  },
  {
   "cell_type": "markdown",
   "metadata": {
    "deletable": false,
    "editable": false,
    "nbgrader": {
     "cell_type": "markdown",
     "checksum": "799b93c5e982bbfb34e2b5d64554d26b",
     "grade": false,
     "grade_id": "cell-a0af33e996f54cfe",
     "locked": true,
     "schema_version": 3,
     "solution": false,
     "task": false
    }
   },
   "source": [
    "# Question 5\n",
    "\n",
    "With the ```DecisionNode``` complete, we are ready to build the decision tree trainer. The decision tree is an example of a ```Learner``` which we are defining below. The ```Learner``` interface will enable us to compare several different models and combinations of models. For this and all future assignments, we will implement new algorithms as a ```Learner```. The interface is defined below. Note that Ruby does not have an explicit interface, so we use a mixin module."
   ]
  },
  {
   "cell_type": "code",
   "execution_count": 34,
   "metadata": {
    "deletable": false,
    "editable": false,
    "nbgrader": {
     "cell_type": "code",
     "checksum": "3f282971d46c9b5fe0acc03fb107159e",
     "grade": false,
     "grade_id": "cell-cce9b80f2d3a55d3",
     "locked": true,
     "schema_version": 3,
     "solution": false,
     "task": false
    }
   },
   "outputs": [
    {
     "data": {
      "text/plain": [
       ":evaluate"
      ]
     },
     "execution_count": 34,
     "metadata": {},
     "output_type": "execute_result"
    }
   ],
   "source": [
    "module Learner  \n",
    "  attr_reader :parameters\n",
    "  def train train_dataset    \n",
    "  end\n",
    "  def predict example\n",
    "  end\n",
    "  def evaluate eval_dataset\n",
    "  end\n",
    "end\n",
    "  "
   ]
  },
  {
   "cell_type": "markdown",
   "metadata": {
    "deletable": false,
    "editable": false,
    "nbgrader": {
     "cell_type": "markdown",
     "checksum": "9b548645cabfc93d8321c52a9dd72f07",
     "grade": false,
     "grade_id": "cell-f362b19828c5a06d",
     "locked": true,
     "schema_version": 3,
     "solution": false,
     "task": false
    }
   },
   "source": [
    "The contract for a ```Learner``` is defined as follows:\n",
    "\n",
    "* ```parameters```: A hash containing parameter values used for training. Keep only model hyper-parameters in this hash. \n",
    "* ```train```: Trains the model and keeps any model state in the object. Post training, the learner can be used as a trained model. The same learner can be re-trained if needed.\n",
    "* ```predict```: Predicts on a single example, expects the model to be trained first. Assumes the model is a binary classifier and returns a single score related to the positive class. \n",
    "* ```evaluate```: Evaluates the model on a full dataset and returns an array of (score, label) pairs.\n",
    "\n",
    "\n",
    "In ```evaluate```, the output is as follows:\n",
    "\n",
    "```ruby\n",
    "[\n",
    "    [0.12345, 0],\n",
    "    [0.4562, 1]\n",
    "]\n",
    "````\n",
    "\n",
    "where the first entry in each element the score (output of predict) and the second is the label. Use 1 for positive and 0 for negative regardless of how the class is defined in the dataset."
   ]
  },
  {
   "cell_type": "markdown",
   "metadata": {
    "deletable": false,
    "editable": false,
    "nbgrader": {
     "cell_type": "markdown",
     "checksum": "d6b6823a48d03ef5aa7cd099fe57e9db",
     "grade": false,
     "grade_id": "cell-57a269e9fad749ee",
     "locked": true,
     "schema_version": 3,
     "solution": false,
     "task": false
    }
   },
   "source": [
    "## Question 5.1 (10 points)\n",
    "\n",
    "The ```train``` method for a decison tree is simple.  It calls a recursive method ```grow_tree``` which starts at a ```parent``` and proceeds to grow the parent by considering all possible splits, take the best, and create children. Then, it tries to grow each child on that child's subset of the data. \n",
    "\n",
    "As a recursive function, ```grow_tree``` has 3 termination criteria:\n",
    "\n",
    "1. The tree is too deep--no more remaining depth\n",
    "2. No more splits available\n",
    "3. No more than ```min_size``` examples in the parent.\n",
    "\n",
    "A summary method method has been provided for you to print the resulting tree. For a ```max_depth``` of 1, this should produce a single leaf node. On the iris dataset, this is as follows:\n",
    "\n",
    "```json\n",
    "{\n",
    "  \"leaf\": true,\n",
    "  \"class_distribution\": {\n",
    "    \"1\": 0.3333333333333333,\n",
    "    \"2\": 0.3333333333333333,\n",
    "    \"0\": 0.3333333333333333\n",
    "  }\n",
    "}\n",
    "```\n",
    "\n",
    "For a ```max_depth``` of 2, this should produce a tree with exactly one split. On the iris dataset, this is as follows:\n",
    "\n",
    "```json\n",
    "{\n",
    "  \"leaf\": false,\n",
    "  \"split\": \"Numeric[petal_length <=> 3]\",\n",
    "  \"children\": {\n",
    "    \"petal_length < 3\": {\n",
    "      \"leaf\": true,\n",
    "      \"class_distribution\": {\n",
    "        \"0\": 1.0\n",
    "      }\n",
    "    },\n",
    "    \"petal_length >= 3\": {\n",
    "      \"leaf\": true,\n",
    "      \"class_distribution\": {\n",
    "        \"1\": 0.5,\n",
    "        \"2\": 0.5\n",
    "      }\n",
    "    }\n",
    "  }\n",
    "}\n",
    "```\n",
    "\n",
    "Notes:\n",
    "1. We are implementing a fixed height (depth) tree. This is necessary both to prevent overflow but we will also use it for testing. Keep in mind that depth is **not** a typical hyperparameter. We are just using it to simplify the calculation. In practice, set the depth to a really large number and use the ```min_size``` as the true hyperparameter."
   ]
  },
  {
   "cell_type": "code",
   "execution_count": 35,
   "metadata": {
    "deletable": false,
    "nbgrader": {
     "cell_type": "code",
     "checksum": "9e3bb08ec9e35929c00c072635c580e0",
     "grade": false,
     "grade_id": "cell-f4cc8bda6b019d43",
     "locked": false,
     "schema_version": 3,
     "solution": true
    }
   },
   "outputs": [
    {
     "data": {
      "text/plain": [
       ":grow_tree"
      ]
     },
     "execution_count": 35,
     "metadata": {},
     "output_type": "execute_result"
    }
   ],
   "source": [
    "class DecisionTreeLearner\n",
    "  include DecisionTreeHelper\n",
    "  include Learner  \n",
    "# ################################################### This is a debug\n",
    "#   attr_reader  :examples\n",
    "# #####################################################   \n",
    "  attr_reader :root\n",
    "# ################################################### This is a debug\n",
    "#   attr_reader :splitters, :parameters, :positive_class_label, :feature_names, :children, :examples\n",
    "# #####################################################   \n",
    "  def initialize positive_class_label, min_size: 10, max_depth: 50\n",
    "    @splitters = [CategoricalSplitter.new, NumericSplitter.new]\n",
    "    @parameters = {\"min_size\" => min_size, \"max_depth\" => max_depth}\n",
    "    @positive_class_label = positive_class_label\n",
    "\n",
    "    \n",
    "  end\n",
    "    \n",
    "  def train dataset\n",
    "    @feature_names = dataset[\"features\"]\n",
    "    examples = dataset[\"data\"]        \n",
    "    @root = DecisionNode.new examples\n",
    "    grow_tree @root, @parameters[\"max_depth\"]  \n",
    "\n",
    "  end\n",
    "\n",
    "  def grow_tree parent, remaining_depth\n",
    "    # BEGIN YOUR CODE\n",
    "    \n",
    "    if  parent.examples.size >= @parameters[\"min_size\"] and remaining_depth > 1 \n",
    "      \n",
    "\n",
    "          all_splits = parent.all_possible_splits @feature_names, @splitters\n",
    "          sorted_splits = all_splits.sort_by! {|split| split[\"information_gain\"]}.reverse\n",
    "\n",
    "          if !all_splits.empty?  and !all_splits.nil?\n",
    "                \n",
    "                  \n",
    "                  a = sorted_splits.map{|split| split[\"information_gain\"]}\n",
    "           \n",
    "                  index = a.each_with_index.max[1]\n",
    "      \n",
    "       \n",
    "                  best_split = sorted_splits[index]\n",
    "                  split = best_split[\"split\"]\n",
    "\n",
    "                  c = parent.split_node! split\n",
    "           \n",
    "                  if parent.is_leaf?\n",
    "                        return parent\n",
    "                  else\n",
    "                        remaining_depth += -1\n",
    "                        parent.children.each do |k,v|\n",
    "                          self.grow_tree(v,remaining_depth)\n",
    "                        end\n",
    "                  end\n",
    "          else\n",
    "            return parent\n",
    "\n",
    "          end\n",
    "    else \n",
    "      \n",
    "      return @parent\n",
    "    end\n",
    "\n",
    "    #END YOUR CODE\n",
    "  end\n",
    "end"
   ]
  },
  {
   "cell_type": "markdown",
   "metadata": {
    "deletable": false,
    "editable": false,
    "nbgrader": {
     "cell_type": "markdown",
     "checksum": "9dce5046f7b08120b53c8235120b7bb6",
     "grade": false,
     "grade_id": "cell-0ea4cb4e28796c16",
     "locked": true,
     "schema_version": 3,
     "solution": false,
     "task": false
    }
   },
   "source": [
    "The following test should output:\n",
    "\n",
    "```\n",
    "Root Only Tree\n",
    "{\n",
    "  \"leaf\": true,\n",
    "  \"class_distribution\": {\n",
    "    \"1\": 0.3333333333333333,\n",
    "    \"2\": 0.3333333333333333,\n",
    "    \"0\": 0.3333333333333333\n",
    "  }\n",
    "}\n",
    "```"
   ]
  },
  {
   "cell_type": "code",
   "execution_count": 36,
   "metadata": {
    "deletable": false,
    "editable": false,
    "nbgrader": {
     "cell_type": "code",
     "checksum": "f90bdf96c23882b1f9012e51184edc30",
     "grade": true,
     "grade_id": "cell-594f6e1cceee3c21",
     "locked": true,
     "points": 3,
     "schema_version": 3,
     "solution": false
    }
   },
   "outputs": [
    {
     "name": "stdout",
     "output_type": "stream",
     "text": [
      "Root Only Tree\n",
      "{\n",
      "  \"leaf\": true,\n",
      "  \"class_distribution\": {\n",
      "    \"0\": 0.3333333333333333,\n",
      "    \"1\": 0.3333333333333333,\n",
      "    \"2\": 0.3333333333333333\n",
      "  }\n",
      "}\n"
     ]
    }
   ],
   "source": [
    "def test_594f6e()\n",
    "  iris = load_iris_dataset()\n",
    "  \n",
    "  model = DecisionTreeLearner.new 1, min_size: 10, max_depth: 1\n",
    "  model.train iris\n",
    "  tree = model.root\n",
    "\n",
    "  puts \"Root Only Tree\", model.to_s\n",
    "\n",
    "  assert_true tree.children.empty?\n",
    "  assert_true tree.is_leaf?\n",
    "end\n",
    "\n",
    "test_594f6e()"
   ]
  },
  {
   "cell_type": "markdown",
   "metadata": {
    "deletable": false,
    "editable": false,
    "nbgrader": {
     "cell_type": "markdown",
     "checksum": "65fbd0b64a3597cad822daa15619d10c",
     "grade": false,
     "grade_id": "cell-243b46d609c6e837",
     "locked": true,
     "schema_version": 3,
     "solution": false,
     "task": false
    }
   },
   "source": [
    "The following test should output:\n",
    "```\n",
    "Two-level Tree\n",
    "{\n",
    "  \"leaf\": false,\n",
    "  \"split\": \"Numeric[petal_length <=> 3]\",\n",
    "  \"children\": {\n",
    "    \"petal_length < 3\": {\n",
    "      \"leaf\": true,\n",
    "      \"class_distribution\": {\n",
    "        \"0\": 1.0\n",
    "      }\n",
    "    },\n",
    "    \"petal_length >= 3\": {\n",
    "      \"leaf\": true,\n",
    "      \"class_distribution\": {\n",
    "        \"1\": 0.5,\n",
    "        \"2\": 0.5\n",
    "      }\n",
    "    }\n",
    "  }\n",
    "}\n",
    "```"
   ]
  },
  {
   "cell_type": "code",
   "execution_count": 37,
   "metadata": {
    "deletable": false,
    "editable": false,
    "nbgrader": {
     "cell_type": "code",
     "checksum": "febf96990bc2c8814698240d97cca227",
     "grade": true,
     "grade_id": "cell-1c728f1b16cfed44",
     "locked": true,
     "points": 3,
     "schema_version": 3,
     "solution": false
    }
   },
   "outputs": [
    {
     "name": "stdout",
     "output_type": "stream",
     "text": [
      "Two-level Tree\n",
      "{\n",
      "  \"leaf\": false,\n",
      "  \"split\": \"Numeric[petal_length <=> 3]\",\n",
      "  \"children\": {\n",
      "    \"petal_length < 3\": {\n",
      "      \"leaf\": true,\n",
      "      \"class_distribution\": {\n",
      "        \"0\": 1.0\n",
      "      }\n",
      "    },\n",
      "    \"petal_length >= 3\": {\n",
      "      \"leaf\": true,\n",
      "      \"class_distribution\": {\n",
      "        \"1\": 0.5,\n",
      "        \"2\": 0.5\n",
      "      }\n",
      "    }\n",
      "  }\n",
      "}\n"
     ]
    }
   ],
   "source": [
    "def test_1c728f()\n",
    "  iris = load_iris_dataset()\n",
    "  model = DecisionTreeLearner.new 1, min_size: 10, max_depth: 2\n",
    "  model.train iris\n",
    "  root = model.root\n",
    "\n",
    "  puts \"Two-level Tree\", model.to_s\n",
    "\n",
    "  assert_false root.is_leaf?\n",
    "  assert_not_nil root.split\n",
    "  assert_equal 2, root.children.size\n",
    "  assert_true(root.children.values.all? {|leaf| leaf.is_leaf?})\n",
    "end\n",
    "test_1c728f()"
   ]
  },
  {
   "cell_type": "markdown",
   "metadata": {
    "deletable": false,
    "editable": false,
    "nbgrader": {
     "cell_type": "markdown",
     "checksum": "59ec55c3cca87f620080523739804cba",
     "grade": false,
     "grade_id": "cell-524c43db4d16bf28",
     "locked": true,
     "schema_version": 3,
     "solution": false,
     "task": false
    }
   },
   "source": [
    "The following test should output:\n",
    "\n",
    "```\n",
    "Multi-level Tree\n",
    "{\n",
    "  \"leaf\": false,\n",
    "  \"split\": \"Numeric[petal_length <=> 3]\",\n",
    "  \"children\": {\n",
    "    \"petal_length < 3\": {\n",
    "      \"leaf\": true,\n",
    "      \"class_distribution\": {\n",
    "        \"0\": 1.0\n",
    "      }\n",
    "    },\n",
    "    \"petal_length >= 3\": {\n",
    "      \"leaf\": false,\n",
    "      \"split\": \"Numeric[petal_width <=> 1.8]\",\n",
    "      \"children\": {\n",
    "        \"petal_width < 1.8\": {\n",
    "          \"leaf\": false,\n",
    "          \"split\": \"Numeric[petal_length <=> 5]\",\n",
    "          \"children\": {\n",
    "            \"petal_length < 5\": {\n",
    "              \"leaf\": false,\n",
    "              \"split\": \"Numeric[petal_width <=> 1.7]\",\n",
    "              \"children\": {\n",
    "                \"petal_width < 1.7\": {\n",
    "                  \"leaf\": true,\n",
    "                  \"class_distribution\": {\n",
    "                    \"1\": 1.0\n",
    "                  }\n",
    "                },\n",
    "                \"petal_width >= 1.7\": {\n",
    "                  \"leaf\": true,\n",
    "                  \"class_distribution\": {\n",
    "                    \"2\": 1.0\n",
    "                  }\n",
    "                }\n",
    "              }\n",
    "            },\n",
    "            \"petal_length >= 5\": {\n",
    "              \"leaf\": true,\n",
    "              \"class_distribution\": {\n",
    "                \"1\": 0.3333333333333333,\n",
    "                \"2\": 0.6666666666666666\n",
    "              }\n",
    "            }\n",
    "          }\n",
    "        },\n",
    "        \"petal_width >= 1.8\": {\n",
    "          \"leaf\": false,\n",
    "          \"split\": \"Numeric[petal_length <=> 4.9]\",\n",
    "          \"children\": {\n",
    "            \"petal_length < 4.9\": {\n",
    "              \"leaf\": true,\n",
    "              \"class_distribution\": {\n",
    "                \"2\": 0.6666666666666666,\n",
    "                \"1\": 0.3333333333333333\n",
    "              }\n",
    "            },\n",
    "            \"petal_length >= 4.9\": {\n",
    "              \"leaf\": true,\n",
    "              \"class_distribution\": {\n",
    "                \"2\": 1.0\n",
    "              }\n",
    "            }\n",
    "          }\n",
    "        }\n",
    "      }\n",
    "    }\n",
    "  }\n",
    "}\n",
    "```"
   ]
  },
  {
   "cell_type": "code",
   "execution_count": 38,
   "metadata": {
    "deletable": false,
    "editable": false,
    "nbgrader": {
     "cell_type": "code",
     "checksum": "cf1cc3d8a5461c93c49128b4431f0eb6",
     "grade": true,
     "grade_id": "cell-1e9f1b0f04d4bac4",
     "locked": true,
     "points": 4,
     "schema_version": 3,
     "solution": false
    }
   },
   "outputs": [
    {
     "name": "stdout",
     "output_type": "stream",
     "text": [
      "Multi-level Tree\n",
      "{\n",
      "  \"leaf\": false,\n",
      "  \"split\": \"Numeric[petal_length <=> 3]\",\n",
      "  \"children\": {\n",
      "    \"petal_length < 3\": {\n",
      "      \"leaf\": true,\n",
      "      \"class_distribution\": {\n",
      "        \"0\": 1.0\n",
      "      }\n",
      "    },\n",
      "    \"petal_length >= 3\": {\n",
      "      \"leaf\": false,\n",
      "      \"split\": \"Numeric[petal_width <=> 1.8]\",\n",
      "      \"children\": {\n",
      "        \"petal_width < 1.8\": {\n",
      "          \"leaf\": false,\n",
      "          \"split\": \"Numeric[petal_length <=> 5]\",\n",
      "          \"children\": {\n",
      "            \"petal_length < 5\": {\n",
      "              \"leaf\": false,\n",
      "              \"split\": \"Numeric[petal_width <=> 1.7]\",\n",
      "              \"children\": {\n",
      "                \"petal_width < 1.7\": {\n",
      "                  \"leaf\": true,\n",
      "                  \"class_distribution\": {\n",
      "                    \"1\": 1.0\n",
      "                  }\n",
      "                },\n",
      "                \"petal_width >= 1.7\": {\n",
      "                  \"leaf\": true,\n",
      "                  \"class_distribution\": {\n",
      "                    \"2\": 1.0\n",
      "                  }\n",
      "                }\n",
      "              }\n",
      "            },\n",
      "            \"petal_length >= 5\": {\n",
      "              \"leaf\": true,\n",
      "              \"class_distribution\": {\n",
      "                \"1\": 0.3333333333333333,\n",
      "                \"2\": 0.6666666666666666\n",
      "              }\n",
      "            }\n",
      "          }\n",
      "        },\n",
      "        \"petal_width >= 1.8\": {\n",
      "          \"leaf\": false,\n",
      "          \"split\": \"Numeric[petal_length <=> 4.9]\",\n",
      "          \"children\": {\n",
      "            \"petal_length < 4.9\": {\n",
      "              \"leaf\": true,\n",
      "              \"class_distribution\": {\n",
      "                \"1\": 0.3333333333333333,\n",
      "                \"2\": 0.6666666666666666\n",
      "              }\n",
      "            },\n",
      "            \"petal_length >= 4.9\": {\n",
      "              \"leaf\": true,\n",
      "              \"class_distribution\": {\n",
      "                \"2\": 1.0\n",
      "              }\n",
      "            }\n",
      "          }\n",
      "        }\n",
      "      }\n",
      "    }\n",
      "  }\n",
      "}\n"
     ]
    }
   ],
   "source": [
    "def test_1e9f1b()\n",
    "  iris = load_iris_dataset()\n",
    "  model = DecisionTreeLearner.new 1, min_size: 25, max_depth: 10\n",
    "  model.train iris\n",
    "  root = model.root\n",
    "\n",
    "  puts \"Multi-level Tree\", model.to_s\n",
    "\n",
    "  assert_false root.is_leaf?\n",
    "  assert_not_nil root.split\n",
    "  assert_equal 2, root.children.size\n",
    "end\n",
    "test_1e9f1b()"
   ]
  },
  {
   "cell_type": "markdown",
   "metadata": {
    "deletable": false,
    "editable": false,
    "nbgrader": {
     "cell_type": "markdown",
     "checksum": "2a52fcdaf84645749e804cd30c406925",
     "grade": false,
     "grade_id": "cell-c9fbdb1913c42526",
     "locked": true,
     "schema_version": 3,
     "solution": false,
     "task": false
    }
   },
   "source": [
    "## Question 5.2 (5 Points)\n",
    "\n",
    "Implement ```find_leaf``` which maps an example to an appropriate leaf node. By recursively applying the split tests, find the leaf node. That leaf will be used to calculate the score. \n",
    "\n",
    "The ```find_leaf``` method is recursive given a node. It has 2 termination conditions:\n",
    "\n",
    "1. Node is a leaf\n",
    "2. Node would have applied a split but there is no child. This happens if a new categorical value was added.\n"
   ]
  },
  {
   "cell_type": "code",
   "execution_count": 39,
   "metadata": {
    "deletable": false,
    "nbgrader": {
     "cell_type": "code",
     "checksum": "c95011d7beb39d6c46bd91ab476b17e1",
     "grade": false,
     "grade_id": "cell-b7f75a7e794733cc",
     "locked": false,
     "schema_version": 3,
     "solution": true
    }
   },
   "outputs": [
    {
     "data": {
      "text/plain": [
       ":find_leaf"
      ]
     },
     "execution_count": 39,
     "metadata": {},
     "output_type": "execute_result"
    }
   ],
   "source": [
    "class DecisionTreeLearner\n",
    "  attr_accessor :positive_class_label\n",
    "  def predict example\n",
    "    leaf = find_leaf @root, example\n",
    " \n",
    "    return leaf.score @positive_class_label\n",
    "  end\n",
    "\n",
    "  def evaluate eval_dataset\n",
    "    examples = eval_dataset[\"data\"]\n",
    "    \n",
    "    examples.map do |example|\n",
    "\n",
    "      score = predict(example)\n",
    "      \n",
    "      label = example[\"label\"] == @positive_class_label ? 1 : 0\n",
    "      [score, label]\n",
    "    end\n",
    "  end\n",
    "\n",
    "  def find_leaf node, example\n",
    "    # BEGIN YOUR CODE\n",
    "      root = node\n",
    "      pattern = \"%s == '%s'\"\n",
    "\n",
    "\n",
    "\n",
    "     while !root.children.nil? and !root.is_leaf?          \n",
    "          n = root.split.feature_name  \n",
    "          data = example[\"features\"][n]\n",
    "\n",
    "          number = root.children.keys[0].split[2]\n",
    "\n",
    "#           if eval(number).is_a? Numeric          ###### this is for numerica category\n",
    "          if data.is_a? Numeric\n",
    "              if data < number.to_f\n",
    "                next_key = \"#{n} < \" + number\n",
    "              else\n",
    "                next_key = \"#{n} >= \" + number\n",
    "              end\n",
    "\n",
    "\n",
    "          else\n",
    "  \n",
    "#               root.children.keys.each do |o|\n",
    "#                   string = o.split[2]\n",
    "#                   puts data, string,\"test\"\n",
    "#                   if eval(string).is_a? String and data.is_a? String\n",
    "#                     puts \"this is a debug\"\n",
    "#                   end\n",
    "#                   puts \"'here'\"\n",
    "#                   if eval(string) == data\n",
    "#                     next_key = o\n",
    "#                     puts next_key\n",
    "#                   end\n",
    "#                   break if eval(string) == data\n",
    "           \n",
    "#               end \n",
    "              next_key = pattern%[n,data]\n",
    "\n",
    "\n",
    "             \n",
    "          end\n",
    "          if root.children.nil? or root.is_leaf? \n",
    "              root = root\n",
    "          else\n",
    "              root = root.children[next_key]\n",
    "\n",
    "          end\n",
    "        \n",
    "      end\n",
    "  \n",
    "      return root\n",
    "\n",
    "    #END YOUR CODE\n",
    "  end\n",
    "end"
   ]
  },
  {
   "cell_type": "code",
   "execution_count": 40,
   "metadata": {
    "deletable": false,
    "editable": false,
    "nbgrader": {
     "cell_type": "code",
     "checksum": "5e78c74aa3f54a0f30c77f52e94f0446",
     "grade": true,
     "grade_id": "cell-e35c4e066990eb1a",
     "locked": true,
     "points": 5,
     "schema_version": 3,
     "solution": false
    }
   },
   "outputs": [],
   "source": [
    "def test_e35c4e()\n",
    "  iris = load_iris_dataset()\n",
    "  \n",
    "  ##Force decision tree to only have 'petal_length' feature\n",
    "  iris[\"features\"] = %w(petal_length)\n",
    "  \n",
    "  learner = DecisionTreeLearner.new 1, min_size: 10, max_depth: 2\n",
    "  learner.train iris  \n",
    "  \n",
    "  x1 = {\"features\" => {\"petal_length\" => 1.2}}\n",
    "  assert_in_delta 0.0, learner.predict(x1), 1e-3, \"example 1, class 1\"\n",
    "\n",
    "  x2 = {\"features\" => {\"petal_length\" => 3.1}}\n",
    "  assert_in_delta 0.5, learner.predict(x2), 1e-3, \"example 2, class 1\"\n",
    "  \n",
    "  learner.positive_class_label = 0\n",
    "  x3 = {\"features\" => {\"petal_length\" => 1.2}}\n",
    "  assert_in_delta 1.0, learner.predict(x3), 1e-3, \"example 3, class 0\"\n",
    "end\n",
    "\n",
    "test_e35c4e()"
   ]
  },
  {
   "cell_type": "markdown",
   "metadata": {
    "deletable": false,
    "editable": false,
    "nbgrader": {
     "cell_type": "markdown",
     "checksum": "900d4cbb017232ff1f75d7577ef74168",
     "grade": false,
     "grade_id": "cell-8a58b6952de67091",
     "locked": true,
     "schema_version": 3,
     "solution": false,
     "task": false
    }
   },
   "source": [
    "## Question 5.3 (5 Points)\n",
    "\n",
    "Reuse your ```AUCMetric``` here calculates the AUC and plots the curve for a classifier.\n",
    "\n",
    "The return format for the ```roc_curve``` function is defined as follows:\n",
    "\n",
    "```ruby\n",
    "#False positive rates\n",
    "fp_rates = [0.0, 0.01, 0.02, ..., 1.0]\n",
    "\n",
    "#True positive rates\n",
    "tp_rates = [0.0, 0.01, 0.02, ..., 1.0]\n",
    "\n",
    "#AUC Value\n",
    "auc = 0.5\n",
    "\n",
    "return [fp, tp, auc]\n",
    "```\n",
    "\n",
    "When plotted, you should see a curve like this:\n",
    "\n",
    "![example_roc_curve](./roc_curve.png)\n",
    "\n",
    "\n"
   ]
  },
  {
   "cell_type": "code",
   "execution_count": 41,
   "metadata": {
    "deletable": false,
    "editable": false,
    "nbgrader": {
     "cell_type": "code",
     "checksum": "4b0406672f837f902370e02050a0f3d7",
     "grade": false,
     "grade_id": "cell-6272acb620024e6c",
     "locked": true,
     "schema_version": 3,
     "solution": false,
     "task": false
    }
   },
   "outputs": [
    {
     "data": {
      "text/plain": [
       ":apply"
      ]
     },
     "execution_count": 41,
     "metadata": {},
     "output_type": "execute_result"
    }
   ],
   "source": [
    "module Metric\n",
    "  def apply scores\n",
    "  end\n",
    "end"
   ]
  },
  {
   "cell_type": "code",
   "execution_count": 42,
   "metadata": {},
   "outputs": [
    {
     "data": {
      "text/plain": [
       ":num_positives"
      ]
     },
     "execution_count": 42,
     "metadata": {},
     "output_type": "execute_result"
    }
   ],
   "source": [
    "def num_negatives scores\n",
    "  # BEGIN YOUR CODE\n",
    "\n",
    "  return scores.length - num_positives(scores)\n",
    "  \n",
    "  #END YOUR CODE\n",
    "end\n",
    "\n",
    "def num_positives scores\n",
    "  # BEGIN YOUR CODE\n",
    "\n",
    "  i = 0\n",
    "  sum = 0\n",
    "  while i< scores.length do\n",
    "    if scores[i][1]>0\n",
    "      sum += 1\n",
    "    end\n",
    "    i+=1\n",
    "  end\n",
    "  return sum\n",
    "  \n",
    "  #END YOUR CODE\n",
    "end"
   ]
  },
  {
   "cell_type": "code",
   "execution_count": 43,
   "metadata": {
    "deletable": false,
    "nbgrader": {
     "cell_type": "code",
     "checksum": "55a999a5e2f90dac8056a015dc953d4a",
     "grade": false,
     "grade_id": "cell-504889267a2e5097",
     "locked": false,
     "schema_version": 3,
     "solution": true,
     "task": false
    }
   },
   "outputs": [
    {
     "data": {
      "text/plain": [
       ":apply"
      ]
     },
     "execution_count": 43,
     "metadata": {},
     "output_type": "execute_result"
    }
   ],
   "source": [
    "class AUCMetric \n",
    "  include Metric\n",
    "  def roc_curve(scores)\n",
    "    # BEGIN YOUR CODE\n",
    "    fp_rates = [0.0]\n",
    "    tp_rates = [0.0]\n",
    "    auc = 0.0\n",
    "\n",
    "    # BEGIN YOUR CODE\n",
    "\n",
    "\n",
    "    t_list = scores.sort_by{|e| [-e[0]]}\n",
    "\n",
    "    i = 0\n",
    "    total_pos = num_positives scores\n",
    "    total_neg = num_negatives scores\n",
    "    p = 0.0\n",
    "    n = 0.0\n",
    "\n",
    "    t_list.each do |e|\n",
    "\n",
    "      if e[1] == 1\n",
    "        p +=1.0   \n",
    "        fp_rates.append(fp_rates[-1])      \n",
    "        tp_rates.append(p/total_pos)\n",
    "      else\n",
    "        n +=1.0 \n",
    "        fp_rates.append(n/total_neg)      \n",
    "        tp_rates.append(tp_rates[-1])\n",
    "      end\n",
    "\n",
    "    end\n",
    "\n",
    "    i = 1\n",
    "    while i < (tp_rates.length) do\n",
    "        auc+= 0.5*(fp_rates[i] -fp_rates[i-1])*(tp_rates[i] + tp_rates[i-1]  )\n",
    "      i+=1\n",
    "    end\n",
    "  \n",
    "    \n",
    "    #END YOUR CODE\n",
    "    return [fp_rates, tp_rates, auc]\n",
    "  end\n",
    "  \n",
    "  def apply scores\n",
    "    fp, tp, auc = roc_curve scores\n",
    "    return auc\n",
    "  end\n",
    "end"
   ]
  },
  {
   "cell_type": "code",
   "execution_count": 44,
   "metadata": {},
   "outputs": [],
   "source": [
    "##### the follwing cell takes about 8 minutes."
   ]
  },
  {
   "cell_type": "code",
   "execution_count": 45,
   "metadata": {
    "deletable": false,
    "editable": false,
    "nbgrader": {
     "cell_type": "code",
     "checksum": "8139a73fdbf0b7c2688a1fee1265635c",
     "grade": true,
     "grade_id": "cell-99112cc385990357",
     "locked": true,
     "points": 5,
     "schema_version": 3,
     "solution": false,
     "task": false
    }
   },
   "outputs": [
    {
     "name": "stdout",
     "output_type": "stream",
     "text": [
      "AUC = 0.7965619047619045\n"
     ]
    },
    {
     "data": {
      "text/html": [
       "<div id='vis-2d12be63-bb0f-48fe-adca-35bd202cceca'></div>\n",
       "<script>\n",
       "(function(){\n",
       "    var render = function(){\n",
       "        var model = {\"panes\":[{\"diagrams\":[{\"type\":\"line\",\"options\":{\"x\":\"x\",\"y\":\"y\"},\"data\":\"320b9940-6b62-41f6-8409-4b59ea63e491\"},{\"type\":\"line\",\"options\":{\"x\":\"data0\",\"y\":\"data1\",\"color\":\"gray\"},\"data\":\"1d748c17-7e7d-40a0-89cd-e27f1cac7675\"}],\"options\":{\"x_label\":\"False Positive Rate\",\"y_label\":\"True Positive Rate\",\"zoom\":true,\"width\":700,\"xrange\":[0.0,1.0],\"yrange\":[0.0,1.0]}}],\"data\":{\"320b9940-6b62-41f6-8409-4b59ea63e491\":[{\"x\":0.0,\"y\":0.0},{\"x\":0.0,\"y\":0.0014285714285714286},{\"x\":0.0,\"y\":0.002857142857142857},{\"x\":0.0,\"y\":0.004285714285714286},{\"x\":0.0,\"y\":0.005714285714285714},{\"x\":0.0,\"y\":0.007142857142857143},{\"x\":0.0,\"y\":0.008571428571428572},{\"x\":0.0,\"y\":0.01},{\"x\":0.0,\"y\":0.011428571428571429},{\"x\":0.0,\"y\":0.012857142857142857},{\"x\":0.0,\"y\":0.014285714285714285},{\"x\":0.0,\"y\":0.015714285714285715},{\"x\":0.0,\"y\":0.017142857142857144},{\"x\":0.0,\"y\":0.018571428571428572},{\"x\":0.0,\"y\":0.02},{\"x\":0.0,\"y\":0.02142857142857143},{\"x\":0.0,\"y\":0.022857142857142857},{\"x\":0.0,\"y\":0.024285714285714285},{\"x\":0.0,\"y\":0.025714285714285714},{\"x\":0.0,\"y\":0.027142857142857142},{\"x\":0.0,\"y\":0.02857142857142857},{\"x\":0.0,\"y\":0.03},{\"x\":0.0,\"y\":0.03142857142857143},{\"x\":0.0,\"y\":0.032857142857142856},{\"x\":0.0,\"y\":0.03428571428571429},{\"x\":0.0,\"y\":0.03571428571428571},{\"x\":0.0,\"y\":0.037142857142857144},{\"x\":0.0,\"y\":0.03857142857142857},{\"x\":0.0,\"y\":0.04},{\"x\":0.0,\"y\":0.041428571428571426},{\"x\":0.0,\"y\":0.04285714285714286},{\"x\":0.0,\"y\":0.04428571428571428},{\"x\":0.0,\"y\":0.045714285714285714},{\"x\":0.0,\"y\":0.047142857142857146},{\"x\":0.0,\"y\":0.04857142857142857},{\"x\":0.0,\"y\":0.05},{\"x\":0.0,\"y\":0.05142857142857143},{\"x\":0.0,\"y\":0.05285714285714286},{\"x\":0.0,\"y\":0.054285714285714284},{\"x\":0.0,\"y\":0.055714285714285716},{\"x\":0.0,\"y\":0.05714285714285714},{\"x\":0.0,\"y\":0.05857142857142857},{\"x\":0.0,\"y\":0.06},{\"x\":0.0,\"y\":0.06142857142857143},{\"x\":0.0,\"y\":0.06285714285714286},{\"x\":0.0,\"y\":0.06428571428571428},{\"x\":0.0,\"y\":0.06571428571428571},{\"x\":0.0,\"y\":0.06714285714285714},{\"x\":0.0,\"y\":0.06857142857142857},{\"x\":0.0,\"y\":0.07},{\"x\":0.0,\"y\":0.07142857142857142},{\"x\":0.0,\"y\":0.07285714285714286},{\"x\":0.0,\"y\":0.07428571428571429},{\"x\":0.0,\"y\":0.07571428571428572},{\"x\":0.0,\"y\":0.07714285714285714},{\"x\":0.0,\"y\":0.07857142857142857},{\"x\":0.0,\"y\":0.08},{\"x\":0.0,\"y\":0.08142857142857143},{\"x\":0.0,\"y\":0.08285714285714285},{\"x\":0.0,\"y\":0.08428571428571428},{\"x\":0.0,\"y\":0.08571428571428572},{\"x\":0.0,\"y\":0.08714285714285715},{\"x\":0.0,\"y\":0.08857142857142856},{\"x\":0.0,\"y\":0.09},{\"x\":0.0,\"y\":0.09142857142857143},{\"x\":0.0,\"y\":0.09285714285714286},{\"x\":0.0,\"y\":0.09428571428571429},{\"x\":0.0,\"y\":0.09571428571428571},{\"x\":0.0,\"y\":0.09714285714285714},{\"x\":0.0,\"y\":0.09857142857142857},{\"x\":0.0,\"y\":0.1},{\"x\":0.0,\"y\":0.10142857142857142},{\"x\":0.0,\"y\":0.10285714285714286},{\"x\":0.0,\"y\":0.10428571428571429},{\"x\":0.0,\"y\":0.10571428571428572},{\"x\":0.0,\"y\":0.10714285714285714},{\"x\":0.0,\"y\":0.10857142857142857},{\"x\":0.0,\"y\":0.11},{\"x\":0.0,\"y\":0.11142857142857143},{\"x\":0.0,\"y\":0.11285714285714285},{\"x\":0.0,\"y\":0.11428571428571428},{\"x\":0.0,\"y\":0.11571428571428571},{\"x\":0.0,\"y\":0.11714285714285715},{\"x\":0.0,\"y\":0.11857142857142858},{\"x\":0.0,\"y\":0.12},{\"x\":0.0,\"y\":0.12142857142857143},{\"x\":0.0,\"y\":0.12285714285714286},{\"x\":0.0,\"y\":0.12428571428571429},{\"x\":0.0,\"y\":0.12571428571428572},{\"x\":0.0,\"y\":0.12714285714285714},{\"x\":0.0,\"y\":0.12857142857142856},{\"x\":0.0,\"y\":0.13},{\"x\":0.0,\"y\":0.13142857142857142},{\"x\":0.0,\"y\":0.13285714285714287},{\"x\":0.0,\"y\":0.13428571428571429},{\"x\":0.0,\"y\":0.1357142857142857},{\"x\":0.0,\"y\":0.13714285714285715},{\"x\":0.0,\"y\":0.13857142857142857},{\"x\":0.0,\"y\":0.14},{\"x\":0.0,\"y\":0.14142857142857143},{\"x\":0.0,\"y\":0.14285714285714285},{\"x\":0.0,\"y\":0.1442857142857143},{\"x\":0.0,\"y\":0.1457142857142857},{\"x\":0.0,\"y\":0.14714285714285713},{\"x\":0.0,\"y\":0.14857142857142858},{\"x\":0.0,\"y\":0.15},{\"x\":0.0,\"y\":0.15142857142857144},{\"x\":0.0,\"y\":0.15285714285714286},{\"x\":0.0,\"y\":0.15428571428571428},{\"x\":0.0033333333333333335,\"y\":0.15428571428571428},{\"x\":0.0033333333333333335,\"y\":0.15571428571428572},{\"x\":0.0033333333333333335,\"y\":0.15714285714285714},{\"x\":0.0033333333333333335,\"y\":0.15857142857142856},{\"x\":0.0033333333333333335,\"y\":0.16},{\"x\":0.0033333333333333335,\"y\":0.16142857142857142},{\"x\":0.0033333333333333335,\"y\":0.16285714285714287},{\"x\":0.006666666666666667,\"y\":0.16285714285714287},{\"x\":0.006666666666666667,\"y\":0.16428571428571428},{\"x\":0.006666666666666667,\"y\":0.1657142857142857},{\"x\":0.006666666666666667,\"y\":0.16714285714285715},{\"x\":0.006666666666666667,\"y\":0.16857142857142857},{\"x\":0.006666666666666667,\"y\":0.17},{\"x\":0.006666666666666667,\"y\":0.17142857142857143},{\"x\":0.006666666666666667,\"y\":0.17285714285714285},{\"x\":0.006666666666666667,\"y\":0.1742857142857143},{\"x\":0.006666666666666667,\"y\":0.1757142857142857},{\"x\":0.006666666666666667,\"y\":0.17714285714285713},{\"x\":0.006666666666666667,\"y\":0.17857142857142858},{\"x\":0.006666666666666667,\"y\":0.18},{\"x\":0.006666666666666667,\"y\":0.18142857142857144},{\"x\":0.006666666666666667,\"y\":0.18285714285714286},{\"x\":0.006666666666666667,\"y\":0.18428571428571427},{\"x\":0.006666666666666667,\"y\":0.18571428571428572},{\"x\":0.006666666666666667,\"y\":0.18714285714285714},{\"x\":0.006666666666666667,\"y\":0.18857142857142858},{\"x\":0.006666666666666667,\"y\":0.19},{\"x\":0.006666666666666667,\"y\":0.19142857142857142},{\"x\":0.006666666666666667,\"y\":0.19285714285714287},{\"x\":0.006666666666666667,\"y\":0.19428571428571428},{\"x\":0.006666666666666667,\"y\":0.1957142857142857},{\"x\":0.006666666666666667,\"y\":0.19714285714285715},{\"x\":0.006666666666666667,\"y\":0.19857142857142857},{\"x\":0.006666666666666667,\"y\":0.2},{\"x\":0.006666666666666667,\"y\":0.20142857142857143},{\"x\":0.006666666666666667,\"y\":0.20285714285714285},{\"x\":0.006666666666666667,\"y\":0.2042857142857143},{\"x\":0.006666666666666667,\"y\":0.2057142857142857},{\"x\":0.006666666666666667,\"y\":0.20714285714285716},{\"x\":0.006666666666666667,\"y\":0.20857142857142857},{\"x\":0.006666666666666667,\"y\":0.21},{\"x\":0.006666666666666667,\"y\":0.21142857142857144},{\"x\":0.006666666666666667,\"y\":0.21285714285714286},{\"x\":0.006666666666666667,\"y\":0.21428571428571427},{\"x\":0.006666666666666667,\"y\":0.21571428571428572},{\"x\":0.006666666666666667,\"y\":0.21714285714285714},{\"x\":0.006666666666666667,\"y\":0.21857142857142858},{\"x\":0.006666666666666667,\"y\":0.22},{\"x\":0.006666666666666667,\"y\":0.22142857142857142},{\"x\":0.01,\"y\":0.22142857142857142},{\"x\":0.01,\"y\":0.22285714285714286},{\"x\":0.01,\"y\":0.22428571428571428},{\"x\":0.013333333333333334,\"y\":0.22428571428571428},{\"x\":0.013333333333333334,\"y\":0.2257142857142857},{\"x\":0.013333333333333334,\"y\":0.22714285714285715},{\"x\":0.013333333333333334,\"y\":0.22857142857142856},{\"x\":0.013333333333333334,\"y\":0.23},{\"x\":0.013333333333333334,\"y\":0.23142857142857143},{\"x\":0.013333333333333334,\"y\":0.23285714285714285},{\"x\":0.013333333333333334,\"y\":0.2342857142857143},{\"x\":0.013333333333333334,\"y\":0.2357142857142857},{\"x\":0.013333333333333334,\"y\":0.23714285714285716},{\"x\":0.013333333333333334,\"y\":0.23857142857142857},{\"x\":0.013333333333333334,\"y\":0.24},{\"x\":0.016666666666666666,\"y\":0.24},{\"x\":0.016666666666666666,\"y\":0.24142857142857144},{\"x\":0.02,\"y\":0.24142857142857144},{\"x\":0.023333333333333334,\"y\":0.24142857142857144},{\"x\":0.023333333333333334,\"y\":0.24285714285714285},{\"x\":0.023333333333333334,\"y\":0.24428571428571427},{\"x\":0.023333333333333334,\"y\":0.24571428571428572},{\"x\":0.023333333333333334,\"y\":0.24714285714285714},{\"x\":0.023333333333333334,\"y\":0.24857142857142858},{\"x\":0.023333333333333334,\"y\":0.25},{\"x\":0.023333333333333334,\"y\":0.25142857142857145},{\"x\":0.023333333333333334,\"y\":0.25285714285714284},{\"x\":0.023333333333333334,\"y\":0.2542857142857143},{\"x\":0.023333333333333334,\"y\":0.2557142857142857},{\"x\":0.023333333333333334,\"y\":0.2571428571428571},{\"x\":0.023333333333333334,\"y\":0.25857142857142856},{\"x\":0.023333333333333334,\"y\":0.26},{\"x\":0.023333333333333334,\"y\":0.26142857142857145},{\"x\":0.023333333333333334,\"y\":0.26285714285714284},{\"x\":0.023333333333333334,\"y\":0.2642857142857143},{\"x\":0.023333333333333334,\"y\":0.26571428571428574},{\"x\":0.023333333333333334,\"y\":0.2671428571428571},{\"x\":0.023333333333333334,\"y\":0.26857142857142857},{\"x\":0.023333333333333334,\"y\":0.27},{\"x\":0.023333333333333334,\"y\":0.2714285714285714},{\"x\":0.023333333333333334,\"y\":0.27285714285714285},{\"x\":0.023333333333333334,\"y\":0.2742857142857143},{\"x\":0.023333333333333334,\"y\":0.2757142857142857},{\"x\":0.023333333333333334,\"y\":0.27714285714285714},{\"x\":0.023333333333333334,\"y\":0.2785714285714286},{\"x\":0.02666666666666667,\"y\":0.2785714285714286},{\"x\":0.03,\"y\":0.2785714285714286},{\"x\":0.03,\"y\":0.28},{\"x\":0.03,\"y\":0.2814285714285714},{\"x\":0.03,\"y\":0.28285714285714286},{\"x\":0.03,\"y\":0.2842857142857143},{\"x\":0.03,\"y\":0.2857142857142857},{\"x\":0.03,\"y\":0.28714285714285714},{\"x\":0.03,\"y\":0.2885714285714286},{\"x\":0.03,\"y\":0.29},{\"x\":0.03,\"y\":0.2914285714285714},{\"x\":0.03,\"y\":0.29285714285714287},{\"x\":0.03,\"y\":0.29428571428571426},{\"x\":0.03333333333333333,\"y\":0.29428571428571426},{\"x\":0.03333333333333333,\"y\":0.2957142857142857},{\"x\":0.03333333333333333,\"y\":0.29714285714285715},{\"x\":0.03333333333333333,\"y\":0.2985714285714286},{\"x\":0.03333333333333333,\"y\":0.3},{\"x\":0.03333333333333333,\"y\":0.30142857142857143},{\"x\":0.03333333333333333,\"y\":0.3028571428571429},{\"x\":0.03333333333333333,\"y\":0.30428571428571427},{\"x\":0.03333333333333333,\"y\":0.3057142857142857},{\"x\":0.03333333333333333,\"y\":0.30714285714285716},{\"x\":0.03333333333333333,\"y\":0.30857142857142855},{\"x\":0.03333333333333333,\"y\":0.31},{\"x\":0.03333333333333333,\"y\":0.31142857142857144},{\"x\":0.03333333333333333,\"y\":0.31285714285714283},{\"x\":0.03333333333333333,\"y\":0.3142857142857143},{\"x\":0.03333333333333333,\"y\":0.3157142857142857},{\"x\":0.03333333333333333,\"y\":0.3171428571428571},{\"x\":0.03333333333333333,\"y\":0.31857142857142856},{\"x\":0.03666666666666667,\"y\":0.31857142857142856},{\"x\":0.03666666666666667,\"y\":0.32},{\"x\":0.03666666666666667,\"y\":0.32142857142857145},{\"x\":0.03666666666666667,\"y\":0.32285714285714284},{\"x\":0.03666666666666667,\"y\":0.3242857142857143},{\"x\":0.04,\"y\":0.3242857142857143},{\"x\":0.04,\"y\":0.32571428571428573},{\"x\":0.043333333333333335,\"y\":0.32571428571428573},{\"x\":0.043333333333333335,\"y\":0.3271428571428571},{\"x\":0.04666666666666667,\"y\":0.3271428571428571},{\"x\":0.05,\"y\":0.3271428571428571},{\"x\":0.05,\"y\":0.32857142857142857},{\"x\":0.05,\"y\":0.33},{\"x\":0.05,\"y\":0.3314285714285714},{\"x\":0.05,\"y\":0.33285714285714285},{\"x\":0.05,\"y\":0.3342857142857143},{\"x\":0.05333333333333334,\"y\":0.3342857142857143},{\"x\":0.05333333333333334,\"y\":0.3357142857142857},{\"x\":0.05333333333333334,\"y\":0.33714285714285713},{\"x\":0.05333333333333334,\"y\":0.3385714285714286},{\"x\":0.05333333333333334,\"y\":0.34},{\"x\":0.05333333333333334,\"y\":0.3414285714285714},{\"x\":0.056666666666666664,\"y\":0.3414285714285714},{\"x\":0.056666666666666664,\"y\":0.34285714285714286},{\"x\":0.056666666666666664,\"y\":0.3442857142857143},{\"x\":0.056666666666666664,\"y\":0.3457142857142857},{\"x\":0.056666666666666664,\"y\":0.34714285714285714},{\"x\":0.056666666666666664,\"y\":0.3485714285714286},{\"x\":0.06,\"y\":0.3485714285714286},{\"x\":0.06,\"y\":0.35},{\"x\":0.06,\"y\":0.3514285714285714},{\"x\":0.06,\"y\":0.35285714285714287},{\"x\":0.06,\"y\":0.35428571428571426},{\"x\":0.06,\"y\":0.3557142857142857},{\"x\":0.06,\"y\":0.35714285714285715},{\"x\":0.06,\"y\":0.3585714285714286},{\"x\":0.06,\"y\":0.36},{\"x\":0.06,\"y\":0.36142857142857143},{\"x\":0.06,\"y\":0.3628571428571429},{\"x\":0.06,\"y\":0.36428571428571427},{\"x\":0.06,\"y\":0.3657142857142857},{\"x\":0.06,\"y\":0.36714285714285716},{\"x\":0.06333333333333334,\"y\":0.36714285714285716},{\"x\":0.06333333333333334,\"y\":0.36857142857142855},{\"x\":0.06333333333333334,\"y\":0.37},{\"x\":0.06333333333333334,\"y\":0.37142857142857144},{\"x\":0.06333333333333334,\"y\":0.37285714285714283},{\"x\":0.06333333333333334,\"y\":0.3742857142857143},{\"x\":0.06333333333333334,\"y\":0.3757142857142857},{\"x\":0.06333333333333334,\"y\":0.37714285714285717},{\"x\":0.06333333333333334,\"y\":0.37857142857142856},{\"x\":0.06333333333333334,\"y\":0.38},{\"x\":0.06333333333333334,\"y\":0.38142857142857145},{\"x\":0.06333333333333334,\"y\":0.38285714285714284},{\"x\":0.06333333333333334,\"y\":0.3842857142857143},{\"x\":0.06333333333333334,\"y\":0.38571428571428573},{\"x\":0.06333333333333334,\"y\":0.3871428571428571},{\"x\":0.06666666666666667,\"y\":0.3871428571428571},{\"x\":0.06666666666666667,\"y\":0.38857142857142857},{\"x\":0.06666666666666667,\"y\":0.39},{\"x\":0.06666666666666667,\"y\":0.3914285714285714},{\"x\":0.06666666666666667,\"y\":0.39285714285714285},{\"x\":0.06666666666666667,\"y\":0.3942857142857143},{\"x\":0.06666666666666667,\"y\":0.39571428571428574},{\"x\":0.06666666666666667,\"y\":0.39714285714285713},{\"x\":0.06666666666666667,\"y\":0.3985714285714286},{\"x\":0.06666666666666667,\"y\":0.4},{\"x\":0.06666666666666667,\"y\":0.4014285714285714},{\"x\":0.06666666666666667,\"y\":0.40285714285714286},{\"x\":0.06666666666666667,\"y\":0.4042857142857143},{\"x\":0.06666666666666667,\"y\":0.4057142857142857},{\"x\":0.06666666666666667,\"y\":0.40714285714285714},{\"x\":0.07,\"y\":0.40714285714285714},{\"x\":0.07,\"y\":0.4085714285714286},{\"x\":0.07,\"y\":0.41},{\"x\":0.07333333333333333,\"y\":0.41},{\"x\":0.07666666666666666,\"y\":0.41},{\"x\":0.07666666666666666,\"y\":0.4114285714285714},{\"x\":0.08,\"y\":0.4114285714285714},{\"x\":0.08,\"y\":0.41285714285714287},{\"x\":0.08,\"y\":0.4142857142857143},{\"x\":0.08333333333333333,\"y\":0.4142857142857143},{\"x\":0.08333333333333333,\"y\":0.4157142857142857},{\"x\":0.08333333333333333,\"y\":0.41714285714285715},{\"x\":0.08333333333333333,\"y\":0.4185714285714286},{\"x\":0.08333333333333333,\"y\":0.42},{\"x\":0.08333333333333333,\"y\":0.42142857142857143},{\"x\":0.08333333333333333,\"y\":0.4228571428571429},{\"x\":0.08333333333333333,\"y\":0.42428571428571427},{\"x\":0.08333333333333333,\"y\":0.4257142857142857},{\"x\":0.08333333333333333,\"y\":0.42714285714285716},{\"x\":0.08666666666666667,\"y\":0.42714285714285716},{\"x\":0.08666666666666667,\"y\":0.42857142857142855},{\"x\":0.08666666666666667,\"y\":0.43},{\"x\":0.08666666666666667,\"y\":0.43142857142857144},{\"x\":0.08666666666666667,\"y\":0.4328571428571429},{\"x\":0.08666666666666667,\"y\":0.4342857142857143},{\"x\":0.08666666666666667,\"y\":0.4357142857142857},{\"x\":0.08666666666666667,\"y\":0.43714285714285717},{\"x\":0.09,\"y\":0.43714285714285717},{\"x\":0.09333333333333334,\"y\":0.43714285714285717},{\"x\":0.09333333333333334,\"y\":0.43857142857142856},{\"x\":0.09333333333333334,\"y\":0.44},{\"x\":0.09333333333333334,\"y\":0.44142857142857145},{\"x\":0.09333333333333334,\"y\":0.44285714285714284},{\"x\":0.09666666666666666,\"y\":0.44285714285714284},{\"x\":0.09666666666666666,\"y\":0.4442857142857143},{\"x\":0.09666666666666666,\"y\":0.44571428571428573},{\"x\":0.09666666666666666,\"y\":0.4471428571428571},{\"x\":0.09666666666666666,\"y\":0.44857142857142857},{\"x\":0.09666666666666666,\"y\":0.45},{\"x\":0.09666666666666666,\"y\":0.4514285714285714},{\"x\":0.09666666666666666,\"y\":0.45285714285714285},{\"x\":0.1,\"y\":0.45285714285714285},{\"x\":0.1,\"y\":0.4542857142857143},{\"x\":0.1,\"y\":0.45571428571428574},{\"x\":0.1,\"y\":0.45714285714285713},{\"x\":0.10333333333333333,\"y\":0.45714285714285713},{\"x\":0.10333333333333333,\"y\":0.4585714285714286},{\"x\":0.10666666666666667,\"y\":0.4585714285714286},{\"x\":0.10666666666666667,\"y\":0.46},{\"x\":0.10666666666666667,\"y\":0.4614285714285714},{\"x\":0.10666666666666667,\"y\":0.46285714285714286},{\"x\":0.10666666666666667,\"y\":0.4642857142857143},{\"x\":0.10666666666666667,\"y\":0.4657142857142857},{\"x\":0.10666666666666667,\"y\":0.46714285714285714},{\"x\":0.10666666666666667,\"y\":0.4685714285714286},{\"x\":0.10666666666666667,\"y\":0.47},{\"x\":0.10666666666666667,\"y\":0.4714285714285714},{\"x\":0.10666666666666667,\"y\":0.47285714285714286},{\"x\":0.10666666666666667,\"y\":0.4742857142857143},{\"x\":0.11,\"y\":0.4742857142857143},{\"x\":0.11,\"y\":0.4757142857142857},{\"x\":0.11,\"y\":0.47714285714285715},{\"x\":0.11,\"y\":0.4785714285714286},{\"x\":0.11,\"y\":0.48},{\"x\":0.11333333333333333,\"y\":0.48},{\"x\":0.11333333333333333,\"y\":0.48142857142857143},{\"x\":0.11333333333333333,\"y\":0.4828571428571429},{\"x\":0.11333333333333333,\"y\":0.48428571428571426},{\"x\":0.11333333333333333,\"y\":0.4857142857142857},{\"x\":0.11666666666666667,\"y\":0.4857142857142857},{\"x\":0.11666666666666667,\"y\":0.48714285714285716},{\"x\":0.12,\"y\":0.48714285714285716},{\"x\":0.12,\"y\":0.48857142857142855},{\"x\":0.12,\"y\":0.49},{\"x\":0.12,\"y\":0.49142857142857144},{\"x\":0.12,\"y\":0.4928571428571429},{\"x\":0.12,\"y\":0.4942857142857143},{\"x\":0.12333333333333334,\"y\":0.4942857142857143},{\"x\":0.12333333333333334,\"y\":0.4957142857142857},{\"x\":0.12333333333333334,\"y\":0.49714285714285716},{\"x\":0.12333333333333334,\"y\":0.49857142857142855},{\"x\":0.12333333333333334,\"y\":0.5},{\"x\":0.12333333333333334,\"y\":0.5014285714285714},{\"x\":0.12666666666666668,\"y\":0.5014285714285714},{\"x\":0.12666666666666668,\"y\":0.5028571428571429},{\"x\":0.12666666666666668,\"y\":0.5042857142857143},{\"x\":0.12666666666666668,\"y\":0.5057142857142857},{\"x\":0.12666666666666668,\"y\":0.5071428571428571},{\"x\":0.12666666666666668,\"y\":0.5085714285714286},{\"x\":0.12666666666666668,\"y\":0.51},{\"x\":0.12666666666666668,\"y\":0.5114285714285715},{\"x\":0.12666666666666668,\"y\":0.5128571428571429},{\"x\":0.13,\"y\":0.5128571428571429},{\"x\":0.13,\"y\":0.5142857142857142},{\"x\":0.13333333333333333,\"y\":0.5142857142857142},{\"x\":0.13333333333333333,\"y\":0.5157142857142857},{\"x\":0.13333333333333333,\"y\":0.5171428571428571},{\"x\":0.13333333333333333,\"y\":0.5185714285714286},{\"x\":0.13333333333333333,\"y\":0.52},{\"x\":0.13666666666666666,\"y\":0.52},{\"x\":0.13666666666666666,\"y\":0.5214285714285715},{\"x\":0.13666666666666666,\"y\":0.5228571428571429},{\"x\":0.13666666666666666,\"y\":0.5242857142857142},{\"x\":0.13666666666666666,\"y\":0.5257142857142857},{\"x\":0.13666666666666666,\"y\":0.5271428571428571},{\"x\":0.13666666666666666,\"y\":0.5285714285714286},{\"x\":0.13666666666666666,\"y\":0.53},{\"x\":0.14,\"y\":0.53},{\"x\":0.14333333333333334,\"y\":0.53},{\"x\":0.14333333333333334,\"y\":0.5314285714285715},{\"x\":0.14333333333333334,\"y\":0.5328571428571428},{\"x\":0.14333333333333334,\"y\":0.5342857142857143},{\"x\":0.14333333333333334,\"y\":0.5357142857142857},{\"x\":0.14333333333333334,\"y\":0.5371428571428571},{\"x\":0.14333333333333334,\"y\":0.5385714285714286},{\"x\":0.14666666666666667,\"y\":0.5385714285714286},{\"x\":0.14666666666666667,\"y\":0.54},{\"x\":0.15,\"y\":0.54},{\"x\":0.15,\"y\":0.5414285714285715},{\"x\":0.15,\"y\":0.5428571428571428},{\"x\":0.15333333333333332,\"y\":0.5428571428571428},{\"x\":0.15333333333333332,\"y\":0.5442857142857143},{\"x\":0.15666666666666668,\"y\":0.5442857142857143},{\"x\":0.15666666666666668,\"y\":0.5457142857142857},{\"x\":0.15666666666666668,\"y\":0.5471428571428572},{\"x\":0.15666666666666668,\"y\":0.5485714285714286},{\"x\":0.15666666666666668,\"y\":0.55},{\"x\":0.15666666666666668,\"y\":0.5514285714285714},{\"x\":0.15666666666666668,\"y\":0.5528571428571428},{\"x\":0.15666666666666668,\"y\":0.5542857142857143},{\"x\":0.16,\"y\":0.5542857142857143},{\"x\":0.16,\"y\":0.5557142857142857},{\"x\":0.16,\"y\":0.5571428571428572},{\"x\":0.16333333333333333,\"y\":0.5571428571428572},{\"x\":0.16333333333333333,\"y\":0.5585714285714286},{\"x\":0.16333333333333333,\"y\":0.56},{\"x\":0.16333333333333333,\"y\":0.5614285714285714},{\"x\":0.16666666666666666,\"y\":0.5614285714285714},{\"x\":0.16666666666666666,\"y\":0.5628571428571428},{\"x\":0.17,\"y\":0.5628571428571428},{\"x\":0.17,\"y\":0.5642857142857143},{\"x\":0.17,\"y\":0.5657142857142857},{\"x\":0.17,\"y\":0.5671428571428572},{\"x\":0.17,\"y\":0.5685714285714286},{\"x\":0.17,\"y\":0.57},{\"x\":0.17,\"y\":0.5714285714285714},{\"x\":0.17,\"y\":0.5728571428571428},{\"x\":0.17,\"y\":0.5742857142857143},{\"x\":0.17,\"y\":0.5757142857142857},{\"x\":0.17,\"y\":0.5771428571428572},{\"x\":0.17333333333333334,\"y\":0.5771428571428572},{\"x\":0.17666666666666667,\"y\":0.5771428571428572},{\"x\":0.18,\"y\":0.5771428571428572},{\"x\":0.18,\"y\":0.5785714285714286},{\"x\":0.18,\"y\":0.58},{\"x\":0.18,\"y\":0.5814285714285714},{\"x\":0.18,\"y\":0.5828571428571429},{\"x\":0.18,\"y\":0.5842857142857143},{\"x\":0.18,\"y\":0.5857142857142857},{\"x\":0.18,\"y\":0.5871428571428572},{\"x\":0.18,\"y\":0.5885714285714285},{\"x\":0.18,\"y\":0.59},{\"x\":0.18,\"y\":0.5914285714285714},{\"x\":0.18333333333333332,\"y\":0.5914285714285714},{\"x\":0.18333333333333332,\"y\":0.5928571428571429},{\"x\":0.18333333333333332,\"y\":0.5942857142857143},{\"x\":0.18333333333333332,\"y\":0.5957142857142858},{\"x\":0.18666666666666668,\"y\":0.5957142857142858},{\"x\":0.19,\"y\":0.5957142857142858},{\"x\":0.19,\"y\":0.5971428571428572},{\"x\":0.19,\"y\":0.5985714285714285},{\"x\":0.19333333333333333,\"y\":0.5985714285714285},{\"x\":0.19666666666666666,\"y\":0.5985714285714285},{\"x\":0.19666666666666666,\"y\":0.6},{\"x\":0.19666666666666666,\"y\":0.6014285714285714},{\"x\":0.19666666666666666,\"y\":0.6028571428571429},{\"x\":0.2,\"y\":0.6028571428571429},{\"x\":0.2,\"y\":0.6042857142857143},{\"x\":0.20333333333333334,\"y\":0.6042857142857143},{\"x\":0.20333333333333334,\"y\":0.6057142857142858},{\"x\":0.20666666666666667,\"y\":0.6057142857142858},{\"x\":0.20666666666666667,\"y\":0.6071428571428571},{\"x\":0.20666666666666667,\"y\":0.6085714285714285},{\"x\":0.20666666666666667,\"y\":0.61},{\"x\":0.20666666666666667,\"y\":0.6114285714285714},{\"x\":0.20666666666666667,\"y\":0.6128571428571429},{\"x\":0.21,\"y\":0.6128571428571429},{\"x\":0.21,\"y\":0.6142857142857143},{\"x\":0.21,\"y\":0.6157142857142858},{\"x\":0.21333333333333335,\"y\":0.6157142857142858},{\"x\":0.21333333333333335,\"y\":0.6171428571428571},{\"x\":0.21333333333333335,\"y\":0.6185714285714285},{\"x\":0.21333333333333335,\"y\":0.62},{\"x\":0.21333333333333335,\"y\":0.6214285714285714},{\"x\":0.21333333333333335,\"y\":0.6228571428571429},{\"x\":0.21666666666666667,\"y\":0.6228571428571429},{\"x\":0.21666666666666667,\"y\":0.6242857142857143},{\"x\":0.22,\"y\":0.6242857142857143},{\"x\":0.22,\"y\":0.6257142857142857},{\"x\":0.22,\"y\":0.6271428571428571},{\"x\":0.22,\"y\":0.6285714285714286},{\"x\":0.22,\"y\":0.63},{\"x\":0.22333333333333333,\"y\":0.63},{\"x\":0.22333333333333333,\"y\":0.6314285714285715},{\"x\":0.22666666666666666,\"y\":0.6314285714285715},{\"x\":0.23,\"y\":0.6314285714285715},{\"x\":0.23,\"y\":0.6328571428571429},{\"x\":0.23,\"y\":0.6342857142857142},{\"x\":0.23333333333333334,\"y\":0.6342857142857142},{\"x\":0.23333333333333334,\"y\":0.6357142857142857},{\"x\":0.23333333333333334,\"y\":0.6371428571428571},{\"x\":0.23666666666666666,\"y\":0.6371428571428571},{\"x\":0.23666666666666666,\"y\":0.6385714285714286},{\"x\":0.23666666666666666,\"y\":0.64},{\"x\":0.24,\"y\":0.64},{\"x\":0.24333333333333335,\"y\":0.64},{\"x\":0.24333333333333335,\"y\":0.6414285714285715},{\"x\":0.24333333333333335,\"y\":0.6428571428571429},{\"x\":0.24333333333333335,\"y\":0.6442857142857142},{\"x\":0.24666666666666667,\"y\":0.6442857142857142},{\"x\":0.24666666666666667,\"y\":0.6457142857142857},{\"x\":0.24666666666666667,\"y\":0.6471428571428571},{\"x\":0.24666666666666667,\"y\":0.6485714285714286},{\"x\":0.24666666666666667,\"y\":0.65},{\"x\":0.24666666666666667,\"y\":0.6514285714285715},{\"x\":0.24666666666666667,\"y\":0.6528571428571428},{\"x\":0.24666666666666667,\"y\":0.6542857142857142},{\"x\":0.24666666666666667,\"y\":0.6557142857142857},{\"x\":0.25,\"y\":0.6557142857142857},{\"x\":0.25,\"y\":0.6571428571428571},{\"x\":0.25,\"y\":0.6585714285714286},{\"x\":0.25333333333333335,\"y\":0.6585714285714286},{\"x\":0.25333333333333335,\"y\":0.66},{\"x\":0.25333333333333335,\"y\":0.6614285714285715},{\"x\":0.25333333333333335,\"y\":0.6628571428571428},{\"x\":0.25666666666666665,\"y\":0.6628571428571428},{\"x\":0.25666666666666665,\"y\":0.6642857142857143},{\"x\":0.25666666666666665,\"y\":0.6657142857142857},{\"x\":0.25666666666666665,\"y\":0.6671428571428571},{\"x\":0.25666666666666665,\"y\":0.6685714285714286},{\"x\":0.25666666666666665,\"y\":0.67},{\"x\":0.25666666666666665,\"y\":0.6714285714285714},{\"x\":0.25666666666666665,\"y\":0.6728571428571428},{\"x\":0.26,\"y\":0.6728571428571428},{\"x\":0.26,\"y\":0.6742857142857143},{\"x\":0.26,\"y\":0.6757142857142857},{\"x\":0.2633333333333333,\"y\":0.6757142857142857},{\"x\":0.26666666666666666,\"y\":0.6757142857142857},{\"x\":0.26666666666666666,\"y\":0.6771428571428572},{\"x\":0.26666666666666666,\"y\":0.6785714285714286},{\"x\":0.26666666666666666,\"y\":0.68},{\"x\":0.26666666666666666,\"y\":0.6814285714285714},{\"x\":0.27,\"y\":0.6814285714285714},{\"x\":0.27,\"y\":0.6828571428571428},{\"x\":0.2733333333333333,\"y\":0.6828571428571428},{\"x\":0.2733333333333333,\"y\":0.6842857142857143},{\"x\":0.2733333333333333,\"y\":0.6857142857142857},{\"x\":0.2733333333333333,\"y\":0.6871428571428572},{\"x\":0.2733333333333333,\"y\":0.6885714285714286},{\"x\":0.2733333333333333,\"y\":0.69},{\"x\":0.2733333333333333,\"y\":0.6914285714285714},{\"x\":0.2733333333333333,\"y\":0.6928571428571428},{\"x\":0.2733333333333333,\"y\":0.6942857142857143},{\"x\":0.2733333333333333,\"y\":0.6957142857142857},{\"x\":0.2733333333333333,\"y\":0.6971428571428572},{\"x\":0.2733333333333333,\"y\":0.6985714285714286},{\"x\":0.2733333333333333,\"y\":0.7},{\"x\":0.27666666666666667,\"y\":0.7},{\"x\":0.27666666666666667,\"y\":0.7014285714285714},{\"x\":0.27666666666666667,\"y\":0.7028571428571428},{\"x\":0.28,\"y\":0.7028571428571428},{\"x\":0.28,\"y\":0.7042857142857143},{\"x\":0.28,\"y\":0.7057142857142857},{\"x\":0.28,\"y\":0.7071428571428572},{\"x\":0.28,\"y\":0.7085714285714285},{\"x\":0.28,\"y\":0.71},{\"x\":0.28,\"y\":0.7114285714285714},{\"x\":0.28,\"y\":0.7128571428571429},{\"x\":0.28,\"y\":0.7142857142857143},{\"x\":0.2833333333333333,\"y\":0.7142857142857143},{\"x\":0.2833333333333333,\"y\":0.7157142857142857},{\"x\":0.2833333333333333,\"y\":0.7171428571428572},{\"x\":0.2833333333333333,\"y\":0.7185714285714285},{\"x\":0.2866666666666667,\"y\":0.7185714285714285},{\"x\":0.2866666666666667,\"y\":0.72},{\"x\":0.2866666666666667,\"y\":0.7214285714285714},{\"x\":0.29,\"y\":0.7214285714285714},{\"x\":0.29,\"y\":0.7228571428571429},{\"x\":0.29,\"y\":0.7242857142857143},{\"x\":0.29,\"y\":0.7257142857142858},{\"x\":0.29333333333333333,\"y\":0.7257142857142858},{\"x\":0.2966666666666667,\"y\":0.7257142857142858},{\"x\":0.3,\"y\":0.7257142857142858},{\"x\":0.30333333333333334,\"y\":0.7257142857142858},{\"x\":0.30333333333333334,\"y\":0.7271428571428571},{\"x\":0.30666666666666664,\"y\":0.7271428571428571},{\"x\":0.30666666666666664,\"y\":0.7285714285714285},{\"x\":0.30666666666666664,\"y\":0.73},{\"x\":0.31,\"y\":0.73},{\"x\":0.31,\"y\":0.7314285714285714},{\"x\":0.31333333333333335,\"y\":0.7314285714285714},{\"x\":0.31333333333333335,\"y\":0.7328571428571429},{\"x\":0.31333333333333335,\"y\":0.7342857142857143},{\"x\":0.31333333333333335,\"y\":0.7357142857142858},{\"x\":0.31666666666666665,\"y\":0.7357142857142858},{\"x\":0.31666666666666665,\"y\":0.7371428571428571},{\"x\":0.31666666666666665,\"y\":0.7385714285714285},{\"x\":0.31666666666666665,\"y\":0.74},{\"x\":0.31666666666666665,\"y\":0.7414285714285714},{\"x\":0.31666666666666665,\"y\":0.7428571428571429},{\"x\":0.31666666666666665,\"y\":0.7442857142857143},{\"x\":0.31666666666666665,\"y\":0.7457142857142857},{\"x\":0.32,\"y\":0.7457142857142857},{\"x\":0.3233333333333333,\"y\":0.7457142857142857},{\"x\":0.3233333333333333,\"y\":0.7471428571428571},{\"x\":0.3233333333333333,\"y\":0.7485714285714286},{\"x\":0.3233333333333333,\"y\":0.75},{\"x\":0.3233333333333333,\"y\":0.7514285714285714},{\"x\":0.3233333333333333,\"y\":0.7528571428571429},{\"x\":0.3233333333333333,\"y\":0.7542857142857143},{\"x\":0.3233333333333333,\"y\":0.7557142857142857},{\"x\":0.3233333333333333,\"y\":0.7571428571428571},{\"x\":0.3233333333333333,\"y\":0.7585714285714286},{\"x\":0.3233333333333333,\"y\":0.76},{\"x\":0.3233333333333333,\"y\":0.7614285714285715},{\"x\":0.32666666666666666,\"y\":0.7614285714285715},{\"x\":0.33,\"y\":0.7614285714285715},{\"x\":0.33,\"y\":0.7628571428571429},{\"x\":0.33,\"y\":0.7642857142857142},{\"x\":0.33,\"y\":0.7657142857142857},{\"x\":0.33,\"y\":0.7671428571428571},{\"x\":0.33,\"y\":0.7685714285714286},{\"x\":0.33,\"y\":0.77},{\"x\":0.3333333333333333,\"y\":0.77},{\"x\":0.33666666666666667,\"y\":0.77},{\"x\":0.33666666666666667,\"y\":0.7714285714285715},{\"x\":0.33666666666666667,\"y\":0.7728571428571429},{\"x\":0.33666666666666667,\"y\":0.7742857142857142},{\"x\":0.34,\"y\":0.7742857142857142},{\"x\":0.3433333333333333,\"y\":0.7742857142857142},{\"x\":0.3433333333333333,\"y\":0.7757142857142857},{\"x\":0.3433333333333333,\"y\":0.7771428571428571},{\"x\":0.3466666666666667,\"y\":0.7771428571428571},{\"x\":0.3466666666666667,\"y\":0.7785714285714286},{\"x\":0.3466666666666667,\"y\":0.78},{\"x\":0.35,\"y\":0.78},{\"x\":0.35,\"y\":0.7814285714285715},{\"x\":0.35,\"y\":0.7828571428571428},{\"x\":0.35,\"y\":0.7842857142857143},{\"x\":0.35333333333333333,\"y\":0.7842857142857143},{\"x\":0.35333333333333333,\"y\":0.7857142857142857},{\"x\":0.35333333333333333,\"y\":0.7871428571428571},{\"x\":0.35333333333333333,\"y\":0.7885714285714286},{\"x\":0.35333333333333333,\"y\":0.79},{\"x\":0.35333333333333333,\"y\":0.7914285714285715},{\"x\":0.3566666666666667,\"y\":0.7914285714285715},{\"x\":0.36,\"y\":0.7914285714285715},{\"x\":0.36,\"y\":0.7928571428571428},{\"x\":0.36,\"y\":0.7942857142857143},{\"x\":0.36,\"y\":0.7957142857142857},{\"x\":0.36,\"y\":0.7971428571428572},{\"x\":0.36,\"y\":0.7985714285714286},{\"x\":0.36333333333333334,\"y\":0.7985714285714286},{\"x\":0.36333333333333334,\"y\":0.8},{\"x\":0.36666666666666664,\"y\":0.8},{\"x\":0.36666666666666664,\"y\":0.8014285714285714},{\"x\":0.37,\"y\":0.8014285714285714},{\"x\":0.37,\"y\":0.8028571428571428},{\"x\":0.37333333333333335,\"y\":0.8028571428571428},{\"x\":0.37333333333333335,\"y\":0.8042857142857143},{\"x\":0.37333333333333335,\"y\":0.8057142857142857},{\"x\":0.37333333333333335,\"y\":0.8071428571428572},{\"x\":0.37666666666666665,\"y\":0.8071428571428572},{\"x\":0.38,\"y\":0.8071428571428572},{\"x\":0.38,\"y\":0.8085714285714286},{\"x\":0.38,\"y\":0.81},{\"x\":0.38,\"y\":0.8114285714285714},{\"x\":0.38,\"y\":0.8128571428571428},{\"x\":0.38,\"y\":0.8142857142857143},{\"x\":0.38,\"y\":0.8157142857142857},{\"x\":0.38333333333333336,\"y\":0.8157142857142857},{\"x\":0.38333333333333336,\"y\":0.8171428571428572},{\"x\":0.38333333333333336,\"y\":0.8185714285714286},{\"x\":0.38333333333333336,\"y\":0.82},{\"x\":0.38333333333333336,\"y\":0.8214285714285714},{\"x\":0.38666666666666666,\"y\":0.8214285714285714},{\"x\":0.39,\"y\":0.8214285714285714},{\"x\":0.3933333333333333,\"y\":0.8214285714285714},{\"x\":0.39666666666666667,\"y\":0.8214285714285714},{\"x\":0.39666666666666667,\"y\":0.8228571428571428},{\"x\":0.39666666666666667,\"y\":0.8242857142857143},{\"x\":0.39666666666666667,\"y\":0.8257142857142857},{\"x\":0.39666666666666667,\"y\":0.8271428571428572},{\"x\":0.39666666666666667,\"y\":0.8285714285714286},{\"x\":0.39666666666666667,\"y\":0.83},{\"x\":0.4,\"y\":0.83},{\"x\":0.4033333333333333,\"y\":0.83},{\"x\":0.4066666666666667,\"y\":0.83},{\"x\":0.4066666666666667,\"y\":0.8314285714285714},{\"x\":0.4066666666666667,\"y\":0.8328571428571429},{\"x\":0.41,\"y\":0.8328571428571429},{\"x\":0.41,\"y\":0.8342857142857143},{\"x\":0.41,\"y\":0.8357142857142857},{\"x\":0.41,\"y\":0.8371428571428572},{\"x\":0.41,\"y\":0.8385714285714285},{\"x\":0.41,\"y\":0.84},{\"x\":0.41,\"y\":0.8414285714285714},{\"x\":0.41,\"y\":0.8428571428571429},{\"x\":0.41333333333333333,\"y\":0.8428571428571429},{\"x\":0.4166666666666667,\"y\":0.8428571428571429},{\"x\":0.4166666666666667,\"y\":0.8442857142857143},{\"x\":0.42,\"y\":0.8442857142857143},{\"x\":0.42,\"y\":0.8457142857142858},{\"x\":0.42,\"y\":0.8471428571428572},{\"x\":0.42,\"y\":0.8485714285714285},{\"x\":0.42,\"y\":0.85},{\"x\":0.42,\"y\":0.8514285714285714},{\"x\":0.42,\"y\":0.8528571428571429},{\"x\":0.42333333333333334,\"y\":0.8528571428571429},{\"x\":0.4266666666666667,\"y\":0.8528571428571429},{\"x\":0.43,\"y\":0.8528571428571429},{\"x\":0.43333333333333335,\"y\":0.8528571428571429},{\"x\":0.43333333333333335,\"y\":0.8542857142857143},{\"x\":0.43333333333333335,\"y\":0.8557142857142858},{\"x\":0.43333333333333335,\"y\":0.8571428571428571},{\"x\":0.43666666666666665,\"y\":0.8571428571428571},{\"x\":0.44,\"y\":0.8571428571428571},{\"x\":0.44333333333333336,\"y\":0.8571428571428571},{\"x\":0.44333333333333336,\"y\":0.8585714285714285},{\"x\":0.44333333333333336,\"y\":0.86},{\"x\":0.44666666666666666,\"y\":0.86},{\"x\":0.45,\"y\":0.86},{\"x\":0.4533333333333333,\"y\":0.86},{\"x\":0.4533333333333333,\"y\":0.8614285714285714},{\"x\":0.4533333333333333,\"y\":0.8628571428571429},{\"x\":0.4533333333333333,\"y\":0.8642857142857143},{\"x\":0.4533333333333333,\"y\":0.8657142857142858},{\"x\":0.4533333333333333,\"y\":0.8671428571428571},{\"x\":0.4533333333333333,\"y\":0.8685714285714285},{\"x\":0.4533333333333333,\"y\":0.87},{\"x\":0.4533333333333333,\"y\":0.8714285714285714},{\"x\":0.4533333333333333,\"y\":0.8728571428571429},{\"x\":0.4533333333333333,\"y\":0.8742857142857143},{\"x\":0.45666666666666667,\"y\":0.8742857142857143},{\"x\":0.46,\"y\":0.8742857142857143},{\"x\":0.4633333333333333,\"y\":0.8742857142857143},{\"x\":0.4666666666666667,\"y\":0.8742857142857143},{\"x\":0.4666666666666667,\"y\":0.8757142857142857},{\"x\":0.4666666666666667,\"y\":0.8771428571428571},{\"x\":0.47,\"y\":0.8771428571428571},{\"x\":0.47,\"y\":0.8785714285714286},{\"x\":0.47333333333333333,\"y\":0.8785714285714286},{\"x\":0.47333333333333333,\"y\":0.88},{\"x\":0.4766666666666667,\"y\":0.88},{\"x\":0.48,\"y\":0.88},{\"x\":0.48333333333333334,\"y\":0.88},{\"x\":0.4866666666666667,\"y\":0.88},{\"x\":0.4866666666666667,\"y\":0.8814285714285715},{\"x\":0.49,\"y\":0.8814285714285715},{\"x\":0.49,\"y\":0.8828571428571429},{\"x\":0.49333333333333335,\"y\":0.8828571428571429},{\"x\":0.49666666666666665,\"y\":0.8828571428571429},{\"x\":0.5,\"y\":0.8828571428571429},{\"x\":0.5033333333333333,\"y\":0.8828571428571429},{\"x\":0.5066666666666667,\"y\":0.8828571428571429},{\"x\":0.51,\"y\":0.8828571428571429},{\"x\":0.51,\"y\":0.8842857142857142},{\"x\":0.51,\"y\":0.8857142857142857},{\"x\":0.51,\"y\":0.8871428571428571},{\"x\":0.51,\"y\":0.8885714285714286},{\"x\":0.51,\"y\":0.89},{\"x\":0.5133333333333333,\"y\":0.89},{\"x\":0.5133333333333333,\"y\":0.8914285714285715},{\"x\":0.5166666666666667,\"y\":0.8914285714285715},{\"x\":0.5166666666666667,\"y\":0.8928571428571429},{\"x\":0.52,\"y\":0.8928571428571429},{\"x\":0.5233333333333333,\"y\":0.8928571428571429},{\"x\":0.5233333333333333,\"y\":0.8942857142857142},{\"x\":0.5233333333333333,\"y\":0.8957142857142857},{\"x\":0.5266666666666666,\"y\":0.8957142857142857},{\"x\":0.5266666666666666,\"y\":0.8971428571428571},{\"x\":0.53,\"y\":0.8971428571428571},{\"x\":0.53,\"y\":0.8985714285714286},{\"x\":0.53,\"y\":0.9},{\"x\":0.5333333333333333,\"y\":0.9},{\"x\":0.5366666666666666,\"y\":0.9},{\"x\":0.5366666666666666,\"y\":0.9014285714285715},{\"x\":0.54,\"y\":0.9014285714285715},{\"x\":0.54,\"y\":0.9028571428571428},{\"x\":0.54,\"y\":0.9042857142857142},{\"x\":0.5433333333333333,\"y\":0.9042857142857142},{\"x\":0.5466666666666666,\"y\":0.9042857142857142},{\"x\":0.5466666666666666,\"y\":0.9057142857142857},{\"x\":0.5466666666666666,\"y\":0.9071428571428571},{\"x\":0.55,\"y\":0.9071428571428571},{\"x\":0.5533333333333333,\"y\":0.9071428571428571},{\"x\":0.5533333333333333,\"y\":0.9085714285714286},{\"x\":0.5533333333333333,\"y\":0.91},{\"x\":0.5566666666666666,\"y\":0.91},{\"x\":0.56,\"y\":0.91},{\"x\":0.56,\"y\":0.9114285714285715},{\"x\":0.5633333333333334,\"y\":0.9114285714285715},{\"x\":0.5666666666666667,\"y\":0.9114285714285715},{\"x\":0.57,\"y\":0.9114285714285715},{\"x\":0.5733333333333334,\"y\":0.9114285714285715},{\"x\":0.5733333333333334,\"y\":0.9128571428571428},{\"x\":0.5766666666666667,\"y\":0.9128571428571428},{\"x\":0.5766666666666667,\"y\":0.9142857142857143},{\"x\":0.5766666666666667,\"y\":0.9157142857142857},{\"x\":0.58,\"y\":0.9157142857142857},{\"x\":0.5833333333333334,\"y\":0.9157142857142857},{\"x\":0.5833333333333334,\"y\":0.9171428571428571},{\"x\":0.5833333333333334,\"y\":0.9185714285714286},{\"x\":0.5866666666666667,\"y\":0.9185714285714286},{\"x\":0.5866666666666667,\"y\":0.92},{\"x\":0.59,\"y\":0.92},{\"x\":0.5933333333333334,\"y\":0.92},{\"x\":0.5933333333333334,\"y\":0.9214285714285714},{\"x\":0.5933333333333334,\"y\":0.9228571428571428},{\"x\":0.5933333333333334,\"y\":0.9242857142857143},{\"x\":0.5966666666666667,\"y\":0.9242857142857143},{\"x\":0.5966666666666667,\"y\":0.9257142857142857},{\"x\":0.5966666666666667,\"y\":0.9271428571428572},{\"x\":0.6,\"y\":0.9271428571428572},{\"x\":0.6,\"y\":0.9285714285714286},{\"x\":0.6,\"y\":0.93},{\"x\":0.6,\"y\":0.9314285714285714},{\"x\":0.6033333333333334,\"y\":0.9314285714285714},{\"x\":0.6066666666666667,\"y\":0.9314285714285714},{\"x\":0.6066666666666667,\"y\":0.9328571428571428},{\"x\":0.6066666666666667,\"y\":0.9342857142857143},{\"x\":0.61,\"y\":0.9342857142857143},{\"x\":0.6133333333333333,\"y\":0.9342857142857143},{\"x\":0.6166666666666667,\"y\":0.9342857142857143},{\"x\":0.62,\"y\":0.9342857142857143},{\"x\":0.62,\"y\":0.9357142857142857},{\"x\":0.6233333333333333,\"y\":0.9357142857142857},{\"x\":0.6266666666666667,\"y\":0.9357142857142857},{\"x\":0.63,\"y\":0.9357142857142857},{\"x\":0.6333333333333333,\"y\":0.9357142857142857},{\"x\":0.6333333333333333,\"y\":0.9371428571428572},{\"x\":0.6333333333333333,\"y\":0.9385714285714286},{\"x\":0.6333333333333333,\"y\":0.94},{\"x\":0.6366666666666667,\"y\":0.94},{\"x\":0.64,\"y\":0.94},{\"x\":0.6433333333333333,\"y\":0.94},{\"x\":0.6466666666666666,\"y\":0.94},{\"x\":0.6466666666666666,\"y\":0.9414285714285714},{\"x\":0.65,\"y\":0.9414285714285714},{\"x\":0.65,\"y\":0.9428571428571428},{\"x\":0.6533333333333333,\"y\":0.9428571428571428},{\"x\":0.6533333333333333,\"y\":0.9442857142857143},{\"x\":0.6533333333333333,\"y\":0.9457142857142857},{\"x\":0.6566666666666666,\"y\":0.9457142857142857},{\"x\":0.66,\"y\":0.9457142857142857},{\"x\":0.6633333333333333,\"y\":0.9457142857142857},{\"x\":0.6666666666666666,\"y\":0.9457142857142857},{\"x\":0.67,\"y\":0.9457142857142857},{\"x\":0.6733333333333333,\"y\":0.9457142857142857},{\"x\":0.6766666666666666,\"y\":0.9457142857142857},{\"x\":0.68,\"y\":0.9457142857142857},{\"x\":0.6833333333333333,\"y\":0.9457142857142857},{\"x\":0.6833333333333333,\"y\":0.9471428571428572},{\"x\":0.6866666666666666,\"y\":0.9471428571428572},{\"x\":0.6866666666666666,\"y\":0.9485714285714286},{\"x\":0.69,\"y\":0.9485714285714286},{\"x\":0.6933333333333334,\"y\":0.9485714285714286},{\"x\":0.6933333333333334,\"y\":0.95},{\"x\":0.6966666666666667,\"y\":0.95},{\"x\":0.7,\"y\":0.95},{\"x\":0.7,\"y\":0.9514285714285714},{\"x\":0.7033333333333334,\"y\":0.9514285714285714},{\"x\":0.7066666666666667,\"y\":0.9514285714285714},{\"x\":0.7066666666666667,\"y\":0.9528571428571428},{\"x\":0.7066666666666667,\"y\":0.9542857142857143},{\"x\":0.7066666666666667,\"y\":0.9557142857142857},{\"x\":0.7066666666666667,\"y\":0.9571428571428572},{\"x\":0.71,\"y\":0.9571428571428572},{\"x\":0.71,\"y\":0.9585714285714285},{\"x\":0.7133333333333334,\"y\":0.9585714285714285},{\"x\":0.7166666666666667,\"y\":0.9585714285714285},{\"x\":0.72,\"y\":0.9585714285714285},{\"x\":0.7233333333333334,\"y\":0.9585714285714285},{\"x\":0.7266666666666667,\"y\":0.9585714285714285},{\"x\":0.73,\"y\":0.9585714285714285},{\"x\":0.7333333333333333,\"y\":0.9585714285714285},{\"x\":0.7366666666666667,\"y\":0.9585714285714285},{\"x\":0.74,\"y\":0.9585714285714285},{\"x\":0.7433333333333333,\"y\":0.9585714285714285},{\"x\":0.7433333333333333,\"y\":0.96},{\"x\":0.7466666666666667,\"y\":0.96},{\"x\":0.75,\"y\":0.96},{\"x\":0.75,\"y\":0.9614285714285714},{\"x\":0.7533333333333333,\"y\":0.9614285714285714},{\"x\":0.7566666666666667,\"y\":0.9614285714285714},{\"x\":0.7566666666666667,\"y\":0.9628571428571429},{\"x\":0.76,\"y\":0.9628571428571429},{\"x\":0.76,\"y\":0.9642857142857143},{\"x\":0.76,\"y\":0.9657142857142857},{\"x\":0.7633333333333333,\"y\":0.9657142857142857},{\"x\":0.7666666666666667,\"y\":0.9657142857142857},{\"x\":0.77,\"y\":0.9657142857142857},{\"x\":0.7733333333333333,\"y\":0.9657142857142857},{\"x\":0.7766666666666666,\"y\":0.9657142857142857},{\"x\":0.78,\"y\":0.9657142857142857},{\"x\":0.78,\"y\":0.9671428571428572},{\"x\":0.78,\"y\":0.9685714285714285},{\"x\":0.7833333333333333,\"y\":0.9685714285714285},{\"x\":0.7833333333333333,\"y\":0.97},{\"x\":0.7866666666666666,\"y\":0.97},{\"x\":0.79,\"y\":0.97},{\"x\":0.7933333333333333,\"y\":0.97},{\"x\":0.7933333333333333,\"y\":0.9714285714285714},{\"x\":0.7933333333333333,\"y\":0.9728571428571429},{\"x\":0.7966666666666666,\"y\":0.9728571428571429},{\"x\":0.7966666666666666,\"y\":0.9742857142857143},{\"x\":0.8,\"y\":0.9742857142857143},{\"x\":0.8033333333333333,\"y\":0.9742857142857143},{\"x\":0.8066666666666666,\"y\":0.9742857142857143},{\"x\":0.8066666666666666,\"y\":0.9757142857142858},{\"x\":0.81,\"y\":0.9757142857142858},{\"x\":0.81,\"y\":0.9771428571428571},{\"x\":0.8133333333333334,\"y\":0.9771428571428571},{\"x\":0.8166666666666667,\"y\":0.9771428571428571},{\"x\":0.82,\"y\":0.9771428571428571},{\"x\":0.82,\"y\":0.9785714285714285},{\"x\":0.8233333333333334,\"y\":0.9785714285714285},{\"x\":0.8233333333333334,\"y\":0.98},{\"x\":0.8266666666666667,\"y\":0.98},{\"x\":0.83,\"y\":0.98},{\"x\":0.8333333333333334,\"y\":0.98},{\"x\":0.8366666666666667,\"y\":0.98},{\"x\":0.84,\"y\":0.98},{\"x\":0.8433333333333334,\"y\":0.98},{\"x\":0.8466666666666667,\"y\":0.98},{\"x\":0.85,\"y\":0.98},{\"x\":0.85,\"y\":0.9814285714285714},{\"x\":0.85,\"y\":0.9828571428571429},{\"x\":0.8533333333333334,\"y\":0.9828571428571429},{\"x\":0.8566666666666667,\"y\":0.9828571428571429},{\"x\":0.8566666666666667,\"y\":0.9842857142857143},{\"x\":0.8566666666666667,\"y\":0.9857142857142858},{\"x\":0.86,\"y\":0.9857142857142858},{\"x\":0.86,\"y\":0.9871428571428571},{\"x\":0.8633333333333333,\"y\":0.9871428571428571},{\"x\":0.8666666666666667,\"y\":0.9871428571428571},{\"x\":0.87,\"y\":0.9871428571428571},{\"x\":0.8733333333333333,\"y\":0.9871428571428571},{\"x\":0.8766666666666667,\"y\":0.9871428571428571},{\"x\":0.88,\"y\":0.9871428571428571},{\"x\":0.8833333333333333,\"y\":0.9871428571428571},{\"x\":0.8866666666666667,\"y\":0.9871428571428571},{\"x\":0.89,\"y\":0.9871428571428571},{\"x\":0.8933333333333333,\"y\":0.9871428571428571},{\"x\":0.8933333333333333,\"y\":0.9885714285714285},{\"x\":0.8933333333333333,\"y\":0.99},{\"x\":0.8966666666666666,\"y\":0.99},{\"x\":0.9,\"y\":0.99},{\"x\":0.9033333333333333,\"y\":0.99},{\"x\":0.9033333333333333,\"y\":0.9914285714285714},{\"x\":0.9066666666666666,\"y\":0.9914285714285714},{\"x\":0.9066666666666666,\"y\":0.9928571428571429},{\"x\":0.91,\"y\":0.9928571428571429},{\"x\":0.9133333333333333,\"y\":0.9928571428571429},{\"x\":0.9166666666666666,\"y\":0.9928571428571429},{\"x\":0.9166666666666666,\"y\":0.9942857142857143},{\"x\":0.92,\"y\":0.9942857142857143},{\"x\":0.9233333333333333,\"y\":0.9942857142857143},{\"x\":0.9266666666666666,\"y\":0.9942857142857143},{\"x\":0.93,\"y\":0.9942857142857143},{\"x\":0.9333333333333333,\"y\":0.9942857142857143},{\"x\":0.9333333333333333,\"y\":0.9957142857142857},{\"x\":0.9366666666666666,\"y\":0.9957142857142857},{\"x\":0.94,\"y\":0.9957142857142857},{\"x\":0.9433333333333334,\"y\":0.9957142857142857},{\"x\":0.9433333333333334,\"y\":0.9971428571428571},{\"x\":0.9466666666666667,\"y\":0.9971428571428571},{\"x\":0.95,\"y\":0.9971428571428571},{\"x\":0.9533333333333334,\"y\":0.9971428571428571},{\"x\":0.9566666666666667,\"y\":0.9971428571428571},{\"x\":0.96,\"y\":0.9971428571428571},{\"x\":0.9633333333333334,\"y\":0.9971428571428571},{\"x\":0.9666666666666667,\"y\":0.9971428571428571},{\"x\":0.97,\"y\":0.9971428571428571},{\"x\":0.9733333333333334,\"y\":0.9971428571428571},{\"x\":0.9733333333333334,\"y\":0.9985714285714286},{\"x\":0.9766666666666667,\"y\":0.9985714285714286},{\"x\":0.98,\"y\":0.9985714285714286},{\"x\":0.9833333333333333,\"y\":0.9985714285714286},{\"x\":0.9866666666666667,\"y\":0.9985714285714286},{\"x\":0.99,\"y\":0.9985714285714286},{\"x\":0.99,\"y\":1.0},{\"x\":0.9933333333333333,\"y\":1.0},{\"x\":0.9966666666666667,\"y\":1.0},{\"x\":1.0,\"y\":1.0}],\"1d748c17-7e7d-40a0-89cd-e27f1cac7675\":[{\"data0\":0,\"data1\":0},{\"data0\":1,\"data1\":1}]},\"extension\":[]}\n",
       "        var id_name = '#vis-2d12be63-bb0f-48fe-adca-35bd202cceca';\n",
       "        Nyaplot.core.parse(model, id_name);\n",
       "\n",
       "        require(['downloadable'], function(downloadable){\n",
       "          var svg = d3.select(id_name).select(\"svg\");\n",
       "\t  if(!svg.empty())\n",
       "\t    svg.call(downloadable().filename('fig'));\n",
       "\t});\n",
       "    };\n",
       "    if(window['Nyaplot']==undefined){\n",
       "        window.addEventListener('load_nyaplot', render, false);\n",
       "\treturn;\n",
       "    } else {\n",
       "       render();\n",
       "    }\n",
       "})();\n",
       "</script>\n"
      ],
      "text/plain": [
       "#<Nyaplot::Frame:0x000055d903f00c80 @properties={:panes=>[#<Nyaplot::Plot:0x000055d903c5d2d0 @properties={:diagrams=>[#<Nyaplot::Diagram:0x000055d903f083b8 @properties={:type=>:line, :options=>{:x=>:x, :y=>:y}, :data=>\"320b9940-6b62-41f6-8409-4b59ea63e491\"}, @xrange=[0.0, 1.0], @yrange=[0.0, 1.0]>, #<Nyaplot::Diagram:0x000055d903f01cc0 @properties={:type=>:line, :options=>{:x=>\"data0\", :y=>\"data1\", :color=>:gray}, :data=>\"1d748c17-7e7d-40a0-89cd-e27f1cac7675\"}, @xrange=[0, 1], @yrange=[0, 1]>], :options=>{:x_label=>\"False Positive Rate\", :y_label=>\"True Positive Rate\", :zoom=>true, :width=>700, :xrange=>[0.0, 1.0], :yrange=>[0.0, 1.0]}}>], :data=>{\"320b9940-6b62-41f6-8409-4b59ea63e491\"=>#<Nyaplot::DataFrame:0x000055d902560bb8 @name=\"320b9940-6b62-41f6-8409-4b59ea63e491\", @rows=[{:x=>0.0, :y=>0.0}, {:x=>0.0, :y=>0.0014285714285714286}, {:x=>0.0, :y=>0.002857142857142857}, {:x=>0.0, :y=>0.004285714285714286}, {:x=>0.0, :y=>0.005714285714285714}, {:x=>0.0, :y=>0.007142857142857143}, {:x=>0.0, :y=>0.008571428571428572}, {:x=>0.0, :y=>0.01}, {:x=>0.0, :y=>0.011428571428571429}, {:x=>0.0, :y=>0.012857142857142857}, {:x=>0.0, :y=>0.014285714285714285}, {:x=>0.0, :y=>0.015714285714285715}, {:x=>0.0, :y=>0.017142857142857144}, {:x=>0.0, :y=>0.018571428571428572}, {:x=>0.0, :y=>0.02}, {:x=>0.0, :y=>0.02142857142857143}, {:x=>0.0, :y=>0.022857142857142857}, {:x=>0.0, :y=>0.024285714285714285}, {:x=>0.0, :y=>0.025714285714285714}, {:x=>0.0, :y=>0.027142857142857142}, {:x=>0.0, :y=>0.02857142857142857}, {:x=>0.0, :y=>0.03}, {:x=>0.0, :y=>0.03142857142857143}, {:x=>0.0, :y=>0.032857142857142856}, {:x=>0.0, :y=>0.03428571428571429}, {:x=>0.0, :y=>0.03571428571428571}, {:x=>0.0, :y=>0.037142857142857144}, {:x=>0.0, :y=>0.03857142857142857}, {:x=>0.0, :y=>0.04}, {:x=>0.0, :y=>0.041428571428571426}, {:x=>0.0, :y=>0.04285714285714286}, {:x=>0.0, :y=>0.04428571428571428}, {:x=>0.0, :y=>0.045714285714285714}, {:x=>0.0, :y=>0.047142857142857146}, {:x=>0.0, :y=>0.04857142857142857}, {:x=>0.0, :y=>0.05}, {:x=>0.0, :y=>0.05142857142857143}, {:x=>0.0, :y=>0.05285714285714286}, {:x=>0.0, :y=>0.054285714285714284}, {:x=>0.0, :y=>0.055714285714285716}, {:x=>0.0, :y=>0.05714285714285714}, {:x=>0.0, :y=>0.05857142857142857}, {:x=>0.0, :y=>0.06}, {:x=>0.0, :y=>0.06142857142857143}, {:x=>0.0, :y=>0.06285714285714286}, {:x=>0.0, :y=>0.06428571428571428}, {:x=>0.0, :y=>0.06571428571428571}, {:x=>0.0, :y=>0.06714285714285714}, {:x=>0.0, :y=>0.06857142857142857}, {:x=>0.0, :y=>0.07}, {:x=>0.0, :y=>0.07142857142857142}, {:x=>0.0, :y=>0.07285714285714286}, {:x=>0.0, :y=>0.07428571428571429}, {:x=>0.0, :y=>0.07571428571428572}, {:x=>0.0, :y=>0.07714285714285714}, {:x=>0.0, :y=>0.07857142857142857}, {:x=>0.0, :y=>0.08}, {:x=>0.0, :y=>0.08142857142857143}, {:x=>0.0, :y=>0.08285714285714285}, {:x=>0.0, :y=>0.08428571428571428}, {:x=>0.0, :y=>0.08571428571428572}, {:x=>0.0, :y=>0.08714285714285715}, {:x=>0.0, :y=>0.08857142857142856}, {:x=>0.0, :y=>0.09}, {:x=>0.0, :y=>0.09142857142857143}, {:x=>0.0, :y=>0.09285714285714286}, {:x=>0.0, :y=>0.09428571428571429}, {:x=>0.0, :y=>0.09571428571428571}, {:x=>0.0, :y=>0.09714285714285714}, {:x=>0.0, :y=>0.09857142857142857}, {:x=>0.0, :y=>0.1}, {:x=>0.0, :y=>0.10142857142857142}, {:x=>0.0, :y=>0.10285714285714286}, {:x=>0.0, :y=>0.10428571428571429}, {:x=>0.0, :y=>0.10571428571428572}, {:x=>0.0, :y=>0.10714285714285714}, {:x=>0.0, :y=>0.10857142857142857}, {:x=>0.0, :y=>0.11}, {:x=>0.0, :y=>0.11142857142857143}, {:x=>0.0, :y=>0.11285714285714285}, {:x=>0.0, :y=>0.11428571428571428}, {:x=>0.0, :y=>0.11571428571428571}, {:x=>0.0, :y=>0.11714285714285715}, {:x=>0.0, :y=>0.11857142857142858}, {:x=>0.0, :y=>0.12}, {:x=>0.0, :y=>0.12142857142857143}, {:x=>0.0, :y=>0.12285714285714286}, {:x=>0.0, :y=>0.12428571428571429}, {:x=>0.0, :y=>0.12571428571428572}, {:x=>0.0, :y=>0.12714285714285714}, {:x=>0.0, :y=>0.12857142857142856}, {:x=>0.0, :y=>0.13}, {:x=>0.0, :y=>0.13142857142857142}, {:x=>0.0, :y=>0.13285714285714287}, {:x=>0.0, :y=>0.13428571428571429}, {:x=>0.0, :y=>0.1357142857142857}, {:x=>0.0, :y=>0.13714285714285715}, {:x=>0.0, :y=>0.13857142857142857}, {:x=>0.0, :y=>0.14}, {:x=>0.0, :y=>0.14142857142857143}, {:x=>0.0, :y=>0.14285714285714285}, {:x=>0.0, :y=>0.1442857142857143}, {:x=>0.0, :y=>0.1457142857142857}, {:x=>0.0, :y=>0.14714285714285713}, {:x=>0.0, :y=>0.14857142857142858}, {:x=>0.0, :y=>0.15}, {:x=>0.0, :y=>0.15142857142857144}, {:x=>0.0, :y=>0.15285714285714286}, {:x=>0.0, :y=>0.15428571428571428}, {:x=>0.0033333333333333335, :y=>0.15428571428571428}, {:x=>0.0033333333333333335, :y=>0.15571428571428572}, {:x=>0.0033333333333333335, :y=>0.15714285714285714}, {:x=>0.0033333333333333335, :y=>0.15857142857142856}, {:x=>0.0033333333333333335, :y=>0.16}, {:x=>0.0033333333333333335, :y=>0.16142857142857142}, {:x=>0.0033333333333333335, :y=>0.16285714285714287}, {:x=>0.006666666666666667, :y=>0.16285714285714287}, {:x=>0.006666666666666667, :y=>0.16428571428571428}, {:x=>0.006666666666666667, :y=>0.1657142857142857}, {:x=>0.006666666666666667, :y=>0.16714285714285715}, {:x=>0.006666666666666667, :y=>0.16857142857142857}, {:x=>0.006666666666666667, :y=>0.17}, {:x=>0.006666666666666667, :y=>0.17142857142857143}, {:x=>0.006666666666666667, :y=>0.17285714285714285}, {:x=>0.006666666666666667, :y=>0.1742857142857143}, {:x=>0.006666666666666667, :y=>0.1757142857142857}, {:x=>0.006666666666666667, :y=>0.17714285714285713}, {:x=>0.006666666666666667, :y=>0.17857142857142858}, {:x=>0.006666666666666667, :y=>0.18}, {:x=>0.006666666666666667, :y=>0.18142857142857144}, {:x=>0.006666666666666667, :y=>0.18285714285714286}, {:x=>0.006666666666666667, :y=>0.18428571428571427}, {:x=>0.006666666666666667, :y=>0.18571428571428572}, {:x=>0.006666666666666667, :y=>0.18714285714285714}, {:x=>0.006666666666666667, :y=>0.18857142857142858}, {:x=>0.006666666666666667, :y=>0.19}, {:x=>0.006666666666666667, :y=>0.19142857142857142}, {:x=>0.006666666666666667, :y=>0.19285714285714287}, {:x=>0.006666666666666667, :y=>0.19428571428571428}, {:x=>0.006666666666666667, :y=>0.1957142857142857}, {:x=>0.006666666666666667, :y=>0.19714285714285715}, {:x=>0.006666666666666667, :y=>0.19857142857142857}, {:x=>0.006666666666666667, :y=>0.2}, {:x=>0.006666666666666667, :y=>0.20142857142857143}, {:x=>0.006666666666666667, :y=>0.20285714285714285}, {:x=>0.006666666666666667, :y=>0.2042857142857143}, {:x=>0.006666666666666667, :y=>0.2057142857142857}, {:x=>0.006666666666666667, :y=>0.20714285714285716}, {:x=>0.006666666666666667, :y=>0.20857142857142857}, {:x=>0.006666666666666667, :y=>0.21}, {:x=>0.006666666666666667, :y=>0.21142857142857144}, {:x=>0.006666666666666667, :y=>0.21285714285714286}, {:x=>0.006666666666666667, :y=>0.21428571428571427}, {:x=>0.006666666666666667, :y=>0.21571428571428572}, {:x=>0.006666666666666667, :y=>0.21714285714285714}, {:x=>0.006666666666666667, :y=>0.21857142857142858}, {:x=>0.006666666666666667, :y=>0.22}, {:x=>0.006666666666666667, :y=>0.22142857142857142}, {:x=>0.01, :y=>0.22142857142857142}, {:x=>0.01, :y=>0.22285714285714286}, {:x=>0.01, :y=>0.22428571428571428}, {:x=>0.013333333333333334, :y=>0.22428571428571428}, {:x=>0.013333333333333334, :y=>0.2257142857142857}, {:x=>0.013333333333333334, :y=>0.22714285714285715}, {:x=>0.013333333333333334, :y=>0.22857142857142856}, {:x=>0.013333333333333334, :y=>0.23}, {:x=>0.013333333333333334, :y=>0.23142857142857143}, {:x=>0.013333333333333334, :y=>0.23285714285714285}, {:x=>0.013333333333333334, :y=>0.2342857142857143}, {:x=>0.013333333333333334, :y=>0.2357142857142857}, {:x=>0.013333333333333334, :y=>0.23714285714285716}, {:x=>0.013333333333333334, :y=>0.23857142857142857}, {:x=>0.013333333333333334, :y=>0.24}, {:x=>0.016666666666666666, :y=>0.24}, {:x=>0.016666666666666666, :y=>0.24142857142857144}, {:x=>0.02, :y=>0.24142857142857144}, {:x=>0.023333333333333334, :y=>0.24142857142857144}, {:x=>0.023333333333333334, :y=>0.24285714285714285}, {:x=>0.023333333333333334, :y=>0.24428571428571427}, {:x=>0.023333333333333334, :y=>0.24571428571428572}, {:x=>0.023333333333333334, :y=>0.24714285714285714}, {:x=>0.023333333333333334, :y=>0.24857142857142858}, {:x=>0.023333333333333334, :y=>0.25}, {:x=>0.023333333333333334, :y=>0.25142857142857145}, {:x=>0.023333333333333334, :y=>0.25285714285714284}, {:x=>0.023333333333333334, :y=>0.2542857142857143}, {:x=>0.023333333333333334, :y=>0.2557142857142857}, {:x=>0.023333333333333334, :y=>0.2571428571428571}, {:x=>0.023333333333333334, :y=>0.25857142857142856}, {:x=>0.023333333333333334, :y=>0.26}, {:x=>0.023333333333333334, :y=>0.26142857142857145}, {:x=>0.023333333333333334, :y=>0.26285714285714284}, {:x=>0.023333333333333334, :y=>0.2642857142857143}, {:x=>0.023333333333333334, :y=>0.26571428571428574}, {:x=>0.023333333333333334, :y=>0.2671428571428571}, {:x=>0.023333333333333334, :y=>0.26857142857142857}, {:x=>0.023333333333333334, :y=>0.27}, {:x=>0.023333333333333334, :y=>0.2714285714285714}, {:x=>0.023333333333333334, :y=>0.27285714285714285}, {:x=>0.023333333333333334, :y=>0.2742857142857143}, {:x=>0.023333333333333334, :y=>0.2757142857142857}, {:x=>0.023333333333333334, :y=>0.27714285714285714}, {:x=>0.023333333333333334, :y=>0.2785714285714286}, {:x=>0.02666666666666667, :y=>0.2785714285714286}, {:x=>0.03, :y=>0.2785714285714286}, {:x=>0.03, :y=>0.28}, {:x=>0.03, :y=>0.2814285714285714}, {:x=>0.03, :y=>0.28285714285714286}, {:x=>0.03, :y=>0.2842857142857143}, {:x=>0.03, :y=>0.2857142857142857}, {:x=>0.03, :y=>0.28714285714285714}, {:x=>0.03, :y=>0.2885714285714286}, {:x=>0.03, :y=>0.29}, {:x=>0.03, :y=>0.2914285714285714}, {:x=>0.03, :y=>0.29285714285714287}, {:x=>0.03, :y=>0.29428571428571426}, {:x=>0.03333333333333333, :y=>0.29428571428571426}, {:x=>0.03333333333333333, :y=>0.2957142857142857}, {:x=>0.03333333333333333, :y=>0.29714285714285715}, {:x=>0.03333333333333333, :y=>0.2985714285714286}, {:x=>0.03333333333333333, :y=>0.3}, {:x=>0.03333333333333333, :y=>0.30142857142857143}, {:x=>0.03333333333333333, :y=>0.3028571428571429}, {:x=>0.03333333333333333, :y=>0.30428571428571427}, {:x=>0.03333333333333333, :y=>0.3057142857142857}, {:x=>0.03333333333333333, :y=>0.30714285714285716}, {:x=>0.03333333333333333, :y=>0.30857142857142855}, {:x=>0.03333333333333333, :y=>0.31}, {:x=>0.03333333333333333, :y=>0.31142857142857144}, {:x=>0.03333333333333333, :y=>0.31285714285714283}, {:x=>0.03333333333333333, :y=>0.3142857142857143}, {:x=>0.03333333333333333, :y=>0.3157142857142857}, {:x=>0.03333333333333333, :y=>0.3171428571428571}, {:x=>0.03333333333333333, :y=>0.31857142857142856}, {:x=>0.03666666666666667, :y=>0.31857142857142856}, {:x=>0.03666666666666667, :y=>0.32}, {:x=>0.03666666666666667, :y=>0.32142857142857145}, {:x=>0.03666666666666667, :y=>0.32285714285714284}, {:x=>0.03666666666666667, :y=>0.3242857142857143}, {:x=>0.04, :y=>0.3242857142857143}, {:x=>0.04, :y=>0.32571428571428573}, {:x=>0.043333333333333335, :y=>0.32571428571428573}, {:x=>0.043333333333333335, :y=>0.3271428571428571}, {:x=>0.04666666666666667, :y=>0.3271428571428571}, {:x=>0.05, :y=>0.3271428571428571}, {:x=>0.05, :y=>0.32857142857142857}, {:x=>0.05, :y=>0.33}, {:x=>0.05, :y=>0.3314285714285714}, {:x=>0.05, :y=>0.33285714285714285}, {:x=>0.05, :y=>0.3342857142857143}, {:x=>0.05333333333333334, :y=>0.3342857142857143}, {:x=>0.05333333333333334, :y=>0.3357142857142857}, {:x=>0.05333333333333334, :y=>0.33714285714285713}, {:x=>0.05333333333333334, :y=>0.3385714285714286}, {:x=>0.05333333333333334, :y=>0.34}, {:x=>0.05333333333333334, :y=>0.3414285714285714}, {:x=>0.056666666666666664, :y=>0.3414285714285714}, {:x=>0.056666666666666664, :y=>0.34285714285714286}, {:x=>0.056666666666666664, :y=>0.3442857142857143}, {:x=>0.056666666666666664, :y=>0.3457142857142857}, {:x=>0.056666666666666664, :y=>0.34714285714285714}, {:x=>0.056666666666666664, :y=>0.3485714285714286}, {:x=>0.06, :y=>0.3485714285714286}, {:x=>0.06, :y=>0.35}, {:x=>0.06, :y=>0.3514285714285714}, {:x=>0.06, :y=>0.35285714285714287}, {:x=>0.06, :y=>0.35428571428571426}, {:x=>0.06, :y=>0.3557142857142857}, {:x=>0.06, :y=>0.35714285714285715}, {:x=>0.06, :y=>0.3585714285714286}, {:x=>0.06, :y=>0.36}, {:x=>0.06, :y=>0.36142857142857143}, {:x=>0.06, :y=>0.3628571428571429}, {:x=>0.06, :y=>0.36428571428571427}, {:x=>0.06, :y=>0.3657142857142857}, {:x=>0.06, :y=>0.36714285714285716}, {:x=>0.06333333333333334, :y=>0.36714285714285716}, {:x=>0.06333333333333334, :y=>0.36857142857142855}, {:x=>0.06333333333333334, :y=>0.37}, {:x=>0.06333333333333334, :y=>0.37142857142857144}, {:x=>0.06333333333333334, :y=>0.37285714285714283}, {:x=>0.06333333333333334, :y=>0.3742857142857143}, {:x=>0.06333333333333334, :y=>0.3757142857142857}, {:x=>0.06333333333333334, :y=>0.37714285714285717}, {:x=>0.06333333333333334, :y=>0.37857142857142856}, {:x=>0.06333333333333334, :y=>0.38}, {:x=>0.06333333333333334, :y=>0.38142857142857145}, {:x=>0.06333333333333334, :y=>0.38285714285714284}, {:x=>0.06333333333333334, :y=>0.3842857142857143}, {:x=>0.06333333333333334, :y=>0.38571428571428573}, {:x=>0.06333333333333334, :y=>0.3871428571428571}, {:x=>0.06666666666666667, :y=>0.3871428571428571}, {:x=>0.06666666666666667, :y=>0.38857142857142857}, {:x=>0.06666666666666667, :y=>0.39}, {:x=>0.06666666666666667, :y=>0.3914285714285714}, {:x=>0.06666666666666667, :y=>0.39285714285714285}, {:x=>0.06666666666666667, :y=>0.3942857142857143}, {:x=>0.06666666666666667, :y=>0.39571428571428574}, {:x=>0.06666666666666667, :y=>0.39714285714285713}, {:x=>0.06666666666666667, :y=>0.3985714285714286}, {:x=>0.06666666666666667, :y=>0.4}, {:x=>0.06666666666666667, :y=>0.4014285714285714}, {:x=>0.06666666666666667, :y=>0.40285714285714286}, {:x=>0.06666666666666667, :y=>0.4042857142857143}, {:x=>0.06666666666666667, :y=>0.4057142857142857}, {:x=>0.06666666666666667, :y=>0.40714285714285714}, {:x=>0.07, :y=>0.40714285714285714}, {:x=>0.07, :y=>0.4085714285714286}, {:x=>0.07, :y=>0.41}, {:x=>0.07333333333333333, :y=>0.41}, {:x=>0.07666666666666666, :y=>0.41}, {:x=>0.07666666666666666, :y=>0.4114285714285714}, {:x=>0.08, :y=>0.4114285714285714}, {:x=>0.08, :y=>0.41285714285714287}, {:x=>0.08, :y=>0.4142857142857143}, {:x=>0.08333333333333333, :y=>0.4142857142857143}, {:x=>0.08333333333333333, :y=>0.4157142857142857}, {:x=>0.08333333333333333, :y=>0.41714285714285715}, {:x=>0.08333333333333333, :y=>0.4185714285714286}, {:x=>0.08333333333333333, :y=>0.42}, {:x=>0.08333333333333333, :y=>0.42142857142857143}, {:x=>0.08333333333333333, :y=>0.4228571428571429}, {:x=>0.08333333333333333, :y=>0.42428571428571427}, {:x=>0.08333333333333333, :y=>0.4257142857142857}, {:x=>0.08333333333333333, :y=>0.42714285714285716}, {:x=>0.08666666666666667, :y=>0.42714285714285716}, {:x=>0.08666666666666667, :y=>0.42857142857142855}, {:x=>0.08666666666666667, :y=>0.43}, {:x=>0.08666666666666667, :y=>0.43142857142857144}, {:x=>0.08666666666666667, :y=>0.4328571428571429}, {:x=>0.08666666666666667, :y=>0.4342857142857143}, {:x=>0.08666666666666667, :y=>0.4357142857142857}, {:x=>0.08666666666666667, :y=>0.43714285714285717}, {:x=>0.09, :y=>0.43714285714285717}, {:x=>0.09333333333333334, :y=>0.43714285714285717}, {:x=>0.09333333333333334, :y=>0.43857142857142856}, {:x=>0.09333333333333334, :y=>0.44}, {:x=>0.09333333333333334, :y=>0.44142857142857145}, {:x=>0.09333333333333334, :y=>0.44285714285714284}, {:x=>0.09666666666666666, :y=>0.44285714285714284}, {:x=>0.09666666666666666, :y=>0.4442857142857143}, {:x=>0.09666666666666666, :y=>0.44571428571428573}, {:x=>0.09666666666666666, :y=>0.4471428571428571}, {:x=>0.09666666666666666, :y=>0.44857142857142857}, {:x=>0.09666666666666666, :y=>0.45}, {:x=>0.09666666666666666, :y=>0.4514285714285714}, {:x=>0.09666666666666666, :y=>0.45285714285714285}, {:x=>0.1, :y=>0.45285714285714285}, {:x=>0.1, :y=>0.4542857142857143}, {:x=>0.1, :y=>0.45571428571428574}, {:x=>0.1, :y=>0.45714285714285713}, {:x=>0.10333333333333333, :y=>0.45714285714285713}, {:x=>0.10333333333333333, :y=>0.4585714285714286}, {:x=>0.10666666666666667, :y=>0.4585714285714286}, {:x=>0.10666666666666667, :y=>0.46}, {:x=>0.10666666666666667, :y=>0.4614285714285714}, {:x=>0.10666666666666667, :y=>0.46285714285714286}, {:x=>0.10666666666666667, :y=>0.4642857142857143}, {:x=>0.10666666666666667, :y=>0.4657142857142857}, {:x=>0.10666666666666667, :y=>0.46714285714285714}, {:x=>0.10666666666666667, :y=>0.4685714285714286}, {:x=>0.10666666666666667, :y=>0.47}, {:x=>0.10666666666666667, :y=>0.4714285714285714}, {:x=>0.10666666666666667, :y=>0.47285714285714286}, {:x=>0.10666666666666667, :y=>0.4742857142857143}, {:x=>0.11, :y=>0.4742857142857143}, {:x=>0.11, :y=>0.4757142857142857}, {:x=>0.11, :y=>0.47714285714285715}, {:x=>0.11, :y=>0.4785714285714286}, {:x=>0.11, :y=>0.48}, {:x=>0.11333333333333333, :y=>0.48}, {:x=>0.11333333333333333, :y=>0.48142857142857143}, {:x=>0.11333333333333333, :y=>0.4828571428571429}, {:x=>0.11333333333333333, :y=>0.48428571428571426}, {:x=>0.11333333333333333, :y=>0.4857142857142857}, {:x=>0.11666666666666667, :y=>0.4857142857142857}, {:x=>0.11666666666666667, :y=>0.48714285714285716}, {:x=>0.12, :y=>0.48714285714285716}, {:x=>0.12, :y=>0.48857142857142855}, {:x=>0.12, :y=>0.49}, {:x=>0.12, :y=>0.49142857142857144}, {:x=>0.12, :y=>0.4928571428571429}, {:x=>0.12, :y=>0.4942857142857143}, {:x=>0.12333333333333334, :y=>0.4942857142857143}, {:x=>0.12333333333333334, :y=>0.4957142857142857}, {:x=>0.12333333333333334, :y=>0.49714285714285716}, {:x=>0.12333333333333334, :y=>0.49857142857142855}, {:x=>0.12333333333333334, :y=>0.5}, {:x=>0.12333333333333334, :y=>0.5014285714285714}, {:x=>0.12666666666666668, :y=>0.5014285714285714}, {:x=>0.12666666666666668, :y=>0.5028571428571429}, {:x=>0.12666666666666668, :y=>0.5042857142857143}, {:x=>0.12666666666666668, :y=>0.5057142857142857}, {:x=>0.12666666666666668, :y=>0.5071428571428571}, {:x=>0.12666666666666668, :y=>0.5085714285714286}, {:x=>0.12666666666666668, :y=>0.51}, {:x=>0.12666666666666668, :y=>0.5114285714285715}, {:x=>0.12666666666666668, :y=>0.5128571428571429}, {:x=>0.13, :y=>0.5128571428571429}, {:x=>0.13, :y=>0.5142857142857142}, {:x=>0.13333333333333333, :y=>0.5142857142857142}, {:x=>0.13333333333333333, :y=>0.5157142857142857}, {:x=>0.13333333333333333, :y=>0.5171428571428571}, {:x=>0.13333333333333333, :y=>0.5185714285714286}, {:x=>0.13333333333333333, :y=>0.52}, {:x=>0.13666666666666666, :y=>0.52}, {:x=>0.13666666666666666, :y=>0.5214285714285715}, {:x=>0.13666666666666666, :y=>0.5228571428571429}, {:x=>0.13666666666666666, :y=>0.5242857142857142}, {:x=>0.13666666666666666, :y=>0.5257142857142857}, {:x=>0.13666666666666666, :y=>0.5271428571428571}, {:x=>0.13666666666666666, :y=>0.5285714285714286}, {:x=>0.13666666666666666, :y=>0.53}, {:x=>0.14, :y=>0.53}, {:x=>0.14333333333333334, :y=>0.53}, {:x=>0.14333333333333334, :y=>0.5314285714285715}, {:x=>0.14333333333333334, :y=>0.5328571428571428}, {:x=>0.14333333333333334, :y=>0.5342857142857143}, {:x=>0.14333333333333334, :y=>0.5357142857142857}, {:x=>0.14333333333333334, :y=>0.5371428571428571}, {:x=>0.14333333333333334, :y=>0.5385714285714286}, {:x=>0.14666666666666667, :y=>0.5385714285714286}, {:x=>0.14666666666666667, :y=>0.54}, {:x=>0.15, :y=>0.54}, {:x=>0.15, :y=>0.5414285714285715}, {:x=>0.15, :y=>0.5428571428571428}, {:x=>0.15333333333333332, :y=>0.5428571428571428}, {:x=>0.15333333333333332, :y=>0.5442857142857143}, {:x=>0.15666666666666668, :y=>0.5442857142857143}, {:x=>0.15666666666666668, :y=>0.5457142857142857}, {:x=>0.15666666666666668, :y=>0.5471428571428572}, {:x=>0.15666666666666668, :y=>0.5485714285714286}, {:x=>0.15666666666666668, :y=>0.55}, {:x=>0.15666666666666668, :y=>0.5514285714285714}, {:x=>0.15666666666666668, :y=>0.5528571428571428}, {:x=>0.15666666666666668, :y=>0.5542857142857143}, {:x=>0.16, :y=>0.5542857142857143}, {:x=>0.16, :y=>0.5557142857142857}, {:x=>0.16, :y=>0.5571428571428572}, {:x=>0.16333333333333333, :y=>0.5571428571428572}, {:x=>0.16333333333333333, :y=>0.5585714285714286}, {:x=>0.16333333333333333, :y=>0.56}, {:x=>0.16333333333333333, :y=>0.5614285714285714}, {:x=>0.16666666666666666, :y=>0.5614285714285714}, {:x=>0.16666666666666666, :y=>0.5628571428571428}, {:x=>0.17, :y=>0.5628571428571428}, {:x=>0.17, :y=>0.5642857142857143}, {:x=>0.17, :y=>0.5657142857142857}, {:x=>0.17, :y=>0.5671428571428572}, {:x=>0.17, :y=>0.5685714285714286}, {:x=>0.17, :y=>0.57}, {:x=>0.17, :y=>0.5714285714285714}, {:x=>0.17, :y=>0.5728571428571428}, {:x=>0.17, :y=>0.5742857142857143}, {:x=>0.17, :y=>0.5757142857142857}, {:x=>0.17, :y=>0.5771428571428572}, {:x=>0.17333333333333334, :y=>0.5771428571428572}, {:x=>0.17666666666666667, :y=>0.5771428571428572}, {:x=>0.18, :y=>0.5771428571428572}, {:x=>0.18, :y=>0.5785714285714286}, {:x=>0.18, :y=>0.58}, {:x=>0.18, :y=>0.5814285714285714}, {:x=>0.18, :y=>0.5828571428571429}, {:x=>0.18, :y=>0.5842857142857143}, {:x=>0.18, :y=>0.5857142857142857}, {:x=>0.18, :y=>0.5871428571428572}, {:x=>0.18, :y=>0.5885714285714285}, {:x=>0.18, :y=>0.59}, {:x=>0.18, :y=>0.5914285714285714}, {:x=>0.18333333333333332, :y=>0.5914285714285714}, {:x=>0.18333333333333332, :y=>0.5928571428571429}, {:x=>0.18333333333333332, :y=>0.5942857142857143}, {:x=>0.18333333333333332, :y=>0.5957142857142858}, {:x=>0.18666666666666668, :y=>0.5957142857142858}, {:x=>0.19, :y=>0.5957142857142858}, {:x=>0.19, :y=>0.5971428571428572}, {:x=>0.19, :y=>0.5985714285714285}, {:x=>0.19333333333333333, :y=>0.5985714285714285}, {:x=>0.19666666666666666, :y=>0.5985714285714285}, {:x=>0.19666666666666666, :y=>0.6}, {:x=>0.19666666666666666, :y=>0.6014285714285714}, {:x=>0.19666666666666666, :y=>0.6028571428571429}, {:x=>0.2, :y=>0.6028571428571429}, {:x=>0.2, :y=>0.6042857142857143}, {:x=>0.20333333333333334, :y=>0.6042857142857143}, {:x=>0.20333333333333334, :y=>0.6057142857142858}, {:x=>0.20666666666666667, :y=>0.6057142857142858}, {:x=>0.20666666666666667, :y=>0.6071428571428571}, {:x=>0.20666666666666667, :y=>0.6085714285714285}, {:x=>0.20666666666666667, :y=>0.61}, {:x=>0.20666666666666667, :y=>0.6114285714285714}, {:x=>0.20666666666666667, :y=>0.6128571428571429}, {:x=>0.21, :y=>0.6128571428571429}, {:x=>0.21, :y=>0.6142857142857143}, {:x=>0.21, :y=>0.6157142857142858}, {:x=>0.21333333333333335, :y=>0.6157142857142858}, {:x=>0.21333333333333335, :y=>0.6171428571428571}, {:x=>0.21333333333333335, :y=>0.6185714285714285}, {:x=>0.21333333333333335, :y=>0.62}, {:x=>0.21333333333333335, :y=>0.6214285714285714}, {:x=>0.21333333333333335, :y=>0.6228571428571429}, {:x=>0.21666666666666667, :y=>0.6228571428571429}, {:x=>0.21666666666666667, :y=>0.6242857142857143}, {:x=>0.22, :y=>0.6242857142857143}, {:x=>0.22, :y=>0.6257142857142857}, {:x=>0.22, :y=>0.6271428571428571}, {:x=>0.22, :y=>0.6285714285714286}, {:x=>0.22, :y=>0.63}, {:x=>0.22333333333333333, :y=>0.63}, {:x=>0.22333333333333333, :y=>0.6314285714285715}, {:x=>0.22666666666666666, :y=>0.6314285714285715}, {:x=>0.23, :y=>0.6314285714285715}, {:x=>0.23, :y=>0.6328571428571429}, {:x=>0.23, :y=>0.6342857142857142}, {:x=>0.23333333333333334, :y=>0.6342857142857142}, {:x=>0.23333333333333334, :y=>0.6357142857142857}, {:x=>0.23333333333333334, :y=>0.6371428571428571}, {:x=>0.23666666666666666, :y=>0.6371428571428571}, {:x=>0.23666666666666666, :y=>0.6385714285714286}, {:x=>0.23666666666666666, :y=>0.64}, {:x=>0.24, :y=>0.64}, {:x=>0.24333333333333335, :y=>0.64}, {:x=>0.24333333333333335, :y=>0.6414285714285715}, {:x=>0.24333333333333335, :y=>0.6428571428571429}, {:x=>0.24333333333333335, :y=>0.6442857142857142}, {:x=>0.24666666666666667, :y=>0.6442857142857142}, {:x=>0.24666666666666667, :y=>0.6457142857142857}, {:x=>0.24666666666666667, :y=>0.6471428571428571}, {:x=>0.24666666666666667, :y=>0.6485714285714286}, {:x=>0.24666666666666667, :y=>0.65}, {:x=>0.24666666666666667, :y=>0.6514285714285715}, {:x=>0.24666666666666667, :y=>0.6528571428571428}, {:x=>0.24666666666666667, :y=>0.6542857142857142}, {:x=>0.24666666666666667, :y=>0.6557142857142857}, {:x=>0.25, :y=>0.6557142857142857}, {:x=>0.25, :y=>0.6571428571428571}, {:x=>0.25, :y=>0.6585714285714286}, {:x=>0.25333333333333335, :y=>0.6585714285714286}, {:x=>0.25333333333333335, :y=>0.66}, {:x=>0.25333333333333335, :y=>0.6614285714285715}, {:x=>0.25333333333333335, :y=>0.6628571428571428}, {:x=>0.25666666666666665, :y=>0.6628571428571428}, {:x=>0.25666666666666665, :y=>0.6642857142857143}, {:x=>0.25666666666666665, :y=>0.6657142857142857}, {:x=>0.25666666666666665, :y=>0.6671428571428571}, {:x=>0.25666666666666665, :y=>0.6685714285714286}, {:x=>0.25666666666666665, :y=>0.67}, {:x=>0.25666666666666665, :y=>0.6714285714285714}, {:x=>0.25666666666666665, :y=>0.6728571428571428}, {:x=>0.26, :y=>0.6728571428571428}, {:x=>0.26, :y=>0.6742857142857143}, {:x=>0.26, :y=>0.6757142857142857}, {:x=>0.2633333333333333, :y=>0.6757142857142857}, {:x=>0.26666666666666666, :y=>0.6757142857142857}, {:x=>0.26666666666666666, :y=>0.6771428571428572}, {:x=>0.26666666666666666, :y=>0.6785714285714286}, {:x=>0.26666666666666666, :y=>0.68}, {:x=>0.26666666666666666, :y=>0.6814285714285714}, {:x=>0.27, :y=>0.6814285714285714}, {:x=>0.27, :y=>0.6828571428571428}, {:x=>0.2733333333333333, :y=>0.6828571428571428}, {:x=>0.2733333333333333, :y=>0.6842857142857143}, {:x=>0.2733333333333333, :y=>0.6857142857142857}, {:x=>0.2733333333333333, :y=>0.6871428571428572}, {:x=>0.2733333333333333, :y=>0.6885714285714286}, {:x=>0.2733333333333333, :y=>0.69}, {:x=>0.2733333333333333, :y=>0.6914285714285714}, {:x=>0.2733333333333333, :y=>0.6928571428571428}, {:x=>0.2733333333333333, :y=>0.6942857142857143}, {:x=>0.2733333333333333, :y=>0.6957142857142857}, {:x=>0.2733333333333333, :y=>0.6971428571428572}, {:x=>0.2733333333333333, :y=>0.6985714285714286}, {:x=>0.2733333333333333, :y=>0.7}, {:x=>0.27666666666666667, :y=>0.7}, {:x=>0.27666666666666667, :y=>0.7014285714285714}, {:x=>0.27666666666666667, :y=>0.7028571428571428}, {:x=>0.28, :y=>0.7028571428571428}, {:x=>0.28, :y=>0.7042857142857143}, {:x=>0.28, :y=>0.7057142857142857}, {:x=>0.28, :y=>0.7071428571428572}, {:x=>0.28, :y=>0.7085714285714285}, {:x=>0.28, :y=>0.71}, {:x=>0.28, :y=>0.7114285714285714}, {:x=>0.28, :y=>0.7128571428571429}, {:x=>0.28, :y=>0.7142857142857143}, {:x=>0.2833333333333333, :y=>0.7142857142857143}, {:x=>0.2833333333333333, :y=>0.7157142857142857}, {:x=>0.2833333333333333, :y=>0.7171428571428572}, {:x=>0.2833333333333333, :y=>0.7185714285714285}, {:x=>0.2866666666666667, :y=>0.7185714285714285}, {:x=>0.2866666666666667, :y=>0.72}, {:x=>0.2866666666666667, :y=>0.7214285714285714}, {:x=>0.29, :y=>0.7214285714285714}, {:x=>0.29, :y=>0.7228571428571429}, {:x=>0.29, :y=>0.7242857142857143}, {:x=>0.29, :y=>0.7257142857142858}, {:x=>0.29333333333333333, :y=>0.7257142857142858}, {:x=>0.2966666666666667, :y=>0.7257142857142858}, {:x=>0.3, :y=>0.7257142857142858}, {:x=>0.30333333333333334, :y=>0.7257142857142858}, {:x=>0.30333333333333334, :y=>0.7271428571428571}, {:x=>0.30666666666666664, :y=>0.7271428571428571}, {:x=>0.30666666666666664, :y=>0.7285714285714285}, {:x=>0.30666666666666664, :y=>0.73}, {:x=>0.31, :y=>0.73}, {:x=>0.31, :y=>0.7314285714285714}, {:x=>0.31333333333333335, :y=>0.7314285714285714}, {:x=>0.31333333333333335, :y=>0.7328571428571429}, {:x=>0.31333333333333335, :y=>0.7342857142857143}, {:x=>0.31333333333333335, :y=>0.7357142857142858}, {:x=>0.31666666666666665, :y=>0.7357142857142858}, {:x=>0.31666666666666665, :y=>0.7371428571428571}, {:x=>0.31666666666666665, :y=>0.7385714285714285}, {:x=>0.31666666666666665, :y=>0.74}, {:x=>0.31666666666666665, :y=>0.7414285714285714}, {:x=>0.31666666666666665, :y=>0.7428571428571429}, {:x=>0.31666666666666665, :y=>0.7442857142857143}, {:x=>0.31666666666666665, :y=>0.7457142857142857}, {:x=>0.32, :y=>0.7457142857142857}, {:x=>0.3233333333333333, :y=>0.7457142857142857}, {:x=>0.3233333333333333, :y=>0.7471428571428571}, {:x=>0.3233333333333333, :y=>0.7485714285714286}, {:x=>0.3233333333333333, :y=>0.75}, {:x=>0.3233333333333333, :y=>0.7514285714285714}, {:x=>0.3233333333333333, :y=>0.7528571428571429}, {:x=>0.3233333333333333, :y=>0.7542857142857143}, {:x=>0.3233333333333333, :y=>0.7557142857142857}, {:x=>0.3233333333333333, :y=>0.7571428571428571}, {:x=>0.3233333333333333, :y=>0.7585714285714286}, {:x=>0.3233333333333333, :y=>0.76}, {:x=>0.3233333333333333, :y=>0.7614285714285715}, {:x=>0.32666666666666666, :y=>0.7614285714285715}, {:x=>0.33, :y=>0.7614285714285715}, {:x=>0.33, :y=>0.7628571428571429}, {:x=>0.33, :y=>0.7642857142857142}, {:x=>0.33, :y=>0.7657142857142857}, {:x=>0.33, :y=>0.7671428571428571}, {:x=>0.33, :y=>0.7685714285714286}, {:x=>0.33, :y=>0.77}, {:x=>0.3333333333333333, :y=>0.77}, {:x=>0.33666666666666667, :y=>0.77}, {:x=>0.33666666666666667, :y=>0.7714285714285715}, {:x=>0.33666666666666667, :y=>0.7728571428571429}, {:x=>0.33666666666666667, :y=>0.7742857142857142}, {:x=>0.34, :y=>0.7742857142857142}, {:x=>0.3433333333333333, :y=>0.7742857142857142}, {:x=>0.3433333333333333, :y=>0.7757142857142857}, {:x=>0.3433333333333333, :y=>0.7771428571428571}, {:x=>0.3466666666666667, :y=>0.7771428571428571}, {:x=>0.3466666666666667, :y=>0.7785714285714286}, {:x=>0.3466666666666667, :y=>0.78}, {:x=>0.35, :y=>0.78}, {:x=>0.35, :y=>0.7814285714285715}, {:x=>0.35, :y=>0.7828571428571428}, {:x=>0.35, :y=>0.7842857142857143}, {:x=>0.35333333333333333, :y=>0.7842857142857143}, {:x=>0.35333333333333333, :y=>0.7857142857142857}, {:x=>0.35333333333333333, :y=>0.7871428571428571}, {:x=>0.35333333333333333, :y=>0.7885714285714286}, {:x=>0.35333333333333333, :y=>0.79}, {:x=>0.35333333333333333, :y=>0.7914285714285715}, {:x=>0.3566666666666667, :y=>0.7914285714285715}, {:x=>0.36, :y=>0.7914285714285715}, {:x=>0.36, :y=>0.7928571428571428}, {:x=>0.36, :y=>0.7942857142857143}, {:x=>0.36, :y=>0.7957142857142857}, {:x=>0.36, :y=>0.7971428571428572}, {:x=>0.36, :y=>0.7985714285714286}, {:x=>0.36333333333333334, :y=>0.7985714285714286}, {:x=>0.36333333333333334, :y=>0.8}, {:x=>0.36666666666666664, :y=>0.8}, {:x=>0.36666666666666664, :y=>0.8014285714285714}, {:x=>0.37, :y=>0.8014285714285714}, {:x=>0.37, :y=>0.8028571428571428}, {:x=>0.37333333333333335, :y=>0.8028571428571428}, {:x=>0.37333333333333335, :y=>0.8042857142857143}, {:x=>0.37333333333333335, :y=>0.8057142857142857}, {:x=>0.37333333333333335, :y=>0.8071428571428572}, {:x=>0.37666666666666665, :y=>0.8071428571428572}, {:x=>0.38, :y=>0.8071428571428572}, {:x=>0.38, :y=>0.8085714285714286}, {:x=>0.38, :y=>0.81}, {:x=>0.38, :y=>0.8114285714285714}, {:x=>0.38, :y=>0.8128571428571428}, {:x=>0.38, :y=>0.8142857142857143}, {:x=>0.38, :y=>0.8157142857142857}, {:x=>0.38333333333333336, :y=>0.8157142857142857}, {:x=>0.38333333333333336, :y=>0.8171428571428572}, {:x=>0.38333333333333336, :y=>0.8185714285714286}, {:x=>0.38333333333333336, :y=>0.82}, {:x=>0.38333333333333336, :y=>0.8214285714285714}, {:x=>0.38666666666666666, :y=>0.8214285714285714}, {:x=>0.39, :y=>0.8214285714285714}, {:x=>0.3933333333333333, :y=>0.8214285714285714}, {:x=>0.39666666666666667, :y=>0.8214285714285714}, {:x=>0.39666666666666667, :y=>0.8228571428571428}, {:x=>0.39666666666666667, :y=>0.8242857142857143}, {:x=>0.39666666666666667, :y=>0.8257142857142857}, {:x=>0.39666666666666667, :y=>0.8271428571428572}, {:x=>0.39666666666666667, :y=>0.8285714285714286}, {:x=>0.39666666666666667, :y=>0.83}, {:x=>0.4, :y=>0.83}, {:x=>0.4033333333333333, :y=>0.83}, {:x=>0.4066666666666667, :y=>0.83}, {:x=>0.4066666666666667, :y=>0.8314285714285714}, {:x=>0.4066666666666667, :y=>0.8328571428571429}, {:x=>0.41, :y=>0.8328571428571429}, {:x=>0.41, :y=>0.8342857142857143}, {:x=>0.41, :y=>0.8357142857142857}, {:x=>0.41, :y=>0.8371428571428572}, {:x=>0.41, :y=>0.8385714285714285}, {:x=>0.41, :y=>0.84}, {:x=>0.41, :y=>0.8414285714285714}, {:x=>0.41, :y=>0.8428571428571429}, {:x=>0.41333333333333333, :y=>0.8428571428571429}, {:x=>0.4166666666666667, :y=>0.8428571428571429}, {:x=>0.4166666666666667, :y=>0.8442857142857143}, {:x=>0.42, :y=>0.8442857142857143}, {:x=>0.42, :y=>0.8457142857142858}, {:x=>0.42, :y=>0.8471428571428572}, {:x=>0.42, :y=>0.8485714285714285}, {:x=>0.42, :y=>0.85}, {:x=>0.42, :y=>0.8514285714285714}, {:x=>0.42, :y=>0.8528571428571429}, {:x=>0.42333333333333334, :y=>0.8528571428571429}, {:x=>0.4266666666666667, :y=>0.8528571428571429}, {:x=>0.43, :y=>0.8528571428571429}, {:x=>0.43333333333333335, :y=>0.8528571428571429}, {:x=>0.43333333333333335, :y=>0.8542857142857143}, {:x=>0.43333333333333335, :y=>0.8557142857142858}, {:x=>0.43333333333333335, :y=>0.8571428571428571}, {:x=>0.43666666666666665, :y=>0.8571428571428571}, {:x=>0.44, :y=>0.8571428571428571}, {:x=>0.44333333333333336, :y=>0.8571428571428571}, {:x=>0.44333333333333336, :y=>0.8585714285714285}, {:x=>0.44333333333333336, :y=>0.86}, {:x=>0.44666666666666666, :y=>0.86}, {:x=>0.45, :y=>0.86}, {:x=>0.4533333333333333, :y=>0.86}, {:x=>0.4533333333333333, :y=>0.8614285714285714}, {:x=>0.4533333333333333, :y=>0.8628571428571429}, {:x=>0.4533333333333333, :y=>0.8642857142857143}, {:x=>0.4533333333333333, :y=>0.8657142857142858}, {:x=>0.4533333333333333, :y=>0.8671428571428571}, {:x=>0.4533333333333333, :y=>0.8685714285714285}, {:x=>0.4533333333333333, :y=>0.87}, {:x=>0.4533333333333333, :y=>0.8714285714285714}, {:x=>0.4533333333333333, :y=>0.8728571428571429}, {:x=>0.4533333333333333, :y=>0.8742857142857143}, {:x=>0.45666666666666667, :y=>0.8742857142857143}, {:x=>0.46, :y=>0.8742857142857143}, {:x=>0.4633333333333333, :y=>0.8742857142857143}, {:x=>0.4666666666666667, :y=>0.8742857142857143}, {:x=>0.4666666666666667, :y=>0.8757142857142857}, {:x=>0.4666666666666667, :y=>0.8771428571428571}, {:x=>0.47, :y=>0.8771428571428571}, {:x=>0.47, :y=>0.8785714285714286}, {:x=>0.47333333333333333, :y=>0.8785714285714286}, {:x=>0.47333333333333333, :y=>0.88}, {:x=>0.4766666666666667, :y=>0.88}, {:x=>0.48, :y=>0.88}, {:x=>0.48333333333333334, :y=>0.88}, {:x=>0.4866666666666667, :y=>0.88}, {:x=>0.4866666666666667, :y=>0.8814285714285715}, {:x=>0.49, :y=>0.8814285714285715}, {:x=>0.49, :y=>0.8828571428571429}, {:x=>0.49333333333333335, :y=>0.8828571428571429}, {:x=>0.49666666666666665, :y=>0.8828571428571429}, {:x=>0.5, :y=>0.8828571428571429}, {:x=>0.5033333333333333, :y=>0.8828571428571429}, {:x=>0.5066666666666667, :y=>0.8828571428571429}, {:x=>0.51, :y=>0.8828571428571429}, {:x=>0.51, :y=>0.8842857142857142}, {:x=>0.51, :y=>0.8857142857142857}, {:x=>0.51, :y=>0.8871428571428571}, {:x=>0.51, :y=>0.8885714285714286}, {:x=>0.51, :y=>0.89}, {:x=>0.5133333333333333, :y=>0.89}, {:x=>0.5133333333333333, :y=>0.8914285714285715}, {:x=>0.5166666666666667, :y=>0.8914285714285715}, {:x=>0.5166666666666667, :y=>0.8928571428571429}, {:x=>0.52, :y=>0.8928571428571429}, {:x=>0.5233333333333333, :y=>0.8928571428571429}, {:x=>0.5233333333333333, :y=>0.8942857142857142}, {:x=>0.5233333333333333, :y=>0.8957142857142857}, {:x=>0.5266666666666666, :y=>0.8957142857142857}, {:x=>0.5266666666666666, :y=>0.8971428571428571}, {:x=>0.53, :y=>0.8971428571428571}, {:x=>0.53, :y=>0.8985714285714286}, {:x=>0.53, :y=>0.9}, {:x=>0.5333333333333333, :y=>0.9}, {:x=>0.5366666666666666, :y=>0.9}, {:x=>0.5366666666666666, :y=>0.9014285714285715}, {:x=>0.54, :y=>0.9014285714285715}, {:x=>0.54, :y=>0.9028571428571428}, {:x=>0.54, :y=>0.9042857142857142}, {:x=>0.5433333333333333, :y=>0.9042857142857142}, {:x=>0.5466666666666666, :y=>0.9042857142857142}, {:x=>0.5466666666666666, :y=>0.9057142857142857}, {:x=>0.5466666666666666, :y=>0.9071428571428571}, {:x=>0.55, :y=>0.9071428571428571}, {:x=>0.5533333333333333, :y=>0.9071428571428571}, {:x=>0.5533333333333333, :y=>0.9085714285714286}, {:x=>0.5533333333333333, :y=>0.91}, {:x=>0.5566666666666666, :y=>0.91}, {:x=>0.56, :y=>0.91}, {:x=>0.56, :y=>0.9114285714285715}, {:x=>0.5633333333333334, :y=>0.9114285714285715}, {:x=>0.5666666666666667, :y=>0.9114285714285715}, {:x=>0.57, :y=>0.9114285714285715}, {:x=>0.5733333333333334, :y=>0.9114285714285715}, {:x=>0.5733333333333334, :y=>0.9128571428571428}, {:x=>0.5766666666666667, :y=>0.9128571428571428}, {:x=>0.5766666666666667, :y=>0.9142857142857143}, {:x=>0.5766666666666667, :y=>0.9157142857142857}, {:x=>0.58, :y=>0.9157142857142857}, {:x=>0.5833333333333334, :y=>0.9157142857142857}, {:x=>0.5833333333333334, :y=>0.9171428571428571}, {:x=>0.5833333333333334, :y=>0.9185714285714286}, {:x=>0.5866666666666667, :y=>0.9185714285714286}, {:x=>0.5866666666666667, :y=>0.92}, {:x=>0.59, :y=>0.92}, {:x=>0.5933333333333334, :y=>0.92}, {:x=>0.5933333333333334, :y=>0.9214285714285714}, {:x=>0.5933333333333334, :y=>0.9228571428571428}, {:x=>0.5933333333333334, :y=>0.9242857142857143}, {:x=>0.5966666666666667, :y=>0.9242857142857143}, {:x=>0.5966666666666667, :y=>0.9257142857142857}, {:x=>0.5966666666666667, :y=>0.9271428571428572}, {:x=>0.6, :y=>0.9271428571428572}, {:x=>0.6, :y=>0.9285714285714286}, {:x=>0.6, :y=>0.93}, {:x=>0.6, :y=>0.9314285714285714}, {:x=>0.6033333333333334, :y=>0.9314285714285714}, {:x=>0.6066666666666667, :y=>0.9314285714285714}, {:x=>0.6066666666666667, :y=>0.9328571428571428}, {:x=>0.6066666666666667, :y=>0.9342857142857143}, {:x=>0.61, :y=>0.9342857142857143}, {:x=>0.6133333333333333, :y=>0.9342857142857143}, {:x=>0.6166666666666667, :y=>0.9342857142857143}, {:x=>0.62, :y=>0.9342857142857143}, {:x=>0.62, :y=>0.9357142857142857}, {:x=>0.6233333333333333, :y=>0.9357142857142857}, {:x=>0.6266666666666667, :y=>0.9357142857142857}, {:x=>0.63, :y=>0.9357142857142857}, {:x=>0.6333333333333333, :y=>0.9357142857142857}, {:x=>0.6333333333333333, :y=>0.9371428571428572}, {:x=>0.6333333333333333, :y=>0.9385714285714286}, {:x=>0.6333333333333333, :y=>0.94}, {:x=>0.6366666666666667, :y=>0.94}, {:x=>0.64, :y=>0.94}, {:x=>0.6433333333333333, :y=>0.94}, {:x=>0.6466666666666666, :y=>0.94}, {:x=>0.6466666666666666, :y=>0.9414285714285714}, {:x=>0.65, :y=>0.9414285714285714}, {:x=>0.65, :y=>0.9428571428571428}, {:x=>0.6533333333333333, :y=>0.9428571428571428}, {:x=>0.6533333333333333, :y=>0.9442857142857143}, {:x=>0.6533333333333333, :y=>0.9457142857142857}, {:x=>0.6566666666666666, :y=>0.9457142857142857}, {:x=>0.66, :y=>0.9457142857142857}, {:x=>0.6633333333333333, :y=>0.9457142857142857}, {:x=>0.6666666666666666, :y=>0.9457142857142857}, {:x=>0.67, :y=>0.9457142857142857}, {:x=>0.6733333333333333, :y=>0.9457142857142857}, {:x=>0.6766666666666666, :y=>0.9457142857142857}, {:x=>0.68, :y=>0.9457142857142857}, {:x=>0.6833333333333333, :y=>0.9457142857142857}, {:x=>0.6833333333333333, :y=>0.9471428571428572}, {:x=>0.6866666666666666, :y=>0.9471428571428572}, {:x=>0.6866666666666666, :y=>0.9485714285714286}, {:x=>0.69, :y=>0.9485714285714286}, {:x=>0.6933333333333334, :y=>0.9485714285714286}, {:x=>0.6933333333333334, :y=>0.95}, {:x=>0.6966666666666667, :y=>0.95}, {:x=>0.7, :y=>0.95}, {:x=>0.7, :y=>0.9514285714285714}, {:x=>0.7033333333333334, :y=>0.9514285714285714}, {:x=>0.7066666666666667, :y=>0.9514285714285714}, {:x=>0.7066666666666667, :y=>0.9528571428571428}, {:x=>0.7066666666666667, :y=>0.9542857142857143}, {:x=>0.7066666666666667, :y=>0.9557142857142857}, {:x=>0.7066666666666667, :y=>0.9571428571428572}, {:x=>0.71, :y=>0.9571428571428572}, {:x=>0.71, :y=>0.9585714285714285}, {:x=>0.7133333333333334, :y=>0.9585714285714285}, {:x=>0.7166666666666667, :y=>0.9585714285714285}, {:x=>0.72, :y=>0.9585714285714285}, {:x=>0.7233333333333334, :y=>0.9585714285714285}, {:x=>0.7266666666666667, :y=>0.9585714285714285}, {:x=>0.73, :y=>0.9585714285714285}, {:x=>0.7333333333333333, :y=>0.9585714285714285}, {:x=>0.7366666666666667, :y=>0.9585714285714285}, {:x=>0.74, :y=>0.9585714285714285}, {:x=>0.7433333333333333, :y=>0.9585714285714285}, {:x=>0.7433333333333333, :y=>0.96}, {:x=>0.7466666666666667, :y=>0.96}, {:x=>0.75, :y=>0.96}, {:x=>0.75, :y=>0.9614285714285714}, {:x=>0.7533333333333333, :y=>0.9614285714285714}, {:x=>0.7566666666666667, :y=>0.9614285714285714}, {:x=>0.7566666666666667, :y=>0.9628571428571429}, {:x=>0.76, :y=>0.9628571428571429}, {:x=>0.76, :y=>0.9642857142857143}, {:x=>0.76, :y=>0.9657142857142857}, {:x=>0.7633333333333333, :y=>0.9657142857142857}, {:x=>0.7666666666666667, :y=>0.9657142857142857}, {:x=>0.77, :y=>0.9657142857142857}, {:x=>0.7733333333333333, :y=>0.9657142857142857}, {:x=>0.7766666666666666, :y=>0.9657142857142857}, {:x=>0.78, :y=>0.9657142857142857}, {:x=>0.78, :y=>0.9671428571428572}, {:x=>0.78, :y=>0.9685714285714285}, {:x=>0.7833333333333333, :y=>0.9685714285714285}, {:x=>0.7833333333333333, :y=>0.97}, {:x=>0.7866666666666666, :y=>0.97}, {:x=>0.79, :y=>0.97}, {:x=>0.7933333333333333, :y=>0.97}, {:x=>0.7933333333333333, :y=>0.9714285714285714}, {:x=>0.7933333333333333, :y=>0.9728571428571429}, {:x=>0.7966666666666666, :y=>0.9728571428571429}, {:x=>0.7966666666666666, :y=>0.9742857142857143}, {:x=>0.8, :y=>0.9742857142857143}, {:x=>0.8033333333333333, :y=>0.9742857142857143}, {:x=>0.8066666666666666, :y=>0.9742857142857143}, {:x=>0.8066666666666666, :y=>0.9757142857142858}, {:x=>0.81, :y=>0.9757142857142858}, {:x=>0.81, :y=>0.9771428571428571}, {:x=>0.8133333333333334, :y=>0.9771428571428571}, {:x=>0.8166666666666667, :y=>0.9771428571428571}, {:x=>0.82, :y=>0.9771428571428571}, {:x=>0.82, :y=>0.9785714285714285}, {:x=>0.8233333333333334, :y=>0.9785714285714285}, {:x=>0.8233333333333334, :y=>0.98}, {:x=>0.8266666666666667, :y=>0.98}, {:x=>0.83, :y=>0.98}, {:x=>0.8333333333333334, :y=>0.98}, {:x=>0.8366666666666667, :y=>0.98}, {:x=>0.84, :y=>0.98}, {:x=>0.8433333333333334, :y=>0.98}, {:x=>0.8466666666666667, :y=>0.98}, {:x=>0.85, :y=>0.98}, {:x=>0.85, :y=>0.9814285714285714}, {:x=>0.85, :y=>0.9828571428571429}, {:x=>0.8533333333333334, :y=>0.9828571428571429}, {:x=>0.8566666666666667, :y=>0.9828571428571429}, {:x=>0.8566666666666667, :y=>0.9842857142857143}, {:x=>0.8566666666666667, :y=>0.9857142857142858}, {:x=>0.86, :y=>0.9857142857142858}, {:x=>0.86, :y=>0.9871428571428571}, {:x=>0.8633333333333333, :y=>0.9871428571428571}, {:x=>0.8666666666666667, :y=>0.9871428571428571}, {:x=>0.87, :y=>0.9871428571428571}, {:x=>0.8733333333333333, :y=>0.9871428571428571}, {:x=>0.8766666666666667, :y=>0.9871428571428571}, {:x=>0.88, :y=>0.9871428571428571}, {:x=>0.8833333333333333, :y=>0.9871428571428571}, {:x=>0.8866666666666667, :y=>0.9871428571428571}, {:x=>0.89, :y=>0.9871428571428571}, {:x=>0.8933333333333333, :y=>0.9871428571428571}, {:x=>0.8933333333333333, :y=>0.9885714285714285}, {:x=>0.8933333333333333, :y=>0.99}, {:x=>0.8966666666666666, :y=>0.99}, {:x=>0.9, :y=>0.99}, {:x=>0.9033333333333333, :y=>0.99}, {:x=>0.9033333333333333, :y=>0.9914285714285714}, {:x=>0.9066666666666666, :y=>0.9914285714285714}, {:x=>0.9066666666666666, :y=>0.9928571428571429}, {:x=>0.91, :y=>0.9928571428571429}, {:x=>0.9133333333333333, :y=>0.9928571428571429}, {:x=>0.9166666666666666, :y=>0.9928571428571429}, {:x=>0.9166666666666666, :y=>0.9942857142857143}, {:x=>0.92, :y=>0.9942857142857143}, {:x=>0.9233333333333333, :y=>0.9942857142857143}, {:x=>0.9266666666666666, :y=>0.9942857142857143}, {:x=>0.93, :y=>0.9942857142857143}, {:x=>0.9333333333333333, :y=>0.9942857142857143}, {:x=>0.9333333333333333, :y=>0.9957142857142857}, {:x=>0.9366666666666666, :y=>0.9957142857142857}, {:x=>0.94, :y=>0.9957142857142857}, {:x=>0.9433333333333334, :y=>0.9957142857142857}, {:x=>0.9433333333333334, :y=>0.9971428571428571}, {:x=>0.9466666666666667, :y=>0.9971428571428571}, {:x=>0.95, :y=>0.9971428571428571}, {:x=>0.9533333333333334, :y=>0.9971428571428571}, {:x=>0.9566666666666667, :y=>0.9971428571428571}, {:x=>0.96, :y=>0.9971428571428571}, {:x=>0.9633333333333334, :y=>0.9971428571428571}, {:x=>0.9666666666666667, :y=>0.9971428571428571}, {:x=>0.97, :y=>0.9971428571428571}, {:x=>0.9733333333333334, :y=>0.9971428571428571}, {:x=>0.9733333333333334, :y=>0.9985714285714286}, {:x=>0.9766666666666667, :y=>0.9985714285714286}, {:x=>0.98, :y=>0.9985714285714286}, {:x=>0.9833333333333333, :y=>0.9985714285714286}, {:x=>0.9866666666666667, :y=>0.9985714285714286}, {:x=>0.99, :y=>0.9985714285714286}, {:x=>0.99, :y=>1.0}, {:x=>0.9933333333333333, :y=>1.0}, {:x=>0.9966666666666667, :y=>1.0}, {:x=>1.0, :y=>1.0}]>, \"1d748c17-7e7d-40a0-89cd-e27f1cac7675\"=>#<Nyaplot::DataFrame:0x000055d903f02d00 @name=\"1d748c17-7e7d-40a0-89cd-e27f1cac7675\", @rows=[{:data0=>0, :data1=>0}, {:data0=>1, :data1=>1}]>}, :extension=>[]}>"
      ]
     },
     "metadata": {},
     "output_type": "display_data"
    },
    {
     "data": {
      "text/plain": [
       "#<CZTop::Socket::PUB:0x55d902c76d70 last_endpoint=\"tcp://127.0.0.1:41235\">"
      ]
     },
     "execution_count": 45,
     "metadata": {},
     "output_type": "execute_result"
    }
   ],
   "source": [
    "def test_99112c()\n",
    "  german_credit = load_german_credit_dataset()\n",
    "  examples = german_credit[\"data\"]\n",
    "  learner = DecisionTreeLearner.new 1, min_size: 100, max_depth: 10\n",
    "  learner.train german_credit\n",
    "\n",
    "  scores = learner.evaluate german_credit\n",
    "  metric = AUCMetric.new\n",
    "  fp, tp, auc = metric.roc_curve scores\n",
    "  \n",
    "  puts \"AUC = #{auc}\"\n",
    "  \n",
    "  plot = Daru::DataFrame.new({x: fp, y: tp}).plot(type: :line, x: :x, y: :y) do |plot, diagram|\n",
    "    plot.x_label \"False Positive Rate\"\n",
    "    plot.y_label \"True Positive Rate\"\n",
    "  end\n",
    "  plot.add(:line, [0,1], [0,1]).color(:gray)\n",
    "  plot.show()\n",
    "end\n",
    "\n",
    "test_99112c()"
   ]
  },
  {
   "cell_type": "markdown",
   "metadata": {
    "deletable": false,
    "editable": false,
    "nbgrader": {
     "cell_type": "markdown",
     "checksum": "03c5f4d8e57f9fcef83d695466e97e06",
     "grade": false,
     "grade_id": "cell-2b4f09e104139353",
     "locked": true,
     "schema_version": 3,
     "solution": false,
     "task": false
    }
   },
   "source": [
    "# Question 6\n",
    "\n",
    "Using the height-limited Decision Tree Learner as a weak learner (i.e., a Decision Stump), we will now implement the ```RandomForestLearner```. The random forest classifier requires a seed, which is provided below.\n",
    "\n",
    "## Question 6.1 (10 points)\n",
    " \n",
    "The Random Forest algorithm combines Bagging with random features. Given a dataset, we will first identify a random subset of 3 features from the dataset. \n",
    "\n",
    "\n",
    "Next, implement Bagging which is to create bootstrap sample. A bootstrap sample is a sample of the same size as the original dataset, but each example is sampled with uniform probability with replacement. Sampling with replacement will result in some of the examples appearing more than once in the final dataset. \n",
    "\n",
    "The ```random_forest_dataset``` should return a new dataset where ```data``` and ```features``` have been changed based on the bootstrapping and random features logic. Make sure to make a _deep copy_ rather than a shallow copy of the dataset. Hint: use the ```clone``` method appropriately.\n",
    "\n",
    "For example, given a dataset with 4 features, we expect a dataset with 3 features, defined as follows:\n",
    "\n",
    "```ruby\n",
    "{\n",
    "    \"labels\" => [...],\n",
    "    \"features\" => [\"x2\", \"x3\", \"x4\"],\n",
    "    \"data\" => [\n",
    "        {\"id\"=>92, \"features\"=>{\"x2\"=>92, \"x4\"=>92, \"x3\"=>92}}, \n",
    "        {\"id\"=>26, \"features\"=>{\"x2\"=>26, \"x4\"=>26, \"x3\"=>26}}, \n",
    "        {\"id\"=>33, \"features\"=>{\"x2\"=>33, \"x4\"=>33, \"x3\"=>33}}, \n",
    "        ...\n",
    "    ]\n",
    "}\n",
    "```\n",
    "\n",
    "\n",
    "Notes:\n",
    "\n",
    "1. Because we are using random numbers it is important that you call ```rng.rand(...)``` the right number of times. Using some other random number generator or even just one extra call will cause the tests not to pass. See Ruby's [Random](https://ruby-doc.org/core-2.5.4/Random.html) class for more details."
   ]
  },
  {
   "cell_type": "code",
   "execution_count": 46,
   "metadata": {
    "deletable": false,
    "editable": false,
    "nbgrader": {
     "cell_type": "code",
     "checksum": "0b56ef101a7763a0806325479e04526c",
     "grade": false,
     "grade_id": "cell-12abb205167f0536",
     "locked": true,
     "schema_version": 3,
     "solution": false,
     "task": false
    }
   },
   "outputs": [
    {
     "data": {
      "text/plain": [
       "3073016676488"
      ]
     },
     "execution_count": 46,
     "metadata": {},
     "output_type": "execute_result"
    }
   ],
   "source": [
    "SEED = 'eifjcchdivlbcbflbgblfgukbtkhvejvtkevfbtetjnl'.to_i(26)"
   ]
  },
  {
   "cell_type": "code",
   "execution_count": 47,
   "metadata": {
    "deletable": false,
    "nbgrader": {
     "cell_type": "code",
     "checksum": "b064e055c8a86df306abc97a975f882a",
     "grade": false,
     "grade_id": "cell-e6d59279d8311177",
     "locked": false,
     "schema_version": 3,
     "solution": true,
     "task": false
    }
   },
   "outputs": [
    {
     "data": {
      "text/plain": [
       ":random_forest_dataset"
      ]
     },
     "execution_count": 47,
     "metadata": {},
     "output_type": "execute_result"
    }
   ],
   "source": [
    "def random_features_subset dataset, rng\n",
    "  num_features = 3\n",
    "  feature_list = dataset[\"features\"].sample(num_features, random: rng)  \n",
    "end\n",
    "\n",
    "def random_forest_dataset dataset, rng\n",
    "  feature_list = random_features_subset dataset, rng\n",
    "  examples = dataset[\"data\"]\n",
    "  new_dataset = nil\n",
    "  \n",
    "  # BEGIN YOUR CODE\n",
    "\n",
    "  \n",
    "  dat = examples.clone\n",
    "  new_dataset = Hash.new\n",
    "  origin_feature = dataset[\"features\"].clone\n",
    "  a = dat.clone\n",
    "  remove_list = origin_feature - feature_list\n",
    "  \n",
    "  removed_dataset = []\n",
    "  a.each do |n|\n",
    "    h = Hash.new\n",
    "    nn = n.clone\n",
    "\n",
    "\n",
    "    c = nn[\"features\"].clone\n",
    "    remove_list.each{|e| c.delete(e)}\n",
    "    h[\"features\"] = c\n",
    " \n",
    "    nn.delete(\"features\")\n",
    "\n",
    "    new = nn.merge h\n",
    "\n",
    "    removed_dataset.append(new)\n",
    "\n",
    "  end\n",
    "  \n",
    "\n",
    "  \n",
    "  new_dataset[\"features\"] = feature_list\n",
    "  new_dataset[\"data\"] = []\n",
    "  removed_dataset.size.times do \n",
    "      new_dataset[\"data\"].append(removed_dataset.sample(1, random: rng)[0])\n",
    "  end\n",
    "  #END YOUR CODE\n",
    "\n",
    "  return new_dataset\n",
    "end"
   ]
  },
  {
   "cell_type": "code",
   "execution_count": 48,
   "metadata": {
    "deletable": false,
    "editable": false,
    "nbgrader": {
     "cell_type": "code",
     "checksum": "fb6fc64a34744e1625b1aacb2d78402b",
     "grade": true,
     "grade_id": "cell-8b4e548d2bc9a385",
     "locked": true,
     "points": 1,
     "schema_version": 3,
     "solution": false,
     "task": false
    }
   },
   "outputs": [],
   "source": [
    "def test_8b4e54()\n",
    "  rng = Random.new(SEED)\n",
    "  \n",
    "  examples = Array.new 100 do |id|\n",
    "    {\"id\" => id, \"features\" => {\"x1\" => id * 1.0, \"x2\" => id, \"x3\" => id, \"x4\" => id}}\n",
    "  end\n",
    "  dataset = {\"features\" => %w(x1 x2 x3 x4), \"data\" => examples}\n",
    "  \n",
    "  rf_dataset = random_forest_dataset dataset, rng\n",
    "  assert_not_same dataset, rf_dataset, \"Must create a new dataset\"\n",
    "  assert_not_same dataset[\"features\"], rf_dataset[\"features\"], \"Must create new features\"\n",
    "  assert_not_same dataset[\"data\"], rf_dataset[\"data\"], \"Must create new examples\"  \n",
    "  assert_not_same dataset[\"data\"][92], rf_dataset[\"data\"][0], \"Must create new example 0 rather than reusing #92\"   \n",
    "  assert_not_same dataset[\"data\"][92][\"features\"], rf_dataset[\"data\"][0][\"features\"], \"Must create new example features\"     \n",
    "end\n",
    "test_8b4e54()"
   ]
  },
  {
   "cell_type": "code",
   "execution_count": 49,
   "metadata": {
    "deletable": false,
    "editable": false,
    "nbgrader": {
     "cell_type": "code",
     "checksum": "aaae0d53c1c89df0c449683299d6faaf",
     "grade": true,
     "grade_id": "cell-61dee6ac3d9fdd07",
     "locked": true,
     "points": 3,
     "schema_version": 3,
     "solution": false,
     "task": false
    }
   },
   "outputs": [
    {
     "name": "stdout",
     "output_type": "stream",
     "text": [
      "Sampled features\n",
      "[\"x2\", \"x3\", \"x4\"]\n"
     ]
    }
   ],
   "source": [
    "def test_61dee6()\n",
    "  rng = Random.new(SEED)\n",
    "  \n",
    "  examples = Array.new 100 do |id|\n",
    "    {\"id\" => id, \"features\" => {\"x1\" => id * 1.0, \"x2\" => id, \"x3\" => id, \"x4\" => id}}\n",
    "  end\n",
    "  dataset = {\"features\" => %w(x1 x2 x3 x4), \"data\" => examples}\n",
    "  \n",
    "  rf_dataset = random_forest_dataset dataset, rng\n",
    "  features = rf_dataset[\"features\"].sort\n",
    "  puts \"Sampled features\", features\n",
    "  \n",
    "  assert_equal 3, features.size\n",
    "  assert_equal \"x2\", features[0]  \n",
    "  assert_equal \"x4\", features[2]  \n",
    "end\n",
    "test_61dee6()"
   ]
  },
  {
   "cell_type": "markdown",
   "metadata": {
    "deletable": false,
    "editable": false,
    "nbgrader": {
     "cell_type": "markdown",
     "checksum": "cc6031938bbbbffc814c2936cdc7d61d",
     "grade": false,
     "grade_id": "cell-4066df7e0b5f227c",
     "locked": true,
     "schema_version": 3,
     "solution": false,
     "task": false
    }
   },
   "source": [
    "The following test should output:\n",
    "\n",
    "```\n",
    "Sampled features\n",
    "[\"x2\", \"x3\", \"x4\"]\n",
    "[{\"id\"=>92, \"features\"=>{\"x2\"=>0.7382309556062473, \"x4\"=>0.8321339621196061, \"x3\"=>0.4902051538880293}}, {\"id\"=>26, \"features\"=>{\"x2\"=>0.9058511884689645, \"x4\"=>0.14862808413212236, \"x3\"=>0.6480159304053194}}, {\"id\"=>33, \"features\"=>{\"x2\"=>0.8779817106571303, \"x4\"=>0.052513163798546425, \"x3\"=>0.5935117988751606}}, {\"id\"=>23, \"features\"=>{\"x2\"=>0.8127461649463698, \"x4\"=>0.11281946181217362, \"x3\"=>0.9818758966334915}}, {\"id\"=>55, \"features\"=>{\"x2\"=>0.6965391901897178, \"x4\"=>0.059710713558340456, \"x3\"=>0.37992498973029476}}]\n",
    "Expect ID 91 is duplicated\n",
    "```"
   ]
  },
  {
   "cell_type": "code",
   "execution_count": 50,
   "metadata": {
    "deletable": false,
    "editable": false,
    "nbgrader": {
     "cell_type": "code",
     "checksum": "b43c82b719c9906b14201b9c861c5cfc",
     "grade": true,
     "grade_id": "cell-e261031db8d4a28e",
     "locked": true,
     "points": 3,
     "schema_version": 3,
     "solution": false,
     "task": false
    }
   },
   "outputs": [
    {
     "name": "stdout",
     "output_type": "stream",
     "text": [
      "Sampled features\n",
      "[\"x2\", \"x3\", \"x4\"]\n",
      "[{\"id\"=>92, \"features\"=>{\"x2\"=>0.7382309556062473, \"x3\"=>0.4902051538880293, \"x4\"=>0.8321339621196061}}, {\"id\"=>26, \"features\"=>{\"x2\"=>0.9058511884689645, \"x3\"=>0.6480159304053194, \"x4\"=>0.14862808413212236}}, {\"id\"=>33, \"features\"=>{\"x2\"=>0.8779817106571303, \"x3\"=>0.5935117988751606, \"x4\"=>0.052513163798546425}}, {\"id\"=>23, \"features\"=>{\"x2\"=>0.8127461649463698, \"x3\"=>0.9818758966334915, \"x4\"=>0.11281946181217362}}, {\"id\"=>55, \"features\"=>{\"x2\"=>0.6965391901897178, \"x3\"=>0.37992498973029476, \"x4\"=>0.059710713558340456}}]\n",
      "Expect ID 91 is duplicated\n"
     ]
    }
   ],
   "source": [
    "def test_e26103()\n",
    "  rng = Random.new(SEED)\n",
    "  rng2 = Random.new(SEED)  \n",
    "  examples = Array.new 100 do |id|\n",
    "    {\"id\" => id, \"features\" => {\"x1\" => rng2.rand, \"x2\" => rng2.rand, \"x3\" => rng2.rand, \"x4\" => rng2.rand}}\n",
    "  end\n",
    "  dataset = {\"features\" => %w(x1 x2 x3 x4), \"data\" => examples}\n",
    "  \n",
    "  rf_dataset = random_forest_dataset dataset, rng\n",
    "  \n",
    "  features = rf_dataset[\"features\"].sort\n",
    "  puts \"Sampled features\", features\n",
    "  \n",
    "  rf_examples = rf_dataset[\"data\"]\n",
    "  puts rf_examples[0,5]\n",
    "  assert_equal 100, rf_examples.size\n",
    "  assert_equal 92, rf_examples[0][\"id\"]  \n",
    "  assert_in_delta 0.7382309556062473, rf_examples[0][\"features\"][\"x2\"], 1e-3, \"Must copy original example values\"\n",
    "  assert_equal 23, rf_examples[3][\"id\"]\n",
    "  assert_in_delta 0.11281946181217362, rf_examples[3][\"features\"][\"x4\"], 1e-3, \"Must copy original example values\"\n",
    "  \n",
    "  duplicated_ids = rf_examples.group_by {|e| e[\"id\"]}.select {|k,v| v.size > 1}.to_h.keys.sort\n",
    "  \n",
    "  puts \"Expect ID #{duplicated_ids.last} is duplicated\"\n",
    "  assert_equal 25, duplicated_ids.size\n",
    "  assert_equal 91, duplicated_ids.last\n",
    "end\n",
    "test_e26103()"
   ]
  },
  {
   "cell_type": "code",
   "execution_count": 51,
   "metadata": {
    "deletable": false,
    "editable": false,
    "nbgrader": {
     "cell_type": "code",
     "checksum": "f8484533129e6f99667dc78265efd654",
     "grade": true,
     "grade_id": "cell-5682b7088bfe5d12",
     "locked": true,
     "points": 3,
     "schema_version": 3,
     "solution": false,
     "task": false
    }
   },
   "outputs": [],
   "source": [
    "def test_5682b7()\n",
    "  rng = Random.new(SEED)\n",
    "  examples = Array.new 100 do |id|\n",
    "    {\"id\" => id, \"features\" => {\"x1\" => id * 1.0, \"x2\" => id, \"x3\" => id, \"x4\" => id}}\n",
    "  end\n",
    "  dataset = {\"features\" => %w(x1 x2 x3 x4), \"data\" => examples}\n",
    "  \n",
    "  rf_dataset = random_forest_dataset dataset, rng\n",
    "  \n",
    "  features = rf_dataset[\"features\"].sort\n",
    "  rf_examples = rf_dataset[\"data\"]\n",
    "  \n",
    "  assert_equal 100, rf_examples.size\n",
    "  checked = 0\n",
    "  rf_examples.each do |e| \n",
    "    assert_equal features, e[\"features\"].keys.sort, \"Expected only subset of features\"\n",
    "    checked += 1\n",
    "  end\n",
    "  assert_equal 100, checked\n",
    "end\n",
    "test_5682b7()"
   ]
  },
  {
   "cell_type": "markdown",
   "metadata": {
    "deletable": false,
    "editable": false,
    "nbgrader": {
     "cell_type": "markdown",
     "checksum": "f50e5ea7d441c4f9b00422e80d625f12",
     "grade": false,
     "grade_id": "cell-dfda98de73c9e41b",
     "locked": true,
     "schema_version": 3,
     "solution": false,
     "task": false
    }
   },
   "source": [
    "## Question 6.2 (2 Points)\n",
    "\n",
    "Implement the ```train``` method in the ```RandomForestLearner```, which simply calls train on each of the ```@trees``` with the ```random_forest_dataset```."
   ]
  },
  {
   "cell_type": "code",
   "execution_count": 52,
   "metadata": {
    "deletable": false,
    "nbgrader": {
     "cell_type": "code",
     "checksum": "fe70bba39211fae1ec47cee9c2ade861",
     "grade": false,
     "grade_id": "cell-e46b49b548005526",
     "locked": false,
     "schema_version": 3,
     "solution": true,
     "task": false
    }
   },
   "outputs": [
    {
     "data": {
      "text/plain": [
       ":train"
      ]
     },
     "execution_count": 52,
     "metadata": {},
     "output_type": "execute_result"
    }
   ],
   "source": [
    "class RandomForestLearner\n",
    "  include Learner  \n",
    "  attr_reader :trees\n",
    "  \n",
    "  def initialize positive_class_label, num_trees: 10, min_size: 10, max_depth: 50\n",
    "    @parameters = {\"num_trees\" => num_trees, \"min_size\" => min_size, \"max_depth\" => max_depth}\n",
    "    @positive_class_label = positive_class_label\n",
    "    tree_parameters = @parameters.clone.delete :num_trees\n",
    "    \n",
    "    @trees = Array.new(num_trees) do |i| \n",
    "      DecisionTreeLearner.new @positive_class_label, min_size: min_size, max_depth: max_depth\n",
    "    end\n",
    "  end\n",
    "  \n",
    "  def to_s\n",
    "    JSON.pretty_generate(@trees.collect {|t| t.summarize_node t.root})\n",
    "  end\n",
    "  \n",
    "  def train dataset\n",
    "    rng = Random.new SEED\n",
    "    \n",
    "    # BEGIN YOUR CODE\n",
    "    rf_dataset = random_forest_dataset dataset, rng\n",
    "\n",
    "    @trees.each do |n|\n",
    "     n.train rf_dataset\n",
    "   end\n",
    "    \n",
    "    #END YOUR CODE\n",
    "  end\n",
    "end\n",
    "  "
   ]
  },
  {
   "cell_type": "markdown",
   "metadata": {
    "deletable": false,
    "editable": false,
    "nbgrader": {
     "cell_type": "markdown",
     "checksum": "db8b3e8dc1df464701415c08f5fd28da",
     "grade": false,
     "grade_id": "cell-990b57431701b139",
     "locked": true,
     "schema_version": 3,
     "solution": false,
     "task": false
    }
   },
   "source": [
    "The following test should output:\n",
    "```\n",
    "Random Forest 3 trees, 2 levels\n",
    "[\n",
    "  {\n",
    "    \"leaf\": false,\n",
    "    \"split\": \"Numeric[petal_width <=> 1]\",\n",
    "    \"children\": {\n",
    "      \"petal_width < 1\": {\n",
    "        \"leaf\": true,\n",
    "        \"class_distribution\": {\n",
    "          \"0\": 1.0\n",
    "        }\n",
    "      },\n",
    "      \"petal_width >= 1\": {\n",
    "        \"leaf\": true,\n",
    "        \"class_distribution\": {\n",
    "          \"2\": 0.5555555555555556,\n",
    "          \"1\": 0.4444444444444444\n",
    "        }\n",
    "      }\n",
    "    }\n",
    "  },\n",
    "  {\n",
    "    \"leaf\": false,\n",
    "    \"split\": \"Numeric[petal_width <=> 1]\",\n",
    "    \"children\": {\n",
    "      \"petal_width < 1\": {\n",
    "        \"leaf\": true,\n",
    "        \"class_distribution\": {\n",
    "          \"0\": 1.0\n",
    "        }\n",
    "      },\n",
    "      \"petal_width >= 1\": {\n",
    "        \"leaf\": true,\n",
    "        \"class_distribution\": {\n",
    "          \"2\": 0.4205607476635514,\n",
    "          \"1\": 0.5794392523364486\n",
    "        }\n",
    "      }\n",
    "    }\n",
    "  },\n",
    "  {\n",
    "    \"leaf\": false,\n",
    "    \"split\": \"Numeric[petal_width <=> 1]\",\n",
    "    \"children\": {\n",
    "      \"petal_width < 1\": {\n",
    "        \"leaf\": true,\n",
    "        \"class_distribution\": {\n",
    "          \"0\": 1.0\n",
    "        }\n",
    "      },\n",
    "      \"petal_width >= 1\": {\n",
    "        \"leaf\": true,\n",
    "        \"class_distribution\": {\n",
    "          \"1\": 0.594059405940594,\n",
    "          \"2\": 0.40594059405940597\n",
    "        }\n",
    "      }\n",
    "    }\n",
    "  }\n",
    "]\n",
    "```"
   ]
  },
  {
   "cell_type": "code",
   "execution_count": 53,
   "metadata": {
    "deletable": false,
    "editable": false,
    "nbgrader": {
     "cell_type": "code",
     "checksum": "a8759555aa524d79b209045e42813c0c",
     "grade": true,
     "grade_id": "cell-99f31e3414e871a0",
     "locked": true,
     "points": 2,
     "schema_version": 3,
     "solution": false,
     "task": false
    }
   },
   "outputs": [
    {
     "name": "stdout",
     "output_type": "stream",
     "text": [
      "Random Forest 3 trees, 2 levels\n",
      "[\n",
      "  {\n",
      "    \"leaf\": false,\n",
      "    \"split\": \"Numeric[petal_width <=> 1]\",\n",
      "    \"children\": {\n",
      "      \"petal_width < 1\": {\n",
      "        \"leaf\": true,\n",
      "        \"class_distribution\": {\n",
      "          \"0\": 1.0\n",
      "        }\n",
      "      },\n",
      "      \"petal_width >= 1\": {\n",
      "        \"leaf\": true,\n",
      "        \"class_distribution\": {\n",
      "          \"1\": 0.4444444444444444,\n",
      "          \"2\": 0.5555555555555556\n",
      "        }\n",
      "      }\n",
      "    }\n",
      "  },\n",
      "  {\n",
      "    \"leaf\": false,\n",
      "    \"split\": \"Numeric[petal_width <=> 1]\",\n",
      "    \"children\": {\n",
      "      \"petal_width < 1\": {\n",
      "        \"leaf\": true,\n",
      "        \"class_distribution\": {\n",
      "          \"0\": 1.0\n",
      "        }\n",
      "      },\n",
      "      \"petal_width >= 1\": {\n",
      "        \"leaf\": true,\n",
      "        \"class_distribution\": {\n",
      "          \"1\": 0.4444444444444444,\n",
      "          \"2\": 0.5555555555555556\n",
      "        }\n",
      "      }\n",
      "    }\n",
      "  },\n",
      "  {\n",
      "    \"leaf\": false,\n",
      "    \"split\": \"Numeric[petal_width <=> 1]\",\n",
      "    \"children\": {\n",
      "      \"petal_width < 1\": {\n",
      "        \"leaf\": true,\n",
      "        \"class_distribution\": {\n",
      "          \"0\": 1.0\n",
      "        }\n",
      "      },\n",
      "      \"petal_width >= 1\": {\n",
      "        \"leaf\": true,\n",
      "        \"class_distribution\": {\n",
      "          \"1\": 0.4444444444444444,\n",
      "          \"2\": 0.5555555555555556\n",
      "        }\n",
      "      }\n",
      "    }\n",
      "  }\n",
      "]\n"
     ]
    }
   ],
   "source": [
    "def test_99f31e()\n",
    "  iris = load_iris_dataset()\n",
    "  model = RandomForestLearner.new 2, num_trees: 3, max_depth: 2, min_size: 25\n",
    "  model.train iris\n",
    "  trees = model.trees\n",
    "\n",
    "  puts \"Random Forest 3 trees, 2 levels\", model.to_s\n",
    "\n",
    "  assert_equal 3, trees.size\n",
    "end\n",
    "test_99f31e()"
   ]
  },
  {
   "cell_type": "markdown",
   "metadata": {
    "deletable": false,
    "editable": false,
    "nbgrader": {
     "cell_type": "markdown",
     "checksum": "db38a7793686d38bb5ca958071f67755",
     "grade": false,
     "grade_id": "cell-9b9d78c1a54dfff6",
     "locked": true,
     "schema_version": 3,
     "solution": false,
     "task": false
    }
   },
   "source": [
    "## Question 6.3 (5 Points)\n",
    "\n",
    "Implement the ```predict``` method in the ```RandomForestLearner```. Define the score for a random forest as follows:\n",
    "\n",
    "# $P(c \\mid t_1, \\dots ,t_k) = \\frac{1}{k} \\sum_{i} P(c \\mid t_i)$\n",
    "\n",
    "where $t_i$ is the $i$th tree and $P(c \\mid t_i)$ is the score for the $i$th tree."
   ]
  },
  {
   "cell_type": "code",
   "execution_count": 54,
   "metadata": {
    "deletable": false,
    "nbgrader": {
     "cell_type": "code",
     "checksum": "c87282ef72469a479edc925cc660309c",
     "grade": false,
     "grade_id": "cell-fc41201c7ea81d58",
     "locked": false,
     "schema_version": 3,
     "solution": true,
     "task": false
    }
   },
   "outputs": [
    {
     "data": {
      "text/plain": [
       ":predict"
      ]
     },
     "execution_count": 54,
     "metadata": {},
     "output_type": "execute_result"
    }
   ],
   "source": [
    "class RandomForestLearner\n",
    "  attr_accessor :positive_class_label\n",
    "  \n",
    "  def evaluate eval_dataset\n",
    "    examples = eval_dataset[\"data\"]\n",
    "    examples.map do |example|\n",
    "      score = predict(example)\n",
    "\n",
    "      label = example[\"label\"] == @positive_class_label ? 1 : 0\n",
    "      [score, label]\n",
    "    end\n",
    "  end\n",
    "  \n",
    "  def predict example\n",
    "    # BEGIN YOUR CODE\n",
    "    a = []\n",
    "    @trees.each do |n|\n",
    "       a.append(n.predict(example))\n",
    "   end\n",
    "\n",
    "    return mean(a)\n",
    "    \n",
    "    #END YOUR CODE\n",
    "  end\n",
    "end\n"
   ]
  },
  {
   "cell_type": "code",
   "execution_count": null,
   "metadata": {
    "deletable": false,
    "editable": false,
    "nbgrader": {
     "cell_type": "code",
     "checksum": "4f5eecf14fc109d0bacd9306f11b54a9",
     "grade": true,
     "grade_id": "cell-b6a8922a13ab6bbd",
     "locked": true,
     "points": 3,
     "schema_version": 3,
     "solution": false,
     "task": false
    },
    "scrolled": true
   },
   "outputs": [
    {
     "ename": "Test::Unit::AssertionFailedError",
     "evalue": "AUC should be better than 0.79.\n<true> expected but was\n<false>",
     "output_type": "error",
     "traceback": [
      "\u001b[31mTest::Unit::AssertionFailedError\u001b[0m: AUC should be better than 0.79.\n<true> expected but was\n<false>",
      "/usr/local/lib/ruby/gems/2.7.0/gems/test-unit-3.3.6/lib/test/unit/assertions.rb:59:in `block in assert_block'",
      "/usr/local/lib/ruby/gems/2.7.0/gems/test-unit-3.3.6/lib/test/unit/assertions.rb:1635:in `_wrap_assertion'",
      "/usr/local/lib/ruby/gems/2.7.0/gems/test-unit-3.3.6/lib/test/unit/assertions.rb:53:in `assert_block'",
      "/usr/local/lib/ruby/gems/2.7.0/gems/test-unit-3.3.6/lib/test/unit/assertions.rb:1225:in `block in assert_true'",
      "/usr/local/lib/ruby/gems/2.7.0/gems/test-unit-3.3.6/lib/test/unit/assertions.rb:1640:in `_wrap_assertion'",
      "/usr/local/lib/ruby/gems/2.7.0/gems/test-unit-3.3.6/lib/test/unit/assertions.rb:1224:in `assert_true'",
      "(pry):1125:in `test_99f31e'",
      "(pry):1135:in `<main>'",
      "/usr/local/lib/ruby/gems/2.7.0/gems/pry-0.13.1/lib/pry/pry_instance.rb:290:in `eval'",
      "/usr/local/lib/ruby/gems/2.7.0/gems/pry-0.13.1/lib/pry/pry_instance.rb:290:in `evaluate_ruby'",
      "/usr/local/lib/ruby/gems/2.7.0/gems/pry-0.13.1/lib/pry/pry_instance.rb:659:in `handle_line'",
      "/usr/local/lib/ruby/gems/2.7.0/gems/pry-0.13.1/lib/pry/pry_instance.rb:261:in `block (2 levels) in eval'",
      "/usr/local/lib/ruby/gems/2.7.0/gems/pry-0.13.1/lib/pry/pry_instance.rb:260:in `catch'",
      "/usr/local/lib/ruby/gems/2.7.0/gems/pry-0.13.1/lib/pry/pry_instance.rb:260:in `block in eval'",
      "/usr/local/lib/ruby/gems/2.7.0/gems/pry-0.13.1/lib/pry/pry_instance.rb:259:in `catch'",
      "/usr/local/lib/ruby/gems/2.7.0/gems/pry-0.13.1/lib/pry/pry_instance.rb:259:in `eval'",
      "/usr/local/lib/ruby/gems/2.7.0/gems/iruby-0.4.0/lib/iruby/backend.rb:66:in `eval'",
      "/usr/local/lib/ruby/gems/2.7.0/gems/iruby-0.4.0/lib/iruby/backend.rb:12:in `eval'",
      "/usr/local/lib/ruby/gems/2.7.0/gems/iruby-0.4.0/lib/iruby/kernel.rb:90:in `execute_request'",
      "/usr/local/lib/ruby/gems/2.7.0/gems/iruby-0.4.0/lib/iruby/kernel.rb:49:in `dispatch'",
      "/usr/local/lib/ruby/gems/2.7.0/gems/iruby-0.4.0/lib/iruby/kernel.rb:38:in `run'",
      "/usr/local/lib/ruby/gems/2.7.0/gems/iruby-0.4.0/lib/iruby/command.rb:110:in `run_kernel'",
      "/usr/local/lib/ruby/gems/2.7.0/gems/iruby-0.4.0/lib/iruby/command.rb:40:in `run'",
      "/usr/local/lib/ruby/gems/2.7.0/gems/iruby-0.4.0/bin/iruby:5:in `<top (required)>'",
      "/usr/local/bin/iruby:23:in `load'",
      "/usr/local/bin/iruby:23:in `<main>'"
     ]
    }
   ],
   "source": [
    "def test_99f31e()\n",
    "  german_credit = load_german_credit_dataset()\n",
    "  learner = RandomForestLearner.new 1, num_trees: 11, min_size: 100, max_depth: 10\n",
    "  learner.train german_credit\n",
    "  assert_equal 11, learner.trees.size\n",
    "\n",
    "  scores = learner.evaluate german_credit\n",
    "  metric = AUCMetric.new\n",
    "  fp, tp, auc = metric.roc_curve scores\n",
    "  \n",
    "  assert_true auc > 0.79, \"AUC should be better than 0.79\"\n",
    "  puts \"AUC = #{auc}\"\n",
    "  \n",
    "  plot = Daru::DataFrame.new({x: fp, y: tp}).plot(type: :line, x: :x, y: :y) do |plot, diagram|\n",
    "    plot.x_label \"False Positive Rate\"\n",
    "    plot.y_label \"True Positive Rate\"\n",
    "  end\n",
    "  plot.add(:line, [0,1], [0,1]).color(:gray)\n",
    "  plot.show()\n",
    "end\n",
    "test_99f31e()"
   ]
  },
  {
   "cell_type": "markdown",
   "metadata": {
    "deletable": false,
    "editable": false,
    "nbgrader": {
     "cell_type": "markdown",
     "checksum": "b2f9617e767f2ac817f99a484ad49397",
     "grade": false,
     "grade_id": "cell-4829e0435f22dcca",
     "locked": true,
     "schema_version": 3,
     "solution": false,
     "task": false
    }
   },
   "source": [
    "In the tests above, we calculated the AUC for a single decision tree and a random forest, using the same tree depth and minimum leaf size. Is the training AUC better on Random Forest and Decision Tree?\n",
    "\n",
    "**A**. We cannot compare AUC across different models.\n",
    "\n",
    "**B**. Both Single Decision Tree and Random Forest perform the same.\n",
    "\n",
    "**C**. Single Decision Tree has better training AUC that a Random Forest.\n",
    "\n",
    "**D**. Random Forest has better training AUC that a Single Decision Tree.\n",
    "\n",
    "\n",
    "_(Instructions) In the function below, return an array of the upper-case letters indicating your answer (zero or more). For example, if you think that the answer is \"Z\", write the following:_\n",
    "\n",
    "```ruby\n",
    "def answer_0b47d3()\n",
    "    %w(Z)\n",
    "end\n",
    "```"
   ]
  },
  {
   "cell_type": "code",
   "execution_count": 56,
   "metadata": {
    "deletable": false,
    "nbgrader": {
     "cell_type": "code",
     "checksum": "c9c6b2ac8df967f44d04bbf569aaefe8",
     "grade": false,
     "grade_id": "cell-0b47d323ea1a9866",
     "locked": false,
     "schema_version": 3,
     "solution": true,
     "task": false
    }
   },
   "outputs": [
    {
     "data": {
      "text/plain": [
       ":answer_0b47d3"
      ]
     },
     "execution_count": 56,
     "metadata": {},
     "output_type": "execute_result"
    }
   ],
   "source": [
    "def answer_0b47d3()\n",
    "  # BEGIN YOUR CODE\n",
    "  %w(D)\n",
    "  #END YOUR CODE\n",
    "end"
   ]
  },
  {
   "cell_type": "code",
   "execution_count": 57,
   "metadata": {
    "deletable": false,
    "editable": false,
    "nbgrader": {
     "cell_type": "code",
     "checksum": "250107da64738c9247793f8cce979e35",
     "grade": true,
     "grade_id": "cell-00f2d3839bb07721",
     "locked": true,
     "points": 2,
     "schema_version": 3,
     "solution": false,
     "task": false
    }
   },
   "outputs": [],
   "source": [
    "assert_not_nil answer_0b47d3()"
   ]
  },
  {
   "cell_type": "markdown",
   "metadata": {
    "deletable": false,
    "editable": false,
    "nbgrader": {
     "cell_type": "markdown",
     "checksum": "6ad4ea5b1d2b1b08be29ebc2dc76bb3f",
     "grade": false,
     "grade_id": "cell-db8be72253f5eb28",
     "locked": true,
     "schema_version": 3,
     "solution": false,
     "task": false
    }
   },
   "source": [
    "# Question 7.1 (4 Points)\n",
    "\n",
    "Paste **your** implementation of ```cross_validate``` from previous assignments. "
   ]
  },
  {
   "cell_type": "code",
   "execution_count": 58,
   "metadata": {
    "deletable": false,
    "nbgrader": {
     "cell_type": "code",
     "checksum": "081b0a036819af2b5df525a9665de4e8",
     "grade": false,
     "grade_id": "cell-b13204b43e3a8be9",
     "locked": false,
     "schema_version": 3,
     "solution": true,
     "task": false
    }
   },
   "outputs": [
    {
     "data": {
      "text/plain": [
       ":cross_validate"
      ]
     },
     "execution_count": 58,
     "metadata": {},
     "output_type": "execute_result"
    }
   ],
   "source": [
    "def cross_validate dataset, folds, &block\n",
    "  examples = dataset[\"data\"]\n",
    "  fold_size = examples.size / folds\n",
    "  # BEGIN YOUR CODE\n",
    "\n",
    "  \n",
    " \n",
    "\n",
    "  folds.times do |fold|\n",
    "\n",
    "\n",
    "      test_data = dataset.clone\n",
    "      test_data[\"data\"] = test_data[\"data\"][fold*fold_size,fold_size]  ##CV training examples\n",
    "\n",
    "      train_data = dataset.clone\n",
    "      train_data[\"data\"] = train_data[\"data\"] - test_data[\"data\"]  ##CV testing examples\n",
    "\n",
    "\n",
    "    yield train_data, test_data, fold\n",
    "  end\n",
    "  \n",
    "  \n",
    "  \n",
    "  \n",
    "  \n",
    "  \n",
    "  \n",
    "  #END YOUR CODE\n",
    "end"
   ]
  },
  {
   "cell_type": "markdown",
   "metadata": {
    "deletable": false,
    "editable": false,
    "nbgrader": {
     "cell_type": "markdown",
     "checksum": "6619c0f6b1cb55090765de0226050d8a",
     "grade": false,
     "grade_id": "cell-ceb3e817cc4cce39",
     "locked": true,
     "schema_version": 3,
     "solution": false,
     "task": false
    }
   },
   "source": [
    "## Question 7.2 (5 points)\n",
    "\n",
    "Using cross validation and the generic ```Learner```s and ```Metric```s you implemented, we can build a generic tool for parameter selection. The next few methods are implemented for you so that you can interpret the results. \n"
   ]
  },
  {
   "cell_type": "code",
   "execution_count": 59,
   "metadata": {
    "deletable": false,
    "editable": false,
    "nbgrader": {
     "cell_type": "code",
     "checksum": "126fc4ce2dc84acb326b6a4806c16530",
     "grade": false,
     "grade_id": "cell-97f13fda713cfbf4",
     "locked": true,
     "schema_version": 3,
     "solution": false,
     "task": false
    }
   },
   "outputs": [
    {
     "data": {
      "text/plain": [
       ":cross_validation_model_performance"
      ]
     },
     "execution_count": 59,
     "metadata": {},
     "output_type": "execute_result"
    }
   ],
   "source": [
    "def cross_validation_model_performance dataset, folds, learners, metric    \n",
    "  learners.map do |learner|\n",
    "    tr_metrics = []\n",
    "    te_metrics = []\n",
    "    puts \"#{folds}-fold CV: #{learner.class.name}, parameters: #{learner.parameters}\"\n",
    "    cross_validate dataset, folds do |train_dataset, test_dataset|\n",
    "      learner.train train_dataset\n",
    "      train_scores = learner.evaluate train_dataset\n",
    "      test_scores = learner.evaluate test_dataset      \n",
    "      tr_metrics << metric.apply(train_scores)\n",
    "      te_metrics << metric.apply(test_scores)\n",
    "    end\n",
    "    {\n",
    "      \"learner\" => learner.class.name, \"parameters\" => learner.parameters, \"folds\" => folds,\n",
    "      \"mean_train_metric\" => mean(tr_metrics), \"stdev_train_metric\" => stdev(tr_metrics),\n",
    "      \"mean_test_metric\" => mean(te_metrics), \"stdev_test_metric\" => stdev(te_metrics),\n",
    "    }\n",
    "  end\n",
    "end\n"
   ]
  },
  {
   "cell_type": "code",
   "execution_count": 60,
   "metadata": {
    "deletable": false,
    "editable": false,
    "nbgrader": {
     "cell_type": "code",
     "checksum": "ab28c6c2efa38f40e078aeb068d3a1ed",
     "grade": false,
     "grade_id": "cell-d8832ba574060ec7",
     "locked": true,
     "schema_version": 3,
     "solution": false,
     "task": false
    }
   },
   "outputs": [
    {
     "data": {
      "text/plain": [
       ":parameter_search"
      ]
     },
     "execution_count": 60,
     "metadata": {},
     "output_type": "execute_result"
    }
   ],
   "source": [
    "def best_performance_by_learner stats  \n",
    "  stats.group_by {|s| s[\"learner\"]}.map do |g_s|\n",
    "    learner, learner_stats = g_s\n",
    "    best_parameters = learner_stats.max_by {|l| l[\"mean_test_metric\"]}    \n",
    "    [learner, best_parameters]\n",
    "  end.to_h\n",
    "end\n",
    "\n",
    "def parameter_search learners, dataset\n",
    "  metric = AUCMetric.new  \n",
    "  stats = cross_validation_model_performance dataset, 5, learners, metric\n",
    "  best_by_learner = best_performance_by_learner stats  \n",
    "  puts JSON.pretty_generate(best_by_learner)\n",
    "\n",
    "  assert_equal learners.size, stats.size\n",
    "  assert_true(stats.all? {|s| a = s[\"mean_train_metric\"]; a >= 0.0 and a <= 1.0}, \"0 <= Train AUC <= 1\")\n",
    "  assert_true(stats.all? {|s| a = s[\"mean_test_metric\"]; a >= 0.0 and a <= 1.0}, \"0 <= Train AUC <= 1\")\n",
    "  \n",
    "  df = Daru::DataFrame.new(stats) \n",
    "end"
   ]
  },
  {
   "cell_type": "markdown",
   "metadata": {
    "deletable": false,
    "editable": false,
    "nbgrader": {
     "cell_type": "markdown",
     "checksum": "fefe7bb8dbd8325b38a6343c8434c21c",
     "grade": false,
     "grade_id": "cell-5f0e3ea376a56cc5",
     "locked": true,
     "schema_version": 3,
     "solution": false,
     "task": false
    }
   },
   "source": [
    "We will select the best-performing model on the iris using a single decision tree with various ```min_size``` parameter values. "
   ]
  },
  {
   "cell_type": "code",
   "execution_count": 61,
   "metadata": {
    "deletable": false,
    "editable": false,
    "nbgrader": {
     "cell_type": "code",
     "checksum": "ddba90641d2a72e7ff515890535f34a0",
     "grade": true,
     "grade_id": "cell-6774f4fe33b374a1",
     "locked": true,
     "points": 1,
     "schema_version": 3,
     "solution": false,
     "task": false
    }
   },
   "outputs": [
    {
     "name": "stdout",
     "output_type": "stream",
     "text": [
      "5-fold CV: DecisionTreeLearner, parameters: {\"min_size\"=>1, \"max_depth\"=>50}\n",
      "5-fold CV: DecisionTreeLearner, parameters: {\"min_size\"=>2, \"max_depth\"=>50}\n",
      "5-fold CV: DecisionTreeLearner, parameters: {\"min_size\"=>5, \"max_depth\"=>50}\n",
      "5-fold CV: DecisionTreeLearner, parameters: {\"min_size\"=>10, \"max_depth\"=>50}\n",
      "5-fold CV: DecisionTreeLearner, parameters: {\"min_size\"=>15, \"max_depth\"=>50}\n",
      "5-fold CV: DecisionTreeLearner, parameters: {\"min_size\"=>20, \"max_depth\"=>50}\n",
      "5-fold CV: DecisionTreeLearner, parameters: {\"min_size\"=>25, \"max_depth\"=>50}\n",
      "5-fold CV: DecisionTreeLearner, parameters: {\"min_size\"=>50, \"max_depth\"=>50}\n",
      "5-fold CV: DecisionTreeLearner, parameters: {\"min_size\"=>100, \"max_depth\"=>50}\n",
      "{\n",
      "  \"DecisionTreeLearner\": {\n",
      "    \"learner\": \"DecisionTreeLearner\",\n",
      "    \"parameters\": {\n",
      "      \"min_size\": 5,\n",
      "      \"max_depth\": 50\n",
      "    },\n",
      "    \"folds\": 5,\n",
      "    \"mean_train_metric\": 0.9989848305487878,\n",
      "    \"stdev_train_metric\": 4.787656956139239e-07,\n",
      "    \"mean_test_metric\": 0.9492203554958973,\n",
      "    \"stdev_test_metric\": 0.002930380251502318\n",
      "  }\n",
      "}\n"
     ]
    },
    {
     "data": {
      "text/html": [
       "<b> Daru::DataFrame(9x7) </b>\n",
       "<table border=\"1\" class=\"dataframe\">\n",
       "  <thead>\n",
       "  \n",
       "    <tr>\n",
       "      <th></th>\n",
       "      \n",
       "        <th>learner</th>\n",
       "      \n",
       "        <th>parameters</th>\n",
       "      \n",
       "        <th>folds</th>\n",
       "      \n",
       "        <th>mean_train_metric</th>\n",
       "      \n",
       "        <th>stdev_train_metric</th>\n",
       "      \n",
       "        <th>mean_test_metric</th>\n",
       "      \n",
       "        <th>stdev_test_metric</th>\n",
       "      \n",
       "    </tr>\n",
       "  \n",
       "</thead>\n",
       "  <tbody>\n",
       "  \n",
       "    <tr>\n",
       "      <td>0</td>\n",
       "      \n",
       "        <td>DecisionTreeLearner</td>\n",
       "      \n",
       "        <td>{\"min_size\"=>1, \"max_depth\"=>50}</td>\n",
       "      \n",
       "        <td>5</td>\n",
       "      \n",
       "        <td>1.0</td>\n",
       "      \n",
       "        <td>0.0</td>\n",
       "      \n",
       "        <td>0.9151294464049883</td>\n",
       "      \n",
       "        <td>0.00731899526019191</td>\n",
       "      \n",
       "    </tr>\n",
       "  \n",
       "    <tr>\n",
       "      <td>1</td>\n",
       "      \n",
       "        <td>DecisionTreeLearner</td>\n",
       "      \n",
       "        <td>{\"min_size\"=>2, \"max_depth\"=>50}</td>\n",
       "      \n",
       "        <td>5</td>\n",
       "      \n",
       "        <td>1.0</td>\n",
       "      \n",
       "        <td>0.0</td>\n",
       "      \n",
       "        <td>0.9151294464049883</td>\n",
       "      \n",
       "        <td>0.00731899526019191</td>\n",
       "      \n",
       "    </tr>\n",
       "  \n",
       "    <tr>\n",
       "      <td>2</td>\n",
       "      \n",
       "        <td>DecisionTreeLearner</td>\n",
       "      \n",
       "        <td>{\"min_size\"=>5, \"max_depth\"=>50}</td>\n",
       "      \n",
       "        <td>5</td>\n",
       "      \n",
       "        <td>0.9989848305487878</td>\n",
       "      \n",
       "        <td>4.787656956139239e-07</td>\n",
       "      \n",
       "        <td>0.9492203554958973</td>\n",
       "      \n",
       "        <td>0.002930380251502318</td>\n",
       "      \n",
       "    </tr>\n",
       "  \n",
       "    <tr>\n",
       "      <td>3</td>\n",
       "      \n",
       "        <td>DecisionTreeLearner</td>\n",
       "      \n",
       "        <td>{\"min_size\"=>10, \"max_depth\"=>50}</td>\n",
       "      \n",
       "        <td>5</td>\n",
       "      \n",
       "        <td>0.99780235631668</td>\n",
       "      \n",
       "        <td>1.946416625259581e-06</td>\n",
       "      \n",
       "        <td>0.9474104007447661</td>\n",
       "      \n",
       "        <td>0.003146954411830592</td>\n",
       "      \n",
       "    </tr>\n",
       "  \n",
       "    <tr>\n",
       "      <td>4</td>\n",
       "      \n",
       "        <td>DecisionTreeLearner</td>\n",
       "      \n",
       "        <td>{\"min_size\"=>15, \"max_depth\"=>50}</td>\n",
       "      \n",
       "        <td>5</td>\n",
       "      \n",
       "        <td>0.99780235631668</td>\n",
       "      \n",
       "        <td>1.946416625259581e-06</td>\n",
       "      \n",
       "        <td>0.9474104007447661</td>\n",
       "      \n",
       "        <td>0.003146954411830592</td>\n",
       "      \n",
       "    </tr>\n",
       "  \n",
       "    <tr>\n",
       "      <td>5</td>\n",
       "      \n",
       "        <td>DecisionTreeLearner</td>\n",
       "      \n",
       "        <td>{\"min_size\"=>20, \"max_depth\"=>50}</td>\n",
       "      \n",
       "        <td>5</td>\n",
       "      \n",
       "        <td>0.99780235631668</td>\n",
       "      \n",
       "        <td>1.946416625259581e-06</td>\n",
       "      \n",
       "        <td>0.9474104007447661</td>\n",
       "      \n",
       "        <td>0.003146954411830592</td>\n",
       "      \n",
       "    </tr>\n",
       "  \n",
       "    <tr>\n",
       "      <td>6</td>\n",
       "      \n",
       "        <td>DecisionTreeLearner</td>\n",
       "      \n",
       "        <td>{\"min_size\"=>25, \"max_depth\"=>50}</td>\n",
       "      \n",
       "        <td>5</td>\n",
       "      \n",
       "        <td>0.99780235631668</td>\n",
       "      \n",
       "        <td>1.946416625259581e-06</td>\n",
       "      \n",
       "        <td>0.9474104007447661</td>\n",
       "      \n",
       "        <td>0.003146954411830592</td>\n",
       "      \n",
       "    </tr>\n",
       "  \n",
       "    <tr>\n",
       "      <td>7</td>\n",
       "      \n",
       "        <td>DecisionTreeLearner</td>\n",
       "      \n",
       "        <td>{\"min_size\"=>50, \"max_depth\"=>50}</td>\n",
       "      \n",
       "        <td>5</td>\n",
       "      \n",
       "        <td>0.9785729866192892</td>\n",
       "      \n",
       "        <td>7.493969689611498e-05</td>\n",
       "      \n",
       "        <td>0.9210837861828575</td>\n",
       "      \n",
       "        <td>0.0049687602299819935</td>\n",
       "      \n",
       "    </tr>\n",
       "  \n",
       "    <tr>\n",
       "      <td>8</td>\n",
       "      \n",
       "        <td>DecisionTreeLearner</td>\n",
       "      \n",
       "        <td>{\"min_size\"=>100, \"max_depth\"=>50}</td>\n",
       "      \n",
       "        <td>5</td>\n",
       "      \n",
       "        <td>0.7621352062907693</td>\n",
       "      \n",
       "        <td>0.00017650641242245434</td>\n",
       "      \n",
       "        <td>0.7390360800190522</td>\n",
       "      \n",
       "        <td>0.0016407766671213452</td>\n",
       "      \n",
       "    </tr>\n",
       "  \n",
       "\n",
       "  \n",
       "</tbody>\n",
       "</table>"
      ],
      "text/plain": [
       "#<Daru::DataFrame(9x7)>\n",
       "                               learner         parameters              folds  mean_train_metric stdev_train_metric   mean_test_metric  stdev_test_metric\n",
       "                  0 DecisionTreeLearne {\"min_size\"=>1, \"m                  5                1.0                0.0 0.9151294464049883 0.0073189952601919\n",
       "                  1 DecisionTreeLearne {\"min_size\"=>2, \"m                  5                1.0                0.0 0.9151294464049883 0.0073189952601919\n",
       "                  2 DecisionTreeLearne {\"min_size\"=>5, \"m                  5 0.9989848305487878 4.787656956139239e 0.9492203554958973 0.0029303802515023\n",
       "                  3 DecisionTreeLearne {\"min_size\"=>10, \"                  5   0.99780235631668 1.946416625259581e 0.9474104007447661 0.0031469544118305\n",
       "                  4 DecisionTreeLearne {\"min_size\"=>15, \"                  5   0.99780235631668 1.946416625259581e 0.9474104007447661 0.0031469544118305\n",
       "                  5 DecisionTreeLearne {\"min_size\"=>20, \"                  5   0.99780235631668 1.946416625259581e 0.9474104007447661 0.0031469544118305\n",
       "                  6 DecisionTreeLearne {\"min_size\"=>25, \"                  5   0.99780235631668 1.946416625259581e 0.9474104007447661 0.0031469544118305\n",
       "                  7 DecisionTreeLearne {\"min_size\"=>50, \"                  5 0.9785729866192892 7.493969689611498e 0.9210837861828575 0.0049687602299819\n",
       "                  8 DecisionTreeLearne {\"min_size\"=>100,                   5 0.7621352062907693 0.0001765064124224 0.7390360800190522 0.0016407766671213"
      ]
     },
     "execution_count": 61,
     "metadata": {},
     "output_type": "execute_result"
    }
   ],
   "source": [
    "def test_6774f4()\n",
    "  iris = load_iris_dataset()\n",
    "  limit = iris[\"data\"].size\n",
    "  min_sizes = [1, 2, 5, 10, 15, 20, 25, 50, 100, 200, 250, 500]\n",
    "  max_depth = 50  \n",
    "  min_sizes.select! {|s| s < limit}\n",
    "\n",
    "  learners = min_sizes.map do |s|\n",
    "    DecisionTreeLearner.new(1, min_size: s, max_depth: max_depth)\n",
    "  end\n",
    "\n",
    "  parameter_search learners, iris\n",
    "end\n",
    "test_6774f4()"
   ]
  },
  {
   "cell_type": "markdown",
   "metadata": {
    "deletable": false,
    "editable": false,
    "nbgrader": {
     "cell_type": "markdown",
     "checksum": "9b7f521bfb12776022d9466ba6d8ac3e",
     "grade": false,
     "grade_id": "cell-a3943848fe92d322",
     "locked": true,
     "schema_version": 3,
     "solution": false,
     "task": false
    }
   },
   "source": [
    "Select the best-performing model using RandomForest on the iris dataset with various ```min_size``` parameters."
   ]
  },
  {
   "cell_type": "code",
   "execution_count": 62,
   "metadata": {
    "deletable": false,
    "editable": false,
    "nbgrader": {
     "cell_type": "code",
     "checksum": "d1fa9579f87e544e8d2b2f3df2b2dfa5",
     "grade": true,
     "grade_id": "cell-f9aacd0920a93732",
     "locked": true,
     "points": 1,
     "schema_version": 3,
     "solution": false,
     "task": false
    }
   },
   "outputs": [
    {
     "name": "stdout",
     "output_type": "stream",
     "text": [
      "5-fold CV: RandomForestLearner, parameters: {\"num_trees\"=>11, \"min_size\"=>1, \"max_depth\"=>50}\n",
      "5-fold CV: RandomForestLearner, parameters: {\"num_trees\"=>11, \"min_size\"=>2, \"max_depth\"=>50}\n",
      "5-fold CV: RandomForestLearner, parameters: {\"num_trees\"=>11, \"min_size\"=>5, \"max_depth\"=>50}\n",
      "5-fold CV: RandomForestLearner, parameters: {\"num_trees\"=>11, \"min_size\"=>10, \"max_depth\"=>50}\n",
      "5-fold CV: RandomForestLearner, parameters: {\"num_trees\"=>11, \"min_size\"=>15, \"max_depth\"=>50}\n",
      "5-fold CV: RandomForestLearner, parameters: {\"num_trees\"=>11, \"min_size\"=>20, \"max_depth\"=>50}\n",
      "5-fold CV: RandomForestLearner, parameters: {\"num_trees\"=>11, \"min_size\"=>25, \"max_depth\"=>50}\n",
      "5-fold CV: RandomForestLearner, parameters: {\"num_trees\"=>11, \"min_size\"=>50, \"max_depth\"=>50}\n",
      "5-fold CV: RandomForestLearner, parameters: {\"num_trees\"=>11, \"min_size\"=>100, \"max_depth\"=>50}\n",
      "{\n",
      "  \"RandomForestLearner\": {\n",
      "    \"learner\": \"RandomForestLearner\",\n",
      "    \"parameters\": {\n",
      "      \"num_trees\": 11,\n",
      "      \"min_size\": 1,\n",
      "      \"max_depth\": 50\n",
      "    },\n",
      "    \"folds\": 5,\n",
      "    \"mean_train_metric\": 0.979792019765371,\n",
      "    \"stdev_train_metric\": 0.0002394771057560725,\n",
      "    \"mean_test_metric\": 0.9414766286345234,\n",
      "    \"stdev_test_metric\": 0.0028698977105261108\n",
      "  }\n",
      "}\n"
     ]
    },
    {
     "data": {
      "text/html": [
       "<b> Daru::DataFrame(9x7) </b>\n",
       "<table border=\"1\" class=\"dataframe\">\n",
       "  <thead>\n",
       "  \n",
       "    <tr>\n",
       "      <th></th>\n",
       "      \n",
       "        <th>learner</th>\n",
       "      \n",
       "        <th>parameters</th>\n",
       "      \n",
       "        <th>folds</th>\n",
       "      \n",
       "        <th>mean_train_metric</th>\n",
       "      \n",
       "        <th>stdev_train_metric</th>\n",
       "      \n",
       "        <th>mean_test_metric</th>\n",
       "      \n",
       "        <th>stdev_test_metric</th>\n",
       "      \n",
       "    </tr>\n",
       "  \n",
       "</thead>\n",
       "  <tbody>\n",
       "  \n",
       "    <tr>\n",
       "      <td>0</td>\n",
       "      \n",
       "        <td>RandomForestLearner</td>\n",
       "      \n",
       "        <td>{\"num_trees\"=>11, \"min_size\"=>1, \"max_depth\"=>50}</td>\n",
       "      \n",
       "        <td>5</td>\n",
       "      \n",
       "        <td>0.979792019765371</td>\n",
       "      \n",
       "        <td>0.0002394771057560725</td>\n",
       "      \n",
       "        <td>0.9414766286345234</td>\n",
       "      \n",
       "        <td>0.0028698977105261108</td>\n",
       "      \n",
       "    </tr>\n",
       "  \n",
       "    <tr>\n",
       "      <td>1</td>\n",
       "      \n",
       "        <td>RandomForestLearner</td>\n",
       "      \n",
       "        <td>{\"num_trees\"=>11, \"min_size\"=>2, \"max_depth\"=>50}</td>\n",
       "      \n",
       "        <td>5</td>\n",
       "      \n",
       "        <td>0.979792019765371</td>\n",
       "      \n",
       "        <td>0.0002394771057560725</td>\n",
       "      \n",
       "        <td>0.9414766286345234</td>\n",
       "      \n",
       "        <td>0.0028698977105261108</td>\n",
       "      \n",
       "    </tr>\n",
       "  \n",
       "    <tr>\n",
       "      <td>2</td>\n",
       "      \n",
       "        <td>RandomForestLearner</td>\n",
       "      \n",
       "        <td>{\"num_trees\"=>11, \"min_size\"=>5, \"max_depth\"=>50}</td>\n",
       "      \n",
       "        <td>5</td>\n",
       "      \n",
       "        <td>0.9793462550008188</td>\n",
       "      \n",
       "        <td>0.0002342987758520636</td>\n",
       "      \n",
       "        <td>0.9414766286345234</td>\n",
       "      \n",
       "        <td>0.0028698977105261108</td>\n",
       "      \n",
       "    </tr>\n",
       "  \n",
       "    <tr>\n",
       "      <td>3</td>\n",
       "      \n",
       "        <td>RandomForestLearner</td>\n",
       "      \n",
       "        <td>{\"num_trees\"=>11, \"min_size\"=>10, \"max_depth\"=>50}</td>\n",
       "      \n",
       "        <td>5</td>\n",
       "      \n",
       "        <td>0.9825804480784497</td>\n",
       "      \n",
       "        <td>0.00029636300204063064</td>\n",
       "      \n",
       "        <td>0.9414766286345234</td>\n",
       "      \n",
       "        <td>0.0028698977105261108</td>\n",
       "      \n",
       "    </tr>\n",
       "  \n",
       "    <tr>\n",
       "      <td>4</td>\n",
       "      \n",
       "        <td>RandomForestLearner</td>\n",
       "      \n",
       "        <td>{\"num_trees\"=>11, \"min_size\"=>15, \"max_depth\"=>50}</td>\n",
       "      \n",
       "        <td>5</td>\n",
       "      \n",
       "        <td>0.9816315690649471</td>\n",
       "      \n",
       "        <td>0.00028854926897181886</td>\n",
       "      \n",
       "        <td>0.9414766286345234</td>\n",
       "      \n",
       "        <td>0.0028698977105261108</td>\n",
       "      \n",
       "    </tr>\n",
       "  \n",
       "    <tr>\n",
       "      <td>5</td>\n",
       "      \n",
       "        <td>RandomForestLearner</td>\n",
       "      \n",
       "        <td>{\"num_trees\"=>11, \"min_size\"=>20, \"max_depth\"=>50}</td>\n",
       "      \n",
       "        <td>5</td>\n",
       "      \n",
       "        <td>0.9795345543763269</td>\n",
       "      \n",
       "        <td>0.0002813183424622847</td>\n",
       "      \n",
       "        <td>0.9380675377254326</td>\n",
       "      \n",
       "        <td>0.0024292284814298477</td>\n",
       "      \n",
       "    </tr>\n",
       "  \n",
       "    <tr>\n",
       "      <td>6</td>\n",
       "      \n",
       "        <td>RandomForestLearner</td>\n",
       "      \n",
       "        <td>{\"num_trees\"=>11, \"min_size\"=>25, \"max_depth\"=>50}</td>\n",
       "      \n",
       "        <td>5</td>\n",
       "      \n",
       "        <td>0.9795345543763269</td>\n",
       "      \n",
       "        <td>0.0002813183424622847</td>\n",
       "      \n",
       "        <td>0.9380675377254326</td>\n",
       "      \n",
       "        <td>0.0024292284814298477</td>\n",
       "      \n",
       "    </tr>\n",
       "  \n",
       "    <tr>\n",
       "      <td>7</td>\n",
       "      \n",
       "        <td>RandomForestLearner</td>\n",
       "      \n",
       "        <td>{\"num_trees\"=>11, \"min_size\"=>50, \"max_depth\"=>50}</td>\n",
       "      \n",
       "        <td>5</td>\n",
       "      \n",
       "        <td>0.9643153706195013</td>\n",
       "      \n",
       "        <td>0.0002369649663985444</td>\n",
       "      \n",
       "        <td>0.9396296520816645</td>\n",
       "      \n",
       "        <td>0.0019001911551786382</td>\n",
       "      \n",
       "    </tr>\n",
       "  \n",
       "    <tr>\n",
       "      <td>8</td>\n",
       "      \n",
       "        <td>RandomForestLearner</td>\n",
       "      \n",
       "        <td>{\"num_trees\"=>11, \"min_size\"=>100, \"max_depth\"=>50}</td>\n",
       "      \n",
       "        <td>5</td>\n",
       "      \n",
       "        <td>0.7621352062907693</td>\n",
       "      \n",
       "        <td>0.00017650641242245434</td>\n",
       "      \n",
       "        <td>0.746275899023577</td>\n",
       "      \n",
       "        <td>0.0008113936746182847</td>\n",
       "      \n",
       "    </tr>\n",
       "  \n",
       "\n",
       "  \n",
       "</tbody>\n",
       "</table>"
      ],
      "text/plain": [
       "#<Daru::DataFrame(9x7)>\n",
       "                               learner         parameters              folds  mean_train_metric stdev_train_metric   mean_test_metric  stdev_test_metric\n",
       "                  0 RandomForestLearne {\"num_trees\"=>11,                   5  0.979792019765371 0.0002394771057560 0.9414766286345234 0.0028698977105261\n",
       "                  1 RandomForestLearne {\"num_trees\"=>11,                   5  0.979792019765371 0.0002394771057560 0.9414766286345234 0.0028698977105261\n",
       "                  2 RandomForestLearne {\"num_trees\"=>11,                   5 0.9793462550008188 0.0002342987758520 0.9414766286345234 0.0028698977105261\n",
       "                  3 RandomForestLearne {\"num_trees\"=>11,                   5 0.9825804480784497 0.0002963630020406 0.9414766286345234 0.0028698977105261\n",
       "                  4 RandomForestLearne {\"num_trees\"=>11,                   5 0.9816315690649471 0.0002885492689718 0.9414766286345234 0.0028698977105261\n",
       "                  5 RandomForestLearne {\"num_trees\"=>11,                   5 0.9795345543763269 0.0002813183424622 0.9380675377254326 0.0024292284814298\n",
       "                  6 RandomForestLearne {\"num_trees\"=>11,                   5 0.9795345543763269 0.0002813183424622 0.9380675377254326 0.0024292284814298\n",
       "                  7 RandomForestLearne {\"num_trees\"=>11,                   5 0.9643153706195013 0.0002369649663985 0.9396296520816645 0.0019001911551786\n",
       "                  8 RandomForestLearne {\"num_trees\"=>11,                   5 0.7621352062907693 0.0001765064124224  0.746275899023577 0.0008113936746182"
      ]
     },
     "execution_count": 62,
     "metadata": {},
     "output_type": "execute_result"
    }
   ],
   "source": [
    "def test_f9aacd()\n",
    "  iris = load_iris_dataset()\n",
    "  limit = iris[\"data\"].size\n",
    "  min_sizes = [1, 2, 5, 10, 15, 20, 25, 50, 100, 200, 250, 500]\n",
    "  max_depth = 50  \n",
    "  num_trees = 11\n",
    "  min_sizes.select! {|s| s < limit}\n",
    "\n",
    "  learners = min_sizes.map do |s|\n",
    "    RandomForestLearner.new(1, num_trees: num_trees, min_size: s, max_depth: max_depth)\n",
    "  end\n",
    "\n",
    "  parameter_search learners, iris\n",
    "end\n",
    "test_f9aacd()"
   ]
  },
  {
   "cell_type": "markdown",
   "metadata": {
    "deletable": false,
    "editable": false,
    "nbgrader": {
     "cell_type": "markdown",
     "checksum": "53fc686870ad1ffb88df59f483865985",
     "grade": false,
     "grade_id": "cell-a6b67415c40204c7",
     "locked": true,
     "schema_version": 3,
     "solution": false,
     "task": false
    }
   },
   "source": [
    "We will select the best-performing model on the german credit dataset using a single decision tree with various ```min_size``` parameter values. "
   ]
  },
  {
   "cell_type": "code",
   "execution_count": null,
   "metadata": {
    "deletable": false,
    "editable": false,
    "nbgrader": {
     "cell_type": "code",
     "checksum": "a6eb075abce2e0fcd24d28418226d4fb",
     "grade": true,
     "grade_id": "cell-0678f48593ff9e65",
     "locked": true,
     "points": 1,
     "schema_version": 3,
     "solution": false,
     "task": false
    }
   },
   "outputs": [
    {
     "name": "stdout",
     "output_type": "stream",
     "text": [
      "5-fold CV: DecisionTreeLearner, parameters: {\"min_size\"=>1, \"max_depth\"=>50}\n"
     ]
    },
    {
     "ename": "NoMethodError",
     "evalue": "undefined method `children' for nil:NilClass",
     "output_type": "error",
     "traceback": [
      "\u001b[31mNoMethodError\u001b[0m: undefined method `children' for nil:NilClass",
      "(pry):747:in `find_leaf'",
      "(pry):723:in `predict'",
      "(pry):733:in `block in evaluate'",
      "(pry):731:in `map'",
      "(pry):731:in `evaluate'",
      "(pry):1178:in `block (2 levels) in cross_validation_model_performance'",
      "(pry):1160:in `block in cross_validate'",
      "(pry):1150:in `times'",
      "(pry):1150:in `cross_validate'",
      "(pry):1176:in `block in cross_validation_model_performance'",
      "(pry):1172:in `map'",
      "(pry):1172:in `cross_validation_model_performance'",
      "(pry):1200:in `parameter_search'",
      "(pry):1249:in `test_0678f4'",
      "(pry):1251:in `<main>'",
      "/usr/local/lib/ruby/gems/2.7.0/gems/pry-0.13.1/lib/pry/pry_instance.rb:290:in `eval'",
      "/usr/local/lib/ruby/gems/2.7.0/gems/pry-0.13.1/lib/pry/pry_instance.rb:290:in `evaluate_ruby'",
      "/usr/local/lib/ruby/gems/2.7.0/gems/pry-0.13.1/lib/pry/pry_instance.rb:659:in `handle_line'",
      "/usr/local/lib/ruby/gems/2.7.0/gems/pry-0.13.1/lib/pry/pry_instance.rb:261:in `block (2 levels) in eval'",
      "/usr/local/lib/ruby/gems/2.7.0/gems/pry-0.13.1/lib/pry/pry_instance.rb:260:in `catch'",
      "/usr/local/lib/ruby/gems/2.7.0/gems/pry-0.13.1/lib/pry/pry_instance.rb:260:in `block in eval'",
      "/usr/local/lib/ruby/gems/2.7.0/gems/pry-0.13.1/lib/pry/pry_instance.rb:259:in `catch'",
      "/usr/local/lib/ruby/gems/2.7.0/gems/pry-0.13.1/lib/pry/pry_instance.rb:259:in `eval'",
      "/usr/local/lib/ruby/gems/2.7.0/gems/iruby-0.4.0/lib/iruby/backend.rb:66:in `eval'",
      "/usr/local/lib/ruby/gems/2.7.0/gems/iruby-0.4.0/lib/iruby/backend.rb:12:in `eval'",
      "/usr/local/lib/ruby/gems/2.7.0/gems/iruby-0.4.0/lib/iruby/kernel.rb:90:in `execute_request'",
      "/usr/local/lib/ruby/gems/2.7.0/gems/iruby-0.4.0/lib/iruby/kernel.rb:49:in `dispatch'",
      "/usr/local/lib/ruby/gems/2.7.0/gems/iruby-0.4.0/lib/iruby/kernel.rb:38:in `run'",
      "/usr/local/lib/ruby/gems/2.7.0/gems/iruby-0.4.0/lib/iruby/command.rb:110:in `run_kernel'",
      "/usr/local/lib/ruby/gems/2.7.0/gems/iruby-0.4.0/lib/iruby/command.rb:40:in `run'",
      "/usr/local/lib/ruby/gems/2.7.0/gems/iruby-0.4.0/bin/iruby:5:in `<top (required)>'",
      "/usr/local/bin/iruby:23:in `load'",
      "/usr/local/bin/iruby:23:in `<main>'"
     ]
    }
   ],
   "source": [
    "def test_0678f4()\n",
    "  german_credit = load_german_credit_dataset()\n",
    "  limit = german_credit[\"data\"].size\n",
    "  min_sizes = [1, 2, 5, 10, 15, 20, 25, 50, 100, 200, 250, 500]\n",
    "  max_depth = 50  \n",
    "  min_sizes.select! {|s| s < limit}\n",
    "\n",
    "  learners = min_sizes.map do |s|\n",
    "    DecisionTreeLearner.new(1, min_size: s, max_depth: max_depth)\n",
    "  end\n",
    "  parameter_search learners, german_credit\n",
    "end\n",
    "test_0678f4()"
   ]
  },
  {
   "cell_type": "code",
   "execution_count": null,
   "metadata": {
    "deletable": false,
    "editable": false,
    "nbgrader": {
     "cell_type": "code",
     "checksum": "83fa28c5391747106bd1624eddb47568",
     "grade": true,
     "grade_id": "cell-f3ac87ce058925e0",
     "locked": true,
     "points": 1,
     "schema_version": 3,
     "solution": false,
     "task": false
    }
   },
   "outputs": [
    {
     "name": "stdout",
     "output_type": "stream",
     "text": [
      "5-fold CV: RandomForestLearner, parameters: {\"num_trees\"=>11, \"min_size\"=>1, \"max_depth\"=>50}\n"
     ]
    },
    {
     "ename": "NoMethodError",
     "evalue": "undefined method `children' for nil:NilClass",
     "output_type": "error",
     "traceback": [
      "\u001b[31mNoMethodError\u001b[0m: undefined method `children' for nil:NilClass",
      "(pry):747:in `find_leaf'",
      "(pry):723:in `predict'",
      "(pry):1107:in `block in predict'",
      "(pry):1106:in `each'",
      "(pry):1106:in `predict'",
      "(pry):1096:in `block in evaluate'",
      "(pry):1095:in `map'",
      "(pry):1095:in `evaluate'",
      "(pry):1178:in `block (2 levels) in cross_validation_model_performance'",
      "(pry):1160:in `block in cross_validate'",
      "(pry):1150:in `times'",
      "(pry):1150:in `cross_validate'",
      "(pry):1176:in `block in cross_validation_model_performance'",
      "(pry):1172:in `map'",
      "(pry):1172:in `cross_validation_model_performance'",
      "(pry):1200:in `parameter_search'",
      "(pry):1263:in `test_f3ac87'",
      "(pry):1265:in `<main>'",
      "/usr/local/lib/ruby/gems/2.7.0/gems/pry-0.13.1/lib/pry/pry_instance.rb:290:in `eval'",
      "/usr/local/lib/ruby/gems/2.7.0/gems/pry-0.13.1/lib/pry/pry_instance.rb:290:in `evaluate_ruby'",
      "/usr/local/lib/ruby/gems/2.7.0/gems/pry-0.13.1/lib/pry/pry_instance.rb:659:in `handle_line'",
      "/usr/local/lib/ruby/gems/2.7.0/gems/pry-0.13.1/lib/pry/pry_instance.rb:261:in `block (2 levels) in eval'",
      "/usr/local/lib/ruby/gems/2.7.0/gems/pry-0.13.1/lib/pry/pry_instance.rb:260:in `catch'",
      "/usr/local/lib/ruby/gems/2.7.0/gems/pry-0.13.1/lib/pry/pry_instance.rb:260:in `block in eval'",
      "/usr/local/lib/ruby/gems/2.7.0/gems/pry-0.13.1/lib/pry/pry_instance.rb:259:in `catch'",
      "/usr/local/lib/ruby/gems/2.7.0/gems/pry-0.13.1/lib/pry/pry_instance.rb:259:in `eval'",
      "/usr/local/lib/ruby/gems/2.7.0/gems/iruby-0.4.0/lib/iruby/backend.rb:66:in `eval'",
      "/usr/local/lib/ruby/gems/2.7.0/gems/iruby-0.4.0/lib/iruby/backend.rb:12:in `eval'",
      "/usr/local/lib/ruby/gems/2.7.0/gems/iruby-0.4.0/lib/iruby/kernel.rb:90:in `execute_request'",
      "/usr/local/lib/ruby/gems/2.7.0/gems/iruby-0.4.0/lib/iruby/kernel.rb:49:in `dispatch'",
      "/usr/local/lib/ruby/gems/2.7.0/gems/iruby-0.4.0/lib/iruby/kernel.rb:38:in `run'",
      "/usr/local/lib/ruby/gems/2.7.0/gems/iruby-0.4.0/lib/iruby/command.rb:110:in `run_kernel'",
      "/usr/local/lib/ruby/gems/2.7.0/gems/iruby-0.4.0/lib/iruby/command.rb:40:in `run'",
      "/usr/local/lib/ruby/gems/2.7.0/gems/iruby-0.4.0/bin/iruby:5:in `<top (required)>'",
      "/usr/local/bin/iruby:23:in `load'",
      "/usr/local/bin/iruby:23:in `<main>'"
     ]
    }
   ],
   "source": [
    "def test_f3ac87()\n",
    "  german_credit = load_german_credit_dataset()\n",
    "  limit = german_credit[\"data\"].size\n",
    "  min_sizes = [1, 2, 5, 10, 15, 20, 25, 50, 100, 200, 250, 500]\n",
    "  max_depth = 50  \n",
    "  num_trees = 11\n",
    "  min_sizes.select! {|s| s < limit}\n",
    "\n",
    "  learners = min_sizes.map do |s|\n",
    "      RandomForestLearner.new(1, num_trees: num_trees, min_size: s, max_depth: max_depth)\n",
    "  end\n",
    "  parameter_search learners, german_credit\n",
    "end\n",
    "test_f3ac87()"
   ]
  },
  {
   "cell_type": "markdown",
   "metadata": {
    "deletable": false,
    "editable": false,
    "nbgrader": {
     "cell_type": "markdown",
     "checksum": "36df4050d0780715f83670ddf74b0f54",
     "grade": false,
     "grade_id": "cell-90c1b7efa284e0bf",
     "locked": true,
     "schema_version": 3,
     "solution": false,
     "task": false
    }
   },
   "source": [
    "Next, let's see the effect of increasing the number of trees for the iris dataset"
   ]
  },
  {
   "cell_type": "code",
   "execution_count": null,
   "metadata": {
    "deletable": false,
    "editable": false,
    "nbgrader": {
     "cell_type": "code",
     "checksum": "16a3180614e876f10cb7f22ee17d4d77",
     "grade": true,
     "grade_id": "cell-10cb9264698c5468",
     "locked": true,
     "points": 1,
     "schema_version": 3,
     "solution": false,
     "task": false
    }
   },
   "outputs": [
    {
     "name": "stdout",
     "output_type": "stream",
     "text": [
      "5-fold CV: RandomForestLearner, parameters: {\"num_trees\"=>1, \"min_size\"=>50, \"max_depth\"=>3}\n",
      "5-fold CV: RandomForestLearner, parameters: {\"num_trees\"=>2, \"min_size\"=>50, \"max_depth\"=>3}\n",
      "5-fold CV: RandomForestLearner, parameters: {\"num_trees\"=>3, \"min_size\"=>50, \"max_depth\"=>3}\n",
      "5-fold CV: RandomForestLearner, parameters: {\"num_trees\"=>5, \"min_size\"=>50, \"max_depth\"=>3}\n",
      "5-fold CV: RandomForestLearner, parameters: {\"num_trees\"=>7, \"min_size\"=>50, \"max_depth\"=>3}\n",
      "5-fold CV: RandomForestLearner, parameters: {\"num_trees\"=>9, \"min_size\"=>50, \"max_depth\"=>3}\n",
      "5-fold CV: RandomForestLearner, parameters: {\"num_trees\"=>11, \"min_size\"=>50, \"max_depth\"=>3}\n",
      "5-fold CV: RandomForestLearner, parameters: {\"num_trees\"=>21, \"min_size\"=>50, \"max_depth\"=>3}\n",
      "5-fold CV: RandomForestLearner, parameters: {\"num_trees\"=>51, \"min_size\"=>50, \"max_depth\"=>3}\n",
      "5-fold CV: RandomForestLearner, parameters: {\"num_trees\"=>101, \"min_size\"=>50, \"max_depth\"=>3}\n",
      "5-fold CV: RandomForestLearner, parameters: {\"num_trees\"=>151, \"min_size\"=>50, \"max_depth\"=>3}\n"
     ]
    },
    {
     "ename": "Interrupt",
     "evalue": "",
     "output_type": "error",
     "traceback": [
      "\u001b[31mInterrupt\u001b[0m: ",
      "(pry):235:in `hash'",
      "(pry):235:in `hash'",
      "(pry):235:in `hash'",
      "(pry):235:in `-'",
      "(pry):235:in `split_on_feature'",
      "(pry):369:in `create_split'",
      "(pry):496:in `block (2 levels) in all_possible_splits'",
      "(pry):495:in `each'",
      "(pry):495:in `block in all_possible_splits'",
      "(pry):494:in `each'",
      "(pry):494:in `all_possible_splits'",
      "(pry):643:in `grow_tree'",
      "(pry):633:in `train'",
      "(pry):1072:in `block in train'",
      "(pry):1071:in `each'",
      "(pry):1071:in `train'",
      "(pry):1177:in `block (2 levels) in cross_validation_model_performance'",
      "(pry):1160:in `block in cross_validate'",
      "(pry):1150:in `times'",
      "(pry):1150:in `cross_validate'",
      "(pry):1176:in `block in cross_validation_model_performance'",
      "(pry):1172:in `map'",
      "(pry):1172:in `cross_validation_model_performance'",
      "(pry):1200:in `parameter_search'",
      "(pry):1275:in `test_10cb92'",
      "(pry):1277:in `<main>'",
      "/usr/local/lib/ruby/gems/2.7.0/gems/pry-0.13.1/lib/pry/pry_instance.rb:290:in `eval'",
      "/usr/local/lib/ruby/gems/2.7.0/gems/pry-0.13.1/lib/pry/pry_instance.rb:290:in `evaluate_ruby'",
      "/usr/local/lib/ruby/gems/2.7.0/gems/pry-0.13.1/lib/pry/pry_instance.rb:659:in `handle_line'",
      "/usr/local/lib/ruby/gems/2.7.0/gems/pry-0.13.1/lib/pry/pry_instance.rb:261:in `block (2 levels) in eval'",
      "/usr/local/lib/ruby/gems/2.7.0/gems/pry-0.13.1/lib/pry/pry_instance.rb:260:in `catch'",
      "/usr/local/lib/ruby/gems/2.7.0/gems/pry-0.13.1/lib/pry/pry_instance.rb:260:in `block in eval'",
      "/usr/local/lib/ruby/gems/2.7.0/gems/pry-0.13.1/lib/pry/pry_instance.rb:259:in `catch'",
      "/usr/local/lib/ruby/gems/2.7.0/gems/pry-0.13.1/lib/pry/pry_instance.rb:259:in `eval'",
      "/usr/local/lib/ruby/gems/2.7.0/gems/iruby-0.4.0/lib/iruby/backend.rb:66:in `eval'",
      "/usr/local/lib/ruby/gems/2.7.0/gems/iruby-0.4.0/lib/iruby/backend.rb:12:in `eval'",
      "/usr/local/lib/ruby/gems/2.7.0/gems/iruby-0.4.0/lib/iruby/kernel.rb:90:in `execute_request'",
      "/usr/local/lib/ruby/gems/2.7.0/gems/iruby-0.4.0/lib/iruby/kernel.rb:49:in `dispatch'",
      "/usr/local/lib/ruby/gems/2.7.0/gems/iruby-0.4.0/lib/iruby/kernel.rb:38:in `run'",
      "/usr/local/lib/ruby/gems/2.7.0/gems/iruby-0.4.0/lib/iruby/command.rb:110:in `run_kernel'",
      "/usr/local/lib/ruby/gems/2.7.0/gems/iruby-0.4.0/lib/iruby/command.rb:40:in `run'",
      "/usr/local/lib/ruby/gems/2.7.0/gems/iruby-0.4.0/bin/iruby:5:in `<top (required)>'",
      "/usr/local/bin/iruby:23:in `load'",
      "/usr/local/bin/iruby:23:in `<main>'"
     ]
    }
   ],
   "source": [
    "def test_10cb92()\n",
    "  german_credit = load_iris_dataset()\n",
    "  min_size = 50\n",
    "  max_depth = 3\n",
    "  num_trees = [1,2,3,5,7,9,11, 21, 51, 101, 151, 201]\n",
    "  \n",
    "  learners = num_trees.map do |s|\n",
    "    RandomForestLearner.new(1, num_trees: s, min_size: min_size, max_depth: max_depth)\n",
    "  end\n",
    "  parameter_search learners, german_credit\n",
    "end\n",
    "test_10cb92()"
   ]
  },
  {
   "cell_type": "markdown",
   "metadata": {
    "deletable": false,
    "editable": false,
    "nbgrader": {
     "cell_type": "markdown",
     "checksum": "b894dd7c11f07f93ab66c5beaf093d18",
     "grade": false,
     "grade_id": "cell-fbc22f95d5b0c02b",
     "locked": true,
     "schema_version": 3,
     "solution": false,
     "task": false
    }
   },
   "source": [
    "## Question 7.3 (2 Points)\n",
    "\n",
    "In ```test_6774f4``` above, we test different min sizes for the iris dataset. Considering the results for that test, which of the following are true?\n",
    "\n",
    "**A**. The best performance on the testing set was ```min_size = 150```.\n",
    "\n",
    "**B**. The best performance on the testing set was ```min_size = 1```.\n",
    "\n",
    "**C**. The best performance on the training set was ```min_size = 1```.\n",
    "\n",
    "**D**. The best performance on the testing set was neither 150 nor 1.\n",
    "\n",
    "\n",
    "_(Instructions) In the function below, return an array of the upper-case letters indicating your answer (zero or more). For example, if you think that the answers are \"E\" and \"F\", write the following:_\n",
    "\n",
    "```ruby\n",
    "def answer_fa007f()\n",
    "    %w(E F)\n",
    "end\n",
    "```"
   ]
  },
  {
   "cell_type": "code",
   "execution_count": 66,
   "metadata": {
    "deletable": false,
    "nbgrader": {
     "cell_type": "code",
     "checksum": "485c72623658840f4daee9a8b1e27e62",
     "grade": false,
     "grade_id": "cell-fa007f2f82614037",
     "locked": false,
     "schema_version": 3,
     "solution": true,
     "task": false
    }
   },
   "outputs": [
    {
     "data": {
      "text/plain": [
       ":answer_fa007f"
      ]
     },
     "execution_count": 66,
     "metadata": {},
     "output_type": "execute_result"
    }
   ],
   "source": [
    "def answer_fa007f()\n",
    "  # BEGIN YOUR CODE\n",
    "  %w(C D)\n",
    "  #END YOUR CODE\n",
    "end"
   ]
  },
  {
   "cell_type": "code",
   "execution_count": 67,
   "metadata": {
    "deletable": false,
    "editable": false,
    "nbgrader": {
     "cell_type": "code",
     "checksum": "179dc9c1d5be8c9f8cd069e22c448841",
     "grade": true,
     "grade_id": "cell-3aa414c18c84046f",
     "locked": true,
     "points": 2,
     "schema_version": 3,
     "solution": false,
     "task": false
    }
   },
   "outputs": [],
   "source": [
    "assert_not_nil answer_fa007f()"
   ]
  },
  {
   "cell_type": "markdown",
   "metadata": {
    "deletable": false,
    "editable": false,
    "nbgrader": {
     "cell_type": "markdown",
     "checksum": "2d45b561af8231908fbceaaa7fbf62b8",
     "grade": false,
     "grade_id": "cell-ed826ba8f2a188b2",
     "locked": true,
     "schema_version": 3,
     "solution": false,
     "task": false
    }
   },
   "source": [
    "## Question 7.4 (2 Points)\n",
    "\n",
    "In ```test_0678f4``` and ```test_f3ac87``` above, we test different min sizes for the german credit dataset for a single Decision Tree and a random forest. Considering the results for these tests, which of the following are true?\n",
    "\n",
    "**A**. RandomForest has better average test AUC than a single Decision Tree.\n",
    "\n",
    "**B**. RandomForest has better average train AUC than a single Decision Tree.\n",
    "\n",
    "**C**. RandomForest has lower standard deviation test AUC than a single Decision Tree.\n",
    "\n",
    "**D**. RandomForest has higher standard deviation test AUC than a single Decision Tree.\n",
    "\n",
    "\n",
    "_(Instructions) In the function below, return an array of the upper-case letters indicating your answer (zero or more). For example, if you think that the answers are \"E\" and \"F\", write the following:_\n",
    "\n",
    "```ruby\n",
    "def answer_545512()\n",
    "    %w(E F)\n",
    "end\n",
    "```"
   ]
  },
  {
   "cell_type": "code",
   "execution_count": 68,
   "metadata": {
    "deletable": false,
    "nbgrader": {
     "cell_type": "code",
     "checksum": "5aa40c7b4e040b0b57d64833560fca3a",
     "grade": false,
     "grade_id": "cell-5455122d71951333",
     "locked": false,
     "schema_version": 3,
     "solution": true,
     "task": false
    }
   },
   "outputs": [
    {
     "data": {
      "text/plain": [
       ":answer_545512"
      ]
     },
     "execution_count": 68,
     "metadata": {},
     "output_type": "execute_result"
    }
   ],
   "source": [
    "def answer_545512()\n",
    "  # BEGIN YOUR CODE\n",
    "  %w(A C)\n",
    "  #END YOUR CODE\n",
    "end"
   ]
  },
  {
   "cell_type": "code",
   "execution_count": 69,
   "metadata": {
    "deletable": false,
    "editable": false,
    "nbgrader": {
     "cell_type": "code",
     "checksum": "d385452c0fa43df29e77f72e2d240a2b",
     "grade": true,
     "grade_id": "cell-dc36761f97bbbe5e",
     "locked": true,
     "points": 2,
     "schema_version": 3,
     "solution": false,
     "task": false
    }
   },
   "outputs": [],
   "source": [
    "assert_not_nil answer_545512()"
   ]
  },
  {
   "cell_type": "markdown",
   "metadata": {
    "deletable": false,
    "editable": false,
    "nbgrader": {
     "cell_type": "markdown",
     "checksum": "d2e96159383e2f7a268acd9bcac9d23d",
     "grade": false,
     "grade_id": "cell-82b53b31f6575ba7",
     "locked": true,
     "schema_version": 3,
     "solution": false,
     "task": false
    }
   },
   "source": [
    "## Question 7.5 (2 Points)\n",
    "\n",
    "In ```test_10cb92``` above, we tested different number of trees for a random forest on the iris dataset. Considering the results for these tests, which of the following are true?\n",
    "\n",
    "**A**. Increasing the number of trees makes no difference for the iris dataset in this test.\n",
    "\n",
    "**B**. RandomForest testing AUC usually does not become worse with increasing number of trees.\n",
    "\n",
    "**C**. The average testing AUC is monotonically decreasing as the number of trees increases.\n",
    "\n",
    "**D**. Increasing the number of trees led to overfitting for the iris dataset.\n",
    "\n",
    "\n",
    "_(Instructions) In the function below, return an array of the upper-case letters indicating your answer (zero or more). For example, if you think that the answers is \"Z\", write the following:_\n",
    "\n",
    "```ruby\n",
    "def answer_ce174b()\n",
    "    %w(Z)\n",
    "end\n",
    "```"
   ]
  },
  {
   "cell_type": "code",
   "execution_count": 70,
   "metadata": {
    "deletable": false,
    "nbgrader": {
     "cell_type": "code",
     "checksum": "5e39eec07cd773e1065dd31ea8dbb774",
     "grade": false,
     "grade_id": "cell-ce174b3b886fc74c",
     "locked": false,
     "schema_version": 3,
     "solution": true,
     "task": false
    }
   },
   "outputs": [
    {
     "data": {
      "text/plain": [
       ":answer_ce174b"
      ]
     },
     "execution_count": 70,
     "metadata": {},
     "output_type": "execute_result"
    }
   ],
   "source": [
    "def answer_ce174b()\n",
    "  # BEGIN YOUR CODE\n",
    "  %w(B)\n",
    "  #END YOUR CODE\n",
    "end"
   ]
  },
  {
   "cell_type": "code",
   "execution_count": 71,
   "metadata": {
    "deletable": false,
    "editable": false,
    "nbgrader": {
     "cell_type": "code",
     "checksum": "6a65a8edf22f8510c6da197ad7c3d7bf",
     "grade": true,
     "grade_id": "cell-1146e627e2eac9c9",
     "locked": true,
     "points": 2,
     "schema_version": 3,
     "solution": false,
     "task": false
    }
   },
   "outputs": [],
   "source": [
    "assert_not_nil answer_ce174b()"
   ]
  }
 ],
 "metadata": {
  "kernelspec": {
   "display_name": "Ruby 2.7.0",
   "language": "ruby",
   "name": "ruby"
  },
  "language_info": {
   "file_extension": ".rb",
   "mimetype": "application/x-ruby",
   "name": "ruby",
   "version": "2.7.0"
  }
 },
 "nbformat": 4,
 "nbformat_minor": 2
}
