{
 "cells": [
  {
   "cell_type": "markdown",
   "metadata": {},
   "source": [
    "# CS6140 Assignments\n",
    "\n",
    "**Instructions**\n",
    "1. In each assignment cell, look for the block:\n",
    " ```\n",
    "  #BEGIN YOUR CODE\n",
    "  raise NotImplementedError.new()\n",
    "  #END YOUR CODE\n",
    " ```\n",
    "1. Replace this block with your solution.\n",
    "1. Test your solution by running the cells following your block (indicated by ##TEST##)\n",
    "1. Click the \"Validate\" button above to validate the work.\n",
    "\n",
    "**Notes**\n",
    "* You may add other cells and functions as needed\n",
    "* Keep all code in the same notebook\n",
    "* In order to receive credit, code must \"Validate\" on the JupyterHub server\n",
    "\n",
    "---"
   ]
  },
  {
   "cell_type": "code",
   "execution_count": null,
   "metadata": {},
   "outputs": [],
   "source": []
  },
  {
   "cell_type": "markdown",
   "metadata": {
    "deletable": false,
    "editable": false,
    "nbgrader": {
     "cell_type": "markdown",
     "checksum": "a900501e7b558abeb4716210598b931e",
     "grade": false,
     "grade_id": "cell-a445d1b58d2ebe4a",
     "locked": true,
     "schema_version": 3,
     "solution": false,
     "task": false
    }
   },
   "source": [
    "# Assignment 5: Model Evaluation and Regularization\n",
    "\n",
    "\n",
    "In this assignment, we will investigate evaluation methods and regularization, which can be used to control the behavior of linear models. Most of the code here will be copied or refactored from previous assignments. You are encouraged to copy **your code only** from previous assignments."
   ]
  },
  {
   "cell_type": "code",
   "execution_count": 144,
   "metadata": {
    "deletable": false,
    "editable": false,
    "nbgrader": {
     "cell_type": "code",
     "checksum": "fbd35f8bbe5aabb9312fa51db00f9097",
     "grade": false,
     "grade_id": "cell-78b1c12bc99dac30",
     "locked": true,
     "schema_version": 3,
     "solution": false,
     "task": false
    }
   },
   "outputs": [
    {
     "data": {
      "text/plain": [
       "false"
      ]
     },
     "execution_count": 144,
     "metadata": {},
     "output_type": "execute_result"
    }
   ],
   "source": [
    "require './assignment_lib'"
   ]
  },
  {
   "cell_type": "markdown",
   "metadata": {
    "deletable": false,
    "editable": false,
    "nbgrader": {
     "cell_type": "markdown",
     "checksum": "c2364e862ff584dd29b564ea282e08de",
     "grade": false,
     "grade_id": "cell-cf3e84e649bd202e",
     "locked": true,
     "schema_version": 3,
     "solution": false,
     "task": false
    }
   },
   "source": [
    "# Question 1.1 (1 Point)\n",
    "\n",
    "Reuse **YOUR** implementation of ```StochasticGradientDescent``` from a previous assignment."
   ]
  },
  {
   "cell_type": "code",
   "execution_count": 145,
   "metadata": {
    "deletable": false,
    "nbgrader": {
     "cell_type": "code",
     "checksum": "9d2c75967facbcccd8bf764b464cdaea",
     "grade": false,
     "grade_id": "cell-302b13014a2e7383",
     "locked": false,
     "schema_version": 3,
     "solution": true
    }
   },
   "outputs": [
    {
     "data": {
      "text/plain": [
       ":update"
      ]
     },
     "execution_count": 145,
     "metadata": {},
     "output_type": "execute_result"
    }
   ],
   "source": [
    "# BEGIN YOUR CODE\n",
    "\n",
    "\n",
    "\n",
    "\n",
    "class StochasticGradientDescent\n",
    "  attr_reader :weights\n",
    "  attr_reader :objective\n",
    "  def initialize obj, w_0, lr \n",
    "    @objective = obj\n",
    "    @weights = w_0\n",
    "    @n = 1.0\n",
    "    @lr = lr\n",
    "  end\n",
    "  def update x\n",
    "    # BEGIN YOUR CODE\n",
    "    \n",
    "    lr  = @lr.to_f / Math.sqrt(@n)\n",
    "    @n +=1\n",
    "\n",
    "    if x.empty?\n",
    "    else\n",
    "      feature = x[0][\"features\"].keys\n",
    "    end\n",
    "\n",
    "    if (@weights.keys).empty? and  x.length>0\n",
    "      i=0\n",
    "      while i<feature.length do\n",
    "        @weights.store(feature[i],@weights[0])\n",
    "        i+=1\n",
    "      end\n",
    "      \n",
    "    end\n",
    "\n",
    "    @weights.delete(0)\n",
    "\n",
    "    i = 0\n",
    "    gradient = @objective.grad x,@weights\n",
    "\n",
    "    while i < @weights.length do\n",
    "      if @weights[@weights.keys[i]].is_a?Numeric and gradient[@weights.keys[i]].is_a?Numeric\n",
    "        @weights[@weights.keys[i]]  = @weights[@weights.keys[i]] - lr*gradient[@weights.keys[i]]        \n",
    "      end\n",
    "      i+=1\n",
    "    end    \n",
    "\n",
    "   @objective.adjust @weights\n",
    "\n",
    "\n",
    "    #END YOUR CODE\n",
    "  end\n",
    "end\n",
    "#END YOUR CODE"
   ]
  },
  {
   "cell_type": "code",
   "execution_count": 146,
   "metadata": {
    "deletable": false,
    "editable": false,
    "nbgrader": {
     "cell_type": "code",
     "checksum": "588cffbe0fe6e9c6e7333e8fe64771e4",
     "grade": true,
     "grade_id": "cell-6b98a23865128aa3",
     "locked": true,
     "points": 1,
     "schema_version": 3,
     "solution": false
    }
   },
   "outputs": [],
   "source": [
    "### Hidden Test ###"
   ]
  },
  {
   "cell_type": "markdown",
   "metadata": {},
   "source": [
    "## Question 1.2 (1 point)\n",
    "\n",
    "Copy **YOUR** implementation of the ```dot``` product and ```norm``` functions from a previous assignment into the following cell. Please copy the whole function, not just the parts within the comments."
   ]
  },
  {
   "cell_type": "code",
   "execution_count": 147,
   "metadata": {
    "deletable": false,
    "nbgrader": {
     "cell_type": "code",
     "checksum": "30028c7c84bfe7cbbf5a285c0034c120",
     "grade": false,
     "grade_id": "cell-92f3de7f5b9a8b90",
     "locked": false,
     "schema_version": 3,
     "solution": true
    }
   },
   "outputs": [
    {
     "data": {
      "text/plain": [
       ":norm"
      ]
     },
     "execution_count": 147,
     "metadata": {},
     "output_type": "execute_result"
    }
   ],
   "source": [
    "# BEGIN YOUR CODE\n",
    "\n",
    "\n",
    "\n",
    "#Implement the error function given a weight vector, w\n",
    "def dot x, w\n",
    "  # BEGIN YOUR CODE\n",
    "    x_name = x.keys\n",
    "    w_name = w.keys\n",
    "\n",
    "    i = 0\n",
    "    dot = 0.0\n",
    "    if x_name.length == 0 \n",
    "      dot =  0.0\n",
    "    else \n",
    "        while i<x_name.length do\n",
    "\n",
    "          if w_name.include?x_name[i]\n",
    "            index = w_name.index { |x| [x_name[i]].include?(x) }\n",
    "            if x[x_name[i]].is_a? Numeric  and w[w_name[index]].is_a? Numeric\n",
    "              dot += x[x_name[i]]*w[w_name[index]]\n",
    "            else \n",
    "              dot +=0.0\n",
    "            end\n",
    "          else \n",
    "            dot += 0.0\n",
    "          end\n",
    "          i+=1\n",
    "        end  \n",
    "    end\n",
    "  return dot\n",
    "  #END YOUR CODE\n",
    "end\n",
    "\n",
    "\n",
    "\n",
    "\n",
    "def norm w\n",
    "  # BEGIN YOUR CODE\n",
    "  return Math.sqrt(dot w, w)\n",
    "  #END YOUR CODE\n",
    "end\n",
    "\n",
    "#END YOUR CODE"
   ]
  },
  {
   "cell_type": "code",
   "execution_count": 148,
   "metadata": {
    "deletable": false,
    "editable": false,
    "nbgrader": {
     "cell_type": "code",
     "checksum": "42d9548061a97bf615d8674e4c0f9da8",
     "grade": true,
     "grade_id": "cell-c0a5c2a265dea170",
     "locked": true,
     "points": 1,
     "schema_version": 3,
     "solution": false
    }
   },
   "outputs": [],
   "source": [
    "### Hidden test ###\n"
   ]
  },
  {
   "cell_type": "markdown",
   "metadata": {},
   "source": [
    "## Question 1.3 (1 Point)\n",
    "\n",
    "Refactor **YOUR** $z$-score normalization method from a previous assignment, where it might have been called  ```create_zspambase```. It should be general enough to normalize any dataset. Normalize features in the ```features``` key of the dataset and not all features available in the examples.\n",
    "\n",
    "Note: Watch out for zero-stdev features."
   ]
  },
  {
   "cell_type": "code",
   "execution_count": 149,
   "metadata": {},
   "outputs": [
    {
     "data": {
      "text/plain": [
       ":normalization"
      ]
     },
     "execution_count": 149,
     "metadata": {},
     "output_type": "execute_result"
    }
   ],
   "source": [
    "## Add mean and stdev here\n",
    "\n",
    "# BEGIN YOUR CODE\n",
    "def mean x\n",
    "  # BEGIN YOUR CODE\n",
    "  x.inject(0.0){|sum,i| sum + i }/x.length()  \n",
    "  #END YOUR CODE\n",
    "end\n",
    "\n",
    "\n",
    "def stdev x\n",
    "  # BEGIN YOUR CODE\n",
    "  mu = mean x\n",
    "  su = x.inject(0.0){|sum,i| sum + (i-mu)**2 }/(x.length()-1)\n",
    "  Math.sqrt(su) \n",
    "end  \n",
    "\n",
    "\n",
    "def normalization dataset\n",
    "\n",
    "    dat = dataset[\"data\"]  \n",
    "    feature = dataset[\"features\"]\n",
    "    data =   Array.new(feature.length) { Array.new(dat.length){0}}\n",
    "\n",
    "    i = 0\n",
    "\n",
    "    while i<dat.length do\n",
    "      j = 0  \n",
    "      while j<feature.length do\n",
    "        data[j][i]=dat[i][\"features\"][feature[j]]\n",
    "        j+=1\n",
    "      end\n",
    "\n",
    "      i+=1\n",
    "    end\n",
    "\n",
    "    means = Hash.new\n",
    "    stdev = Hash.new\n",
    "\n",
    "    j = 0  \n",
    "\n",
    "    while j<feature.length do\n",
    "        m = mean data[j].reject { |e| e.to_s.empty? }\n",
    "        s = stdev data[j].reject { |e| e.to_s.empty? }\n",
    "        means.store(feature[j],m)\n",
    "        stdev.store(feature[j],s)\n",
    "        j+=1\n",
    "    end  \n",
    "  \n",
    "return [means,stdev]\n",
    "\n",
    "end\n",
    "  #END YOUR CODE\n",
    "\n",
    "\n",
    "\n",
    "#END YOUR CODE"
   ]
  },
  {
   "cell_type": "code",
   "execution_count": 150,
   "metadata": {
    "deletable": false,
    "nbgrader": {
     "cell_type": "code",
     "checksum": "ab794f199cdb7647057279d6879187ef",
     "grade": false,
     "grade_id": "cell-7c0c300e6a7b2de7",
     "locked": false,
     "schema_version": 3,
     "solution": true
    }
   },
   "outputs": [
    {
     "data": {
      "text/plain": [
       ":z_normalize"
      ]
     },
     "execution_count": 150,
     "metadata": {},
     "output_type": "execute_result"
    }
   ],
   "source": [
    "def z_normalize dataset\n",
    "  zdataset = dataset.clone\n",
    "  zdataset[\"data\"] = dataset[\"data\"].collect do |r|\n",
    "    u = r.clone\n",
    "    u[\"features\"] = r[\"features\"].clone\n",
    "    u\n",
    "  end\n",
    "\n",
    "  # BEGIN YOUR CODE\n",
    "  \n",
    "\n",
    "  i = 0\n",
    "\n",
    "  feature = zdataset[\"features\"]\n",
    "  norm = normalization(dataset)\n",
    "  means = norm[0]\n",
    "  stdev = norm[1]\n",
    "  while i<  zdataset[\"data\"].length do\n",
    "    \n",
    "    j = 0  \n",
    "    name = zdataset[\"data\"][i][\"features\"].keys    \n",
    "    while j<feature.length do\n",
    "      if name.include?feature[j]\n",
    "        \n",
    "         if stdev[feature[j]] == 0\n",
    "             zdataset[\"data\"][i][\"features\"][feature[j]] =zdataset[\"data\"][i][\"features\"][feature[j]] \n",
    "         else\n",
    "         zdataset[\"data\"][i][\"features\"][feature[j]] = (zdataset[\"data\"][i][\"features\"][feature[j]]-means[feature[j]])/stdev[feature[j]]\n",
    "         end\n",
    "      end\n",
    "      j+=1\n",
    "    end\n",
    "\n",
    "    i+=1\n",
    "  end  \n",
    "  \n",
    "  \n",
    "\n",
    "  \n",
    "  #END YOUR CODE\n",
    "  return zdataset\n",
    "end"
   ]
  },
  {
   "cell_type": "code",
   "execution_count": 151,
   "metadata": {
    "deletable": false,
    "editable": false,
    "nbgrader": {
     "cell_type": "code",
     "checksum": "469b30287a5234f8d8247eac4fbf3de9",
     "grade": true,
     "grade_id": "cell-9141ec6c68600cb3",
     "locked": true,
     "points": 1,
     "schema_version": 3,
     "solution": false
    }
   },
   "outputs": [],
   "source": [
    "### TEST ###\n",
    "def test_9141ec()\n",
    "  spambase = read_sparse_data_from_csv \"spambase\"\n",
    "  zspambase = z_normalize spambase\n",
    "\n",
    "  assert_in_delta 0.27, spambase[\"data\"].first[\"features\"][\"word_freq_our\"], 1e-5\n",
    "  assert_in_delta -0.628106690674003, zspambase[\"data\"].first[\"features\"][\"word_freq_our\"], 1e-5\n",
    "\n",
    "  assert_in_delta 607.0, spambase[\"data\"].first[\"features\"][\"capital_run_length_total\"], 1e-5\n",
    "  assert_in_delta 0.53386, zspambase[\"data\"].first[\"features\"][\"capital_run_length_total\"], 1e-5\n",
    "end\n",
    "\n",
    "test_9141ec()"
   ]
  },
  {
   "cell_type": "markdown",
   "metadata": {},
   "source": [
    "## Question 2.1 (5 Points)\n",
    "\n",
    "Change your ```LinearRegression``` implementation from to implement regularization. The new implementation requires a value for $\\lambda$. The regularization objective function for linear regression in a mini-batch is as follows:\n",
    "\n",
    "# $L(w,X) = \\frac{\\lambda}{2} \\left\\lVert w \\right\\rVert ^ 2 + \\frac{1}{n} \\sum_{i} \\frac{1}{2} \\left(f(w,x_i) - y_i\\right) ^ 2$\n",
    "\n",
    "where ```reg_param``` corresponds to $\\lambda$ in the formula above.\n",
    "\n",
    "Note that there is no $\\frac{1}{n}$ in front of the regularizer penalty. The ```predict``` and ```adjust``` methods have been provided for you. \n",
    "\n",
    "Hint: Use ```dot``` and ```norm``` as needed."
   ]
  },
  {
   "cell_type": "code",
   "execution_count": 152,
   "metadata": {
    "deletable": false,
    "nbgrader": {
     "cell_type": "code",
     "checksum": "db382de4eccc6fe7dc038c5452f1bb5d",
     "grade": false,
     "grade_id": "cell-51eeafda9ff5400f",
     "locked": false,
     "schema_version": 3,
     "solution": true
    }
   },
   "outputs": [
    {
     "data": {
      "text/plain": [
       ":func"
      ]
     },
     "execution_count": 152,
     "metadata": {},
     "output_type": "execute_result"
    }
   ],
   "source": [
    "class LinearRegressionModelL2\n",
    "  def initialize reg_param\n",
    "    @reg_param = reg_param\n",
    "  end\n",
    "\n",
    "  def predict row, w\n",
    "    x = row[\"features\"]   \n",
    "    yhat = dot(w, x)\n",
    "  end\n",
    "  \n",
    "  def adjust w\n",
    "    w.each_key {|k| w[k] = 0.0 if w[k].nan? or w[k].infinite?}\n",
    "    w.each_key {|k| w[k] = 0.0 if w[k].abs > 1e5 }\n",
    "  end\n",
    "  \n",
    "  def func examples, w\n",
    "    # BEGIN YOUR CODE\n",
    "    \n",
    "    i = 0\n",
    "    sum = 0.0\n",
    "\n",
    "\n",
    "    adjust w\n",
    "\n",
    "\n",
    "    while i< examples.length do\n",
    "      yhat = predict(examples[i], w)\n",
    "\n",
    "      ylabel = examples[i][\"label\"]\n",
    "      sum +=(yhat -ylabel)**2\n",
    "      i+=1\n",
    "    end\n",
    " return sum*0.5/examples.length + @reg_param*( norm(w) **2)*0.5\n",
    "    \n",
    "    \n",
    "    #END YOUR CODE\n",
    "  end\n",
    "end"
   ]
  },
  {
   "cell_type": "code",
   "execution_count": 153,
   "metadata": {
    "deletable": false,
    "editable": false,
    "nbgrader": {
     "cell_type": "code",
     "checksum": "4e3d4282cba0716bc15a6aac171cf2c5",
     "grade": true,
     "grade_id": "cell-d0ce9f8960464aaa",
     "locked": true,
     "points": 5,
     "schema_version": 3,
     "solution": false
    }
   },
   "outputs": [],
   "source": [
    "### TEST ###\n",
    "def test_d0ce9f()\n",
    "  m = LinearRegressionModelL2.new 0.0\n",
    "  w = {\"x1\" => 1.0, \"x2\" => -3.0}\n",
    "  examples = [\n",
    "      {\"features\" => {\"x1\" => 0.7, \"x2\" => -0.3}, \"label\" => 0.97},\n",
    "      {\"features\" => {\"x1\" => -2.7, \"x2\" => -1.3}, \"label\" => -1.0}  \n",
    "  ]\n",
    "  dataset = {\"data\" => examples}\n",
    "  \n",
    "  e1 = 0.19845\n",
    "  assert_in_delta e1, m.func(examples[0,1], w), 1e-2, \"1\"\n",
    "  \n",
    "  e2 = 2.42\n",
    "  assert_in_delta e2, m.func(examples[1,1], w), 1e-2, \"2\"    \n",
    "  assert_in_delta (e1 + e2) / 2.0, m.func(examples, w), 1e-2, \"3\"  \n",
    "\n",
    "  assert_in_delta 3.1622776602, norm(w), 1e-2, \"4\"\n",
    "  m2 = LinearRegressionModelL2.new 1.7\n",
    "  assert_in_delta 9.809225, m2.func(examples, w), 1e-2, \"5\"\n",
    "end\n",
    "\n",
    "test_d0ce9f()"
   ]
  },
  {
   "cell_type": "markdown",
   "metadata": {
    "deletable": false,
    "editable": false,
    "nbgrader": {
     "cell_type": "markdown",
     "checksum": "74b22bb4fc3e87ddec0b1b92c777516f",
     "grade": false,
     "grade_id": "cell-e5c405aea216422a",
     "locked": true,
     "schema_version": 3,
     "solution": false,
     "task": false
    }
   },
   "source": [
    "## Question 2.2 (5 Points)\n",
    "\n",
    "Implement the gradient for the regularized linear regression using the above objective function."
   ]
  },
  {
   "cell_type": "code",
   "execution_count": 154,
   "metadata": {
    "deletable": false,
    "nbgrader": {
     "cell_type": "code",
     "checksum": "734d74da265a6f79ebebf0dfc15259a8",
     "grade": false,
     "grade_id": "cell-fc654986b9148891",
     "locked": false,
     "schema_version": 3,
     "solution": true
    }
   },
   "outputs": [
    {
     "data": {
      "text/plain": [
       ":grad"
      ]
     },
     "execution_count": 154,
     "metadata": {},
     "output_type": "execute_result"
    }
   ],
   "source": [
    "class LinearRegressionModelL2\n",
    "  def grad examples, w\n",
    "    g = Hash.new {|h,k| h[k] = 0.0}\n",
    "    # BEGIN YOUR CODE\n",
    "    def predict row, w\n",
    "      x = row[\"features\"]    \n",
    "      yhat = dot(w, x)\n",
    "    end\n",
    "    name = examples[0][\"features\"].keys\n",
    "    sum  = Array.new(name.length)\n",
    "    \n",
    "    \n",
    "\n",
    "\n",
    "    adjust w\n",
    "    \n",
    "    if (w.keys).empty?\n",
    "      i = 0\n",
    "      while i<name.length do\n",
    "        w.store(name[i],w[0])\n",
    "        i+=1\n",
    "      end\n",
    "      w.delete(0)\n",
    "    end\n",
    "    \n",
    "    norm  = norm w\n",
    "\n",
    "    i = 0\n",
    "    while i< w.length do\n",
    "      \n",
    "      sum[i] = 0.0\n",
    "      j = 0\n",
    "      while j<examples.length\n",
    "        yhat = predict examples[j], w\n",
    "        ylabel = examples[j][\"label\"]\n",
    "        sum[i] += (yhat -ylabel)*examples[j][\"features\"][name[i]] \n",
    "        j+=1\n",
    "      end\n",
    "      sum[i] = (sum[i]/examples.length) + @reg_param * w[name[i]]\n",
    "      g.store(name[i],sum[i])\n",
    "      i+=1\n",
    "    end\n",
    "    \n",
    "    \n",
    "    \n",
    "    \n",
    "    #END YOUR CODE\n",
    "    return g\n",
    "  end\n",
    "end"
   ]
  },
  {
   "cell_type": "code",
   "execution_count": 155,
   "metadata": {},
   "outputs": [],
   "source": [
    "# w = Hash.new {|h,k| h[k] = 0.0}\n",
    "# m = LinearRegressionModelL2.new 0.0\n",
    "\n",
    "# examples = [\n",
    "#     {\"features\" => {\"x1\" => 0.7, \"x2\" => -0.3}, \"label\" => 0.97},\n",
    "#     {\"features\" => {\"x1\" => -2.7, \"x2\" => -1.3}, \"label\" => -1.0}  \n",
    "# ]\n",
    "# dataset = {\"data\" => examples}\n",
    "# m.grad(train_set[\"data\"][0,20], w)"
   ]
  },
  {
   "cell_type": "code",
   "execution_count": 156,
   "metadata": {
    "deletable": false,
    "editable": false,
    "nbgrader": {
     "cell_type": "code",
     "checksum": "8169e64a6b2e4bbd9eb2b84728f25e65",
     "grade": true,
     "grade_id": "cell-5c7851bc249f7673",
     "locked": true,
     "points": 2,
     "schema_version": 3,
     "solution": false
    }
   },
   "outputs": [
    {
     "name": "stdout",
     "output_type": "stream",
     "text": [
      "g1\n",
      "{\"x1\"=>0.4409999999999999, \"x2\"=>-0.18899999999999997}\n",
      "g2\n",
      "{\"x1\"=>-5.940000000000001, \"x2\"=>-2.8600000000000003}\n",
      "g3\n",
      "{\"x1\"=>-2.7495000000000007, \"x2\"=>-1.5245000000000002}\n"
     ]
    }
   ],
   "source": [
    "### TEST ###\n",
    "def test_22_0()\n",
    "  #First, test when there is no regularization term, @reg_param = 0.0\n",
    "  m = LinearRegressionModelL2.new 0.0\n",
    "  w = {\"x1\" => 1.0, \"x2\" => -3.0}\n",
    "  examples = [\n",
    "      {\"features\" => {\"x1\" => 0.7, \"x2\" => -0.3}, \"label\" => 0.97},\n",
    "      {\"features\" => {\"x1\" => -2.7, \"x2\" => -1.3}, \"label\" => -1.0}  \n",
    "  ]\n",
    "  dataset = {\"data\" => examples}\n",
    "  \n",
    "  # Test on a single example\n",
    "  expected_g1 = 0.441\n",
    "  g1 = m.grad(examples[0,1], w)\n",
    "  puts \"g1\", g1\n",
    "  \n",
    "  assert_in_delta expected_g1, g1[\"x1\"], 1e-2, \"1\"\n",
    "  \n",
    "  # Test on another single example\n",
    "  expected_g2 = -5.94\n",
    "  g2 = m.grad(examples[1,1], w)\n",
    "  puts \"g2\", g2\n",
    "  assert_in_delta expected_g2, g2[\"x1\"], 1e-2, \"2\"  \n",
    "  \n",
    "  # Test on both example, should be the average of the two previous gradients\n",
    "  expected_g3 = (expected_g1 + expected_g2) / 2.0\n",
    "  g3 = m.grad(examples, w)  \n",
    "  puts \"g3\", g3\n",
    "  assert_in_delta expected_g3, g3[\"x1\"], 1e-2, \"3\"  \n",
    "end\n",
    "\n",
    "test_22_0()"
   ]
  },
  {
   "cell_type": "code",
   "execution_count": 157,
   "metadata": {
    "deletable": false,
    "editable": false,
    "nbgrader": {
     "cell_type": "code",
     "checksum": "2aac92ea7be7969388baf32a2c28df12",
     "grade": true,
     "grade_id": "cell-ac6e14131548a546",
     "locked": true,
     "points": 3,
     "schema_version": 3,
     "solution": false
    }
   },
   "outputs": [
    {
     "name": "stdout",
     "output_type": "stream",
     "text": [
      "g3_with_regularization\n",
      "{\"x1\"=>-1.0495000000000008, \"x2\"=>-6.624499999999999}\n",
      "g3_with_different_regularization\n",
      "{\"x1\"=>-2.449500000000001, \"x2\"=>-2.4245}\n"
     ]
    }
   ],
   "source": [
    "### TEST ###\n",
    "def test_ac6e14()\n",
    "  # Test when the regularization parameter is nonzero\n",
    "  m2 = LinearRegressionModelL2.new 1.7\n",
    "  w = {\"x1\" => 1.0, \"x2\" => -3.0}\n",
    "  examples = [\n",
    "      {\"features\" => {\"x1\" => 0.7, \"x2\" => -0.3}, \"label\" => 0.97},\n",
    "      {\"features\" => {\"x1\" => -2.7, \"x2\" => -1.3}, \"label\" => -1.0}  \n",
    "  ]\n",
    "  dataset = {\"data\" => examples}\n",
    "\n",
    "  #Compare this to g3 in the previous test\n",
    "  g3_with_regularization = m2.grad(examples, w)\n",
    "  puts \"g3_with_regularization\", g3_with_regularization  \n",
    "  assert_in_delta -1.0495, g3_with_regularization[\"x1\"], 1e-2, \"1\"\n",
    "  \n",
    "  #Use a different regularization penalty\n",
    "  m3 = LinearRegressionModelL2.new 0.3\n",
    "  g3_with_different_regularization = m3.grad(examples, w)\n",
    "  puts \"g3_with_different_regularization\", g3_with_different_regularization  \n",
    "  assert_in_delta -2.4495, g3_with_different_regularization[\"x1\"], 1e-2, \"1\"\n",
    "  \n",
    "end\n",
    "\n",
    "test_ac6e14()"
   ]
  },
  {
   "cell_type": "markdown",
   "metadata": {
    "deletable": false,
    "editable": false,
    "nbgrader": {
     "cell_type": "markdown",
     "checksum": "1a32b4a935d04afce006ae37174366f0",
     "grade": false,
     "grade_id": "cell-335ec08160f1c1ba",
     "locked": true,
     "schema_version": 3,
     "solution": false,
     "task": false
    }
   },
   "source": [
    "## Question 2.3 (5 Points)\n",
    "\n",
    "Implement a function that calculates the Root Mean Squared Error (RMSE) for a given dataset for a prediction model and weights.\n",
    "\n",
    "RMSE is defined as follows:\n",
    "\n",
    "# $e = \\sqrt{\\frac{\\sum_{i=1}^N{ \\left( \\hat{y} - y \\right) ^ 2 }}{N}}$\n",
    "\n",
    "where $N$ is the number of examples in the dataset.\n",
    "\n",
    "Hint: Use the ```mean``` function in the assignment library."
   ]
  },
  {
   "cell_type": "code",
   "execution_count": 158,
   "metadata": {
    "deletable": false,
    "nbgrader": {
     "cell_type": "code",
     "checksum": "3c69bb947bf945ea48b0ffdb5aff9849",
     "grade": false,
     "grade_id": "cell-890117c7468edfd7",
     "locked": false,
     "schema_version": 3,
     "solution": true
    }
   },
   "outputs": [
    {
     "data": {
      "text/plain": [
       ":score_regression_model_rmse"
      ]
     },
     "execution_count": 158,
     "metadata": {},
     "output_type": "execute_result"
    }
   ],
   "source": [
    "def score_regression_model_rmse(data, weights, model)\n",
    "  # BEGIN YOUR CODE\n",
    "  sum = 0.0\n",
    "  i = 0\n",
    "  while i< data.length do\n",
    "    yhat = model.predict data[i],weights\n",
    "    sum += (yhat - data[i][\"label\"])**2\n",
    "    i+=1\n",
    "  end\n",
    "  \n",
    "  return Math.sqrt(sum/data.length)\n",
    "  \n",
    "  #END YOUR CODE\n",
    "end"
   ]
  },
  {
   "cell_type": "code",
   "execution_count": 159,
   "metadata": {
    "deletable": false,
    "editable": false,
    "nbgrader": {
     "cell_type": "code",
     "checksum": "8b082173d7ed6af5f9c06231cea3b077",
     "grade": true,
     "grade_id": "cell-76971a96370a4069",
     "locked": true,
     "points": 5,
     "schema_version": 3,
     "solution": false
    }
   },
   "outputs": [],
   "source": [
    "### TEST ###\n",
    "def test_23()\n",
    "  m = LinearRegressionModelL2.new 0.0\n",
    "  w = {\"x1\" => 1.0, \"x2\" => -3.0}\n",
    "  x = [\n",
    "      {\"features\" => {\"x1\" => 0.7, \"x2\" => -0.3}, \"label\" => 0.97},\n",
    "      {\"features\" => {\"x1\" => -2.7, \"x2\" => -1.3}, \"label\" => -1.0}  \n",
    "  ]\n",
    "  \n",
    "  e1 = (((0.7 + -3 * -0.3) - 0.97) ** 2)\n",
    "  e2 = (((-2.7 + -3.0 * -1.3) - -1.0) ** 2)\n",
    "  \n",
    "  rmse = Math.sqrt((e1 + e2) / 2.0)\n",
    "  assert_in_delta rmse, score_regression_model_rmse(x, w, m), 1e-2, \"3\"  \n",
    "end\n",
    "\n",
    "test_23()"
   ]
  },
  {
   "cell_type": "markdown",
   "metadata": {
    "deletable": false,
    "editable": false,
    "nbgrader": {
     "cell_type": "markdown",
     "checksum": "241d8bf7addad23cd22f94665cff9875",
     "grade": false,
     "grade_id": "cell-1f28bfd5ef500565",
     "locked": true,
     "schema_version": 3,
     "solution": false,
     "task": false
    }
   },
   "source": [
    "## Question 3.1 (10 Points)\n",
    "\n",
    "Using a small provided dataset, shown below, we will investigate model complexity. First, implement a _polynomial_ feature representation. \n",
    "\n",
    "Call the bias feature \"1\" for this part. For a dataset with two features, $x_1$ and $x_2$, a polynomial representation of degree 0 is as follows:\n",
    "\n",
    "# $\\phi(x, k = 0) = \\left( 1 \\right)$\n",
    "\n",
    "degree 1:\n",
    "\n",
    "# $\\phi(x, k = 1) = \\left( 1, x_1, x_2 \\right)$\n",
    "\n",
    "degree 2: \n",
    "\n",
    "# $\\phi(x, k = 2) = \\left( 1, x_1, x_2, x_1^2, x_2^2, x_1 x_2  \\right)$\n",
    "\n",
    "and more generally, for degree $k$:\n",
    "\n",
    "# $\\phi(x, k) = \\left(1, x_1 \\phi(x,k-1), x_2 \\phi(x,k-1) \\right)$\n",
    "\n",
    "For your convenience, the function ```poly_features``` emits, for degree $k$, the names of the features to be multiplied. After generating the features, apply ```z_normalize``` to only the newly added features (i.e., not the original features or the bias).\n",
    "\n",
    "Note: You may notice that the dataset we plan to use only has one feature and therefore the above seems overly complex. Don't worry, we will see this again. ;)"
   ]
  },
  {
   "cell_type": "code",
   "execution_count": 160,
   "metadata": {
    "deletable": false,
    "editable": false,
    "nbgrader": {
     "cell_type": "code",
     "checksum": "bd082893734a8f19abfe5fad37628953",
     "grade": false,
     "grade_id": "cell-7be23edc4f33cc01",
     "locked": true,
     "schema_version": 3,
     "solution": false
    }
   },
   "outputs": [
    {
     "name": "stdout",
     "output_type": "stream",
     "text": [
      "Polydata Regression Dataset\n"
     ]
    },
    {
     "data": {
      "text/html": [
       "<div id='vis-4c251978-eab9-4777-a9a5-e84a266f8b72'></div>\n",
       "<script>\n",
       "(function(){\n",
       "    var render = function(){\n",
       "        var model = {\"panes\":[{\"diagrams\":[{\"type\":\"scatter\",\"options\":{\"x\":\"x1\",\"y\":\"x2\"},\"data\":\"0fbbab3a-45e0-4073-9941-22b7b714a9b3\"}],\"options\":{\"x_label\":\"X1\",\"y_label\":\"Label\",\"legend\":false,\"zoom\":true,\"width\":700,\"xrange\":[-2.5225392385889,2.33601098769754],\"yrange\":[-3.22266863084871,4.64672342874836]}}],\"data\":{\"0fbbab3a-45e0-4073-9941-22b7b714a9b3\":[{\"x1\":0.483446619257766,\"x2\":0.212390638344681},{\"x1\":-0.751278615510242,\"x2\":-0.893512152462351},{\"x1\":-0.327604258153748,\"x2\":0.644509457120622},{\"x1\":0.747406449673726,\"x2\":0.823137657702879},{\"x1\":-0.765924968144961,\"x2\":-0.748959336561998},{\"x1\":-0.840917049376431,\"x2\":-0.0101592402070138},{\"x1\":-1.16168534251909,\"x2\":0.191490365093272},{\"x1\":-2.22928705785496,\"x2\":3.02045672575321},{\"x1\":-0.165817735130188,\"x2\":0.162748787009403},{\"x1\":-1.14112830520401,\"x2\":-0.671245318184421},{\"x1\":0.645430934151298,\"x2\":1.32411587071929},{\"x1\":0.169695577022504,\"x2\":1.13827264448396},{\"x1\":0.846146814844768,\"x2\":-0.444912593121982},{\"x1\":0.714236542110508,\"x2\":-1.27346550459649},{\"x1\":1.02066646417421,\"x2\":-0.102194455762279},{\"x1\":-1.6673933632269,\"x2\":0.778546125833165},{\"x1\":2.33601098769754,\"x2\":-2.77387731900168},{\"x1\":1.43258428692689,\"x2\":0.593767678599647},{\"x1\":-1.30932715501039,\"x2\":0.296822334187491},{\"x1\":-1.77840906989814,\"x2\":1.98382925493069},{\"x1\":0.493987563613599,\"x2\":-0.115910072644973},{\"x1\":1.04347764471401,\"x2\":-0.906113659953796},{\"x1\":-0.657161421921951,\"x2\":-1.0356391589012},{\"x1\":-1.2935535330015,\"x2\":0.646813034454672},{\"x1\":-1.6543523530756,\"x2\":0.321500991646182},{\"x1\":0.254635780546716,\"x2\":-0.150982012576831},{\"x1\":1.5143205754306,\"x2\":-0.286136483396783},{\"x1\":-0.776145891505168,\"x2\":0.358742396293815},{\"x1\":-0.437077508404216,\"x2\":-1.00777609644009},{\"x1\":-0.466063706012937,\"x2\":-1.47873582711067},{\"x1\":-0.733052022878417,\"x2\":0.563803860952214},{\"x1\":0.477255693480721,\"x2\":-0.747482156640014},{\"x1\":1.09457628946639,\"x2\":-0.244398673824784},{\"x1\":-0.774984808045371,\"x2\":-0.111379960065208},{\"x1\":-1.63479565794932,\"x2\":2.63578830589316},{\"x1\":-0.945115118151819,\"x2\":-0.452596987438003},{\"x1\":1.90207325555812,\"x2\":-1.85090110630677},{\"x1\":0.0663092004723006,\"x2\":-0.116391145517478},{\"x1\":-1.19758641730881,\"x2\":-0.523984905350987},{\"x1\":-1.37140977328203,\"x2\":1.64350593701267},{\"x1\":-0.256720568910132,\"x2\":0.96983979430952},{\"x1\":1.03773870436403,\"x2\":-0.802015533318645},{\"x1\":1.22813458258681,\"x2\":-0.185885514206412},{\"x1\":-0.25133663464631,\"x2\":-1.12765044300198},{\"x1\":1.67384585143981,\"x2\":-1.02411331519642},{\"x1\":0.213568734160295,\"x2\":0.0658918555343146},{\"x1\":0.0274086573907084,\"x2\":-1.08219137011968},{\"x1\":0.430722069276039,\"x2\":-1.67004804006155},{\"x1\":1.13618874748484,\"x2\":-0.801723199807708},{\"x1\":0.529450065133403,\"x2\":0.227866888714271},{\"x1\":-0.389346854945226,\"x2\":0.839257104178204},{\"x1\":-0.0061576190486123,\"x2\":-1.50189573794021},{\"x1\":0.839297088560402,\"x2\":-2.11883232115207},{\"x1\":-1.05589885217251,\"x2\":0.350930912348737},{\"x1\":1.07761997787376,\"x2\":-0.096578025443854},{\"x1\":0.399996471223561,\"x2\":1.31798207378552},{\"x1\":-2.21018020442312,\"x2\":1.58351077984044},{\"x1\":-0.830677304526675,\"x2\":-1.03796616975873},{\"x1\":1.36145530368927,\"x2\":-0.628807155483812},{\"x1\":-0.998926363711499,\"x2\":0.51755219332736},{\"x1\":-2.5225392385889,\"x2\":4.64672342874836},{\"x1\":-0.0583266677278406,\"x2\":-0.806290806514785},{\"x1\":-0.743998992014335,\"x2\":-1.16339880670958},{\"x1\":0.468501702209316,\"x2\":0.223263798862366},{\"x1\":1.08214998441167,\"x2\":0.0631172670683934},{\"x1\":-0.499545789679382,\"x2\":-0.897758719042906},{\"x1\":0.433152356733503,\"x2\":-0.360372152056837},{\"x1\":-0.773441080123024,\"x2\":0.752725964731439},{\"x1\":1.19266185777217,\"x2\":-0.883987562733569},{\"x1\":0.638823390679258,\"x2\":-1.26533195280004},{\"x1\":0.0611256079823956,\"x2\":-0.892646211032533},{\"x1\":-0.509943906931156,\"x2\":-1.71582281202121},{\"x1\":2.22964243819937,\"x2\":-2.13298039352891},{\"x1\":0.210381346106446,\"x2\":0.515040939351946},{\"x1\":-0.568627051738849,\"x2\":-2.67301098382331},{\"x1\":-0.178529620072442,\"x2\":-0.68166794271679},{\"x1\":2.23849036985166,\"x2\":-3.22266863084871},{\"x1\":-1.19854263610968,\"x2\":-1.29382075827859},{\"x1\":1.35187269004361,\"x2\":-1.58740462777588},{\"x1\":0.671609674846602,\"x2\":1.37058623964792},{\"x1\":-1.19470759634425,\"x2\":0.487598025624036},{\"x1\":0.738937845435335,\"x2\":-0.0496459160487439},{\"x1\":-1.42591048057526,\"x2\":-1.10973415183105},{\"x1\":-1.31774963668655,\"x2\":0.347056858024432},{\"x1\":-1.07079027460758,\"x2\":0.512026328434585},{\"x1\":-0.520142892982826,\"x2\":0.211911597033223},{\"x1\":-1.23123376660221,\"x2\":1.46056380222159},{\"x1\":-0.67877043750489,\"x2\":0.909020140100138},{\"x1\":0.017869150919344,\"x2\":-0.697452570187513},{\"x1\":-2.06278358528188,\"x2\":2.39132481210305},{\"x1\":0.606247476196039,\"x2\":-0.973447450010945},{\"x1\":-0.90599080659542,\"x2\":0.051963858151767},{\"x1\":-1.64267763140457,\"x2\":0.194565288564523},{\"x1\":1.67524005689112,\"x2\":-1.17881334325188},{\"x1\":0.342172197313656,\"x2\":-0.242835943407304},{\"x1\":-0.811728032888926,\"x2\":1.04381464144282},{\"x1\":-0.626355145111848,\"x2\":2.13487123752319},{\"x1\":0.182295936937696,\"x2\":-1.20072973045299},{\"x1\":0.162885993455582,\"x2\":1.0901482738455},{\"x1\":-2.07118384111526,\"x2\":3.21332853160261}]},\"extension\":[]}\n",
       "        var id_name = '#vis-4c251978-eab9-4777-a9a5-e84a266f8b72';\n",
       "        Nyaplot.core.parse(model, id_name);\n",
       "\n",
       "        require(['downloadable'], function(downloadable){\n",
       "          var svg = d3.select(id_name).select(\"svg\");\n",
       "\t  if(!svg.empty())\n",
       "\t    svg.call(downloadable().filename('fig'));\n",
       "\t});\n",
       "    };\n",
       "    if(window['Nyaplot']==undefined){\n",
       "        window.addEventListener('load_nyaplot', render, false);\n",
       "\treturn;\n",
       "    } else {\n",
       "       render();\n",
       "    }\n",
       "})();\n",
       "</script>\n"
      ],
      "text/plain": [
       "#<Nyaplot::Plot:0x000056023ce8e998 @properties={:diagrams=>[#<Nyaplot::Diagram:0x000056023ce69710 @properties={:type=>:scatter, :options=>{:x=>:x1, :y=>:x2}, :data=>\"0fbbab3a-45e0-4073-9941-22b7b714a9b3\"}, @xrange=[-2.5225392385889, 2.33601098769754], @yrange=[-3.22266863084871, 4.64672342874836]>], :options=>{:x_label=>\"X1\", :y_label=>\"Label\", :legend=>false, :zoom=>true, :width=>700, :xrange=>[-2.5225392385889, 2.33601098769754], :yrange=>[-3.22266863084871, 4.64672342874836]}}>"
      ]
     },
     "execution_count": 160,
     "metadata": {},
     "output_type": "execute_result"
    }
   ],
   "source": [
    "polydata = read_sparse_data_from_csv \"polydata-100\"\n",
    "x1 = polydata[\"data\"].collect {|r| r[\"features\"][\"x1\"]}\n",
    "x2 = polydata[\"data\"].collect {|r| r[\"label\"]}\n",
    "puts \"Polydata Regression Dataset\"\n",
    "Daru::DataFrame.new({x1: x1, x2: x2})\n",
    ".plot(type: :scatter, x: :x1, y: :x2) do |plot, diagram|\n",
    "  plot.x_label \"X1\"\n",
    "  plot.y_label \"Label\"\n",
    "  plot.legend false\n",
    "end"
   ]
  },
  {
   "cell_type": "markdown",
   "metadata": {},
   "source": [
    "### Polynomial features\n",
    "\n",
    "The ```poly_features``` function below returns a set of strings which represents all the possible features for a polynomial feature of degree $k$. In the example above, \n",
    "\n",
    "```ruby\n",
    "poly_features [\"x1\", \"x2\"], 3\n",
    "```\n",
    "\n",
    "returns all polynomial features up to degree 3, which are as follows:\n",
    "\n",
    "```[\"1\", \"x1\", \"x2\", \"1*x1*x1\", \"1*x1*x2\", \"1*x2*x2\", \"1*x1*x1*x1\", \"1*x1*x1*x2\", \"1*x1*x2*x2\", \"1*x2*x2*x2\"]```\n",
    "\n",
    "When provided a ```dataset```, the function ```create_polynomial_features``` you will implement below adds the new features (if they do not already exist) to the ```dataset[\"features\"]``` top-level array. Then, for each example, apply the transformation. This will require manipulating the string and implementing a parser. For example, if the provided feature name is ```\"1*x1*x1*x2\"```, you will need to calculate $x_1^2 x_2$ as a new feature. Note that each original feature is provided separated by the ```*``` character. Use the ```split``` function for the string."
   ]
  },
  {
   "cell_type": "code",
   "execution_count": 161,
   "metadata": {
    "deletable": false,
    "editable": false,
    "nbgrader": {
     "cell_type": "code",
     "checksum": "7c50bd053e4cc638aa998e199af52716",
     "grade": false,
     "grade_id": "cell-7381e666dbe11a64",
     "locked": true,
     "schema_version": 3,
     "solution": false
    }
   },
   "outputs": [
    {
     "data": {
      "text/plain": [
       "[\"1\", \"x1\", \"x2\", \"1*x1*x1\", \"1*x1*x2\", \"1*x2*x2\", \"1*x1*x1*x1\", \"1*x1*x1*x2\", \"1*x1*x2*x2\", \"1*x2*x2*x2\"]"
      ]
     },
     "execution_count": 161,
     "metadata": {},
     "output_type": "execute_result"
    }
   ],
   "source": [
    "def poly_features features, degree\n",
    "  poly_features = [\"1\"]\n",
    "\n",
    "  degree.times do |i|\n",
    "    poly_features += poly_features.flat_map do |x_prev|\n",
    "      features.reject {|x| x == \"1\" or x == \"bias\"}.collect do |x|\n",
    "        [x, x_prev.split(\"*\")].flatten.sort.join(\"*\")\n",
    "      end\n",
    "    end\n",
    "    poly_features.uniq!\n",
    "  end\n",
    "  poly_features.collect {|k| k.gsub /^1\\*([^\\*]*)$/, '\\1'}\n",
    "end\n",
    "\n",
    "poly_features [\"x1\", \"x2\"], 3"
   ]
  },
  {
   "cell_type": "code",
   "execution_count": 162,
   "metadata": {
    "deletable": false,
    "nbgrader": {
     "cell_type": "code",
     "checksum": "8601239861b56daa6c54c2e4a2844e21",
     "grade": false,
     "grade_id": "cell-f3c20b1351e644d5",
     "locked": false,
     "schema_version": 3,
     "solution": true
    }
   },
   "outputs": [
    {
     "data": {
      "text/plain": [
       ":create_polynomial_features"
      ]
     },
     "execution_count": 162,
     "metadata": {},
     "output_type": "execute_result"
    }
   ],
   "source": [
    "def create_polynomial_features dataset, degree\n",
    "  polydataset = dataset.clone\n",
    "  features = poly_features dataset[\"features\"], degree\n",
    "  # BEGIN YOUR CODE\n",
    "  \n",
    "  already =  polydataset[\"features\"]\n",
    "  old_data = dataset[\"data\"]\n",
    "  \n",
    "  new_features = features-already\n",
    "  \n",
    "  if new_features.empty?\n",
    "    polydataset[\"features\"] = already\n",
    "  else\n",
    "    polydataset[\"features\"] = features\n",
    "  end\n",
    "  i = 0\n",
    "  origin = Hash.new\n",
    "\n",
    "  if new_features.empty?\n",
    "      polydataset[\"data\"] = old_data\n",
    "  else\n",
    "  \n",
    "        while i<polydataset[\"data\"].length do\n",
    "          j = 0\n",
    "\n",
    "              while j<new_features.length do \n",
    "                name = new_features[j].split('*',-1)\n",
    "\n",
    "                data= name.inject(1.0){|sum,x| sum* polydataset[\"data\"][i][\"features\"][x]}\n",
    "                polydataset[\"data\"][i][\"features\"].store(new_features[j],data)\n",
    "\n",
    "                j+=1\n",
    "              end\n",
    "\n",
    "          i+=1\n",
    "        end\n",
    "  \n",
    "  \n",
    "        polydataset = z_normalize polydataset\n",
    "        i=0\n",
    "        while i<polydataset[\"data\"].length do\n",
    "          k = 0\n",
    "          while k< already.length do\n",
    "            polydataset[\"data\"][i][\"features\"][already[k]] = dataset[\"data\"][i][\"features\"][already[k]] \n",
    "            k+=1\n",
    "          end\n",
    "\n",
    "          i+=1\n",
    "        end\n",
    "  end\n",
    "  return polydataset\n",
    "  #END YOUR CODE\n",
    "end"
   ]
  },
  {
   "cell_type": "code",
   "execution_count": 163,
   "metadata": {
    "deletable": false,
    "editable": false,
    "nbgrader": {
     "cell_type": "code",
     "checksum": "5b0854f5022da663273a14ff8e2519a9",
     "grade": true,
     "grade_id": "cell-1ecdd36c24cd8684",
     "locked": true,
     "points": 10,
     "schema_version": 3,
     "solution": false
    }
   },
   "outputs": [],
   "source": [
    "def test_31()\n",
    "  data = read_sparse_data_from_csv \"polydata\"\n",
    "  assert_in_delta 12.8132, data[\"data\"].first[\"features\"][\"x1\"], 1e-2, \"1\"\n",
    "  \n",
    "  polydata = create_polynomial_features data, 3\n",
    "  \n",
    "  xp = polydata[\"data\"].first[\"features\"]\n",
    "  assert_in_delta 12.8132, xp[\"x1\"], 1e-2, \"2: Does not normalize original features\"\n",
    "  assert_in_delta -0.905, xp[\"1*x1*x1\"], 1e-2, \"3: Applies normalization to new features\"\n",
    "  assert_in_delta -0.827, xp[\"1*x1*x1*x1\"], 1e-2, \"4: Applies normalization to new features\"\n",
    "end\n",
    "\n",
    "test_31()"
   ]
  },
  {
   "cell_type": "markdown",
   "metadata": {},
   "source": [
    "## Question 3.2 (5 Points)\n",
    "\n",
    "Let's fit this dataset with different polynomial degrees. First, let's see how well linear regression fits the training data. \n",
    "\n",
    "Implement a training function that, given a training and testing dataset, trains the model using mini-batch SGD and returns the RMSE error value on both training and testing sets."
   ]
  },
  {
   "cell_type": "code",
   "execution_count": 164,
   "metadata": {
    "deletable": false,
    "nbgrader": {
     "cell_type": "code",
     "checksum": "dc3a9a3243de06953072e87341a085e9",
     "grade": false,
     "grade_id": "cell-c62959d2c5c0fccb",
     "locked": false,
     "schema_version": 3,
     "solution": true
    }
   },
   "outputs": [
    {
     "data": {
      "text/plain": [
       ":train"
      ]
     },
     "execution_count": 164,
     "metadata": {},
     "output_type": "execute_result"
    }
   ],
   "source": [
    "def train(sgd, obj, w, train_set, test_set, num_epoch = 1, batch_size = 20)\n",
    "  # BEGIN YOUR CODE\n",
    "\n",
    "\n",
    "  iters = []\n",
    "  losses = []\n",
    "\n",
    "  #Define sgd = StochasticGradientDescent.new(obj, w, lr)\n",
    "\n",
    "\n",
    "  features=train_set[\"features\"]\n",
    "\n",
    "\n",
    "  i = 0\n",
    "\n",
    " num_epoch.times do\n",
    "      iters.append(i)\n",
    "      l = obj.func(train_set[\"data\"][0,batch_size],w)\n",
    "\n",
    "      losses.append(l)\n",
    "\n",
    "      sgd.update(train_set[\"data\"][0,batch_size])\n",
    "\n",
    "      w = sgd.weights\n",
    "\n",
    "      i+=1\n",
    "  end\n",
    "  \n",
    "\n",
    "  train_rmse = score_regression_model_rmse(train_set[\"data\"][0,batch_size], w, obj)\n",
    "  test_rmse = score_regression_model_rmse(test_set[\"data\"][0,batch_size], w, obj)\n",
    "  \n",
    "  #END YOUR CODE\n",
    "  return [train_rmse, test_rmse]\n",
    "end"
   ]
  },
  {
   "cell_type": "code",
   "execution_count": 165,
   "metadata": {
    "deletable": false,
    "editable": false,
    "nbgrader": {
     "cell_type": "code",
     "checksum": "eb0630820fe2019ef3a577d944bc4bd7",
     "grade": true,
     "grade_id": "cell-f472d45ada3dee64",
     "locked": true,
     "points": 5,
     "schema_version": 3,
     "solution": false
    }
   },
   "outputs": [],
   "source": [
    "def test_f472d4()\n",
    "  data = read_sparse_data_from_csv \"polydata\"\n",
    "  polydata = create_polynomial_features data, 1\n",
    "  x1 = polydata[\"data\"].collect {|r| r[\"features\"][\"x1\"]}\n",
    "  x2 = polydata[\"data\"].collect {|r| r[\"label\"]}\n",
    "  \n",
    "  w = Hash.new {|h,k| h[k] = 0.0}\n",
    "  lr = 1e-3\n",
    "  obj = LinearRegressionModelL2.new 0.0\n",
    "  sgd = StochasticGradientDescent.new obj, w, lr\n",
    "\n",
    "  train_set = polydata\n",
    "  test_set = polydata\n",
    "  train_rmse, test_rmse = train(sgd, obj, w, train_set, test_set, num_epoch = 100, batch_size = 20)\n",
    "  assert_true train_rmse < 2, \"1\"\n",
    "  assert_true test_rmse < 2, \"2\"\n",
    "  assert_true train_rmse > 0, \"3\"\n",
    "  assert_true test_rmse > 0, \"4\"\n",
    "  assert_in_delta train_rmse, test_rmse, 1e-5, \"5\"\n",
    "end\n",
    "\n",
    "test_f472d4()"
   ]
  },
  {
   "cell_type": "markdown",
   "metadata": {
    "deletable": false,
    "editable": false,
    "nbgrader": {
     "cell_type": "markdown",
     "checksum": "36f001faa1f3c7b12d2753ecfd50b0b9",
     "grade": false,
     "grade_id": "cell-72ea8b8309e1754f",
     "locked": true,
     "schema_version": 3,
     "solution": false,
     "task": false
    }
   },
   "source": [
    "## Question 3.3 (2 Points)\n",
    "\n",
    "Try various degrees to the polynomial regression on this dataset. Make ```answer_452fd8``` return a single integer which is you best guess for the smallest degree which you think fits the data well. Use your best judgment here. The second test plots the training RMSE for a degree from 1 to 16."
   ]
  },
  {
   "cell_type": "code",
   "execution_count": 166,
   "metadata": {
    "deletable": false,
    "nbgrader": {
     "cell_type": "code",
     "checksum": "b267fb78ca2fcf1307efbf7b7ca7be38",
     "grade": false,
     "grade_id": "cell-452fd89b472b06ac",
     "locked": false,
     "schema_version": 3,
     "solution": true,
     "task": false
    }
   },
   "outputs": [
    {
     "data": {
      "text/plain": [
       ":answer_452fd8"
      ]
     },
     "execution_count": 166,
     "metadata": {},
     "output_type": "execute_result"
    }
   ],
   "source": [
    "def answer_452fd8\n",
    "  # BEGIN YOUR CODE\n",
    "\n",
    "  \n",
    "  \n",
    "  \n",
    "  return  4\n",
    "  \n",
    "  \n",
    "  \n",
    "  \n",
    "  #END YOUR CODE\n",
    "  return degree\n",
    "end"
   ]
  },
  {
   "cell_type": "code",
   "execution_count": 167,
   "metadata": {
    "deletable": false,
    "editable": false,
    "nbgrader": {
     "cell_type": "code",
     "checksum": "d8f9526bad034317da4fadd008b2238e",
     "grade": true,
     "grade_id": "cell-512cc2e8d8e39163",
     "locked": true,
     "points": 2,
     "schema_version": 3,
     "solution": false,
     "task": false
    }
   },
   "outputs": [
    {
     "name": "stdout",
     "output_type": "stream",
     "text": [
      "Weights:\n",
      "{\"x1\"=>0.4300137286830987, \"1\"=>-0.39694640587476054, \"1*x1*x1\"=>-0.08261314830583676, \"1*x1*x1*x1\"=>-0.03304125897578332, \"1*x1*x1*x1*x1\"=>-0.009150263467552692}\n"
     ]
    },
    {
     "data": {
      "text/html": [
       "<div id='vis-89e0f503-de86-46c1-92dd-6f4e7c54ffaa'></div>\n",
       "<script>\n",
       "(function(){\n",
       "    var render = function(){\n",
       "        var model = {\"panes\":[{\"diagrams\":[{\"type\":\"scatter\",\"options\":{\"x\":\"x1\",\"y\":\"x2\"},\"data\":\"41cf4b5c-aeea-49f0-88a4-9dca6fa0a43a\"},{\"type\":\"line\",\"options\":{\"x\":\"data0\",\"y\":\"data1\",\"color\":\"black\"},\"data\":\"e0e45387-7dc6-486e-baa4-f23cd30991b0\"}],\"options\":{\"x_label\":\"X1\",\"y_label\":\"Label\",\"legend\":false,\"zoom\":true,\"width\":700,\"xrange\":[-3.3981146872781,4.00361923790244],\"yrange\":[-2.258975203900306,1.41720360874844]}}],\"data\":{\"41cf4b5c-aeea-49f0-88a4-9dca6fa0a43a\":[{\"x1\":-3.3981146872781,\"x2\":-0.611722153014242},{\"x1\":-3.24143836303274,\"x2\":-0.191994602249121},{\"x1\":-2.78228072883387,\"x2\":0.992406589438601},{\"x1\":-2.75039586728225,\"x2\":1.05446913340098},{\"x1\":-2.74665419119698,\"x2\":1.06147959857477},{\"x1\":-2.46437700511943,\"x2\":1.39835306982453},{\"x1\":-2.44300327979985,\"x2\":1.40687529815457},{\"x1\":-2.41894322460685,\"x2\":1.41343114405792},{\"x1\":-2.41287142076604,\"x2\":1.41457537770748},{\"x1\":-2.39481386225415,\"x2\":1.41676052590908},{\"x1\":-2.38280139198342,\"x2\":1.41720360874844},{\"x1\":-2.31818801686942,\"x2\":1.40574439730828},{\"x1\":-2.16238676343318,\"x2\":1.28408416698451},{\"x1\":-2.06343015184665,\"x2\":1.14217126495112},{\"x1\":-2.06131151676102,\"x2\":1.13862900722114},{\"x1\":-2.05456094690978,\"x2\":1.12720815125042},{\"x1\":-2.02808511689642,\"x2\":1.08047858153794},{\"x1\":-2.02478005966374,\"x2\":1.07443266654377},{\"x1\":-1.99168009680669,\"x2\":1.01137324051041},{\"x1\":-1.95240948360055,\"x2\":0.930914075809047},{\"x1\":-1.93266283710784,\"x2\":0.888286408179782},{\"x1\":-1.92684345651878,\"x2\":0.875460473633285},{\"x1\":-1.91615582681068,\"x2\":0.851601762385368},{\"x1\":-1.89746821394705,\"x2\":0.808969529860183},{\"x1\":-1.87595523655548,\"x2\":0.75851741784037},{\"x1\":-1.85103003404998,\"x2\":0.698340569287543},{\"x1\":-1.82147562227814,\"x2\":0.624787042235711},{\"x1\":-1.81846805333943,\"x2\":0.617177322734159},{\"x1\":-1.79639460682532,\"x2\":0.560673203782743},{\"x1\":-1.79263628767266,\"x2\":0.550942600597739},{\"x1\":-1.75894055773043,\"x2\":0.462400745409513},{\"x1\":-1.74600030752545,\"x2\":0.427828680612765},{\"x1\":-1.74514848478333,\"x2\":0.425542791686417},{\"x1\":-1.73222717547199,\"x2\":0.390723537574267},{\"x1\":-1.72753066025433,\"x2\":0.378003267772268},{\"x1\":-1.72607716317567,\"x2\":0.374059882359183},{\"x1\":-1.69905321085328,\"x2\":0.300215237758907},{\"x1\":-1.68588573611679,\"x2\":0.263911186588836},{\"x1\":-1.68559249536125,\"x2\":0.263100572700729},{\"x1\":-1.6760512439288,\"x2\":0.23667896734448},{\"x1\":-1.66331833299248,\"x2\":0.201290355932634},{\"x1\":-1.64099080690236,\"x2\":0.13894441294659},{\"x1\":-1.63954388221954,\"x2\":0.134893641321292},{\"x1\":-1.63687638463821,\"x2\":0.127422981373828},{\"x1\":-1.62930077955886,\"x2\":0.106188399573468},{\"x1\":-1.61253408273285,\"x2\":0.0591159292086284},{\"x1\":-1.60537459542058,\"x2\":0.0389941845588594},{\"x1\":-1.60190068259612,\"x2\":0.0292279927318378},{\"x1\":-1.59285733403586,\"x2\":0.0038001645303449},{\"x1\":-1.58784335462184,\"x2\":-0.0102983892130644},{\"x1\":-1.58473606160155,\"x2\":-0.0190349635894179},{\"x1\":-1.57883340533868,\"x2\":-0.0356282932302244},{\"x1\":-1.578332888866,\"x2\":-0.0370351021678715},{\"x1\":-1.57287217036917,\"x2\":-0.0523806256687123},{\"x1\":-1.5713482370769,\"x2\":-0.0566620026234729},{\"x1\":-1.57038974221478,\"x2\":-0.0593545352328539},{\"x1\":-1.56780193683268,\"x2\":-0.0666228118062944},{\"x1\":-1.56057061201395,\"x2\":-0.0869225163205443},{\"x1\":-1.54843334635488,\"x2\":-0.120949271303153},{\"x1\":-1.54474292577185,\"x2\":-0.13128170360486},{\"x1\":-1.54274085587486,\"x2\":-0.136884057492317},{\"x1\":-1.54244428104005,\"x2\":-0.137713767937082},{\"x1\":-1.52353084414495,\"x2\":-0.190511720959815},{\"x1\":-1.5216215041567,\"x2\":-0.195827612115776},{\"x1\":-1.52051127473287,\"x2\":-0.198917330816504},{\"x1\":-1.50791417827017,\"x2\":-0.233901138920419},{\"x1\":-1.50344174193098,\"x2\":-0.2462867144524},{\"x1\":-1.49759221808154,\"x2\":-0.262455682995372},{\"x1\":-1.47843552009071,\"x2\":-0.315142396591912},{\"x1\":-1.44875866348017,\"x2\":-0.39581654158105},{\"x1\":-1.43798405958504,\"x2\":-0.424775172731804},{\"x1\":-1.43660565133467,\"x2\":-0.428465904564584},{\"x1\":-1.43449235708808,\"x2\":-0.434117971930477},{\"x1\":-1.43392240578399,\"x2\":-0.435640997383402},{\"x1\":-1.43279656546996,\"x2\":-0.438647802774198},{\"x1\":-1.42633426655003,\"x2\":-0.455863247826743},{\"x1\":-1.41978405497584,\"x2\":-0.473235069897908},{\"x1\":-1.4101044292061,\"x2\":-0.498756738739502},{\"x1\":-1.40784141910864,\"x2\":-0.504696856671922},{\"x1\":-1.39410869529677,\"x2\":-0.540517398458218},{\"x1\":-1.39274944492331,\"x2\":-0.544041145768971},{\"x1\":-1.38605930192795,\"x2\":-0.561325742980984},{\"x1\":-1.38242795554537,\"x2\":-0.570665805749792},{\"x1\":-1.38206757676203,\"x2\":-0.571591091297258},{\"x1\":-1.38185234671711,\"x2\":-0.572143560737685},{\"x1\":-1.36948576380536,\"x2\":-0.603705991416527},{\"x1\":-1.36562610440749,\"x2\":-0.613482126574225},{\"x1\":-1.3476632474814,\"x2\":-0.658490790848285},{\"x1\":-1.34468743796561,\"x2\":-0.665866770826339},{\"x1\":-1.34466697501469,\"x2\":-0.665917410058318},{\"x1\":-1.34107501181131,\"x2\":-0.674789043186615},{\"x1\":-1.33092962540901,\"x2\":-0.699657513841161},{\"x1\":-1.32497000905301,\"x2\":-0.714132445816417},{\"x1\":-1.30926740473336,\"x2\":-0.751781617353637},{\"x1\":-1.30742318641869,\"x2\":-0.756155575736149},{\"x1\":-1.3044821229491,\"x2\":-0.763109690096683},{\"x1\":-1.30037009480981,\"x2\":-0.772788350997658},{\"x1\":-1.28880641018697,\"x2\":-0.799724894086007},{\"x1\":-1.28351140355943,\"x2\":-0.811917666143386},{\"x1\":-1.28262446066118,\"x2\":-0.813951185438155},{\"x1\":-1.25959199141531,\"x2\":-0.865846195209218},{\"x1\":-1.25860558007121,\"x2\":-0.86802859525975},{\"x1\":-1.25219912398198,\"x2\":-0.882120356907674},{\"x1\":-1.2518727882503,\"x2\":-0.882834328790418},{\"x1\":-1.25178261636916,\"x2\":-0.883031544806694},{\"x1\":-1.24897298612489,\"x2\":-0.889162154738141},{\"x1\":-1.24113870792038,\"x2\":-0.906108215294919},{\"x1\":-1.22583770693203,\"x2\":-0.938562569432137},{\"x1\":-1.223657190725,\"x2\":-0.943117012070085},{\"x1\":-1.22238835773212,\"x2\":-0.945759006702157},{\"x1\":-1.22124023242649,\"x2\":-0.948144434092705},{\"x1\":-1.2143630187339,\"x2\":-0.962328367107584},{\"x1\":-1.2102738214462,\"x2\":-0.970676370999384},{\"x1\":-1.20326076566618,\"x2\":-0.984842550022042},{\"x1\":-1.20269728961576,\"x2\":-0.985972420103308},{\"x1\":-1.18697355549924,\"x2\":-1.01699339464886},{\"x1\":-1.18019353066598,\"x2\":-1.03006236229782},{\"x1\":-1.17823602383391,\"x2\":-1.03380062097377},{\"x1\":-1.17696338353105,\"x2\":-1.03622253000645},{\"x1\":-1.17527958515097,\"x2\":-1.03941662473423},{\"x1\":-1.16962475363721,\"x2\":-1.05005752295817},{\"x1\":-1.1670831530402,\"x2\":-1.05479667652758},{\"x1\":-1.15782276906723,\"x2\":-1.07183351329459},{\"x1\":-1.15689917980279,\"x2\":-1.0735127181232},{\"x1\":-1.15049922085798,\"x2\":-1.08504820841287},{\"x1\":-1.15025989645627,\"x2\":-1.08547615425228},{\"x1\":-1.14390391619485,\"x2\":-1.09675067195589},{\"x1\":-1.14184755645662,\"x2\":-1.10036065810325},{\"x1\":-1.13753134314977,\"x2\":-1.10787755751761},{\"x1\":-1.1298101496781,\"x2\":-1.12111910115095},{\"x1\":-1.12753077814882,\"x2\":-1.12497741287619},{\"x1\":-1.12252918049236,\"x2\":-1.13336201816465},{\"x1\":-1.12005019128966,\"x2\":-1.13747598470448},{\"x1\":-1.11793211353066,\"x2\":-1.14096896938737},{\"x1\":-1.11344941294751,\"x2\":-1.14829426337657},{\"x1\":-1.11048119852219,\"x2\":-1.15309419687938},{\"x1\":-1.10585338637308,\"x2\":-1.16049716139041},{\"x1\":-1.08934882861926,\"x2\":-1.18608926327263},{\"x1\":-1.08615408736869,\"x2\":-1.19089537947747},{\"x1\":-1.0846590098706,\"x2\":-1.19312794717897},{\"x1\":-1.08390707358284,\"x2\":-1.19424678800034},{\"x1\":-1.08078212295347,\"x2\":-1.19886773137979},{\"x1\":-1.07221012845639,\"x2\":-1.21130366435953},{\"x1\":-1.07066055526576,\"x2\":-1.213514034827},{\"x1\":-1.06886529994076,\"x2\":-1.21606035669616},{\"x1\":-1.06603574243445,\"x2\":-1.22004202048669},{\"x1\":-1.06247340919767,\"x2\":-1.22499953889214},{\"x1\":-1.06178278479896,\"x2\":-1.22595349534064},{\"x1\":-1.05908161404456,\"x2\":-1.22966224839266},{\"x1\":-1.05670678628254,\"x2\":-1.2328934410232},{\"x1\":-1.05634804917324,\"x2\":-1.23337913557823},{\"x1\":-1.05285184127483,\"x2\":-1.23807954734456},{\"x1\":-1.04326866908213,\"x2\":-1.25065408044058},{\"x1\":-1.04048421519603,\"x2\":-1.25422221819104},{\"x1\":-1.03829268695966,\"x2\":-1.25700334900212},{\"x1\":-1.03699492750379,\"x2\":-1.25863893442678},{\"x1\":-1.03544472933075,\"x2\":-1.26058161735578},{\"x1\":-1.03405175717462,\"x2\":-1.26231698719452},{\"x1\":-1.03059340131488,\"x2\":-1.26658326200667},{\"x1\":-1.01891735700097,\"x2\":-1.28054060956104},{\"x1\":-1.01576247775724,\"x2\":-1.28419302968047},{\"x1\":-1.01273888232178,\"x2\":-1.28764574466058},{\"x1\":-1.01270854376204,\"x2\":-1.28768015188262},{\"x1\":-1.01270396751138,\"x2\":-1.2876853414387},{\"x1\":-1.01022218149972,\"x2\":-1.29048391807357},{\"x1\":-1.00446298328386,\"x2\":-1.29685631494633},{\"x1\":-1.00301624231588,\"x2\":-1.29843023578488},{\"x1\":-0.999358177813823,\"x2\":-1.30236161650704},{\"x1\":-0.992020493271594,\"x2\":-1.31003833569704},{\"x1\":-0.987463707872414,\"x2\":-1.3146645439224},{\"x1\":-0.985707499818655,\"x2\":-1.31641853870637},{\"x1\":-0.984625153470843,\"x2\":-1.31749147831579},{\"x1\":-0.979741325681475,\"x2\":-1.32225643647898},{\"x1\":-0.975184765649378,\"x2\":-1.32658897834231},{\"x1\":-0.974297134274254,\"x2\":-1.32742023142401},{\"x1\":-0.971622152558893,\"x2\":-1.32990014046786},{\"x1\":-0.968830618371219,\"x2\":-1.33244773920135},{\"x1\":-0.966899678919881,\"x2\":-1.33418578509619},{\"x1\":-0.961726464251169,\"x2\":-1.33874462694205},{\"x1\":-0.95555306590608,\"x2\":-1.34399833144378},{\"x1\":-0.950015208310051,\"x2\":-1.34853784826471},{\"x1\":-0.937709003959855,\"x2\":-1.35803584807082},{\"x1\":-0.935776877467008,\"x2\":-1.35945291912775},{\"x1\":-0.933266020396416,\"x2\":-1.36126428308196},{\"x1\":-0.92813204232612,\"x2\":-1.3648617011311},{\"x1\":-0.919655654751698,\"x2\":-1.37048786681599},{\"x1\":-0.911775872056706,\"x2\":-1.37536681988582},{\"x1\":-0.905942267007113,\"x2\":-1.37876010005563},{\"x1\":-0.904543496027214,\"x2\":-1.37954601422124},{\"x1\":-0.901113590996759,\"x2\":-1.38142769487392},{\"x1\":-0.90020254931701,\"x2\":-1.38191664101287},{\"x1\":-0.889760275294196,\"x2\":-1.38719471334855},{\"x1\":-0.879887213495618,\"x2\":-1.39163184249427},{\"x1\":-0.87984021853143,\"x2\":-1.39165167408378},{\"x1\":-0.876925206037311,\"x2\":-1.39285789072561},{\"x1\":-0.87459956066088,\"x2\":-1.39378647505275},{\"x1\":-0.871723172909685,\"x2\":-1.39489348657293},{\"x1\":-0.871385745380559,\"x2\":-1.39502034224006},{\"x1\":-0.871164133119481,\"x2\":-1.39510331355945},{\"x1\":-0.870613651776601,\"x2\":-1.39530823387213},{\"x1\":-0.868749439385553,\"x2\":-1.39598970795176},{\"x1\":-0.868159808230376,\"x2\":-1.39620123520538},{\"x1\":-0.866245399749668,\"x2\":-1.39687470905589},{\"x1\":-0.862561740370868,\"x2\":-1.3981133033065},{\"x1\":-0.861565536828756,\"x2\":-1.39843530835013},{\"x1\":-0.858538324119127,\"x2\":-1.3993799264353},{\"x1\":-0.858058179185896,\"x2\":-1.39952506666582},{\"x1\":-0.85681210937445,\"x2\":-1.39989574747946},{\"x1\":-0.852840705012539,\"x2\":-1.40101947006699},{\"x1\":-0.851727812886144,\"x2\":-1.40131860624738},{\"x1\":-0.851069579048463,\"x2\":-1.40149228559038},{\"x1\":-0.84845715474674,\"x2\":-1.40215777631965},{\"x1\":-0.833707924680167,\"x2\":-1.40520057144887},{\"x1\":-0.832840489116991,\"x2\":-1.4053416966984},{\"x1\":-0.832116765394915,\"x2\":-1.40545622311934},{\"x1\":-0.826990615755849,\"x2\":-1.4061835973009},{\"x1\":-0.822211749904916,\"x2\":-1.40672934123712},{\"x1\":-0.818698786132094,\"x2\":-1.40704904257655},{\"x1\":-0.815939595111163,\"x2\":-1.4072517267973},{\"x1\":-0.814874138480311,\"x2\":-1.40731859034747},{\"x1\":-0.813661530365351,\"x2\":-1.4073869581981},{\"x1\":-0.805567176929609,\"x2\":-1.40763248619914},{\"x1\":-0.805559982845116,\"x2\":-1.40763254128915},{\"x1\":-0.800714097622145,\"x2\":-1.4076038236305},{\"x1\":-0.8000460910784,\"x2\":-1.40758955530415},{\"x1\":-0.79866757853822,\"x2\":-1.40755221469738},{\"x1\":-0.798371655122706,\"x2\":-1.40754281198119},{\"x1\":-0.797753486349224,\"x2\":-1.40752158867302},{\"x1\":-0.789508475527996,\"x2\":-1.40703400611601},{\"x1\":-0.788100453077547,\"x2\":-1.40691270875839},{\"x1\":-0.787081964695754,\"x2\":-1.40681805476706},{\"x1\":-0.783640778014234,\"x2\":-1.40645531736888},{\"x1\":-0.779151083584451,\"x2\":-1.4058824773097},{\"x1\":-0.770008714472602,\"x2\":-1.40436765570786},{\"x1\":-0.769414085971185,\"x2\":-1.40425295584825},{\"x1\":-0.766038168942061,\"x2\":-1.4035643400215},{\"x1\":-0.761122954463194,\"x2\":-1.40244801054639},{\"x1\":-0.753236570558186,\"x2\":-1.40037538270436},{\"x1\":-0.75246275792813,\"x2\":-1.40015334679019},{\"x1\":-0.7505735424112,\"x2\":-1.39959725357594},{\"x1\":-0.748821815939221,\"x2\":-1.3990638798987},{\"x1\":-0.746808336631886,\"x2\":-1.39842971586349},{\"x1\":-0.744838993623329,\"x2\":-1.3977876417395},{\"x1\":-0.741288028925765,\"x2\":-1.39657542594651},{\"x1\":-0.729384335956305,\"x2\":-1.39200126324854},{\"x1\":-0.726376390925981,\"x2\":-1.39072115641485},{\"x1\":-0.725801601036204,\"x2\":-1.39047084360562},{\"x1\":-0.725659077796664,\"x2\":-1.39040849407488},{\"x1\":-0.724919093834746,\"x2\":-1.39008296839547},{\"x1\":-0.717748077002708,\"x2\":-1.38677166659672},{\"x1\":-0.710391335022408,\"x2\":-1.38307988311693},{\"x1\":-0.696510887785212,\"x2\":-1.37530429867371},{\"x1\":-0.687328966152732,\"x2\":-1.36958123659531},{\"x1\":-0.684320503236326,\"x2\":-1.36760608997052},{\"x1\":-0.682287482526095,\"x2\":-1.36624347086258},{\"x1\":-0.682071993405423,\"x2\":-1.36609772380316},{\"x1\":-0.681229840540173,\"x2\":-1.36552571032132},{\"x1\":-0.676883525448156,\"x2\":-1.3625123708223},{\"x1\":-0.672022377131196,\"x2\":-1.35902082566787},{\"x1\":-0.671401255078378,\"x2\":-1.3585654915299},{\"x1\":-0.669294992879222,\"x2\":-1.35700590965073},{\"x1\":-0.669093401649416,\"x2\":-1.3568553854391},{\"x1\":-0.666250246122503,\"x2\":-1.35470910925145},{\"x1\":-0.66581319711217,\"x2\":-1.35437532024867},{\"x1\":-0.665292938921176,\"x2\":-1.35397664014354},{\"x1\":-0.660659027956712,\"x2\":-1.35036135665469},{\"x1\":-0.659271942952766,\"x2\":-1.34925673844641},{\"x1\":-0.653243513995298,\"x2\":-1.34433609759382},{\"x1\":-0.653138807734992,\"x2\":-1.34424891323868},{\"x1\":-0.649350370022625,\"x2\":-1.3410550458276},{\"x1\":-0.647725818652932,\"x2\":-1.33966199298255},{\"x1\":-0.643651883301986,\"x2\":-1.33610677302917},{\"x1\":-0.642903213564181,\"x2\":-1.33544382680059},{\"x1\":-0.640970094620218,\"x2\":-1.33371828663965},{\"x1\":-0.63293576556483,\"x2\":-1.32633455905992},{\"x1\":-0.62944300789234,\"x2\":-1.32301831930522},{\"x1\":-0.625477957214024,\"x2\":-1.31917585443415},{\"x1\":-0.622266614474814,\"x2\":-1.31600331852054},{\"x1\":-0.620697969999405,\"x2\":-1.31443399616433},{\"x1\":-0.619025535306859,\"x2\":-1.31274666819134},{\"x1\":-0.618928134590201,\"x2\":-1.31264794983598},{\"x1\":-0.616050009409969,\"x2\":-1.30970854672829},{\"x1\":-0.61407083755535,\"x2\":-1.30766218807157},{\"x1\":-0.607493181830977,\"x2\":-1.30071503143813},{\"x1\":-0.599446321281907,\"x2\":-1.2919118071145},{\"x1\":-0.598479484846373,\"x2\":-1.29083165370785},{\"x1\":-0.596431826825955,\"x2\":-1.28852815858604},{\"x1\":-0.592966020666477,\"x2\":-1.28458037530859},{\"x1\":-0.59183894278846,\"x2\":-1.28328332274824},{\"x1\":-0.58755652137098,\"x2\":-1.27829599234197},{\"x1\":-0.582694337957738,\"x2\":-1.27252043302681},{\"x1\":-0.58195740240814,\"x2\":-1.27163460399863},{\"x1\":-0.578343472692422,\"x2\":-1.26725076394105},{\"x1\":-0.574551351146387,\"x2\":-1.26257997811611},{\"x1\":-0.573013006542912,\"x2\":-1.26066457686526},{\"x1\":-0.563918448086115,\"x2\":-1.249098995905},{\"x1\":-0.5629711976307,\"x2\":-1.24787067244251},{\"x1\":-0.561638590301836,\"x2\":-1.24613510608682},{\"x1\":-0.561227694666606,\"x2\":-1.24559818571764},{\"x1\":-0.560292190136045,\"x2\":-1.24437263450469},{\"x1\":-0.547706194060783,\"x2\":-1.22746489550335},{\"x1\":-0.545068014872166,\"x2\":-1.22382238776641},{\"x1\":-0.544544142495332,\"x2\":-1.22309504598584},{\"x1\":-0.53915858809594,\"x2\":-1.21554047036206},{\"x1\":-0.535684067709148,\"x2\":-1.21059209180671},{\"x1\":-0.535212468852646,\"x2\":-1.20991595771697},{\"x1\":-0.533885789225313,\"x2\":-1.20800814821818},{\"x1\":-0.533173097262603,\"x2\":-1.20697977935257},{\"x1\":-0.532477844299684,\"x2\":-1.20597422317259},{\"x1\":-0.526366443662047,\"x2\":-1.19703560695029},{\"x1\":-0.522324919359498,\"x2\":-1.19102660963629},{\"x1\":-0.520362021477778,\"x2\":-1.18808019009465},{\"x1\":-0.519377970251766,\"x2\":-1.18659621606414},{\"x1\":-0.515431887119817,\"x2\":-1.18059954868669},{\"x1\":-0.515305162623947,\"x2\":-1.18040575732347},{\"x1\":-0.515296417578276,\"x2\":-1.18039238132273},{\"x1\":-0.514107202145564,\"x2\":-1.17857007034049},{\"x1\":-0.507130284838457,\"x2\":-1.16774561965232},{\"x1\":-0.504642032331458,\"x2\":-1.16383034593926},{\"x1\":-0.504213858208905,\"x2\":-1.16315371791814},{\"x1\":-0.50377520060666,\"x2\":-1.16245964315678},{\"x1\":-0.496216458740131,\"x2\":-1.15036029455416},{\"x1\":-0.494006575930999,\"x2\":-1.14677337421896},{\"x1\":-0.492421162052765,\"x2\":-1.14418631073963},{\"x1\":-0.485923340921784,\"x2\":-1.13346391459095},{\"x1\":-0.482923125863969,\"x2\":-1.12844871455231},{\"x1\":-0.475079952072782,\"x2\":-1.11514742515507},{\"x1\":-0.474790562653384,\"x2\":-1.11465140444472},{\"x1\":-0.471049039362977,\"x2\":-1.10820494142929},{\"x1\":-0.469312071395442,\"x2\":-1.10519121943802},{\"x1\":-0.467926682971524,\"x2\":-1.10277798789454},{\"x1\":-0.458669662230532,\"x2\":-1.08643769286044},{\"x1\":-0.456166673649154,\"x2\":-1.08195558440266},{\"x1\":-0.44781604740884,\"x2\":-1.06680753567584},{\"x1\":-0.444985344505225,\"x2\":-1.06160521204596},{\"x1\":-0.444087932032469,\"x2\":-1.05994885086672},{\"x1\":-0.437438225912871,\"x2\":-1.04756989725895},{\"x1\":-0.434043802850953,\"x2\":-1.04117967146712},{\"x1\":-0.428441141446809,\"x2\":-1.03052794535008},{\"x1\":-0.428070207364452,\"x2\":-1.02981816824645},{\"x1\":-0.422970812363187,\"x2\":-1.02000352177044},{\"x1\":-0.422401810212413,\"x2\":-1.01890181230805},{\"x1\":-0.419298690621575,\"x2\":-1.01287043161204},{\"x1\":-0.416746112943378,\"x2\":-1.00787998751346},{\"x1\":-0.411622687271468,\"x2\":-0.997784588100139},{\"x1\":-0.411389336573664,\"x2\":-0.997322293200384},{\"x1\":-0.409188224495751,\"x2\":-0.992951006250064},{\"x1\":-0.409054315033621,\"x2\":-0.992684450364748},{\"x1\":-0.40702403464937,\"x2\":-0.988634364769719},{\"x1\":-0.402756953825385,\"x2\":-0.98006939750925},{\"x1\":-0.402356214580311,\"x2\":-0.979261365505873},{\"x1\":-0.400322523609662,\"x2\":-0.975151081524855},{\"x1\":-0.39253636653268,\"x2\":-0.959266623953385},{\"x1\":-0.391574348137158,\"x2\":-0.957287864184229},{\"x1\":-0.391436057524543,\"x2\":-0.957003126227101},{\"x1\":-0.389912772117767,\"x2\":-0.953861888760172},{\"x1\":-0.388261831993419,\"x2\":-0.950447453836231},{\"x1\":-0.379073926652577,\"x2\":-0.931257761683644},{\"x1\":-0.366949516150594,\"x2\":-0.905456688290631},{\"x1\":-0.363483181405865,\"x2\":-0.897982088710283},{\"x1\":-0.354230391779687,\"x2\":-0.877820350289967},{\"x1\":-0.349125893853536,\"x2\":-0.866569076733558},{\"x1\":-0.347070993926231,\"x2\":-0.862014221228581},{\"x1\":-0.343568673487374,\"x2\":-0.854217647030078},{\"x1\":-0.342518699821288,\"x2\":-0.851872129155242},{\"x1\":-0.338610342299159,\"x2\":-0.84310850059226},{\"x1\":-0.336847232500548,\"x2\":-0.839138282551783},{\"x1\":-0.33658981717047,\"x2\":-0.838557756776597},{\"x1\":-0.336253272986194,\"x2\":-0.837798444719855},{\"x1\":-0.336143671377512,\"x2\":-0.837551079557268},{\"x1\":-0.332977450249869,\"x2\":-0.83038781585912},{\"x1\":-0.328870086008463,\"x2\":-0.821045904903806},{\"x1\":-0.32875479511251,\"x2\":-0.820782884213518},{\"x1\":-0.327033226042344,\"x2\":-0.81685018969134},{\"x1\":-0.323611806871256,\"x2\":-0.809005808774649},{\"x1\":-0.320520486282739,\"x2\":-0.801885775338306},{\"x1\":-0.320188291337589,\"x2\":-0.801118829958306},{\"x1\":-0.317049177149477,\"x2\":-0.793854135366523},{\"x1\":-0.314080823480593,\"x2\":-0.786955926035064},{\"x1\":-0.3137237387091,\"x2\":-0.786124222544413},{\"x1\":-0.313390702635387,\"x2\":-0.785348171801081},{\"x1\":-0.31335044359323,\"x2\":-0.785254335423249},{\"x1\":-0.312845249353749,\"x2\":-0.78407638990149},{\"x1\":-0.311799594710708,\"x2\":-0.781635736069721},{\"x1\":-0.311075883208893,\"x2\":-0.779944530786522},{\"x1\":-0.310369653578588,\"x2\":-0.778292607530689},{\"x1\":-0.309056007571354,\"x2\":-0.77521577735166},{\"x1\":-0.305078838117966,\"x2\":-0.765867985984995},{\"x1\":-0.301783959522212,\"x2\":-0.758087207478433},{\"x1\":-0.299861089195746,\"x2\":-0.753531204870135},{\"x1\":-0.295786241951792,\"x2\":-0.74383971520021},{\"x1\":-0.293591474903443,\"x2\":-0.738599294640686},{\"x1\":-0.283406008455633,\"x2\":-0.714095402125799},{\"x1\":-0.280458282181662,\"x2\":-0.70694825197609},{\"x1\":-0.280112125937134,\"x2\":-0.706107337667289},{\"x1\":-0.279062980827444,\"x2\":-0.703556598077162},{\"x1\":-0.278202880001715,\"x2\":-0.701463167768384},{\"x1\":-0.271185093929721,\"x2\":-0.684305498211624},{\"x1\":-0.270813101601285,\"x2\":-0.683392236822357},{\"x1\":-0.266112416429895,\"x2\":-0.671819447541991},{\"x1\":-0.265816666330551,\"x2\":-0.671089337567843},{\"x1\":-0.265127420996855,\"x2\":-0.669386908063468},{\"x1\":-0.264594349380138,\"x2\":-0.668069355480993},{\"x1\":-0.263374129109546,\"x2\":-0.665050579522869},{\"x1\":-0.262566538721817,\"x2\":-0.663050458376768},{\"x1\":-0.256802697546764,\"x2\":-0.64872560326805},{\"x1\":-0.249786522450207,\"x2\":-0.631172388139549},{\"x1\":-0.248479795773367,\"x2\":-0.627889382329279},{\"x1\":-0.247471907532496,\"x2\":-0.625354248863526},{\"x1\":-0.246196198409786,\"x2\":-0.622141831019286},{\"x1\":-0.245624919667702,\"x2\":-0.620701957381104},{\"x1\":-0.243205467453226,\"x2\":-0.614594926959399},{\"x1\":-0.235280472587677,\"x2\":-0.59449127922452},{\"x1\":-0.234119658770718,\"x2\":-0.591533951655445},{\"x1\":-0.229685747022615,\"x2\":-0.580208793929861},{\"x1\":-0.229608600117401,\"x2\":-0.580011338243326},{\"x1\":-0.227675622855516,\"x2\":-0.575059437732274},{\"x1\":-0.226808316079972,\"x2\":-0.572834776342121},{\"x1\":-0.225875153573648,\"x2\":-0.570439270497289},{\"x1\":-0.224916589140709,\"x2\":-0.567976488782476},{\"x1\":-0.224544626458553,\"x2\":-0.567020265286644},{\"x1\":-0.222628443906641,\"x2\":-0.562089279944625},{\"x1\":-0.217175681028503,\"x2\":-0.548012581347549},{\"x1\":-0.210202393123692,\"x2\":-0.529915840147757},{\"x1\":-0.208187279564394,\"x2\":-0.524666967616036},{\"x1\":-0.205050610499075,\"x2\":-0.516479796696195},{\"x1\":-0.203034183062263,\"x2\":-0.511205868565393},{\"x1\":-0.194646353816972,\"x2\":-0.489179384717139},{\"x1\":-0.187958551411437,\"x2\":-0.471518188684063},{\"x1\":-0.185956479141383,\"x2\":-0.466214537953706},{\"x1\":-0.183094409508895,\"x2\":-0.458619711747359},{\"x1\":-0.17865164688533,\"x2\":-0.44680062428431},{\"x1\":-0.173092596244604,\"x2\":-0.431962226143547},{\"x1\":-0.171511854738142,\"x2\":-0.427733012165542},{\"x1\":-0.171413206484732,\"x2\":-0.427468940069548},{\"x1\":-0.171072764947716,\"x2\":-0.426557482110091},{\"x1\":-0.170227440080235,\"x2\":-0.424293453237704},{\"x1\":-0.16298205814679,\"x2\":-0.404839006453786},{\"x1\":-0.161107372573302,\"x2\":-0.399791279519054},{\"x1\":-0.160408272932724,\"x2\":-0.397907456621991},{\"x1\":-0.160320709701722,\"x2\":-0.397671450061789},{\"x1\":-0.157037923165941,\"x2\":-0.388814692318316},{\"x1\":-0.154367287317548,\"x2\":-0.38159706085114},{\"x1\":-0.151378564483091,\"x2\":-0.373506829355549},{\"x1\":-0.148217261969321,\"x2\":-0.364934869553397},{\"x1\":-0.143283159054754,\"x2\":-0.351526773381342},{\"x1\":-0.141810644449318,\"x2\":-0.347518593009606},{\"x1\":-0.131083746183296,\"x2\":-0.318230826030763},{\"x1\":-0.126885273019926,\"x2\":-0.306726837874595},{\"x1\":-0.12380922647393101,\"x2\":-0.29828448532125},{\"x1\":-0.12134281033082502,\"x2\":-0.29150706644056},{\"x1\":-0.11856730379167602,\"x2\":-0.283871769343225},{\"x1\":-0.11360919459779302,\"x2\":-0.270210445932917},{\"x1\":-0.11270734447738101,\"x2\":-0.2677226146513},{\"x1\":-0.10968842593972601,\"x2\":-0.25938832129438},{\"x1\":-0.10618636655217302,\"x2\":-0.249708291330244},{\"x1\":-0.10543850782977401,\"x2\":-0.24763951875391},{\"x1\":-0.10188501872400801,\"x2\":-0.237802072117201},{\"x1\":-0.08949664223341011,\"x2\":-0.203414458151553},{\"x1\":-0.08534714496157991,\"x2\":-0.191866946387054},{\"x1\":-0.08364605179104831,\"x2\":-0.187129101793964},{\"x1\":-0.07268006491136231,\"x2\":-0.156536434959337},{\"x1\":-0.07170382285201242,\"x2\":-0.153808994627591},{\"x1\":-0.07023584198148831,\"x2\":-0.149706602290151},{\"x1\":-0.06956692225893502,\"x2\":-0.147836811804723},{\"x1\":-0.06817931694281551,\"x2\":-0.143957264030293},{\"x1\":-0.06228131557737191,\"x2\":-0.127454980238869},{\"x1\":-0.060658252152477915,\"x2\":-0.122910442458833},{\"x1\":-0.056344831381058516,\"x2\":-0.110826617723597},{\"x1\":-0.05118153976178121,\"x2\":-0.0963507904721184},{\"x1\":-0.050107955838658916,\"x2\":-0.0933394931314648},{\"x1\":-0.04899744169097522,\"x2\":-0.0902241386692043},{\"x1\":-0.04378286446436661,\"x2\":-0.0755895893915234},{\"x1\":-0.043079819032684916,\"x2\":-0.0736158167377059},{\"x1\":-0.042200864795403914,\"x2\":-0.0711479713837442},{\"x1\":-0.03898483351321221,\"x2\":-0.0621163754711888},{\"x1\":-0.037246227385947614,\"x2\":-0.0572326739834299},{\"x1\":-0.036097034900883215,\"x2\":-0.0540042093111632},{\"x1\":-0.03361470013432631,\"x2\":-0.047029475773808},{\"x1\":-0.027633818771435812,\"x2\":-0.0302198416134992},{\"x1\":-0.02706295422659941,\"x2\":-0.0286150947591766},{\"x1\":-0.02616532162200291,\"x2\":-0.0260916897584448},{\"x1\":-0.02443315541670701,\"x2\":-0.021221990629094},{\"x1\":-0.022781178302944412,\"x2\":-0.0165774409401528},{\"x1\":-0.01850492199768671,\"x2\":-0.00455375527065397},{\"x1\":-0.01660499929154351,\"x2\":0.000788586664149638},{\"x1\":-0.01155945599876171,\"x2\":0.0149760878181498},{\"x1\":-0.011001992949430911,\"x2\":0.0165435742602139},{\"x1\":-0.008790302375713741,\"x2\":0.0227622912373685},{\"x1\":-0.006724512420237191,\"x2\":0.0285704599766111},{\"x1\":-0.0041331941447965105,\"x2\":0.0358556218796511},{\"x1\":-0.0031853463454001607,\"x2\":0.0385201791441626},{\"x1\":-0.002786975899510861,\"x2\":0.039640029187445},{\"x1\":0.0015995903391472692,\"x2\":0.0519693998452357},{\"x1\":0.0020839441429080893,\"x2\":0.0533305749638919},{\"x1\":0.0035491648257322092,\"x2\":0.0574479913884934},{\"x1\":0.01286691290378319,\"x2\":0.0836198436737277},{\"x1\":0.01390596764498429,\"x2\":0.0865368426440963},{\"x1\":0.015468607364503789,\"x2\":0.0909230696467947},{\"x1\":0.015568336922730389,\"x2\":0.0912029761118736},{\"x1\":0.01867954284575919,\"x2\":0.0999332911934189},{\"x1\":0.01903011460817649,\"x2\":0.100916803496491},{\"x1\":0.02318105229718419,\"x2\":0.112558369195106},{\"x1\":0.02389187256543009,\"x2\":0.114551193246558},{\"x1\":0.02393664205659589,\"x2\":0.114676699681693},{\"x1\":0.02664114627785009,\"x2\":0.122256829393908},{\"x1\":0.02802916815979319,\"x2\":0.126145840462509},{\"x1\":0.02829041703970579,\"x2\":0.126877714512281},{\"x1\":0.03188891360787509,\"x2\":0.136955253967786},{\"x1\":0.032346204498590485,\"x2\":0.138235415714236},{\"x1\":0.03312537771232529,\"x2\":0.140416414694452},{\"x1\":0.042288912509131985,\"x2\":0.166040343126021},{\"x1\":0.05307515691007009,\"x2\":0.196132435674789},{\"x1\":0.053581459814747386,\"x2\":0.197542889173444},{\"x1\":0.05791808120746168,\"x2\":0.209615634445841},{\"x1\":0.06342951345490339,\"x2\":0.224936793290905},{\"x1\":0.06430229595709158,\"x2\":0.227360646480148},{\"x1\":0.06448023768831458,\"x2\":0.227854736201427},{\"x1\":0.06574898710999529,\"x2\":0.231376849914068},{\"x1\":0.06808927731969179,\"x2\":0.237869806701088},{\"x1\":0.06979984304371868,\"x2\":0.24261244819177},{\"x1\":0.07643007760776518,\"x2\":0.260968591404474},{\"x1\":0.07662902608775299,\"x2\":0.261518716635163},{\"x1\":0.08154846535327959,\"x2\":0.275108746532794},{\"x1\":0.08341226752584288,\"x2\":0.280250827625814},{\"x1\":0.08624050300929148,\"x2\":0.288046435567299},{\"x1\":0.08745728302050938,\"x2\":0.291397559147092},{\"x1\":0.08794441978354399,\"x2\":0.292738708049733},{\"x1\":0.09172573192448859,\"x2\":0.303139829834247},{\"x1\":0.09309122232906579,\"x2\":0.306891711589999},{\"x1\":0.09370542855454708,\"x2\":0.308578605426517},{\"x1\":0.09643302956910549,\"x2\":0.316064334395088},{\"x1\":0.10383857603657198,\"x2\":0.33634146320702},{\"x1\":0.10485946349129599,\"x2\":0.339131202392892},{\"x1\":0.10530701696361999,\"x2\":0.340353779472919},{\"x1\":0.10790552419591298,\"x2\":0.347446799769989},{\"x1\":0.11552247844935498,\"x2\":0.368184892353583},{\"x1\":0.11998496020131899,\"x2\":0.380296032475456},{\"x1\":0.12297213871246299,\"x2\":0.388386709965941},{\"x1\":0.12415914380860499,\"x2\":0.391597924668864},{\"x1\":0.12547219356888,\"x2\":0.395147611923089},{\"x1\":0.130055075121876,\"x2\":0.40751587349286},{\"x1\":0.13106623957489,\"x2\":0.410240321405201},{\"x1\":0.131507198281504,\"x2\":0.411427912041177},{\"x1\":0.134816978826142,\"x2\":0.420331750530901},{\"x1\":0.137693177575568,\"x2\":0.428054546616945},{\"x1\":0.141656627136342,\"x2\":0.438673896644548},{\"x1\":0.143653376783667,\"x2\":0.444013636385713},{\"x1\":0.14596601652866,\"x2\":0.450189454123272},{\"x1\":0.147064838841114,\"x2\":0.453120517162211},{\"x1\":0.147243865713291,\"x2\":0.453597861047522},{\"x1\":0.149188908207603,\"x2\":0.458780289704578},{\"x1\":0.149918368971034,\"x2\":0.460722135416914},{\"x1\":0.15028051457699,\"x2\":0.461685820590571},{\"x1\":0.152544816580514,\"x2\":0.467705821809515},{\"x1\":0.154782798537718,\"x2\":0.473646603951673},{\"x1\":0.154927962180126,\"x2\":0.474031624500375},{\"x1\":0.15782150324277,\"x2\":0.481698004905698},{\"x1\":0.158276372973414,\"x2\":0.482901740357281},{\"x1\":0.158706713337068,\"x2\":0.484040202081725},{\"x1\":0.162608014469204,\"x2\":0.494344908256028},{\"x1\":0.164170675172433,\"x2\":0.498464195029326},{\"x1\":0.164609483384043,\"x2\":0.499620067732361},{\"x1\":0.166755146939759,\"x2\":0.505266544735469},{\"x1\":0.16717428055588,\"x2\":0.506368463782517},{\"x1\":0.171511272625703,\"x2\":0.517749945669337},{\"x1\":0.180761152631637,\"x2\":0.541895397726464},{\"x1\":0.183585068431298,\"x2\":0.54923090061088},{\"x1\":0.184595556515303,\"x2\":0.5518516115062},{\"x1\":0.185189715533797,\"x2\":0.553391535875234},{\"x1\":0.186992273729755,\"x2\":0.558058648873728},{\"x1\":0.189770602500236,\"x2\":0.565238212974496},{\"x1\":0.190571554235928,\"x2\":0.567304802356836},{\"x1\":0.193227950196224,\"x2\":0.57414848094755},{\"x1\":0.193619690821234,\"x2\":0.575156380447882},{\"x1\":0.196725647111122,\"x2\":0.583135286923151},{\"x1\":0.198209884855488,\"x2\":0.586940362805897},{\"x1\":0.199197921818207,\"x2\":0.589470534255171},{\"x1\":0.199609258756792,\"x2\":0.590523222153676},{\"x1\":0.201150298964862,\"x2\":0.594463533137453},{\"x1\":0.2061882825849,\"x2\":0.607306307994584},{\"x1\":0.209591684867205,\"x2\":0.615948000485306},{\"x1\":0.210039280124289,\"x2\":0.617082425439967},{\"x1\":0.218744786284715,\"x2\":0.639048642860004},{\"x1\":0.218974069785221,\"x2\":0.639624637659587},{\"x1\":0.221161101793482,\"x2\":0.645112126982377},{\"x1\":0.223903046510874,\"x2\":0.651974787353169},{\"x1\":0.22453511696354,\"x2\":0.653554033443331},{\"x1\":0.232208203087911,\"x2\":0.672642787809429},{\"x1\":0.232237979853281,\"x2\":0.672716564396609},{\"x1\":0.235826411513608,\"x2\":0.681590202792123},{\"x1\":0.237547201578196,\"x2\":0.68583322556076},{\"x1\":0.242598666760845,\"x2\":0.698242474334526},{\"x1\":0.245512343675818,\"x2\":0.70536829609632},{\"x1\":0.245548193795642,\"x2\":0.705455826476058},{\"x1\":0.247291114273765,\"x2\":0.709706965875459},{\"x1\":0.247464185857745,\"x2\":0.710128640594326},{\"x1\":0.253661778154697,\"x2\":0.725172994765197},{\"x1\":0.254301075050253,\"x2\":0.726718655986814},{\"x1\":0.257356892073632,\"x2\":0.734090664964449},{\"x1\":0.25742392995292,\"x2\":0.734252088992731},{\"x1\":0.261560409497314,\"x2\":0.744187286946628},{\"x1\":0.261958636106744,\"x2\":0.745141131613325},{\"x1\":0.263204375403506,\"x2\":0.74812195735815},{\"x1\":0.267535080429962,\"x2\":0.758448847925222},{\"x1\":0.269480989312223,\"x2\":0.763070817385234},{\"x1\":0.270015138458985,\"x2\":0.764337553505553},{\"x1\":0.273336725557229,\"x2\":0.772195372597831},{\"x1\":0.27507466627589,\"x2\":0.776293436943727},{\"x1\":0.278990792598668,\"x2\":0.785493734783399},{\"x1\":0.279781168381648,\"x2\":0.787344856085285},{\"x1\":0.282935442935838,\"x2\":0.794713069866219},{\"x1\":0.298428970710594,\"x2\":0.830447366384587},{\"x1\":0.299283424514727,\"x2\":0.832395533887412},{\"x1\":0.307155243949206,\"x2\":0.850230015812575},{\"x1\":0.307481571633655,\"x2\":0.850964895297878},{\"x1\":0.311014557197241,\"x2\":0.858898136261664},{\"x1\":0.312130665896733,\"x2\":0.86139556942174},{\"x1\":0.31479700433521,\"x2\":0.867344692472593},{\"x1\":0.317299201472052,\"x2\":0.872905480700825},{\"x1\":0.318256368058549,\"x2\":0.875026962509804},{\"x1\":0.319139946942259,\"x2\":0.876982538405512},{\"x1\":0.320222674519537,\"x2\":0.879375198543353},{\"x1\":0.323980723320162,\"x2\":0.887648302923942},{\"x1\":0.324003707704342,\"x2\":0.887698750000804},{\"x1\":0.325156963720992,\"x2\":0.890227588302206},{\"x1\":0.327274277342056,\"x2\":0.894858233476244},{\"x1\":0.328825765733764,\"x2\":0.898241361870384},{\"x1\":0.332363461536592,\"x2\":0.905923624753048},{\"x1\":0.337372065405519,\"x2\":0.916723498278095},{\"x1\":0.338217877397228,\"x2\":0.918538372904775},{\"x1\":0.339289986389707,\"x2\":0.92083509315958},{\"x1\":0.343819072524216,\"x2\":0.930491329446248},{\"x1\":0.346679651888987,\"x2\":0.936551497273624},{\"x1\":0.34812807019239,\"x2\":0.939608474709977},{\"x1\":0.352027704353753,\"x2\":0.947800189432053},{\"x1\":0.352125315518246,\"x2\":0.948004507923356},{\"x1\":0.35291314688522,\"x2\":0.949652282285905},{\"x1\":0.353153953659034,\"x2\":0.950155473683388},{\"x1\":0.355961000592089,\"x2\":0.956005038525394},{\"x1\":0.356734600081257,\"x2\":0.957611917561987},{\"x1\":0.360316842226229,\"x2\":0.965023233748585},{\"x1\":0.362153688755312,\"x2\":0.968804575324325},{\"x1\":0.366761437790593,\"x2\":0.978233269245214},{\"x1\":0.369053789389437,\"x2\":0.982893573060787},{\"x1\":0.369998141759616,\"x2\":0.984807502878961},{\"x1\":0.370813880114483,\"x2\":0.9864579809698},{\"x1\":0.373207109138967,\"x2\":0.991285229146099},{\"x1\":0.375134169649266,\"x2\":0.995155924053282},{\"x1\":0.377045309708407,\"x2\":0.998980244635561},{\"x1\":0.384088650911029,\"x2\":1.01294976058329},{\"x1\":0.385993414974513,\"x2\":1.01669366481311},{\"x1\":0.389023902830851,\"x2\":1.02262021875543},{\"x1\":0.391052879775278,\"x2\":1.02656748133146},{\"x1\":0.39112465605861,\"x2\":1.0267068131828},{\"x1\":0.391317997161117,\"x2\":1.02708202238972},{\"x1\":0.391519659783754,\"x2\":1.02747321945191},{\"x1\":0.392381090004259,\"x2\":1.0291424158793},{\"x1\":0.394252040934996,\"x2\":1.03275737996346},{\"x1\":0.40480365719956,\"x2\":1.05287625221333},{\"x1\":0.405315230631946,\"x2\":1.05383999031969},{\"x1\":0.406347385301933,\"x2\":1.05578112252592},{\"x1\":0.409147386300882,\"x2\":1.06102460106894},{\"x1\":0.409536103825432,\"x2\":1.0617499499827},{\"x1\":0.409787164031512,\"x2\":1.0622180932116},{\"x1\":0.410759999261888,\"x2\":1.06402960909479},{\"x1\":0.411630885764122,\"x2\":1.06564791599461},{\"x1\":0.427862635178292,\"x2\":1.09522142729245},{\"x1\":0.437790434542508,\"x2\":1.11275018469919},{\"x1\":0.441438782969288,\"x2\":1.11908340258983},{\"x1\":0.443048941148769,\"x2\":1.1218598207457},{\"x1\":0.45121480332383,\"x2\":1.13576301707537},{\"x1\":0.454580707301828,\"x2\":1.14140701842365},{\"x1\":0.456106775436547,\"x2\":1.14394915313555},{\"x1\":0.458800364221884,\"x2\":1.1484104782535},{\"x1\":0.460501642646094,\"x2\":1.15121132686489},{\"x1\":0.460737171899681,\"x2\":1.15159804771475},{\"x1\":0.462672597175344,\"x2\":1.15476630972889},{\"x1\":0.467130322652669,\"x2\":1.16199851439779},{\"x1\":0.468439018678729,\"x2\":1.1641044593114},{\"x1\":0.473548411230318,\"x2\":1.17225098863772},{\"x1\":0.476156155495695,\"x2\":1.17636232752428},{\"x1\":0.476524219444331,\"x2\":1.17694007237896},{\"x1\":0.476841413842359,\"x2\":1.17743746311597},{\"x1\":0.478710861710361,\"x2\":1.18035942758035},{\"x1\":0.480270569892867,\"x2\":1.18278480755605},{\"x1\":0.48034633052893,\"x2\":1.18290232792217},{\"x1\":0.48198897535616,\"x2\":1.18544381394045},{\"x1\":0.484500307682907,\"x2\":1.1893049083788},{\"x1\":0.485904881582157,\"x2\":1.19145149164037},{\"x1\":0.486387533844186,\"x2\":1.1921869785956},{\"x1\":0.490144302570341,\"x2\":1.19787418054182},{\"x1\":0.490518478545237,\"x2\":1.19843697919043},{\"x1\":0.494853630453956,\"x2\":1.20490911462711},{\"x1\":0.495359746616502,\"x2\":1.20565889905632},{\"x1\":0.503158885021477,\"x2\":1.21705830365199},{\"x1\":0.508807632802442,\"x2\":1.22513231040071},{\"x1\":0.512638107205935,\"x2\":1.2305196287732},{\"x1\":0.522838596299388,\"x2\":1.2445174797542},{\"x1\":0.522853354696734,\"x2\":1.2445373632863},{\"x1\":0.523173990425688,\"x2\":1.24496908164548},{\"x1\":0.528767734288264,\"x2\":1.25241928597873},{\"x1\":0.530624875861533,\"x2\":1.2548586114608},{\"x1\":0.533045784724277,\"x2\":1.25801277429647},{\"x1\":0.533329168016874,\"x2\":1.25838008791658},{\"x1\":0.537593820439681,\"x2\":1.26385956249967},{\"x1\":0.537835881195387,\"x2\":1.26416785806308},{\"x1\":0.53973442019715,\"x2\":1.26657574369964},{\"x1\":0.542854124148691,\"x2\":1.27049325000181},{\"x1\":0.544428109954268,\"x2\":1.27245123015355},{\"x1\":0.548587548855042,\"x2\":1.27756545836635},{\"x1\":0.551419933167821,\"x2\":1.28099808064164},{\"x1\":0.553336509104557,\"x2\":1.28329780413799},{\"x1\":0.55456285469225,\"x2\":1.28475954817544},{\"x1\":0.555719300877075,\"x2\":1.28613098602378},{\"x1\":0.557304804992725,\"x2\":1.28800020611901},{\"x1\":0.559087049581291,\"x2\":1.2900861078893},{\"x1\":0.559449695638371,\"x2\":1.29050856085902},{\"x1\":0.562350689724099,\"x2\":1.29386383955898},{\"x1\":0.568191804954756,\"x2\":1.30048909094136},{\"x1\":0.569885053334458,\"x2\":1.30237692964071},{\"x1\":0.570285393877958,\"x2\":1.30282112336389},{\"x1\":0.571468300153782,\"x2\":1.30412878617022},{\"x1\":0.573486451496367,\"x2\":1.30634314547928},{\"x1\":0.582973547753161,\"x2\":1.31647047384867},{\"x1\":0.583495673190984,\"x2\":1.31701428267166},{\"x1\":0.588206133736308,\"x2\":1.3218561974208},{\"x1\":0.588500997348738,\"x2\":1.32215544197331},{\"x1\":0.589661978635607,\"x2\":1.32332925900185},{\"x1\":0.604756459404705,\"x2\":1.33794724726934},{\"x1\":0.604821720129785,\"x2\":1.33800784341578},{\"x1\":0.612005325445762,\"x2\":1.34454018684214},{\"x1\":0.61677805920363,\"x2\":1.34872880229134},{\"x1\":0.618234381615282,\"x2\":1.34998274736225},{\"x1\":0.618932970027798,\"x2\":1.35058024421975},{\"x1\":0.624878771587208,\"x2\":1.35556016002755},{\"x1\":0.6267329962508,\"x2\":1.35707448586238},{\"x1\":0.631493836965451,\"x2\":1.36087816811639},{\"x1\":0.635689055012328,\"x2\":1.3641289839481},{\"x1\":0.640645625048912,\"x2\":1.36784754729397},{\"x1\":0.642833390176047,\"x2\":1.36944667342372},{\"x1\":0.648309408296137,\"x2\":1.37333575656056},{\"x1\":0.657161787282355,\"x2\":1.37927854751956},{\"x1\":0.661490734116082,\"x2\":1.38202934781284},{\"x1\":0.663723821858843,\"x2\":1.38340836692213},{\"x1\":0.666451022423378,\"x2\":1.38505555900122},{\"x1\":0.667939422078893,\"x2\":1.38593737250711},{\"x1\":0.66962750303054,\"x2\":1.38692281170726},{\"x1\":0.673972413149389,\"x2\":1.38938738579076},{\"x1\":0.675095289199367,\"x2\":1.39000747828694},{\"x1\":0.675798942406125,\"x2\":1.39039253290165},{\"x1\":0.678178168314312,\"x2\":1.39167435282632},{\"x1\":0.685424939567792,\"x2\":1.39538674678071},{\"x1\":0.693566943457208,\"x2\":1.39921243474823},{\"x1\":0.695071570723599,\"x2\":1.39987933480299},{\"x1\":0.695374322803767,\"x2\":1.40001201181856},{\"x1\":0.701386144714074,\"x2\":1.40254158663541},{\"x1\":0.706076009167437,\"x2\":1.40437592141324},{\"x1\":0.715591236135249,\"x2\":1.40772253985233},{\"x1\":0.719489125154314,\"x2\":1.40894818138523},{\"x1\":0.720478945161872,\"x2\":1.40924595813696},{\"x1\":0.727200284959872,\"x2\":1.41112369027028},{\"x1\":0.728700140294656,\"x2\":1.4115083493212},{\"x1\":0.734709941345881,\"x2\":1.41292379979226},{\"x1\":0.741894361956883,\"x2\":1.41435136499288},{\"x1\":0.757267464276804,\"x2\":1.41643708251211},{\"x1\":0.758324611417864,\"x2\":1.41653193732701},{\"x1\":0.763855738118808,\"x2\":1.41692627148766},{\"x1\":0.766086642996568,\"x2\":1.41703686386125},{\"x1\":0.768298609143567,\"x2\":1.4171190132961},{\"x1\":0.777385764677347,\"x2\":1.41716911174101},{\"x1\":0.780594354050455,\"x2\":1.41707637577255},{\"x1\":0.789866366093706,\"x2\":1.41648454184192},{\"x1\":0.799166274268067,\"x2\":1.41540774738189},{\"x1\":0.801783431110031,\"x2\":1.41501751365588},{\"x1\":0.802678379165077,\"x2\":1.41487528685761},{\"x1\":0.805412098949335,\"x2\":1.41441312114281},{\"x1\":0.806044766409179,\"x2\":1.41430021156484},{\"x1\":0.806821034415841,\"x2\":1.41415861916704},{\"x1\":0.808395536227905,\"x2\":1.41386109046291},{\"x1\":0.808847386200452,\"x2\":1.41377314890676},{\"x1\":0.820814699911518,\"x2\":1.41102925170654},{\"x1\":0.831106785420668,\"x2\":1.40803097337611},{\"x1\":0.837209849731494,\"x2\":1.40597470093597},{\"x1\":0.840107976732534,\"x2\":1.40492579520237},{\"x1\":0.841099772041175,\"x2\":1.40455613273077},{\"x1\":0.841635793330555,\"x2\":1.40435407478439},{\"x1\":0.842719176423406,\"x2\":1.40394081818883},{\"x1\":0.84509314788464,\"x2\":1.40301251149888},{\"x1\":0.855343931171754,\"x2\":1.39864577830878},{\"x1\":0.855415777801745,\"x2\":1.39861312154073},{\"x1\":0.859735594280785,\"x2\":1.39659723875041},{\"x1\":0.86109158341167,\"x2\":1.39594321866893},{\"x1\":0.861141104334521,\"x2\":1.39591914184425},{\"x1\":0.861288904888508,\"x2\":1.3958472015547},{\"x1\":0.862043476049697,\"x2\":1.39547804544684},{\"x1\":0.86243894354895,\"x2\":1.39528331884127},{\"x1\":0.863276369152568,\"x2\":1.39486812896875},{\"x1\":0.869337726457126,\"x2\":1.39174782946737},{\"x1\":0.870493550826759,\"x2\":1.39112988548642},{\"x1\":0.870511859243736,\"x2\":1.39112003810153},{\"x1\":0.872886813004646,\"x2\":1.38982703214549},{\"x1\":0.872922672288585,\"x2\":1.38980727176733},{\"x1\":0.87574262962748,\"x2\":1.38823122895224},{\"x1\":0.88443252234496,\"x2\":1.38310055526298},{\"x1\":0.884807334549036,\"x2\":1.38286996769936},{\"x1\":0.888260051733337,\"x2\":1.38070975322453},{\"x1\":0.888667935935967,\"x2\":1.38045026219547},{\"x1\":0.889726778566741,\"x2\":1.37977240579553},{\"x1\":0.892994931966277,\"x2\":1.37764165971628},{\"x1\":0.898620879445226,\"x2\":1.37383761533621},{\"x1\":0.906641542418809,\"x2\":1.36811752254791},{\"x1\":0.914217343342167,\"x2\":1.36239544527281},{\"x1\":0.91503507041176,\"x2\":1.36175931852838},{\"x1\":0.91873561945382,\"x2\":1.35883564724929},{\"x1\":0.919181255626825,\"x2\":1.35847860489456},{\"x1\":0.92932016360036,\"x2\":1.35006801259051},{\"x1\":0.934882766215896,\"x2\":1.3452205611649},{\"x1\":0.940274799104203,\"x2\":1.34036483974527},{\"x1\":0.940377789706629,\"x2\":1.34027059328011},{\"x1\":0.940821390334558,\"x2\":1.33986401369964},{\"x1\":0.954998440275247,\"x2\":1.3263234743808},{\"x1\":0.957619170654099,\"x2\":1.32370478897683},{\"x1\":0.958972603485922,\"x2\":1.32233834905109},{\"x1\":0.961934002388464,\"x2\":1.31931514001621},{\"x1\":0.966989660946386,\"x2\":1.31404843224093},{\"x1\":0.968576837231326,\"x2\":1.31236761794295},{\"x1\":0.970325837662626,\"x2\":1.31050031309671},{\"x1\":0.971197062040308,\"x2\":1.30956424976136},{\"x1\":0.976662518174147,\"x2\":1.3036026022912},{\"x1\":0.979025381613392,\"x2\":1.30097757037864},{\"x1\":0.984583006055129,\"x2\":1.29469033966632},{\"x1\":0.986416434902515,\"x2\":1.29258154039397},{\"x1\":0.993158538485935,\"x2\":1.28467947723278},{\"x1\":0.998550331192179,\"x2\":1.27819403462371},{\"x1\":1.00929218674972,\"x2\":1.26483675666217},{\"x1\":1.01688278503758,\"x2\":1.25505016606387},{\"x1\":1.02058065736001,\"x2\":1.25017891786773},{\"x1\":1.02128112320658,\"x2\":1.24924857466137},{\"x1\":1.02201523068131,\"x2\":1.24827095220396},{\"x1\":1.02635361081199,\"x2\":1.24243930417127},{\"x1\":1.02982583177317,\"x2\":1.23770540875308},{\"x1\":1.03041187463042,\"x2\":1.23690060280194},{\"x1\":1.04056577700923,\"x2\":1.22269104593836},{\"x1\":1.0460286144824,\"x2\":1.21483997528867},{\"x1\":1.04761500919606,\"x2\":1.21253318565485},{\"x1\":1.0490700458587,\"x2\":1.21040681243544},{\"x1\":1.05097665995162,\"x2\":1.20760519880857},{\"x1\":1.0522307832933,\"x2\":1.20575291579308},{\"x1\":1.05299873218742,\"x2\":1.20461499377726},{\"x1\":1.05911842620556,\"x2\":1.1954470276417},{\"x1\":1.06020030942049,\"x2\":1.19380782607279},{\"x1\":1.06525062856924,\"x2\":1.18608304888478},{\"x1\":1.06798923883094,\"x2\":1.18184418857646},{\"x1\":1.07178369198938,\"x2\":1.17591328254226},{\"x1\":1.08679757000586,\"x2\":1.15179384747621},{\"x1\":1.08908327782019,\"x2\":1.14803149217894},{\"x1\":1.08927256112999,\"x2\":1.14771886275996},{\"x1\":1.09085637620414,\"x2\":1.14509660121922},{\"x1\":1.09369228702228,\"x2\":1.14037298625037},{\"x1\":1.10352872679474,\"x2\":1.12370944285057},{\"x1\":1.10476373298103,\"x2\":1.12158681355051},{\"x1\":1.11069738626287,\"x2\":1.11129461444438},{\"x1\":1.11241725179765,\"x2\":1.10828249959884},{\"x1\":1.11472796826754,\"x2\":1.10421522751858},{\"x1\":1.11669954822818,\"x2\":1.10072649759632},{\"x1\":1.11771808412111,\"x2\":1.09891757055093},{\"x1\":1.11789800554911,\"x2\":1.09859756105252},{\"x1\":1.12146078752558,\"x2\":1.09223192123569},{\"x1\":1.12564439755638,\"x2\":1.08468722938424},{\"x1\":1.13222941405494,\"x2\":1.07266030825992},{\"x1\":1.13349717412651,\"x2\":1.07032373004817},{\"x1\":1.13689899470942,\"x2\":1.06402041443019},{\"x1\":1.13796693404056,\"x2\":1.06203157017317},{\"x1\":1.14760076408894,\"x2\":1.04387538370453},{\"x1\":1.15059296136198,\"x2\":1.03815809549653},{\"x1\":1.15135851520194,\"x2\":1.03668942767689},{\"x1\":1.15610149087907,\"x2\":1.02753702541503},{\"x1\":1.15741278037254,\"x2\":1.02499053719391},{\"x1\":1.16288128628142,\"x2\":1.01429608953184},{\"x1\":1.16584877134719,\"x2\":1.00844258411757},{\"x1\":1.16737671655547,\"x2\":1.00541496481783},{\"x1\":1.17372597281786,\"x2\":0.992735070587804},{\"x1\":1.17462734781574,\"x2\":0.990922121043363},{\"x1\":1.17570720885821,\"x2\":0.988745999202166},{\"x1\":1.19714851425439,\"x2\":0.944609403626516},{\"x1\":1.21549884848738,\"x2\":0.905472615144359},{\"x1\":1.2212553228477,\"x2\":0.892945286773141},{\"x1\":1.22145935299099,\"x2\":0.892499123008027},{\"x1\":1.23180022552925,\"x2\":0.869695950336108},{\"x1\":1.23207507429042,\"x2\":0.869084823676546},{\"x1\":1.23405183136007,\"x2\":0.864681888815422},{\"x1\":1.23988358576727,\"x2\":0.851615175910375},{\"x1\":1.24811593275074,\"x2\":0.832975775877831},{\"x1\":1.24831981080815,\"x2\":0.832511318514936},{\"x1\":1.25185704136781,\"x2\":0.824431465424252},{\"x1\":1.25679510638461,\"x2\":0.813083891226732},{\"x1\":1.27010671305639,\"x2\":0.782108066249024},{\"x1\":1.27157917838824,\"x2\":0.778647738930503},{\"x1\":1.27522601416151,\"x2\":0.770049023453348},{\"x1\":1.27992017650992,\"x2\":0.758921547743282},{\"x1\":1.28266362660331,\"x2\":0.75238766334234},{\"x1\":1.28316030568451,\"x2\":0.751202367345888},{\"x1\":1.28460699465172,\"x2\":0.747745773047069},{\"x1\":1.29086902389257,\"x2\":0.732713113015238},{\"x1\":1.29312695530799,\"x2\":0.727264837601923},{\"x1\":1.29385580921725,\"x2\":0.725503027476365},{\"x1\":1.29595497552062,\"x2\":0.720420386367246},{\"x1\":1.30432217145358,\"x2\":0.700037859086168},{\"x1\":1.31323312831809,\"x2\":0.678118735084861},{\"x1\":1.31340263073575,\"x2\":0.677699718228481},{\"x1\":1.31535397753244,\"x2\":0.672870402943588},{\"x1\":1.33104440403094,\"x2\":0.633678520207894},{\"x1\":1.33401882545558,\"x2\":0.626178586657838},{\"x1\":1.3357156706487,\"x2\":0.621890253749287},{\"x1\":1.34376527132601,\"x2\":0.601451880092254},{\"x1\":1.34563863845065,\"x2\":0.596673125562027},{\"x1\":1.35341626929589,\"x2\":0.576745944474968},{\"x1\":1.35813533599853,\"x2\":0.564588005770797},{\"x1\":1.36004954837404,\"x2\":0.559642189402489},{\"x1\":1.36362963851986,\"x2\":0.550370614577834},{\"x1\":1.38676802626227,\"x2\":0.489800132191009},{\"x1\":1.38834518654614,\"x2\":0.485632596443566},{\"x1\":1.41559998133012,\"x2\":0.412900310852594},{\"x1\":1.42086760719593,\"x2\":0.398697872780634},{\"x1\":1.47314069739435,\"x2\":0.255666488033343},{\"x1\":1.4787786530282,\"x2\":0.240049709670617},{\"x1\":1.479487433837,\"x2\":0.238084294014811},{\"x1\":1.48470649516327,\"x2\":0.223598035861551},{\"x1\":1.49876281003037,\"x2\":0.184469616077161},{\"x1\":1.50135887260799,\"x2\":0.177226677443953},{\"x1\":1.50200659221554,\"x2\":0.175418833138752},{\"x1\":1.50221452941502,\"x2\":0.174838401203259},{\"x1\":1.53056563811058,\"x2\":0.0954688761879104},{\"x1\":1.53311071972502,\"x2\":0.088325977819075},{\"x1\":1.538889238654,\"x2\":0.0721006019060559},{\"x1\":1.56315627577264,\"x2\":0.00388947940870714},{\"x1\":1.56568398121471,\"x2\":-0.00321814869661434},{\"x1\":1.5681360865691,\"x2\":-0.0101130058042463},{\"x1\":1.56828563156699,\"x2\":-0.0105334882710846},{\"x1\":1.57101850607846,\"x2\":-0.0182173588318595},{\"x1\":1.57288917666403,\"x2\":-0.0234766400495965},{\"x1\":1.5770009003266,\"x2\":-0.0350350313103767},{\"x1\":1.57834509639167,\"x2\":-0.0388131352901493},{\"x1\":1.58222996949711,\"x2\":-0.0497304165991408},{\"x1\":1.59319310580178,\"x2\":-0.080519329596412},{\"x1\":1.59437698627738,\"x2\":-0.0838419737824158},{\"x1\":1.59861636639514,\"x2\":-0.0957359253688871},{\"x1\":1.6146684019257,\"x2\":-0.140699307028477},{\"x1\":1.62535931452273,\"x2\":-0.170566047363438},{\"x1\":1.62676579062867,\"x2\":-0.174489637698586},{\"x1\":1.62706383886592,\"x2\":-0.175320911536539},{\"x1\":1.64154781380694,\"x2\":-0.215635551610472},{\"x1\":1.64545260481398,\"x2\":-0.226474162448112},{\"x1\":1.6717109134088,\"x2\":-0.298964559118355},{\"x1\":1.67206208853332,\"x2\":-0.299928851470804},{\"x1\":1.69248319848469,\"x2\":-0.355731654146617},{\"x1\":1.69487304016232,\"x2\":-0.362224967151577},{\"x1\":1.70707462274657,\"x2\":-0.395244627910125},{\"x1\":1.71299895374161,\"x2\":-0.411193001037033},{\"x1\":1.72979754378087,\"x2\":-0.456093005095614},{\"x1\":1.74632485635441,\"x2\":-0.499765184499576},{\"x1\":1.76586549998084,\"x2\":-0.55069155370761},{\"x1\":1.78774209221338,\"x2\":-0.606704948172869},{\"x1\":1.79648199435893,\"x2\":-0.628764484390939},{\"x1\":1.81890054985215,\"x2\":-0.684456214830836},{\"x1\":1.82322658753899,\"x2\":-0.695048257284198},{\"x1\":1.82466672720304,\"x2\":-0.69856287440718},{\"x1\":1.83478740008597,\"x2\":-0.723097354593615},{\"x1\":1.84923004287468,\"x2\":-0.757594992438747},{\"x1\":1.87076161385461,\"x2\":-0.807846514181623},{\"x1\":1.87595459526038,\"x2\":-0.819746149272426},{\"x1\":1.87814298981425,\"x2\":-0.824734499853951},{\"x1\":1.89707947190189,\"x2\":-0.867231787722534},{\"x1\":1.91622594445508,\"x2\":-0.90894021684102},{\"x1\":1.91857134220915,\"x2\":-0.913959336060173},{\"x1\":1.98127798628633,\"x2\":-1.04038591789247},{\"x1\":2.01318819678915,\"x2\":-1.0985905586247},{\"x1\":2.01849667671943,\"x2\":-1.107847500434},{\"x1\":2.06996692796903,\"x2\":-1.19100858928139},{\"x1\":2.08251783409956,\"x2\":-1.20941535663879},{\"x1\":2.10219977808019,\"x2\":-1.23674962900877},{\"x1\":2.1082551055825,\"x2\":-1.2447777398385},{\"x1\":2.13645259370496,\"x2\":-1.27975207514725},{\"x1\":2.17322816255948,\"x2\":-1.31927001325192},{\"x1\":2.20336817701636,\"x2\":-1.34637624987362},{\"x1\":2.20975544931194,\"x2\":-1.3514990419798},{\"x1\":2.22858267561264,\"x2\":-1.36532018096131},{\"x1\":2.22954869703889,\"x2\":-1.36597758496961},{\"x1\":2.29381746368563,\"x2\":-1.39822182308459},{\"x1\":2.33593082063324,\"x2\":-1.40692850554944},{\"x1\":2.41541757251413,\"x2\":-1.39634231629902},{\"x1\":2.43731927713761,\"x2\":-1.38723999660115},{\"x1\":2.4481093774579,\"x2\":-1.38178143535452},{\"x1\":2.46712844510554,\"x2\":-1.37060390630048},{\"x1\":2.53383116830657,\"x2\":-1.31595109392351},{\"x1\":2.55478448890825,\"x2\":-1.29392607118093},{\"x1\":2.55983783556228,\"x2\":-1.28827453937359},{\"x1\":2.58556405315696,\"x2\":-1.25748652817894},{\"x1\":4.00361923790244,\"x2\":1.40200909359003}],\"e0e45387-7dc6-486e-baa4-f23cd30991b0\":[{\"data0\":-3.3981146872781,\"data1\":-2.258975203900306},{\"data0\":-3.24143836303274,\"data1\":-2.154750797143661},{\"data0\":-2.78228072883387,\"data1\":-1.8574298158418963},{\"data0\":-2.75039586728225,\"data1\":-1.8372179323762496},{\"data0\":-2.74665419119698,\"data1\":-1.834849713552428},{\"data0\":-2.46437700511943,\"data1\":-1.658382402673091},{\"data0\":-2.44300327979985,\"data1\":-1.645196724733577},{\"data0\":-2.41894322460685,\"data1\":-1.6303835696290359},{\"data0\":-2.41287142076604,\"data1\":-1.626650299715196},{\"data0\":-2.39481386225415,\"data1\":-1.615559424263574},{\"data0\":-2.38280139198342,\"data1\":-1.6081912702093721},{\"data0\":-2.31818801686942,\"data1\":-1.568694371394739},{\"data0\":-2.16238676343318,\"data1\":-1.4744015019501957},{\"data0\":-2.06343015184665,\"data1\":-1.4152144639132527},{\"data0\":-2.06131151676102,\"data1\":-1.4139533277116396},{\"data0\":-2.05456094690978,\"data1\":-1.4099366909895452},{\"data0\":-2.02808511689642,\"data1\":-1.394208406455943},{\"data0\":-2.02478005966374,\"data1\":-1.3922478031601302},{\"data0\":-1.99168009680669,\"data1\":-1.3726469503229677},{\"data0\":-1.95240948360055,\"data1\":-1.3494737248341149},{\"data0\":-1.93266283710784,\"data1\":-1.3378551199673212},{\"data0\":-1.92684345651878,\"data1\":-1.3344354136206578},{\"data0\":-1.91615582681068,\"data1\":-1.3281600630688046},{\"data0\":-1.89746821394705,\"data1\":-1.3172034694739012},{\"data0\":-1.87595523655548,\"data1\":-1.3046157023414384},{\"data0\":-1.85103003404998,\"data1\":-1.2900654438696721},{\"data0\":-1.82147562227814,\"data1\":-1.272860541089859},{\"data0\":-1.81846805333943,\"data1\":-1.2711126185562422},{\"data0\":-1.79639460682532,\"data1\":-1.2583006356866697},{\"data0\":-1.79263628767266,\"data1\":-1.2561221205198374},{\"data0\":-1.75894055773043,\"data1\":-1.2366283253276549},{\"data0\":-1.74600030752545,\"data1\":-1.2291603172002006},{\"data0\":-1.74514848478333,\"data1\":-1.228669074323328},{\"data0\":-1.73222717547199,\"data1\":-1.2212228182849671},{\"data0\":-1.72753066025433,\"data1\":-1.21851884431922},{\"data0\":-1.72607716317567,\"data1\":-1.2176822799762488},{\"data0\":-1.69905321085328,\"data1\":-1.2021521202404057},{\"data0\":-1.68588573611679,\"data1\":-1.1946012753449333},{\"data0\":-1.68559249536125,\"data1\":-1.1944332390931538},{\"data0\":-1.6760512439288,\"data1\":-1.1889686983314327},{\"data0\":-1.66331833299248,\"data1\":-1.1816849851956366},{\"data0\":-1.64099080690236,\"data1\":-1.1689371182758368},{\"data0\":-1.63954388221954,\"data1\":-1.1681120718013245},{\"data0\":-1.63687638463821,\"data1\":-1.1665913893841342},{\"data0\":-1.62930077955886,\"data1\":-1.1622751305489125},{\"data0\":-1.61253408273285,\"data1\":-1.1527349858021905},{\"data0\":-1.60537459542058,\"data1\":-1.1486666748247105},{\"data0\":-1.60190068259612,\"data1\":-1.1466938225539645},{\"data0\":-1.59285733403586,\"data1\":-1.141561639648646},{\"data0\":-1.58784335462184,\"data1\":-1.138718393106023},{\"data0\":-1.58473606160155,\"data1\":-1.1369571601889712},{\"data0\":-1.57883340533868,\"data1\":-1.1336131878045124},{\"data0\":-1.578332888866,\"data1\":-1.1333297371711315},{\"data0\":-1.57287217036917,\"data1\":-1.1302382797577382},{\"data0\":-1.5713482370769,\"data1\":-1.1293758798965634},{\"data0\":-1.57038974221478,\"data1\":-1.128833539746559},{\"data0\":-1.56780193683268,\"data1\":-1.1273695881047117},{\"data0\":-1.56057061201395,\"data1\":-1.123281011196145},{\"data0\":-1.54843334635488,\"data1\":-1.1164261494020005},{\"data0\":-1.54474292577185,\"data1\":-1.114343754621796},{\"data0\":-1.54274085587486,\"data1\":-1.1132144122994487},{\"data0\":-1.54244428104005,\"data1\":-1.1130471401073032},{\"data0\":-1.52353084414495,\"data1\":-1.1023914169289655},{\"data0\":-1.5216215041567,\"data1\":-1.1013169896755133},{\"data0\":-1.52051127473287,\"data1\":-1.1006923478823243},{\"data0\":-1.50791417827017,\"data1\":-1.0936105166078918},{\"data0\":-1.50344174193098,\"data1\":-1.0910986837162915},{\"data0\":-1.49759221808154,\"data1\":-1.0878154097019173},{\"data0\":-1.47843552009071,\"data1\":-1.077078609027655},{\"data0\":-1.44875866348017,\"data1\":-1.060493153830627},{\"data0\":-1.43798405958504,\"data1\":-1.0544859764603154},{\"data0\":-1.43660565133467,\"data1\":-1.053718027146373},{\"data0\":-1.43449235708808,\"data1\":-1.0525408979338466},{\"data0\":-1.43392240578399,\"data1\":-1.052223479379426},{\"data0\":-1.43279656546996,\"data1\":-1.0515965374195164},{\"data0\":-1.42633426655003,\"data1\":-1.047999537762598},{\"data0\":-1.41978405497584,\"data1\":-1.0443564485460906},{\"data0\":-1.4101044292061,\"data1\":-1.0389780996820446},{\"data0\":-1.40784141910864,\"data1\":-1.0377215954835104},{\"data0\":-1.39410869529677,\"data1\":-1.0301040782719935},{\"data0\":-1.39274944492331,\"data1\":-1.029350795279502},{\"data0\":-1.38605930192795,\"data1\":-1.0256450024603996},{\"data0\":-1.38242795554537,\"data1\":-1.0236347998822604},{\"data0\":-1.38206757676203,\"data1\":-1.023435353857097},{\"data0\":-1.38185234671711,\"data1\":-1.023316242334639},{\"data0\":-1.36948576380536,\"data1\":-1.0164776654445447},{\"data0\":-1.36562610440749,\"data1\":-1.0143454456317083},{\"data0\":-1.3476632474814,\"data1\":-1.0044354580038084},{\"data0\":-1.34468743796561,\"data1\":-1.0027958541476922},{\"data0\":-1.34466697501469,\"data1\":-1.0027845816248984},{\"data0\":-1.34107501181131,\"data1\":-1.0008063048275606},{\"data0\":-1.33092962540901,\"data1\":-0.9952235118017382},{\"data0\":-1.32497000905301,\"data1\":-0.9919473642506216},{\"data0\":-1.30926740473336,\"data1\":-0.9833270092750724},{\"data0\":-1.30742318641869,\"data1\":-0.9823156985091563},{\"data0\":-1.3044821229491,\"data1\":-0.9807034014011415},{\"data0\":-1.30037009480981,\"data1\":-0.9784501871715079},{\"data0\":-1.28880641018697,\"data1\":-0.9721201008500349},{\"data0\":-1.28351140355943,\"data1\":-0.9692246740093057},{\"data0\":-1.28262446066118,\"data1\":-0.9687398658590972},{\"data0\":-1.25959199141531,\"data1\":-0.9561695275785476},{\"data0\":-1.25860558007121,\"data1\":-0.9556320121087692},{\"data0\":-1.25219912398198,\"data1\":-0.9521426784809859},{\"data0\":-1.2518727882503,\"data1\":-0.9519650145203536},{\"data0\":-1.25178261636916,\"data1\":-0.9519159244020452},{\"data0\":-1.24897298612489,\"data1\":-0.9503866331990883},{\"data0\":-1.24113870792038,\"data1\":-0.9461253659104989},{\"data0\":-1.22583770693203,\"data1\":-0.9378153445739446},{\"data0\":-1.223657190725,\"data1\":-0.936632459247714},{\"data0\":-1.22238835773212,\"data1\":-0.9359442998469156},{\"data0\":-1.22124023242649,\"data1\":-0.9353217062723956},{\"data0\":-1.2143630187339,\"data1\":-0.9315943781490315},{\"data0\":-1.2102738214462,\"data1\":-0.9293797138540173},{\"data0\":-1.20326076566618,\"data1\":-0.9255843183377306},{\"data0\":-1.20269728961576,\"data1\":-0.925279524398968},{\"data0\":-1.18697355549924,\"data1\":-0.9167835277589014},{\"data0\":-1.18019353066598,\"data1\":-0.9131256027506107},{\"data0\":-1.17823602383391,\"data1\":-0.9120701193333399},{\"data0\":-1.17696338353105,\"data1\":-0.9113840638563171},{\"data0\":-1.17527958515097,\"data1\":-0.910476542133805},{\"data0\":-1.16962475363721,\"data1\":-0.9074302517755111},{\"data0\":-1.1670831530402,\"data1\":-0.9060618361268374},{\"data0\":-1.15782276906723,\"data1\":-0.9010799719467256},{\"data0\":-1.15689917980279,\"data1\":-0.9005834471717882},{\"data0\":-1.15049922085798,\"data1\":-0.8971445251701585},{\"data0\":-1.15025989645627,\"data1\":-0.8970159860859583},{\"data0\":-1.14390391619485,\"data1\":-0.8936037839844714},{\"data0\":-1.14184755645662,\"data1\":-0.8925004655123688},{\"data0\":-1.13753134314977,\"data1\":-0.8901856594416395},{\"data0\":-1.1298101496781,\"data1\":-0.8860481762541212},{\"data0\":-1.12753077814882,\"data1\":-0.8848275936775445},{\"data0\":-1.12252918049236,\"data1\":-0.8821506328026792},{\"data0\":-1.12005019128966,\"data1\":-0.8808245130415466},{\"data0\":-1.11793211353066,\"data1\":-0.879691822114714},{\"data0\":-1.11344941294751,\"data1\":-0.8772956944340554},{\"data0\":-1.11048119852219,\"data1\":-0.875709924591376},{\"data0\":-1.10585338637308,\"data1\":-0.8732388240808395},{\"data0\":-1.08934882861926,\"data1\":-0.8644389671876715},{\"data0\":-1.08615408736869,\"data1\":-0.8627379630791736},{\"data0\":-1.0846590098706,\"data1\":-0.8619421894421486},{\"data0\":-1.08390707358284,\"data1\":-0.8615420255398556},{\"data0\":-1.08078212295347,\"data1\":-0.8598794518204783},{\"data0\":-1.07221012845639,\"data1\":-0.8553226567696872},{\"data0\":-1.07066055526576,\"data1\":-0.8544995099320054},{\"data0\":-1.06886529994076,\"data1\":-0.8535460817053288},{\"data0\":-1.06603574243445,\"data1\":-0.8520438492750674},{\"data0\":-1.06247340919767,\"data1\":-0.850153443685009},{\"data0\":-1.06178278479896,\"data1\":-0.8497870648718319},{\"data0\":-1.05908161404456,\"data1\":-0.8483544314848388},{\"data0\":-1.05670678628254,\"data1\":-0.8470953401365588},{\"data0\":-1.05634804917324,\"data1\":-0.8469051813892203},{\"data0\":-1.05285184127483,\"data1\":-0.845052430229703},{\"data0\":-1.04326866908213,\"data1\":-0.8399787801697391},{\"data0\":-1.04048421519603,\"data1\":-0.8385059124973289},{\"data0\":-1.03829268695966,\"data1\":-0.8373470965246722},{\"data0\":-1.03699492750379,\"data1\":-0.8366610526623534},{\"data0\":-1.03544472933075,\"data1\":-0.8358417294288946},{\"data0\":-1.03405175717462,\"data1\":-0.8351056616830477},{\"data0\":-1.03059340131488,\"data1\":-0.8332788572024296},{\"data0\":-1.01891735700097,\"data1\":-0.8271180221109059},{\"data0\":-1.01576247775724,\"data1\":-0.8254551607421283},{\"data0\":-1.01273888232178,\"data1\":-0.8238622172809967},{\"data0\":-1.01270854376204,\"data1\":-0.8238462373704944},{\"data0\":-1.01270396751138,\"data1\":-0.8238438269762894},{\"data0\":-1.01022218149972,\"data1\":-0.8225368639098107},{\"data0\":-1.00446298328386,\"data1\":-0.8195057808815821},{\"data0\":-1.00301624231588,\"data1\":-0.8187447609178228},{\"data0\":-0.999358177813823,\"data1\":-0.8168212572784588},{\"data0\":-0.992020493271594,\"data1\":-0.8129660521638438},{\"data0\":-0.987463707872414,\"data1\":-0.8105740372955863},{\"data0\":-0.985707499818655,\"data1\":-0.809652575336036},{\"data0\":-0.984625153470843,\"data1\":-0.8090848007815606},{\"data0\":-0.979741325681475,\"data1\":-0.8065239937399952},{\"data0\":-0.975184765649378,\"data1\":-0.8041364717090244},{\"data0\":-0.974297134274254,\"data1\":-0.8036715647919894},{\"data0\":-0.971622152558893,\"data1\":-0.8022708870058085},{\"data0\":-0.968830618371219,\"data1\":-0.8008097791712225},{\"data0\":-0.966899678919881,\"data1\":-0.7997994709062084},{\"data0\":-0.961726464251169,\"data1\":-0.7970941824319198},{\"data0\":-0.95555306590608,\"data1\":-0.7938686183406343},{\"data0\":-0.950015208310051,\"data1\":-0.7909776832925971},{\"data0\":-0.937709003959855,\"data1\":-0.7845621635252331},{\"data0\":-0.935776877467008,\"data1\":-0.7835559928406693},{\"data0\":-0.933266020396416,\"data1\":-0.7822488877542959},{\"data0\":-0.92813204232612,\"data1\":-0.7795778001231517},{\"data0\":-0.919655654751698,\"data1\":-0.7751723456103055},{\"data0\":-0.911775872056706,\"data1\":-0.7710821304751135},{\"data0\":-0.905942267007113,\"data1\":-0.7680572542440791},{\"data0\":-0.904543496027214,\"data1\":-0.7673323623853685},{\"data0\":-0.901113590996759,\"data1\":-0.7655555338931841},{\"data0\":-0.90020254931701,\"data1\":-0.7650837373137361},{\"data0\":-0.889760275294196,\"data1\":-0.7596808424371921},{\"data0\":-0.879887213495618,\"data1\":-0.7545805930978596},{\"data0\":-0.87984021853143,\"data1\":-0.7545563352803425},{\"data0\":-0.876925206037311,\"data1\":-0.7530520183825213},{\"data0\":-0.87459956066088,\"data1\":-0.7518523460016229},{\"data0\":-0.871723172909685,\"data1\":-0.7503691863089105},{\"data0\":-0.871385745380559,\"data1\":-0.75019524189469},{\"data0\":-0.871164133119481,\"data1\":-0.7500810054901395},{\"data0\":-0.870613651776601,\"data1\":-0.7497972614323193},{\"data0\":-0.868749439385553,\"data1\":-0.7488365423312007},{\"data0\":-0.868159808230376,\"data1\":-0.748532735926894},{\"data0\":-0.866245399749668,\"data1\":-0.7475465364175465},{\"data0\":-0.862561740370868,\"data1\":-0.7456497587849973},{\"data0\":-0.861565536828756,\"data1\":-0.7451369879637769},{\"data0\":-0.858538324119127,\"data1\":-0.7435793055192075},{\"data0\":-0.858058179185896,\"data1\":-0.7433323112637119},{\"data0\":-0.85681210937445,\"data1\":-0.7426914012814281},{\"data0\":-0.852840705012539,\"data1\":-0.7406495800538863},{\"data0\":-0.851727812886144,\"data1\":-0.740077640644898},{\"data0\":-0.851069579048463,\"data1\":-0.7397394079737073},{\"data0\":-0.84845715474674,\"data1\":-0.7383973687119298},{\"data0\":-0.833707924680167,\"data1\":-0.7308310506912623},{\"data0\":-0.832840489116991,\"data1\":-0.730386618924962},{\"data0\":-0.832116765394915,\"data1\":-0.7300158658620869},{\"data0\":-0.826990615755849,\"data1\":-0.7273910590320595},{\"data0\":-0.822211749904916,\"data1\":-0.7249460435637334},{\"data0\":-0.818698786132094,\"data1\":-0.7231499155026703},{\"data0\":-0.815939595111163,\"data1\":-0.7217399022464906},{\"data0\":-0.814874138480311,\"data1\":-0.7211955982497055},{\"data0\":-0.813661530365351,\"data1\":-0.7205762351497974},{\"data0\":-0.805567176929609,\"data1\":-0.7164450378426449},{\"data0\":-0.805559982845116,\"data1\":-0.7164413685652713},{\"data0\":-0.800714097622145,\"data1\":-0.7139707553350781},{\"data0\":-0.8000460910784,\"data1\":-0.7136303352692156},{\"data0\":-0.79866757853822,\"data1\":-0.7129279556973932},{\"data0\":-0.798371655122706,\"data1\":-0.7127771976534608},{\"data0\":-0.797753486349224,\"data1\":-0.7124622956203289},{\"data0\":-0.789508475527996,\"data1\":-0.7082652715949599},{\"data0\":-0.788100453077547,\"data1\":-0.7075491075165967},{\"data0\":-0.787081964695754,\"data1\":-0.7070311769160273},{\"data0\":-0.783640778014234,\"data1\":-0.7052818829169062},{\"data0\":-0.779151083584451,\"data1\":-0.7030010960857628},{\"data0\":-0.770008714472602,\"data1\":-0.6983620106777149},{\"data0\":-0.769414085971185,\"data1\":-0.6980605259897715},{\"data0\":-0.766038168942061,\"data1\":-0.6963494607053242},{\"data0\":-0.761122954463194,\"data1\":-0.6938599467178111},{\"data0\":-0.753236570558186,\"data1\":-0.6898698705863876},{\"data0\":-0.75246275792813,\"data1\":-0.6894786505793365},{\"data0\":-0.7505735424112,\"data1\":-0.6885237266684044},{\"data0\":-0.748821815939221,\"data1\":-0.6876385713484139},{\"data0\":-0.746808336631886,\"data1\":-0.686621476244439},{\"data0\":-0.744838993623329,\"data1\":-0.6856270129054053},{\"data0\":-0.741288028925765,\"data1\":-0.6838347168127075},{\"data0\":-0.729384335956305,\"data1\":-0.6778344283823667},{\"data0\":-0.726376390925981,\"data1\":-0.6763201512884123},{\"data0\":-0.725801601036204,\"data1\":-0.6760308763172101},{\"data0\":-0.725659077796664,\"data1\":-0.675959152956162},{\"data0\":-0.724919093834746,\"data1\":-0.6755867918725257},{\"data0\":-0.717748077002708,\"data1\":-0.671980783397969},{\"data0\":-0.710391335022408,\"data1\":-0.6682860224310012},{\"data0\":-0.696510887785212,\"data1\":-0.6613277244636707},{\"data0\":-0.687328966152732,\"data1\":-0.6567340760192787},{\"data0\":-0.684320503236326,\"data1\":-0.6552305748467117},{\"data0\":-0.682287482526095,\"data1\":-0.6542150090590694},{\"data0\":-0.682071993405423,\"data1\":-0.6541073859564044},{\"data0\":-0.681229840540173,\"data1\":-0.6536868234350527},{\"data0\":-0.676883525448156,\"data1\":-0.6515173124383735},{\"data0\":-0.672022377131196,\"data1\":-0.6490927929048887},{\"data0\":-0.671401255078378,\"data1\":-0.6487831560343787},{\"data0\":-0.669294992879222,\"data1\":-0.6477334130289307},{\"data0\":-0.669093401649416,\"data1\":-0.6476329622873662},{\"data0\":-0.666250246122503,\"data1\":-0.6462166319886099},{\"data0\":-0.66581319711217,\"data1\":-0.6459989776658367},{\"data0\":-0.665292938921176,\"data1\":-0.6457399065125339},{\"data0\":-0.660659027956712,\"data1\":-0.6434334340503365},{\"data0\":-0.659271942952766,\"data1\":-0.642743400448306},{\"data0\":-0.653243513995298,\"data1\":-0.6397464250470547},{\"data0\":-0.653138807734992,\"data1\":-0.6396943999395092},{\"data0\":-0.649350370022625,\"data1\":-0.6378127072346045},{\"data0\":-0.647725818652932,\"data1\":-0.637006195468591},{\"data0\":-0.643651883301986,\"data1\":-0.6349847196129551},{\"data0\":-0.642903213564181,\"data1\":-0.6346133931791126},{\"data0\":-0.640970094620218,\"data1\":-0.6336548337963628},{\"data0\":-0.63293576556483,\"data1\":-0.6296745092648801},{\"data0\":-0.62944300789234,\"data1\":-0.6279459542618376},{\"data0\":-0.625477957214024,\"data1\":-0.6259849939249046},{\"data0\":-0.622266614474814,\"data1\":-0.624397827150465},{\"data0\":-0.620697969999405,\"data1\":-0.623622882246108},{\"data0\":-0.619025535306859,\"data1\":-0.62279690753518},{\"data0\":-0.618928134590201,\"data1\":-0.622748811486575},{\"data0\":-0.616050009409969,\"data1\":-0.6213279930965033},{\"data0\":-0.61407083755535,\"data1\":-0.6203513879858651},{\"data0\":-0.607493181830977,\"data1\":-0.61710825189038},{\"data0\":-0.599446321281907,\"data1\":-0.6131460647255719},{\"data0\":-0.598479484846373,\"data1\":-0.6126704016116226},{\"data0\":-0.596431826825955,\"data1\":-0.6116632785011653},{\"data0\":-0.592966020666477,\"data1\":-0.6099595232503126},{\"data0\":-0.59183894278846,\"data1\":-0.6094056995818449},{\"data0\":-0.58755652137098,\"data1\":-0.6073024620892109},{\"data0\":-0.582694337957738,\"data1\":-0.6049165204430431},{\"data0\":-0.58195740240814,\"data1\":-0.604555085019954},{\"data0\":-0.578343472692422,\"data1\":-0.6027833286687944},{\"data0\":-0.574551351146387,\"data1\":-0.6009255032275855},{\"data0\":-0.573013006542912,\"data1\":-0.6001722191457126},{\"data0\":-0.563918448086115,\"data1\":-0.5957233284255443},{\"data0\":-0.5629711976307,\"data1\":-0.5952603902085777},{\"data0\":-0.561638590301836,\"data1\":-0.5946092617295252},{\"data0\":-0.561227694666606,\"data1\":-0.5944085261708367},{\"data0\":-0.560292190136045,\"data1\":-0.593951560818881},{\"data0\":-0.547706194060783,\"data1\":-0.5878115789908694},{\"data0\":-0.545068014872166,\"data1\":-0.5865264302494706},{\"data0\":-0.544544142495332,\"data1\":-0.5862713109727188},{\"data0\":-0.53915858809594,\"data1\":-0.583650097676899},{\"data0\":-0.535684067709148,\"data1\":-0.5819604447842187},{\"data0\":-0.535212468852646,\"data1\":-0.5817311941331591},{\"data0\":-0.533885789225313,\"data1\":-0.5810863886531998},{\"data0\":-0.533173097262603,\"data1\":-0.5807400673378592},{\"data0\":-0.532477844299684,\"data1\":-0.5804022660592371},{\"data0\":-0.526366443662047,\"data1\":-0.5774348807634911},{\"data0\":-0.522324919359498,\"data1\":-0.5754744482181399},{\"data0\":-0.520362021477778,\"data1\":-0.5745228544693898},{\"data0\":-0.519377970251766,\"data1\":-0.5740459325126301},{\"data0\":-0.515431887119817,\"data1\":-0.5721343736509658},{\"data0\":-0.515305162623947,\"data1\":-0.5720730101885764},{\"data0\":-0.515296417578276,\"data1\":-0.5720687756544687},{\"data0\":-0.514107202145564,\"data1\":-0.5714929998646581},{\"data0\":-0.507130284838457,\"data1\":-0.5681177156158151},{\"data0\":-0.504642032331458,\"data1\":-0.566915065900318},{\"data0\":-0.504213858208905,\"data1\":-0.5667081751916903},{\"data0\":-0.50377520060666,\"data1\":-0.5664962369571693},{\"data0\":-0.496216458740131,\"data1\":-0.562847084492598},{\"data0\":-0.494006575930999,\"data1\":-0.5617812394429698},{\"data0\":-0.492421162052765,\"data1\":-0.5610168673001426},{\"data0\":-0.485923340921784,\"data1\":-0.5578865895424514},{\"data0\":-0.482923125863969,\"data1\":-0.5564426177449839},{\"data0\":-0.475079952072782,\"data1\":-0.5526718492413362},{\"data0\":-0.474790562653384,\"data1\":-0.5525328320245485},{\"data0\":-0.471049039362977,\"data1\":-0.5507361985486058},{\"data0\":-0.469312071395442,\"data1\":-0.5499025848879742},{\"data0\":-0.467926682971524,\"data1\":-0.5492379108346502},{\"data0\":-0.458669662230532,\"data1\":-0.5448013720324232},{\"data0\":-0.456166673649154,\"data1\":-0.5436032045125074},{\"data0\":-0.44781604740884,\"data1\":-0.5396101877903235},{\"data0\":-0.444985344505225,\"data1\":-0.5382581653035932},{\"data0\":-0.444087932032469,\"data1\":-0.5378296985488835},{\"data0\":-0.437438225912871,\"data1\":-0.5346572571572558},{\"data0\":-0.434043802850953,\"data1\":-0.5330395060135181},{\"data0\":-0.428441141446809,\"data1\":-0.5303717881782971},{\"data0\":-0.428070207364452,\"data1\":-0.5301952754718168},{\"data0\":-0.422970812363187,\"data1\":-0.5277700421611381},{\"data0\":-0.422401810212413,\"data1\":-0.527499587039587},{\"data0\":-0.419298690621575,\"data1\":-0.5260251872208638},{\"data0\":-0.416746112943378,\"data1\":-0.5248130774481544},{\"data0\":-0.411622687271468,\"data1\":-0.522382114983016},{\"data0\":-0.411389336573664,\"data1\":-0.5222714562716532},{\"data0\":-0.409188224495751,\"data1\":-0.5212279169071544},{\"data0\":-0.409054315033621,\"data1\":-0.5211644463161442},{\"data0\":-0.40702403464937,\"data1\":-0.5202023478503948},{\"data0\":-0.402756953825385,\"data1\":-0.5181816122487064},{\"data0\":-0.402356214580311,\"data1\":-0.5179919289818861},{\"data0\":-0.400322523609662,\"data1\":-0.5170295598855074},{\"data0\":-0.39253636653268,\"data1\":-0.5133488339713095},{\"data0\":-0.391574348137158,\"data1\":-0.5128944792566474},{\"data0\":-0.391436057524543,\"data1\":-0.5128291730987669},{\"data0\":-0.389912772117767,\"data1\":-0.5121099447024872},{\"data0\":-0.388261831993419,\"data1\":-0.511330703716907},{\"data0\":-0.379073926652577,\"data1\":-0.506998983833964},{\"data0\":-0.366949516150594,\"data1\":-0.5012957231682491},{\"data0\":-0.363483181405865,\"data1\":-0.49966788443648297},{\"data0\":-0.354230391779687,\"data1\":-0.4953285626283227},{\"data0\":-0.349125893853536,\"data1\":-0.4929383768327959},{\"data0\":-0.347070993926231,\"data1\":-0.491976911157702},{\"data0\":-0.343568673487374,\"data1\":-0.4903391974467536},{\"data0\":-0.342518699821288,\"data1\":-0.48984846316673675},{\"data0\":-0.338610342299159,\"data1\":-0.4880227663209153},{\"data0\":-0.336847232500548,\"data1\":-0.48719967858963026},{\"data0\":-0.33658981717047,\"data1\":-0.48707953358500927},{\"data0\":-0.336253272986194,\"data1\":-0.4869224664482223},{\"data0\":-0.336143671377512,\"data1\":-0.4868713172212457},{\"data0\":-0.332977450249869,\"data1\":-0.48539422225030404},{\"data0\":-0.328870086008463,\"data1\":-0.4834795883108144},{\"data0\":-0.32875479511251,\"data1\":-0.4834258706443927},{\"data0\":-0.327033226042344,\"data1\":-0.48262389847897275},{\"data0\":-0.323611806871256,\"data1\":-0.48103096924526806},{\"data0\":-0.320520486282739,\"data1\":-0.47959275399712786},{\"data0\":-0.320188291337589,\"data1\":-0.47943826075924056},{\"data0\":-0.317049177149477,\"data1\":-0.47797891672317827},{\"data0\":-0.314080823480593,\"data1\":-0.4765998859793748},{\"data0\":-0.3137237387091,\"data1\":-0.4764340532416761},{\"data0\":-0.313390702635387,\"data1\":-0.47627940067837954},{\"data0\":-0.31335044359323,\"data1\":-0.4762607062849798},{\"data0\":-0.312845249353749,\"data1\":-0.4760261321290226},{\"data0\":-0.311799594710708,\"data1\":-0.47554069206284133},{\"data0\":-0.311075883208893,\"data1\":-0.47520477824445667},{\"data0\":-0.310369653578588,\"data1\":-0.47487703055597563},{\"data0\":-0.309056007571354,\"data1\":-0.47426752879358924},{\"data0\":-0.305078838117966,\"data1\":-0.472423294522981},{\"data0\":-0.301783959522212,\"data1\":-0.47089667511974165},{\"data0\":-0.299861089195746,\"data1\":-0.4700062666529108},{\"data0\":-0.295786241951792,\"data1\":-0.4681206200543082},{\"data0\":-0.293591474903443,\"data1\":-0.4671056964060369},{\"data0\":-0.283406008455633,\"data1\":-0.4624021707853385},{\"data0\":-0.280458282181662,\"data1\":-0.4610429547771561},{\"data0\":-0.280112125937134,\"data1\":-0.4608833991167078},{\"data0\":-0.279062980827444,\"data1\":-0.4603998871504965},{\"data0\":-0.278202880001715,\"data1\":-0.4600035840977774},{\"data0\":-0.271185093929721,\"data1\":-0.45677292434658595},{\"data0\":-0.270813101601285,\"data1\":-0.4566018198718434},{\"data0\":-0.266112416429895,\"data1\":-0.4544409018865608},{\"data0\":-0.265816666330551,\"data1\":-0.4543050219956985},{\"data0\":-0.265127420996855,\"data1\":-0.4539883895539939},{\"data0\":-0.264594349380138,\"data1\":-0.4537435358588682},{\"data0\":-0.263374129109546,\"data1\":-0.4531831688574084},{\"data0\":-0.262566538721817,\"data1\":-0.4528123814063429},{\"data0\":-0.256802697546764,\"data1\":-0.4501680254453231},{\"data0\":-0.249786522450207,\"data1\":-0.44695382856642707},{\"data0\":-0.248479795773367,\"data1\":-0.44635577318359365},{\"data0\":-0.247471907532496,\"data1\":-0.4458946114345749},{\"data0\":-0.246196198409786,\"data1\":-0.4453110611603851},{\"data0\":-0.245624919667702,\"data1\":-0.4450497955862069},{\"data0\":-0.243205467453226,\"data1\":-0.4439436780538426},{\"data0\":-0.235280472587677,\"data1\":-0.44032488658400254},{\"data0\":-0.234119658770718,\"data1\":-0.4397953823201731},{\"data0\":-0.229685747022615,\"data1\":-0.4377741727497189},{\"data0\":-0.229608600117401,\"data1\":-0.4377390236147806},{\"data0\":-0.227675622855516,\"data1\":-0.4368585404108806},{\"data0\":-0.226808316079972,\"data1\":-0.4364636058378189},{\"data0\":-0.225875153573648,\"data1\":-0.43603877270711644},{\"data0\":-0.224916589140709,\"data1\":-0.43560247151072023},{\"data0\":-0.224544626458553,\"data1\":-0.4354331949188529},{\"data0\":-0.222628443906641,\"data1\":-0.4345613923187729},{\"data0\":-0.217175681028503,\"data1\":-0.43208269857722126},{\"data0\":-0.210202393123692,\"data1\":-0.42891743800391746},{\"data0\":-0.208187279564394,\"data1\":-0.4280037224642864},{\"data0\":-0.205050610499075,\"data1\":-0.426582324640488},{\"data0\":-0.203034183062263,\"data1\":-0.4256691275687357},{\"data0\":-0.194646353816972,\"data1\":-0.42187514894955414},{\"data0\":-0.187958551411437,\"data1\":-0.4188555577432612},{\"data0\":-0.185956479141383,\"data1\":-0.41795254720471997},{\"data0\":-0.183094409508895,\"data1\":-0.41666239828976925},{\"data0\":-0.17865164688533,\"data1\":-0.4146614705690889},{\"data0\":-0.173092596244604,\"data1\":-0.4121608068733967},{\"data0\":-0.171511854738142,\"data1\":-0.4114503450749781},{\"data0\":-0.171413206484732,\"data1\":-0.41140601678448346},{\"data0\":-0.171072764947716,\"data1\":-0.41125304510615385},{\"data0\":-0.170227440080235,\"data1\":-0.41087326715111555},{\"data0\":-0.16298205814679,\"data1\":-0.40762133853236476},{\"data0\":-0.161107372573302,\"data1\":-0.40678086052632073},{\"data0\":-0.160408272932724,\"data1\":-0.40646753141899317},{\"data0\":-0.160320709701722,\"data1\":-0.4064282902648817},{\"data0\":-0.157037923165941,\"data1\":-0.40495772614452225},{\"data0\":-0.154367287317548,\"data1\":-0.40376225267094473},{\"data0\":-0.151378564483091,\"data1\":-0.40242531893466277},{\"data0\":-0.148217261969321,\"data1\":-0.40101225266220775},{\"data0\":-0.143283159054754,\"data1\":-0.3988089600027197},{\"data0\":-0.141810644449318,\"data1\":-0.39815193701438895},{\"data0\":-0.131083746183296,\"data1\":-0.3933729086203686},{\"data0\":-0.126885273019926,\"data1\":-0.39150587701649964},{\"data0\":-0.12380922647393101,\"data1\":-0.39013922094744913},{\"data0\":-0.12134281033082502,\"data1\":-0.38904417615864356},{\"data0\":-0.11856730379167602,\"data1\":-0.3878127091821562},{\"data0\":-0.11360919459779302,\"data1\":-0.3856149749558206},{\"data0\":-0.11270734447738101,\"data1\":-0.38521551480028693},{\"data0\":-0.10968842593972601,\"data1\":-0.3838789931388439},{\"data0\":-0.10618636655217302,\"data1\":-0.3823298527711638},{\"data0\":-0.10543850782977401,\"data1\":-0.38199921417954896},{\"data0\":-0.10188501872400801,\"data1\":-0.3804290232115869},{\"data0\":-0.08949664223341011,\"data1\":-0.3749660104394247},{\"data0\":-0.08534714496157991,\"data1\":-0.373140029230896},{\"data0\":-0.08364605179104831,\"data1\":-0.3723920264260351},{\"data0\":-0.07268006491136231,\"data1\":-0.36757792544915685},{\"data0\":-0.07170382285201242,\"data1\":-0.3671500124263346},{\"data0\":-0.07023584198148831,\"data1\":-0.3665067606727584},{\"data0\":-0.06956692225893502,\"data1\":-0.3662137291338563},{\"data0\":-0.06817931694281551,\"data1\":-0.3656060273153964},{\"data0\":-0.06228131557737191,\"data1\":-0.3630254399803957},{\"data0\":-0.060658252152477915,\"data1\":-0.3623159862404863},{\"data0\":-0.056344831381058516,\"data1\":-0.3604320160312235},{\"data0\":-0.05118153976178121,\"data1\":-0.35817964205747793},{\"data0\":-0.050107955838658916,\"data1\":-0.3577116972291966},{\"data0\":-0.04899744169097522,\"data1\":-0.35722779439376845},{\"data0\":-0.04378286446436661,\"data1\":-0.35495744960236886},{\"data0\":-0.043079819032684916,\"data1\":-0.3546515933076368},{\"data0\":-0.042200864795403914,\"data1\":-0.35426928861907614},{\"data0\":-0.03898483351321221,\"data1\":-0.3528712193941987},{\"data0\":-0.037246227385947614,\"data1\":-0.35211590989664115},{\"data0\":-0.036097034900883215,\"data1\":-0.35161685264540327},{\"data0\":-0.03361470013432631,\"data1\":-0.3505393737813028},{\"data0\":-0.027633818771435812,\"data1\":-0.34794623920019274},{\"data0\":-0.02706295422659941,\"data1\":-0.34769894502565196},{\"data0\":-0.02616532162200291,\"data1\":-0.3473101735971682},{\"data0\":-0.02443315541670701,\"data1\":-0.34656022277377996},{\"data0\":-0.022781178302944412,\"data1\":-0.3458453136875216},{\"data0\":-0.01850492199768671,\"data1\":-0.3439961905642121},{\"data0\":-0.01660499929154351,\"data1\":-0.34317531326064266},{\"data0\":-0.01155945599876171,\"data1\":-0.34099737951967796},{\"data0\":-0.011001992949430911,\"data1\":-0.34075692939835633},{\"data0\":-0.008790302375713741,\"data1\":-0.3398033189496986},{\"data0\":-0.006724512420237191,\"data1\":-0.33891313074589546},{\"data0\":-0.0041331941447965105,\"data1\":-0.3377971857924228},{\"data0\":-0.0031853463454001607,\"data1\":-0.3373891931074485},{\"data0\":-0.002786975899510861,\"data1\":-0.33721774937963317},{\"data0\":0.0015995903391472692,\"data1\":-0.33533116146753045},{\"data0\":0.0020839441429080893,\"data1\":-0.33512298699726367},{\"data0\":0.0035491648257322092,\"data1\":-0.3344934046721108},{\"data0\":0.01286691290378319,\"data1\":-0.33049560188846283},{\"data0\":0.01390596764498429,\"data1\":-0.33005042449006144},{\"data0\":0.015468607364503789,\"data1\":-0.32938115893930914},{\"data0\":0.015568336922730389,\"data1\":-0.3293384553519302},{\"data0\":0.01867954284575919,\"data1\":-0.32800684389171103},{\"data0\":0.01903011460817649,\"data1\":-0.3278568689061163},{\"data0\":0.02318105229718419,\"data1\":-0.3260821945398269},{\"data0\":0.02389187256543009,\"data1\":-0.32577849728281444},{\"data0\":0.02393664205659589,\"data1\":-0.3257593715585861},{\"data0\":0.02664114627785009,\"data1\":-0.32460443449581905},{\"data0\":0.02802916815979319,\"data1\":-0.32401202640652477},{\"data0\":0.02829041703970579,\"data1\":-0.32390055079245056},{\"data0\":0.03188891360787509,\"data1\":-0.3223658841854538},{\"data0\":0.032346204498590485,\"data1\":-0.32217097113146975},{\"data0\":0.03312537771232529,\"data1\":-0.32183891786974356},{\"data0\":0.042288912509131985,\"data1\":-0.3179391815549649},{\"data0\":0.05307515691007009,\"data1\":-0.3133616693115615},{\"data0\":0.053581459814747386,\"data1\":-0.3131471434624476},{\"data0\":0.05791808120746168,\"data1\":-0.3113109272970356},{\"data0\":0.06342951345490339,\"data1\":-0.3089805217346795},{\"data0\":0.06430229595709158,\"data1\":-0.30861181620061473},{\"data0\":0.06448023768831458,\"data1\":-0.30853665623099386},{\"data0\":0.06574898710999529,\"data1\":-0.30800086534651205},{\"data0\":0.06808927731969179,\"data1\":-0.3070130718688273},{\"data0\":0.06979984304371868,\"data1\":-0.30629149009426276},{\"data0\":0.07643007760776518,\"data1\":-0.30349793415803245},{\"data0\":0.07662902608775299,\"data1\":-0.30341419191579755},{\"data0\":0.08154846535327959,\"data1\":-0.30134500082011995},{\"data0\":0.08341226752584288,\"data1\":-0.3005618212855975},{\"data0\":0.08624050300929148,\"data1\":-0.2993741848161208},{\"data0\":0.08745728302050938,\"data1\":-0.29886353099993684},{\"data0\":0.08794441978354399,\"data1\":-0.2986591415148103},{\"data0\":0.09172573192448859,\"data1\":-0.29707358351786306},{\"data0\":0.09309122232906579,\"data1\":-0.29650144052114796},{\"data0\":0.09370542855454708,\"data1\":-0.2962441608416622},{\"data0\":0.09643302956910549,\"data1\":-0.29510217304509323},{\"data0\":0.10383857603657198,\"data1\":-0.2920061983184403},{\"data0\":0.10485946349129599,\"data1\":-0.29157992893179185},{\"data0\":0.10530701696361999,\"data1\":-0.2913930940484031},{\"data0\":0.10790552419591298,\"data1\":-0.2903088092387277},{\"data0\":0.11552247844935498,\"data1\":-0.2871352254940789},{\"data0\":0.11998496020131899,\"data1\":-0.2852792481940042},{\"data0\":0.12297213871246299,\"data1\":-0.28403822659079575},{\"data0\":0.12415914380860499,\"data1\":-0.2835453906831176},{\"data0\":0.12547219356888,\"data1\":-0.2830004239583116},{\"data0\":0.130055075121876,\"data1\":-0.28110001427985803},{\"data0\":0.13106623957489,\"data1\":-0.2806810577062407},{\"data0\":0.131507198281504,\"data1\":-0.28049839444796104},{\"data0\":0.134816978826142,\"data1\":-0.2791281135941956},{\"data0\":0.137693177575568,\"data1\":-0.27793843942164537},{\"data0\":0.141656627136342,\"data1\":-0.276300726519227},{\"data0\":0.143653376783667,\"data1\":-0.27547639922208045},{\"data0\":0.14596601652866,\"data1\":-0.27452227985669253},{\"data0\":0.147064838841114,\"data1\":-0.27406917451603235},{\"data0\":0.147243865713291,\"data1\":-0.273995366024528},{\"data0\":0.149188908207603,\"data1\":-0.27319372833164274},{\"data0\":0.149918368971034,\"data1\":-0.2728932067046331},{\"data0\":0.15028051457699,\"data1\":-0.27274403534802627},{\"data0\":0.152544816580514,\"data1\":-0.27181171700517076},{\"data0\":0.154782798537718,\"data1\":-0.27089086323177297},{\"data0\":0.154927962180126,\"data1\":-0.27083115486383696},{\"data0\":0.15782150324277,\"data1\":-0.269641538581726},{\"data0\":0.158276372973414,\"data1\":-0.2694546238262335},{\"data0\":0.158706713337068,\"data1\":-0.2692778124368954},{\"data0\":0.162608014469204,\"data1\":-0.26767596342306693},{\"data0\":0.164170675172433,\"data1\":-0.26703487872978726},{\"data0\":0.164609483384043,\"data1\":-0.2668549117194331},{\"data0\":0.166755146939759,\"data1\":-0.2659752646727251},{\"data0\":0.16717428055588,\"data1\":-0.2658035018558904},{\"data0\":0.171511272625703,\"data1\":-0.26402747610255517},{\"data0\":0.180761152631637,\"data1\":-0.2602474838419914},{\"data0\":0.183585068431298,\"data1\":-0.25909562782497375},{\"data0\":0.184595556515303,\"data1\":-0.2586837009278851},{\"data0\":0.185189715533797,\"data1\":-0.25844155131628044},{\"data0\":0.186992273729755,\"data1\":-0.2577071911085719},{\"data0\":0.189770602500236,\"data1\":-0.25657610698683825},{\"data0\":0.190571554235928,\"data1\":-0.2562502131238387},{\"data0\":0.193227950196224,\"data1\":-0.2551699510994712},{\"data0\":0.193619690821234,\"data1\":-0.2550107196675531},{\"data0\":0.196725647111122,\"data1\":-0.25374892496593615},{\"data0\":0.198209884855488,\"data1\":-0.25314638533080497},{\"data0\":0.199197921818207,\"data1\":-0.25274543783886316},{\"data0\":0.199609258756792,\"data1\":-0.2525785529735323},{\"data0\":0.201150298964862,\"data1\":-0.2519535235161085},{\"data0\":0.2061882825849,\"data1\":-0.24991227780379185},{\"data0\":0.209591684867205,\"data1\":-0.248535145844393},{\"data0\":0.210039280124289,\"data1\":-0.24835414346771018},{\"data0\":0.218744786284715,\"data1\":-0.24483882331533477},{\"data0\":0.218974069785221,\"data1\":-0.24474636860915847},{\"data0\":0.221161101793482,\"data1\":-0.24386482311009802},{\"data0\":0.223903046510874,\"data1\":-0.24276047001658219},{\"data0\":0.22453511696354,\"data1\":-0.24250603232555398},{\"data0\":0.232208203087911,\"data1\":-0.23942135067305653},{\"data0\":0.232237979853281,\"data1\":-0.23940939476491468},{\"data0\":0.235826411513608,\"data1\":-0.23796941064066596},{\"data0\":0.237547201578196,\"data1\":-0.23727947184934603},{\"data0\":0.242598666760845,\"data1\":-0.23525632922957831},{\"data0\":0.245512343675818,\"data1\":-0.23409088317736618},{\"data0\":0.245548193795642,\"data1\":-0.23407655027233304},{\"data0\":0.247291114273765,\"data1\":-0.2333799299852111},{\"data0\":0.247464185857745,\"data1\":-0.23331077722447907},{\"data0\":0.253661778154697,\"data1\":-0.23083701600267673},{\"data0\":0.254301075050253,\"data1\":-0.23058212497379774},{\"data0\":0.257356892073632,\"data1\":-0.22936448814740684},{\"data0\":0.25742392995292,\"data1\":-0.22933778948925446},{\"data0\":0.261560409497314,\"data1\":-0.22769151690704703},{\"data0\":0.261958636106744,\"data1\":-0.22753314472478778},{\"data0\":0.263204375403506,\"data1\":-0.22703785557253606},{\"data0\":0.267535080429962,\"data1\":-0.22531760023257572},{\"data0\":0.269480989312223,\"data1\":-0.2245454377740317},{\"data0\":0.270015138458985,\"data1\":-0.22433356684976577},{\"data0\":0.273336725557229,\"data1\":-0.22301689253928086},{\"data0\":0.27507466627589,\"data1\":-0.22232854966013538},{\"data0\":0.278990792598668,\"data1\":-0.22077894751368515},{\"data0\":0.279781168381648,\"data1\":-0.22046644155407344},{\"data0\":0.282935442935838,\"data1\":-0.21922009254765776},{\"data0\":0.298428970710594,\"data1\":-0.2131171478564028},{\"data0\":0.299283424514727,\"data1\":-0.21278149787667908},{\"data0\":0.307155243949206,\"data1\":-0.20969380620118047},{\"data0\":0.307481571633655,\"data1\":-0.2095659827404032},{\"data0\":0.311014557197241,\"data1\":-0.2081830078174449},{\"data0\":0.312130665896733,\"data1\":-0.20774645571541386},{\"data0\":0.31479700433521,\"data1\":-0.20670422121632917},{\"data0\":0.317299201472052,\"data1\":-0.20572700815944578},{\"data0\":0.318256368058549,\"data1\":-0.20535341501510757},{\"data0\":0.319139946942259,\"data1\":-0.20500865242211108},{\"data0\":0.320222674519537,\"data1\":-0.2045863262174612},{\"data0\":0.323980723320162,\"data1\":-0.2031216845834072},{\"data0\":0.324003707704342,\"data1\":-0.2031127325777207},{\"data0\":0.325156963720992,\"data1\":-0.2026636506858095},{\"data0\":0.327274277342056,\"data1\":-0.20183962442057665},{\"data0\":0.328825765733764,\"data1\":-0.2012361895613004},{\"data0\":0.332363461536592,\"data1\":-0.1998614462616345},{\"data0\":0.337372065405519,\"data1\":-0.19791798093511348},{\"data0\":0.338217877397228,\"data1\":-0.19759011693716827},{\"data0\":0.339289986389707,\"data1\":-0.19717467113007864},{\"data0\":0.343819072524216,\"data1\":-0.19542134173714393},{\"data0\":0.346679651888987,\"data1\":-0.19431535926485563},{\"data0\":0.34812807019239,\"data1\":-0.19375577983311165},{\"data0\":0.352027704353753,\"data1\":-0.19225060976768746},{\"data0\":0.352125315518246,\"data1\":-0.1922129604379005},{\"data0\":0.35291314688522,\"data1\":-0.19190913535732212},{\"data0\":0.353153953659034,\"data1\":-0.19181628561009653},{\"data0\":0.355961000592089,\"data1\":-0.19073452936253513},{\"data0\":0.356734600081257,\"data1\":-0.19043659354495673},{\"data0\":0.360316842226229,\"data1\":-0.18905802430604968},{\"data0\":0.362153688755312,\"data1\":-0.18835181790066544},{\"data0\":0.366761437790593,\"data1\":-0.18658230785526472},{\"data0\":0.369053789389437,\"data1\":-0.18570305321656402},{\"data0\":0.369998141759616,\"data1\":-0.18534104531899223},{\"data0\":0.370813880114483,\"data1\":-0.18502843805895358},{\"data0\":0.373207109138967,\"data1\":-0.18411182801271828},{\"data0\":0.375134169649266,\"data1\":-0.18337432874323759},{\"data0\":0.377045309708407,\"data1\":-0.18264342284978508},{\"data0\":0.384088650911029,\"data1\":-0.17995404224908898},{\"data0\":0.385993414974513,\"data1\":-0.17922790674392916},{\"data0\":0.389023902830851,\"data1\":-0.17807364721366314},{\"data0\":0.391052879775278,\"data1\":-0.1773015499104176},{\"data0\":0.39112465605861,\"data1\":-0.17727424685531393},{\"data0\":0.391317997161117,\"data1\":-0.17720070515259304},{\"data0\":0.391519659783754,\"data1\":-0.17712400364097497},{\"data0\":0.392381090004259,\"data1\":-0.17679642527090186},{\"data0\":0.394252040934996,\"data1\":-0.17608530509348722},{\"data0\":0.40480365719956,\"data1\":-0.17208381972418782},{\"data0\":0.405315230631946,\"data1\":-0.17189020627109808},{\"data0\":0.406347385301933,\"data1\":-0.17149968028601656},{\"data0\":0.409147386300882,\"data1\":-0.17044101375979034},{\"data0\":0.409536103825432,\"data1\":-0.1702941273154389},{\"data0\":0.409787164031512,\"data1\":-0.17019926917732997},{\"data0\":0.410759999261888,\"data1\":-0.1698317850137674},{\"data0\":0.411630885764122,\"data1\":-0.169502922688448},{\"data0\":0.427862635178292,\"data1\":-0.1633927896992675},{\"data0\":0.437790434542508,\"data1\":-0.15967374871347018},{\"data0\":0.441438782969288,\"data1\":-0.1583105093405743},{\"data0\":0.443048941148769,\"data1\":-0.1577094521217064},{\"data0\":0.45121480332383,\"data1\":-0.15466681575235638},{\"data0\":0.454580707301828,\"data1\":-0.1534153950507198},{\"data0\":0.456106775436547,\"data1\":-0.15284853908062465},{\"data0\":0.458800364221884,\"data1\":-0.1518488107810454},{\"data0\":0.460501642646094,\"data1\":-0.15121790728678886},{\"data0\":0.460737171899681,\"data1\":-0.15113059564451603},{\"data0\":0.462672597175344,\"data1\":-0.150413422635306},{\"data0\":0.467130322652669,\"data1\":-0.1487636255458231},{\"data0\":0.468439018678729,\"data1\":-0.148279813569493},{\"data0\":0.473548411230318,\"data1\":-0.1463932469997588},{\"data0\":0.476156155495695,\"data1\":-0.145431805297869},{\"data0\":0.476524219444331,\"data1\":-0.14529618271029035},{\"data0\":0.476841413842359,\"data1\":-0.14517931976690637},{\"data0\":0.478710861710361,\"data1\":-0.14449085568343015},{\"data0\":0.480270569892867,\"data1\":-0.14391684048291054},{\"data0\":0.48034633052893,\"data1\":-0.14388896732210138},{\"data0\":0.48198897535616,\"data1\":-0.14328482151761168},{\"data0\":0.484500307682907,\"data1\":-0.14236192599256842},{\"data0\":0.485904881582157,\"data1\":-0.1418461480745325},{\"data0\":0.486387533844186,\"data1\":-0.14166897685463517},{\"data0\":0.490144302570341,\"data1\":-0.1402910857159465},{\"data0\":0.490518478545237,\"data1\":-0.14015395756136645},{\"data0\":0.494853630453956,\"data1\":-0.1385666701436257},{\"data0\":0.495359746616502,\"data1\":-0.13838153446785356},{\"data0\":0.503158885021477,\"data1\":-0.13553328021233618},{\"data0\":0.508807632802442,\"data1\":-0.1334758095487131},{\"data0\":0.512638107205935,\"data1\":-0.13208323255482868},{\"data0\":0.522838596299388,\"data1\":-0.12838515900462752},{\"data0\":0.522853354696734,\"data1\":-0.12837981942009435},{\"data0\":0.523173990425688,\"data1\":-0.12826382128386213},{\"data0\":0.528767734288264,\"data1\":-0.1262425410268768},{\"data0\":0.530624875861533,\"data1\":-0.12557247368568486},{\"data0\":0.533045784724277,\"data1\":-0.1246997486488891},{\"data0\":0.533329168016874,\"data1\":-0.12459764618399076},{\"data0\":0.537593820439681,\"data1\":-0.12306251193929722},{\"data0\":0.537835881195387,\"data1\":-0.12297545751510028},{\"data0\":0.53973442019715,\"data1\":-0.12229296564408235},{\"data0\":0.542854124148691,\"data1\":-0.12117262833624626},{\"data0\":0.544428109954268,\"data1\":-0.12060792347270789},{\"data0\":0.548587548855042,\"data1\":-0.11911736930890236},{\"data0\":0.551419933167821,\"data1\":-0.11810382080318309},{\"data0\":0.553336509104557,\"data1\":-0.11741865478207099},{\"data0\":0.55456285469225,\"data1\":-0.11698052523259886},{\"data0\":0.555719300877075,\"data1\":-0.11656757046018744},{\"data0\":0.557304804992725,\"data1\":-0.11600172280694558},{\"data0\":0.559087049581291,\"data1\":-0.11536610176769171},{\"data0\":0.559449695638371,\"data1\":-0.11523682458135341},{\"data0\":0.562350689724099,\"data1\":-0.11420336564174557},{\"data0\":0.568191804954756,\"data1\":-0.11212626952834846},{\"data0\":0.569885053334458,\"data1\":-0.11152509252490053},{\"data0\":0.570285393877958,\"data1\":-0.1113830160528505},{\"data0\":0.571468300153782,\"data1\":-0.11096335390050234},{\"data0\":0.573486451496367,\"data1\":-0.11024784746233471},{\"data0\":0.582973547753161,\"data1\":-0.10689241366100376},{\"data0\":0.583495673190984,\"data1\":-0.10670813371965257},{\"data0\":0.588206133736308,\"data1\":-0.10504744581145105},{\"data0\":0.588500997348738,\"data1\":-0.10494360042036117},{\"data0\":0.589661978635607,\"data1\":-0.10453485050822732},{\"data0\":0.604756459404705,\"data1\":-0.09923879079684618},{\"data0\":0.604821720129785,\"data1\":-0.09921596730699693},{\"data0\":0.612005325445762,\"data1\":-0.0967075638282134},{\"data0\":0.61677805920363,\"data1\":-0.09504528328522915},{\"data0\":0.618234381615282,\"data1\":-0.09453874754660879},{\"data0\":0.618932970027798,\"data1\":-0.09429587896134332},{\"data0\":0.624878771587208,\"data1\":-0.09223176139324663},{\"data0\":0.6267329962508,\"data1\":-0.09158914830045485},{\"data0\":0.631493836965451,\"data1\":-0.08994157795704093},{\"data0\":0.635689055012328,\"data1\":-0.08849259450588845},{\"data0\":0.640645625048912,\"data1\":-0.08678408754998339},{\"data0\":0.642833390176047,\"data1\":-0.08603116182276178},{\"data0\":0.648309408296137,\"data1\":-0.08414976640800077},{\"data0\":0.657161787282355,\"data1\":-0.08111802388285615},{\"data0\":0.661490734116082,\"data1\":-0.07963981669078832},{\"data0\":0.663723821858843,\"data1\":-0.0788784054617018},{\"data0\":0.666451022423378,\"data1\":-0.07794955481418869},{\"data0\":0.667939422078893,\"data1\":-0.07744310586219573},{\"data0\":0.66962750303054,\"data1\":-0.07686912433697007},{\"data0\":0.673972413149389,\"data1\":-0.07539378247574183},{\"data0\":0.675095289199367,\"data1\":-0.0750129752033519},{\"data0\":0.675798942406125,\"data1\":-0.07477444030991984},{\"data0\":0.678178168314312,\"data1\":-0.07396845988796252},{\"data0\":0.685424939567792,\"data1\":-0.07151894482971088},{\"data0\":0.693566943457208,\"data1\":-0.06877651857589434},{\"data0\":0.695071570723599,\"data1\":-0.06827084837692235},{\"data0\":0.695374322803767,\"data1\":-0.06816914292179271},{\"data0\":0.701386144714074,\"data1\":-0.06615250247468821},{\"data0\":0.706076009167437,\"data1\":-0.06458321243538045},{\"data0\":0.715591236135249,\"data1\":-0.06140983852521072},{\"data0\":0.719489125154314,\"data1\":-0.060113962724005224},{\"data0\":0.720478945161872,\"data1\":-0.059785270410615515},{\"data0\":0.727200284959872,\"data1\":-0.05755736362360943},{\"data0\":0.728700140294656,\"data1\":-0.05706117893361033},{\"data0\":0.734709941345881,\"data1\":-0.055076559131866994},{\"data0\":0.741894361956883,\"data1\":-0.052711520763447685},{\"data0\":0.757267464276804,\"data1\":-0.04767830666659134},{\"data0\":0.758324611417864,\"data1\":-0.04733357198405493},{\"data0\":0.763855738118808,\"data1\":-0.04553277926606018},{\"data0\":0.766086642996568,\"data1\":-0.04480783480572584},{\"data0\":0.768298609143567,\"data1\":-0.04408982927961644},{\"data0\":0.777385764677347,\"data1\":-0.041148346231583366},{\"data0\":0.780594354050455,\"data1\":-0.04011289792666141},{\"data0\":0.789866366093706,\"data1\":-0.0371300145412477},{\"data0\":0.799166274268067,\"data1\":-0.03415207779443861},{\"data0\":0.801783431110031,\"data1\":-0.033316555136958546},{\"data0\":0.802678379165077,\"data1\":-0.03303109903807868},{\"data0\":0.805412098949335,\"data1\":-0.03215994495716382},{\"data0\":0.806044766409179,\"data1\":-0.03195850557995584},{\"data0\":0.806821034415841,\"data1\":-0.03171143294783136},{\"data0\":0.808395536227905,\"data1\":-0.031210596705658882},{\"data0\":0.808847386200452,\"data1\":-0.03106694122574131},{\"data0\":0.820814699911518,\"data1\":-0.02727429171324813},{\"data0\":0.831106785420668,\"data1\":-0.024031238465005912},{\"data0\":0.837209849731494,\"data1\":-0.022116345088034717},{\"data0\":0.840107976732534,\"data1\":-0.021209171901145827},{\"data0\":0.841099772041175,\"data1\":-0.020899036711110867},{\"data0\":0.841635793330555,\"data1\":-0.020731489769295532},{\"data0\":0.842719176423406,\"data1\":-0.020392995448774688},{\"data0\":0.84509314788464,\"data1\":-0.019651942732757634},{\"data0\":0.855343931171754,\"data1\":-0.016462755754789723},{\"data0\":0.855415777801745,\"data1\":-0.016440464341968622},{\"data0\":0.859735594280785,\"data1\":-0.015101751250613252},{\"data0\":0.86109158341167,\"data1\":-0.014682166944897067},{\"data0\":0.861141104334521,\"data1\":-0.014666849432379022},{\"data0\":0.861288904888508,\"data1\":-0.014621135075847495},{\"data0\":0.862043476049697,\"data1\":-0.014387804474215737},{\"data0\":0.86243894354895,\"data1\":-0.014265554619387619},{\"data0\":0.863276369152568,\"data1\":-0.014006769015639067},{\"data0\":0.869337726457126,\"data1\":-0.012137128284661888},{\"data0\":0.870493550826759,\"data1\":-0.011781304603924072},{\"data0\":0.870511859243736,\"data1\":-0.01177567009597352},{\"data0\":0.872886813004646,\"data1\":-0.011045239067680734},{\"data0\":0.872922672288585,\"data1\":-0.011034217530090698},{\"data0\":0.87574262962748,\"data1\":-0.010168159817141026},{\"data0\":0.88443252234496,\"data1\":-0.007507687705414358},{\"data0\":0.884807334549036,\"data1\":-0.00739322018763898},{\"data0\":0.888260051733337,\"data1\":-0.006339867585869827},{\"data0\":0.888667935935967,\"data1\":-0.006215562414011264},{\"data0\":0.889726778566741,\"data1\":-0.0058930038663717954},{\"data0\":0.892994931966277,\"data1\":-0.0048986017264855625},{\"data0\":0.898620879445226,\"data1\":-0.003190993607909138},{\"data0\":0.906641542418809,\"data1\":-0.0007657420083370602},{\"data0\":0.914217343342167,\"data1\":0.0015150253923137162},{\"data0\":0.91503507041176,\"data1\":0.0017606296348579723},{\"data0\":0.91873561945382,\"data1\":0.00287067325406125},{\"data0\":0.919181255626825,\"data1\":0.003004192954343779},{\"data0\":0.92932016360036,\"data1\":0.006032860826826155},{\"data0\":0.934882766215896,\"data1\":0.007687076453208527},{\"data0\":0.940274799104203,\"data1\":0.009285528970326697},{\"data0\":0.940377789706629,\"data1\":0.009316011889146736},{\"data0\":0.940821390334558,\"data1\":0.009447287041159448},{\"data0\":0.954998440275247,\"data1\":0.013624960081220125},{\"data0\":0.957619170654099,\"data1\":0.014393453970641673},{\"data0\":0.958972603485922,\"data1\":0.014789867081707646},{\"data0\":0.961934002388464,\"data1\":0.01565614418365207},{\"data0\":0.966989660946386,\"data1\":0.01713154519907706},{\"data0\":0.968576837231326,\"data1\":0.01759382313072389},{\"data0\":0.970325837662626,\"data1\":0.018102729328330965},{\"data0\":0.971197062040308,\"data1\":0.018356031844082882},{\"data0\":0.976662518174147,\"data1\":0.01994207762872125},{\"data0\":0.979025381613392,\"data1\":0.020626164726871735},{\"data0\":0.984583006055129,\"data1\":0.022231365147023032},{\"data0\":0.986416434902515,\"data1\":0.022759733764236817},{\"data0\":0.993158538485935,\"data1\":0.024697679059177767},{\"data0\":0.998550331192179,\"data1\":0.02624178444374089},{\"data0\":1.00929218674972,\"data1\":0.029302880847054468},{\"data0\":1.01688278503758,\"data1\":0.031453753632484954},{\"data0\":1.02058065736001,\"data1\":0.03249790918260415},{\"data0\":1.02128112320658,\"data1\":0.03269542574949014},{\"data0\":1.02201523068131,\"data1\":0.03290233565115092},{\"data0\":1.02635361081199,\"data1\":0.034123175641797336},{\"data0\":1.02982583177317,\"data1\":0.035097877901463195},{\"data0\":1.03041187463042,\"data1\":0.03526217814654157},{\"data0\":1.04056577700923,\"data1\":0.03809921406542473},{\"data0\":1.0460286144824,\"data1\":0.039617973476485956},{\"data0\":1.04761500919606,\"data1\":0.04005802217542769},{\"data0\":1.0490700458587,\"data1\":0.04046123926015661},{\"data0\":1.05097665995162,\"data1\":0.040989025198042234},{\"data0\":1.0522307832933,\"data1\":0.04133583603278054},{\"data0\":1.05299873218742,\"data1\":0.04154806330268935},{\"data0\":1.05911842620556,\"data1\":0.04323551123307422},{\"data0\":1.06020030942049,\"data1\":0.04353313347302156},{\"data0\":1.06525062856924,\"data1\":0.04491968409634644},{\"data0\":1.06798923883094,\"data1\":0.0456696486773351},{\"data0\":1.07178369198938,\"data1\":0.0467065278873826},{\"data0\":1.08679757000586,\"data1\":0.050783815195325155},{\"data0\":1.08908327782019,\"data1\":0.051400969226924886},{\"data0\":1.08927256112999,\"data1\":0.051452034390495976},{\"data0\":1.09085637620414,\"data1\":0.05187906433577084},{\"data0\":1.09369228702228,\"data1\":0.05264255003783927},{\"data0\":1.10352872679474,\"data1\":0.055279407825659946},{\"data0\":1.10476373298103,\"data1\":0.055609233012914455},{\"data0\":1.11069738626287,\"data1\":0.05719001946411262},{\"data0\":1.11241725179765,\"data1\":0.057647008493900496},{\"data0\":1.11472796826754,\"data1\":0.05826014297687145},{\"data0\":1.11669954822818,\"data1\":0.05878251783286662},{\"data0\":1.11771808412111,\"data1\":0.05905210276581152},{\"data0\":1.11789800554911,\"data1\":0.059099704433303465},{\"data0\":1.12146078752558,\"data1\":0.06004108574301946},{\"data0\":1.12564439755638,\"data1\":0.061143535637112396},{\"data0\":1.13222941405494,\"data1\":0.06287228369915876},{\"data0\":1.13349717412651,\"data1\":0.06320418999987545},{\"data0\":1.13689899470942,\"data1\":0.06409334159558691},{\"data0\":1.13796693404056,\"data1\":0.06437203450785099},{\"data0\":1.14760076408894,\"data1\":0.06687659050449303},{\"data0\":1.15059296136198,\"data1\":0.06765099291677076},{\"data0\":1.15135851520194,\"data1\":0.0678488572820625},{\"data0\":1.15610149087907,\"data1\":0.0690722992753816},{\"data0\":1.15741278037254,\"data1\":0.06940980705230046},{\"data0\":1.16288128628142,\"data1\":0.07081387807007791},{\"data0\":1.16584877134719,\"data1\":0.07157346713555322},{\"data0\":1.16737671655547,\"data1\":0.07196393609853659},{\"data0\":1.17372597281786,\"data1\":0.07358183155610223},{\"data0\":1.17462734781574,\"data1\":0.07381090619478058},{\"data0\":1.17570720885821,\"data1\":0.07408514101894459},{\"data0\":1.19714851425439,\"data1\":0.0794849454994179},{\"data0\":1.21549884848738,\"data1\":0.08403746706589782},{\"data0\":1.2212553228477,\"data1\":0.08545242707443906},{\"data0\":1.22145935299099,\"data1\":0.0855024626648649},{\"data0\":1.23180022552925,\"data1\":0.08802802608746388},{\"data0\":1.23207507429042,\"data1\":0.08809487424088268},{\"data0\":1.23405183136007,\"data1\":0.08857523156585334},{\"data0\":1.23988358576727,\"data1\":0.0899880060967693},{\"data0\":1.24811593275074,\"data1\":0.09197123569979307},{\"data0\":1.24831981080815,\"data1\":0.09202018612673815},{\"data0\":1.25185704136781,\"data1\":0.09286819009007279},{\"data0\":1.25679510638461,\"data1\":0.0940479949433762},{\"data0\":1.27010671305639,\"data1\":0.09720495081240094},{\"data0\":1.27157917838824,\"data1\":0.09755205056705574},{\"data0\":1.27522601416151,\"data1\":0.09840989655611854},{\"data0\":1.27992017650992,\"data1\":0.0995103016602983},{\"data0\":1.28266362660331,\"data1\":0.10015143594956509},{\"data0\":1.28316030568451,\"data1\":0.10026735132826123},{\"data0\":1.28460699465172,\"data1\":0.10060470687102911},{\"data0\":1.29086902389257,\"data1\":0.10206025047793371},{\"data0\":1.29312695530799,\"data1\":0.10258320449191383},{\"data0\":1.29385580921725,\"data1\":0.10275179973924743},{\"data0\":1.29595497552062,\"data1\":0.10323678878545552},{\"data0\":1.30432217145358,\"data1\":0.10516135697424055},{\"data0\":1.31323312831809,\"data1\":0.10719587751221703},{\"data0\":1.31340263073575,\"data1\":0.10723442626975091},{\"data0\":1.31535397753244,\"data1\":0.10767779965752139},{\"data0\":1.33104440403094,\"data1\":0.11121554440179984},{\"data0\":1.33401882545558,\"data1\":0.11188069428777071},{\"data0\":1.3357156706487,\"data1\":0.1122593614945035},{\"data0\":1.34376527132601,\"data1\":0.11404790591466911},{\"data0\":1.34563863845065,\"data1\":0.11446229919052305},{\"data0\":1.35341626929589,\"data1\":0.11617523908794926},{\"data0\":1.35813533599853,\"data1\":0.1172086674955706},{\"data0\":1.36004954837404,\"data1\":0.11762658922947829},{\"data0\":1.36362963851986,\"data1\":0.11840624246405318},{\"data0\":1.38676802626227,\"data1\":0.12338298742676977},{\"data0\":1.38834518654614,\"data1\":0.12371827633619605},{\"data0\":1.41559998133012,\"data1\":0.12943251831872948},{\"data0\":1.42086760719593,\"data1\":0.13051944508345673},{\"data0\":1.47314069739435,\"data1\":0.14099534105119155},{\"data0\":1.4787786530282,\"data1\":0.14209129576430507},{\"data0\":1.479487433837,\"data1\":0.14222860387412464},{\"data0\":1.48470649516327,\"data1\":0.1432364203846645},{\"data0\":1.49876281003037,\"data1\":0.14592226876590025},{\"data0\":1.50135887260799,\"data1\":0.14641376398312092},{\"data0\":1.50200659221554,\"data1\":0.14653617059906254},{\"data0\":1.50221452941502,\"data1\":0.14657544796025743},{\"data0\":1.53056563811058,\"data1\":0.15184488155363896},{\"data0\":1.53311071972502,\"data1\":0.15230955290654036},{\"data0\":1.538889238654,\"data1\":0.15335943282454573},{\"data0\":1.56315627577264,\"data1\":0.15769020283250038},{\"data0\":1.56568398121471,\"data1\":0.1581340095524669},{\"data0\":1.5681360865691,\"data1\":0.1585632227014936},{\"data0\":1.56828563156699,\"data1\":0.1585893567706983},{\"data0\":1.57101850607846,\"data1\":0.15906609377869477},{\"data0\":1.57288917666403,\"data1\":0.15939149081165868},{\"data0\":1.5770009003266,\"data1\":0.16010404512392457},{\"data0\":1.57834509639167,\"data1\":0.16033619614720884},{\"data0\":1.58222996949711,\"data1\":0.16100493127899188},{\"data0\":1.59319310580178,\"data1\":0.16287438958168404},{\"data0\":1.59437698627738,\"data1\":0.1630746993522152},{\"data0\":1.59861636639514,\"data1\":0.16378948036727428},{\"data0\":1.6146684019257,\"data1\":0.16646025473667175},{\"data0\":1.62535931452273,\"data1\":0.16820759738193153},{\"data0\":1.62676579062867,\"data1\":0.16843559734468302},{\"data0\":1.62706383886592,\"data1\":0.16848385699187352},{\"data0\":1.64154781380694,\"data1\":0.17080538515251242},{\"data0\":1.64545260481398,\"data1\":0.17142328835111229},{\"data0\":1.6717109134088,\"data1\":0.17549011932891118},{\"data0\":1.67206208853332,\"data1\":0.1755434624725771},{\"data0\":1.69248319848469,\"data1\":0.17859765387779733},{\"data0\":1.69487304016232,\"data1\":0.17894892578277793},{\"data0\":1.70707462274657,\"data1\":0.18072219860613248},{\"data0\":1.71299895374161,\"data1\":0.18157098734645258},{\"data0\":1.72979754378087,\"data1\":0.18393419382808562},{\"data0\":1.74632485635441,\"data1\":0.1861960970588442},{\"data0\":1.76586549998084,\"data1\":0.18878909967230248},{\"data0\":1.78774209221338,\"data1\":0.19158684305396734},{\"data0\":1.79648199435893,\"data1\":0.1926733053005834},{\"data0\":1.81890054985215,\"data1\":0.19537804974974968},{\"data0\":1.82322658753899,\"data1\":0.19588631760593433},{\"data0\":1.82466672720304,\"data1\":0.19605453664627223},{\"data0\":1.83478740008597,\"data1\":0.19722282311685063},{\"data0\":1.84923004287468,\"data1\":0.19884779554139137},{\"data0\":1.87076161385461,\"data1\":0.20117767086561322},{\"data0\":1.87595459526038,\"data1\":0.2017229035466063},{\"data0\":1.87814298981425,\"data1\":0.20195072343242937},{\"data0\":1.89707947190189,\"data1\":0.20387367308245363},{\"data0\":1.91622594445508,\"data1\":0.2057292993422254},{\"data0\":1.91857134220915,\"data1\":0.20595045220240615},{\"data0\":1.98127798628633,\"data1\":0.2113600796794986},{\"data0\":2.01318819678915,\"data1\":0.21373636829322917},{\"data0\":2.01849667671943,\"data1\":0.2141067547791386},{\"data0\":2.06996692796903,\"data1\":0.21732553843059052},{\"data0\":2.08251783409956,\"data1\":0.218007220997544},{\"data0\":2.10219977808019,\"data1\":0.2189939506139874},{\"data0\":2.1082551055825,\"data1\":0.21927723031792318},{\"data0\":2.13645259370496,\"data1\":0.2204698094465738},{\"data0\":2.17322816255948,\"data1\":0.22170959278652044},{\"data0\":2.20336817701636,\"data1\":0.22245643656310482},{\"data0\":2.20975544931194,\"data1\":0.22258330563281575},{\"data0\":2.22858267561264,\"data1\":0.22289297734072078},{\"data0\":2.22954869703889,\"data1\":0.22290626953326995},{\"data0\":2.29381746368563,\"data1\":0.22321580790111573},{\"data0\":2.33593082063324,\"data1\":0.22279709694620875},{\"data0\":2.41541757251413,\"data1\":0.22063818320899597},{\"data0\":2.43731927713761,\"data1\":0.21972393002766258},{\"data0\":2.4481093774579,\"data1\":0.21922215688391744},{\"data0\":2.46712844510554,\"data1\":0.21825470651732598},{\"data0\":2.53383116830657,\"data1\":0.21401580577626236},{\"data0\":2.55478448890825,\"data1\":0.2124093890165897},{\"data0\":2.55983783556228,\"data1\":0.2120021046198376},{\"data0\":2.58556405315696,\"data1\":0.20980831283139129},{\"data0\":4.00361923790244,\"data1\":-0.2736187635099465}]},\"extension\":[]}\n",
       "        var id_name = '#vis-89e0f503-de86-46c1-92dd-6f4e7c54ffaa';\n",
       "        Nyaplot.core.parse(model, id_name);\n",
       "\n",
       "        require(['downloadable'], function(downloadable){\n",
       "          var svg = d3.select(id_name).select(\"svg\");\n",
       "\t  if(!svg.empty())\n",
       "\t    svg.call(downloadable().filename('fig'));\n",
       "\t});\n",
       "    };\n",
       "    if(window['Nyaplot']==undefined){\n",
       "        window.addEventListener('load_nyaplot', render, false);\n",
       "\treturn;\n",
       "    } else {\n",
       "       render();\n",
       "    }\n",
       "})();\n",
       "</script>\n"
      ],
      "text/plain": [
       "#<Nyaplot::Frame:0x000056023ca650b0 @properties={:panes=>[#<Nyaplot::Plot:0x000056023cdc7618 @properties={:diagrams=>[#<Nyaplot::Diagram:0x000056023cadd088 @properties={:type=>:scatter, :options=>{:x=>:x1, :y=>:x2}, :data=>\"41cf4b5c-aeea-49f0-88a4-9dca6fa0a43a\"}, @xrange=[-3.3981146872781, 4.00361923790244], @yrange=[-1.40763254128915, 1.41720360874844]>, #<Nyaplot::Diagram:0x000056023ca655d8 @properties={:type=>:line, :options=>{:x=>\"data0\", :y=>\"data1\", :color=>:black}, :data=>\"e0e45387-7dc6-486e-baa4-f23cd30991b0\"}, @xrange=[-3.3981146872781, 4.00361923790244], @yrange=[-2.258975203900306, 0.22321580790111573]>], :options=>{:x_label=>\"X1\", :y_label=>\"Label\", :legend=>false, :zoom=>true, :width=>700, :xrange=>[-3.3981146872781, 4.00361923790244], :yrange=>[-2.258975203900306, 1.41720360874844]}}>], :data=>{\"41cf4b5c-aeea-49f0-88a4-9dca6fa0a43a\"=>#<Nyaplot::DataFrame:0x000056023caeef68 @name=\"41cf4b5c-aeea-49f0-88a4-9dca6fa0a43a\", @rows=[{:x1=>-3.3981146872781, :x2=>-0.611722153014242}, {:x1=>-3.24143836303274, :x2=>-0.191994602249121}, {:x1=>-2.78228072883387, :x2=>0.992406589438601}, {:x1=>-2.75039586728225, :x2=>1.05446913340098}, {:x1=>-2.74665419119698, :x2=>1.06147959857477}, {:x1=>-2.46437700511943, :x2=>1.39835306982453}, {:x1=>-2.44300327979985, :x2=>1.40687529815457}, {:x1=>-2.41894322460685, :x2=>1.41343114405792}, {:x1=>-2.41287142076604, :x2=>1.41457537770748}, {:x1=>-2.39481386225415, :x2=>1.41676052590908}, {:x1=>-2.38280139198342, :x2=>1.41720360874844}, {:x1=>-2.31818801686942, :x2=>1.40574439730828}, {:x1=>-2.16238676343318, :x2=>1.28408416698451}, {:x1=>-2.06343015184665, :x2=>1.14217126495112}, {:x1=>-2.06131151676102, :x2=>1.13862900722114}, {:x1=>-2.05456094690978, :x2=>1.12720815125042}, {:x1=>-2.02808511689642, :x2=>1.08047858153794}, {:x1=>-2.02478005966374, :x2=>1.07443266654377}, {:x1=>-1.99168009680669, :x2=>1.01137324051041}, {:x1=>-1.95240948360055, :x2=>0.930914075809047}, {:x1=>-1.93266283710784, :x2=>0.888286408179782}, {:x1=>-1.92684345651878, :x2=>0.875460473633285}, {:x1=>-1.91615582681068, :x2=>0.851601762385368}, {:x1=>-1.89746821394705, :x2=>0.808969529860183}, {:x1=>-1.87595523655548, :x2=>0.75851741784037}, {:x1=>-1.85103003404998, :x2=>0.698340569287543}, {:x1=>-1.82147562227814, :x2=>0.624787042235711}, {:x1=>-1.81846805333943, :x2=>0.617177322734159}, {:x1=>-1.79639460682532, :x2=>0.560673203782743}, {:x1=>-1.79263628767266, :x2=>0.550942600597739}, {:x1=>-1.75894055773043, :x2=>0.462400745409513}, {:x1=>-1.74600030752545, :x2=>0.427828680612765}, {:x1=>-1.74514848478333, :x2=>0.425542791686417}, {:x1=>-1.73222717547199, :x2=>0.390723537574267}, {:x1=>-1.72753066025433, :x2=>0.378003267772268}, {:x1=>-1.72607716317567, :x2=>0.374059882359183}, {:x1=>-1.69905321085328, :x2=>0.300215237758907}, {:x1=>-1.68588573611679, :x2=>0.263911186588836}, {:x1=>-1.68559249536125, :x2=>0.263100572700729}, {:x1=>-1.6760512439288, :x2=>0.23667896734448}, {:x1=>-1.66331833299248, :x2=>0.201290355932634}, {:x1=>-1.64099080690236, :x2=>0.13894441294659}, {:x1=>-1.63954388221954, :x2=>0.134893641321292}, {:x1=>-1.63687638463821, :x2=>0.127422981373828}, {:x1=>-1.62930077955886, :x2=>0.106188399573468}, {:x1=>-1.61253408273285, :x2=>0.0591159292086284}, {:x1=>-1.60537459542058, :x2=>0.0389941845588594}, {:x1=>-1.60190068259612, :x2=>0.0292279927318378}, {:x1=>-1.59285733403586, :x2=>0.0038001645303449}, {:x1=>-1.58784335462184, :x2=>-0.0102983892130644}, {:x1=>-1.58473606160155, :x2=>-0.0190349635894179}, {:x1=>-1.57883340533868, :x2=>-0.0356282932302244}, {:x1=>-1.578332888866, :x2=>-0.0370351021678715}, {:x1=>-1.57287217036917, :x2=>-0.0523806256687123}, {:x1=>-1.5713482370769, :x2=>-0.0566620026234729}, {:x1=>-1.57038974221478, :x2=>-0.0593545352328539}, {:x1=>-1.56780193683268, :x2=>-0.0666228118062944}, {:x1=>-1.56057061201395, :x2=>-0.0869225163205443}, {:x1=>-1.54843334635488, :x2=>-0.120949271303153}, {:x1=>-1.54474292577185, :x2=>-0.13128170360486}, {:x1=>-1.54274085587486, :x2=>-0.136884057492317}, {:x1=>-1.54244428104005, :x2=>-0.137713767937082}, {:x1=>-1.52353084414495, :x2=>-0.190511720959815}, {:x1=>-1.5216215041567, :x2=>-0.195827612115776}, {:x1=>-1.52051127473287, :x2=>-0.198917330816504}, {:x1=>-1.50791417827017, :x2=>-0.233901138920419}, {:x1=>-1.50344174193098, :x2=>-0.2462867144524}, {:x1=>-1.49759221808154, :x2=>-0.262455682995372}, {:x1=>-1.47843552009071, :x2=>-0.315142396591912}, {:x1=>-1.44875866348017, :x2=>-0.39581654158105}, {:x1=>-1.43798405958504, :x2=>-0.424775172731804}, {:x1=>-1.43660565133467, :x2=>-0.428465904564584}, {:x1=>-1.43449235708808, :x2=>-0.434117971930477}, {:x1=>-1.43392240578399, :x2=>-0.435640997383402}, {:x1=>-1.43279656546996, :x2=>-0.438647802774198}, {:x1=>-1.42633426655003, :x2=>-0.455863247826743}, {:x1=>-1.41978405497584, :x2=>-0.473235069897908}, {:x1=>-1.4101044292061, :x2=>-0.498756738739502}, {:x1=>-1.40784141910864, :x2=>-0.504696856671922}, {:x1=>-1.39410869529677, :x2=>-0.540517398458218}, {:x1=>-1.39274944492331, :x2=>-0.544041145768971}, {:x1=>-1.38605930192795, :x2=>-0.561325742980984}, {:x1=>-1.38242795554537, :x2=>-0.570665805749792}, {:x1=>-1.38206757676203, :x2=>-0.571591091297258}, {:x1=>-1.38185234671711, :x2=>-0.572143560737685}, {:x1=>-1.36948576380536, :x2=>-0.603705991416527}, {:x1=>-1.36562610440749, :x2=>-0.613482126574225}, {:x1=>-1.3476632474814, :x2=>-0.658490790848285}, {:x1=>-1.34468743796561, :x2=>-0.665866770826339}, {:x1=>-1.34466697501469, :x2=>-0.665917410058318}, {:x1=>-1.34107501181131, :x2=>-0.674789043186615}, {:x1=>-1.33092962540901, :x2=>-0.699657513841161}, {:x1=>-1.32497000905301, :x2=>-0.714132445816417}, {:x1=>-1.30926740473336, :x2=>-0.751781617353637}, {:x1=>-1.30742318641869, :x2=>-0.756155575736149}, {:x1=>-1.3044821229491, :x2=>-0.763109690096683}, {:x1=>-1.30037009480981, :x2=>-0.772788350997658}, {:x1=>-1.28880641018697, :x2=>-0.799724894086007}, {:x1=>-1.28351140355943, :x2=>-0.811917666143386}, {:x1=>-1.28262446066118, :x2=>-0.813951185438155}, {:x1=>-1.25959199141531, :x2=>-0.865846195209218}, {:x1=>-1.25860558007121, :x2=>-0.86802859525975}, {:x1=>-1.25219912398198, :x2=>-0.882120356907674}, {:x1=>-1.2518727882503, :x2=>-0.882834328790418}, {:x1=>-1.25178261636916, :x2=>-0.883031544806694}, {:x1=>-1.24897298612489, :x2=>-0.889162154738141}, {:x1=>-1.24113870792038, :x2=>-0.906108215294919}, {:x1=>-1.22583770693203, :x2=>-0.938562569432137}, {:x1=>-1.223657190725, :x2=>-0.943117012070085}, {:x1=>-1.22238835773212, :x2=>-0.945759006702157}, {:x1=>-1.22124023242649, :x2=>-0.948144434092705}, {:x1=>-1.2143630187339, :x2=>-0.962328367107584}, {:x1=>-1.2102738214462, :x2=>-0.970676370999384}, {:x1=>-1.20326076566618, :x2=>-0.984842550022042}, {:x1=>-1.20269728961576, :x2=>-0.985972420103308}, {:x1=>-1.18697355549924, :x2=>-1.01699339464886}, {:x1=>-1.18019353066598, :x2=>-1.03006236229782}, {:x1=>-1.17823602383391, :x2=>-1.03380062097377}, {:x1=>-1.17696338353105, :x2=>-1.03622253000645}, {:x1=>-1.17527958515097, :x2=>-1.03941662473423}, {:x1=>-1.16962475363721, :x2=>-1.05005752295817}, {:x1=>-1.1670831530402, :x2=>-1.05479667652758}, {:x1=>-1.15782276906723, :x2=>-1.07183351329459}, {:x1=>-1.15689917980279, :x2=>-1.0735127181232}, {:x1=>-1.15049922085798, :x2=>-1.08504820841287}, {:x1=>-1.15025989645627, :x2=>-1.08547615425228}, {:x1=>-1.14390391619485, :x2=>-1.09675067195589}, {:x1=>-1.14184755645662, :x2=>-1.10036065810325}, {:x1=>-1.13753134314977, :x2=>-1.10787755751761}, {:x1=>-1.1298101496781, :x2=>-1.12111910115095}, {:x1=>-1.12753077814882, :x2=>-1.12497741287619}, {:x1=>-1.12252918049236, :x2=>-1.13336201816465}, {:x1=>-1.12005019128966, :x2=>-1.13747598470448}, {:x1=>-1.11793211353066, :x2=>-1.14096896938737}, {:x1=>-1.11344941294751, :x2=>-1.14829426337657}, {:x1=>-1.11048119852219, :x2=>-1.15309419687938}, {:x1=>-1.10585338637308, :x2=>-1.16049716139041}, {:x1=>-1.08934882861926, :x2=>-1.18608926327263}, {:x1=>-1.08615408736869, :x2=>-1.19089537947747}, {:x1=>-1.0846590098706, :x2=>-1.19312794717897}, {:x1=>-1.08390707358284, :x2=>-1.19424678800034}, {:x1=>-1.08078212295347, :x2=>-1.19886773137979}, {:x1=>-1.07221012845639, :x2=>-1.21130366435953}, {:x1=>-1.07066055526576, :x2=>-1.213514034827}, {:x1=>-1.06886529994076, :x2=>-1.21606035669616}, {:x1=>-1.06603574243445, :x2=>-1.22004202048669}, {:x1=>-1.06247340919767, :x2=>-1.22499953889214}, {:x1=>-1.06178278479896, :x2=>-1.22595349534064}, {:x1=>-1.05908161404456, :x2=>-1.22966224839266}, {:x1=>-1.05670678628254, :x2=>-1.2328934410232}, {:x1=>-1.05634804917324, :x2=>-1.23337913557823}, {:x1=>-1.05285184127483, :x2=>-1.23807954734456}, {:x1=>-1.04326866908213, :x2=>-1.25065408044058}, {:x1=>-1.04048421519603, :x2=>-1.25422221819104}, {:x1=>-1.03829268695966, :x2=>-1.25700334900212}, {:x1=>-1.03699492750379, :x2=>-1.25863893442678}, {:x1=>-1.03544472933075, :x2=>-1.26058161735578}, {:x1=>-1.03405175717462, :x2=>-1.26231698719452}, {:x1=>-1.03059340131488, :x2=>-1.26658326200667}, {:x1=>-1.01891735700097, :x2=>-1.28054060956104}, {:x1=>-1.01576247775724, :x2=>-1.28419302968047}, {:x1=>-1.01273888232178, :x2=>-1.28764574466058}, {:x1=>-1.01270854376204, :x2=>-1.28768015188262}, {:x1=>-1.01270396751138, :x2=>-1.2876853414387}, {:x1=>-1.01022218149972, :x2=>-1.29048391807357}, {:x1=>-1.00446298328386, :x2=>-1.29685631494633}, {:x1=>-1.00301624231588, :x2=>-1.29843023578488}, {:x1=>-0.999358177813823, :x2=>-1.30236161650704}, {:x1=>-0.992020493271594, :x2=>-1.31003833569704}, {:x1=>-0.987463707872414, :x2=>-1.3146645439224}, {:x1=>-0.985707499818655, :x2=>-1.31641853870637}, {:x1=>-0.984625153470843, :x2=>-1.31749147831579}, {:x1=>-0.979741325681475, :x2=>-1.32225643647898}, {:x1=>-0.975184765649378, :x2=>-1.32658897834231}, {:x1=>-0.974297134274254, :x2=>-1.32742023142401}, {:x1=>-0.971622152558893, :x2=>-1.32990014046786}, {:x1=>-0.968830618371219, :x2=>-1.33244773920135}, {:x1=>-0.966899678919881, :x2=>-1.33418578509619}, {:x1=>-0.961726464251169, :x2=>-1.33874462694205}, {:x1=>-0.95555306590608, :x2=>-1.34399833144378}, {:x1=>-0.950015208310051, :x2=>-1.34853784826471}, {:x1=>-0.937709003959855, :x2=>-1.35803584807082}, {:x1=>-0.935776877467008, :x2=>-1.35945291912775}, {:x1=>-0.933266020396416, :x2=>-1.36126428308196}, {:x1=>-0.92813204232612, :x2=>-1.3648617011311}, {:x1=>-0.919655654751698, :x2=>-1.37048786681599}, {:x1=>-0.911775872056706, :x2=>-1.37536681988582}, {:x1=>-0.905942267007113, :x2=>-1.37876010005563}, {:x1=>-0.904543496027214, :x2=>-1.37954601422124}, {:x1=>-0.901113590996759, :x2=>-1.38142769487392}, {:x1=>-0.90020254931701, :x2=>-1.38191664101287}, {:x1=>-0.889760275294196, :x2=>-1.38719471334855}, {:x1=>-0.879887213495618, :x2=>-1.39163184249427}, {:x1=>-0.87984021853143, :x2=>-1.39165167408378}, {:x1=>-0.876925206037311, :x2=>-1.39285789072561}, {:x1=>-0.87459956066088, :x2=>-1.39378647505275}, {:x1=>-0.871723172909685, :x2=>-1.39489348657293}, {:x1=>-0.871385745380559, :x2=>-1.39502034224006}, {:x1=>-0.871164133119481, :x2=>-1.39510331355945}, {:x1=>-0.870613651776601, :x2=>-1.39530823387213}, {:x1=>-0.868749439385553, :x2=>-1.39598970795176}, {:x1=>-0.868159808230376, :x2=>-1.39620123520538}, {:x1=>-0.866245399749668, :x2=>-1.39687470905589}, {:x1=>-0.862561740370868, :x2=>-1.3981133033065}, {:x1=>-0.861565536828756, :x2=>-1.39843530835013}, {:x1=>-0.858538324119127, :x2=>-1.3993799264353}, {:x1=>-0.858058179185896, :x2=>-1.39952506666582}, {:x1=>-0.85681210937445, :x2=>-1.39989574747946}, {:x1=>-0.852840705012539, :x2=>-1.40101947006699}, {:x1=>-0.851727812886144, :x2=>-1.40131860624738}, {:x1=>-0.851069579048463, :x2=>-1.40149228559038}, {:x1=>-0.84845715474674, :x2=>-1.40215777631965}, {:x1=>-0.833707924680167, :x2=>-1.40520057144887}, {:x1=>-0.832840489116991, :x2=>-1.4053416966984}, {:x1=>-0.832116765394915, :x2=>-1.40545622311934}, {:x1=>-0.826990615755849, :x2=>-1.4061835973009}, {:x1=>-0.822211749904916, :x2=>-1.40672934123712}, {:x1=>-0.818698786132094, :x2=>-1.40704904257655}, {:x1=>-0.815939595111163, :x2=>-1.4072517267973}, {:x1=>-0.814874138480311, :x2=>-1.40731859034747}, {:x1=>-0.813661530365351, :x2=>-1.4073869581981}, {:x1=>-0.805567176929609, :x2=>-1.40763248619914}, {:x1=>-0.805559982845116, :x2=>-1.40763254128915}, {:x1=>-0.800714097622145, :x2=>-1.4076038236305}, {:x1=>-0.8000460910784, :x2=>-1.40758955530415}, {:x1=>-0.79866757853822, :x2=>-1.40755221469738}, {:x1=>-0.798371655122706, :x2=>-1.40754281198119}, {:x1=>-0.797753486349224, :x2=>-1.40752158867302}, {:x1=>-0.789508475527996, :x2=>-1.40703400611601}, {:x1=>-0.788100453077547, :x2=>-1.40691270875839}, {:x1=>-0.787081964695754, :x2=>-1.40681805476706}, {:x1=>-0.783640778014234, :x2=>-1.40645531736888}, {:x1=>-0.779151083584451, :x2=>-1.4058824773097}, {:x1=>-0.770008714472602, :x2=>-1.40436765570786}, {:x1=>-0.769414085971185, :x2=>-1.40425295584825}, {:x1=>-0.766038168942061, :x2=>-1.4035643400215}, {:x1=>-0.761122954463194, :x2=>-1.40244801054639}, {:x1=>-0.753236570558186, :x2=>-1.40037538270436}, {:x1=>-0.75246275792813, :x2=>-1.40015334679019}, {:x1=>-0.7505735424112, :x2=>-1.39959725357594}, {:x1=>-0.748821815939221, :x2=>-1.3990638798987}, {:x1=>-0.746808336631886, :x2=>-1.39842971586349}, {:x1=>-0.744838993623329, :x2=>-1.3977876417395}, {:x1=>-0.741288028925765, :x2=>-1.39657542594651}, {:x1=>-0.729384335956305, :x2=>-1.39200126324854}, {:x1=>-0.726376390925981, :x2=>-1.39072115641485}, {:x1=>-0.725801601036204, :x2=>-1.39047084360562}, {:x1=>-0.725659077796664, :x2=>-1.39040849407488}, {:x1=>-0.724919093834746, :x2=>-1.39008296839547}, {:x1=>-0.717748077002708, :x2=>-1.38677166659672}, {:x1=>-0.710391335022408, :x2=>-1.38307988311693}, {:x1=>-0.696510887785212, :x2=>-1.37530429867371}, {:x1=>-0.687328966152732, :x2=>-1.36958123659531}, {:x1=>-0.684320503236326, :x2=>-1.36760608997052}, {:x1=>-0.682287482526095, :x2=>-1.36624347086258}, {:x1=>-0.682071993405423, :x2=>-1.36609772380316}, {:x1=>-0.681229840540173, :x2=>-1.36552571032132}, {:x1=>-0.676883525448156, :x2=>-1.3625123708223}, {:x1=>-0.672022377131196, :x2=>-1.35902082566787}, {:x1=>-0.671401255078378, :x2=>-1.3585654915299}, {:x1=>-0.669294992879222, :x2=>-1.35700590965073}, {:x1=>-0.669093401649416, :x2=>-1.3568553854391}, {:x1=>-0.666250246122503, :x2=>-1.35470910925145}, {:x1=>-0.66581319711217, :x2=>-1.35437532024867}, {:x1=>-0.665292938921176, :x2=>-1.35397664014354}, {:x1=>-0.660659027956712, :x2=>-1.35036135665469}, {:x1=>-0.659271942952766, :x2=>-1.34925673844641}, {:x1=>-0.653243513995298, :x2=>-1.34433609759382}, {:x1=>-0.653138807734992, :x2=>-1.34424891323868}, {:x1=>-0.649350370022625, :x2=>-1.3410550458276}, {:x1=>-0.647725818652932, :x2=>-1.33966199298255}, {:x1=>-0.643651883301986, :x2=>-1.33610677302917}, {:x1=>-0.642903213564181, :x2=>-1.33544382680059}, {:x1=>-0.640970094620218, :x2=>-1.33371828663965}, {:x1=>-0.63293576556483, :x2=>-1.32633455905992}, {:x1=>-0.62944300789234, :x2=>-1.32301831930522}, {:x1=>-0.625477957214024, :x2=>-1.31917585443415}, {:x1=>-0.622266614474814, :x2=>-1.31600331852054}, {:x1=>-0.620697969999405, :x2=>-1.31443399616433}, {:x1=>-0.619025535306859, :x2=>-1.31274666819134}, {:x1=>-0.618928134590201, :x2=>-1.31264794983598}, {:x1=>-0.616050009409969, :x2=>-1.30970854672829}, {:x1=>-0.61407083755535, :x2=>-1.30766218807157}, {:x1=>-0.607493181830977, :x2=>-1.30071503143813}, {:x1=>-0.599446321281907, :x2=>-1.2919118071145}, {:x1=>-0.598479484846373, :x2=>-1.29083165370785}, {:x1=>-0.596431826825955, :x2=>-1.28852815858604}, {:x1=>-0.592966020666477, :x2=>-1.28458037530859}, {:x1=>-0.59183894278846, :x2=>-1.28328332274824}, {:x1=>-0.58755652137098, :x2=>-1.27829599234197}, {:x1=>-0.582694337957738, :x2=>-1.27252043302681}, {:x1=>-0.58195740240814, :x2=>-1.27163460399863}, {:x1=>-0.578343472692422, :x2=>-1.26725076394105}, {:x1=>-0.574551351146387, :x2=>-1.26257997811611}, {:x1=>-0.573013006542912, :x2=>-1.26066457686526}, {:x1=>-0.563918448086115, :x2=>-1.249098995905}, {:x1=>-0.5629711976307, :x2=>-1.24787067244251}, {:x1=>-0.561638590301836, :x2=>-1.24613510608682}, {:x1=>-0.561227694666606, :x2=>-1.24559818571764}, {:x1=>-0.560292190136045, :x2=>-1.24437263450469}, {:x1=>-0.547706194060783, :x2=>-1.22746489550335}, {:x1=>-0.545068014872166, :x2=>-1.22382238776641}, {:x1=>-0.544544142495332, :x2=>-1.22309504598584}, {:x1=>-0.53915858809594, :x2=>-1.21554047036206}, {:x1=>-0.535684067709148, :x2=>-1.21059209180671}, {:x1=>-0.535212468852646, :x2=>-1.20991595771697}, {:x1=>-0.533885789225313, :x2=>-1.20800814821818}, {:x1=>-0.533173097262603, :x2=>-1.20697977935257}, {:x1=>-0.532477844299684, :x2=>-1.20597422317259}, {:x1=>-0.526366443662047, :x2=>-1.19703560695029}, {:x1=>-0.522324919359498, :x2=>-1.19102660963629}, {:x1=>-0.520362021477778, :x2=>-1.18808019009465}, {:x1=>-0.519377970251766, :x2=>-1.18659621606414}, {:x1=>-0.515431887119817, :x2=>-1.18059954868669}, {:x1=>-0.515305162623947, :x2=>-1.18040575732347}, {:x1=>-0.515296417578276, :x2=>-1.18039238132273}, {:x1=>-0.514107202145564, :x2=>-1.17857007034049}, {:x1=>-0.507130284838457, :x2=>-1.16774561965232}, {:x1=>-0.504642032331458, :x2=>-1.16383034593926}, {:x1=>-0.504213858208905, :x2=>-1.16315371791814}, {:x1=>-0.50377520060666, :x2=>-1.16245964315678}, {:x1=>-0.496216458740131, :x2=>-1.15036029455416}, {:x1=>-0.494006575930999, :x2=>-1.14677337421896}, {:x1=>-0.492421162052765, :x2=>-1.14418631073963}, {:x1=>-0.485923340921784, :x2=>-1.13346391459095}, {:x1=>-0.482923125863969, :x2=>-1.12844871455231}, {:x1=>-0.475079952072782, :x2=>-1.11514742515507}, {:x1=>-0.474790562653384, :x2=>-1.11465140444472}, {:x1=>-0.471049039362977, :x2=>-1.10820494142929}, {:x1=>-0.469312071395442, :x2=>-1.10519121943802}, {:x1=>-0.467926682971524, :x2=>-1.10277798789454}, {:x1=>-0.458669662230532, :x2=>-1.08643769286044}, {:x1=>-0.456166673649154, :x2=>-1.08195558440266}, {:x1=>-0.44781604740884, :x2=>-1.06680753567584}, {:x1=>-0.444985344505225, :x2=>-1.06160521204596}, {:x1=>-0.444087932032469, :x2=>-1.05994885086672}, {:x1=>-0.437438225912871, :x2=>-1.04756989725895}, {:x1=>-0.434043802850953, :x2=>-1.04117967146712}, {:x1=>-0.428441141446809, :x2=>-1.03052794535008}, {:x1=>-0.428070207364452, :x2=>-1.02981816824645}, {:x1=>-0.422970812363187, :x2=>-1.02000352177044}, {:x1=>-0.422401810212413, :x2=>-1.01890181230805}, {:x1=>-0.419298690621575, :x2=>-1.01287043161204}, {:x1=>-0.416746112943378, :x2=>-1.00787998751346}, {:x1=>-0.411622687271468, :x2=>-0.997784588100139}, {:x1=>-0.411389336573664, :x2=>-0.997322293200384}, {:x1=>-0.409188224495751, :x2=>-0.992951006250064}, {:x1=>-0.409054315033621, :x2=>-0.992684450364748}, {:x1=>-0.40702403464937, :x2=>-0.988634364769719}, {:x1=>-0.402756953825385, :x2=>-0.98006939750925}, {:x1=>-0.402356214580311, :x2=>-0.979261365505873}, {:x1=>-0.400322523609662, :x2=>-0.975151081524855}, {:x1=>-0.39253636653268, :x2=>-0.959266623953385}, {:x1=>-0.391574348137158, :x2=>-0.957287864184229}, {:x1=>-0.391436057524543, :x2=>-0.957003126227101}, {:x1=>-0.389912772117767, :x2=>-0.953861888760172}, {:x1=>-0.388261831993419, :x2=>-0.950447453836231}, {:x1=>-0.379073926652577, :x2=>-0.931257761683644}, {:x1=>-0.366949516150594, :x2=>-0.905456688290631}, {:x1=>-0.363483181405865, :x2=>-0.897982088710283}, {:x1=>-0.354230391779687, :x2=>-0.877820350289967}, {:x1=>-0.349125893853536, :x2=>-0.866569076733558}, {:x1=>-0.347070993926231, :x2=>-0.862014221228581}, {:x1=>-0.343568673487374, :x2=>-0.854217647030078}, {:x1=>-0.342518699821288, :x2=>-0.851872129155242}, {:x1=>-0.338610342299159, :x2=>-0.84310850059226}, {:x1=>-0.336847232500548, :x2=>-0.839138282551783}, {:x1=>-0.33658981717047, :x2=>-0.838557756776597}, {:x1=>-0.336253272986194, :x2=>-0.837798444719855}, {:x1=>-0.336143671377512, :x2=>-0.837551079557268}, {:x1=>-0.332977450249869, :x2=>-0.83038781585912}, {:x1=>-0.328870086008463, :x2=>-0.821045904903806}, {:x1=>-0.32875479511251, :x2=>-0.820782884213518}, {:x1=>-0.327033226042344, :x2=>-0.81685018969134}, {:x1=>-0.323611806871256, :x2=>-0.809005808774649}, {:x1=>-0.320520486282739, :x2=>-0.801885775338306}, {:x1=>-0.320188291337589, :x2=>-0.801118829958306}, {:x1=>-0.317049177149477, :x2=>-0.793854135366523}, {:x1=>-0.314080823480593, :x2=>-0.786955926035064}, {:x1=>-0.3137237387091, :x2=>-0.786124222544413}, {:x1=>-0.313390702635387, :x2=>-0.785348171801081}, {:x1=>-0.31335044359323, :x2=>-0.785254335423249}, {:x1=>-0.312845249353749, :x2=>-0.78407638990149}, {:x1=>-0.311799594710708, :x2=>-0.781635736069721}, {:x1=>-0.311075883208893, :x2=>-0.779944530786522}, {:x1=>-0.310369653578588, :x2=>-0.778292607530689}, {:x1=>-0.309056007571354, :x2=>-0.77521577735166}, {:x1=>-0.305078838117966, :x2=>-0.765867985984995}, {:x1=>-0.301783959522212, :x2=>-0.758087207478433}, {:x1=>-0.299861089195746, :x2=>-0.753531204870135}, {:x1=>-0.295786241951792, :x2=>-0.74383971520021}, {:x1=>-0.293591474903443, :x2=>-0.738599294640686}, {:x1=>-0.283406008455633, :x2=>-0.714095402125799}, {:x1=>-0.280458282181662, :x2=>-0.70694825197609}, {:x1=>-0.280112125937134, :x2=>-0.706107337667289}, {:x1=>-0.279062980827444, :x2=>-0.703556598077162}, {:x1=>-0.278202880001715, :x2=>-0.701463167768384}, {:x1=>-0.271185093929721, :x2=>-0.684305498211624}, {:x1=>-0.270813101601285, :x2=>-0.683392236822357}, {:x1=>-0.266112416429895, :x2=>-0.671819447541991}, {:x1=>-0.265816666330551, :x2=>-0.671089337567843}, {:x1=>-0.265127420996855, :x2=>-0.669386908063468}, {:x1=>-0.264594349380138, :x2=>-0.668069355480993}, {:x1=>-0.263374129109546, :x2=>-0.665050579522869}, {:x1=>-0.262566538721817, :x2=>-0.663050458376768}, {:x1=>-0.256802697546764, :x2=>-0.64872560326805}, {:x1=>-0.249786522450207, :x2=>-0.631172388139549}, {:x1=>-0.248479795773367, :x2=>-0.627889382329279}, {:x1=>-0.247471907532496, :x2=>-0.625354248863526}, {:x1=>-0.246196198409786, :x2=>-0.622141831019286}, {:x1=>-0.245624919667702, :x2=>-0.620701957381104}, {:x1=>-0.243205467453226, :x2=>-0.614594926959399}, {:x1=>-0.235280472587677, :x2=>-0.59449127922452}, {:x1=>-0.234119658770718, :x2=>-0.591533951655445}, {:x1=>-0.229685747022615, :x2=>-0.580208793929861}, {:x1=>-0.229608600117401, :x2=>-0.580011338243326}, {:x1=>-0.227675622855516, :x2=>-0.575059437732274}, {:x1=>-0.226808316079972, :x2=>-0.572834776342121}, {:x1=>-0.225875153573648, :x2=>-0.570439270497289}, {:x1=>-0.224916589140709, :x2=>-0.567976488782476}, {:x1=>-0.224544626458553, :x2=>-0.567020265286644}, {:x1=>-0.222628443906641, :x2=>-0.562089279944625}, {:x1=>-0.217175681028503, :x2=>-0.548012581347549}, {:x1=>-0.210202393123692, :x2=>-0.529915840147757}, {:x1=>-0.208187279564394, :x2=>-0.524666967616036}, {:x1=>-0.205050610499075, :x2=>-0.516479796696195}, {:x1=>-0.203034183062263, :x2=>-0.511205868565393}, {:x1=>-0.194646353816972, :x2=>-0.489179384717139}, {:x1=>-0.187958551411437, :x2=>-0.471518188684063}, {:x1=>-0.185956479141383, :x2=>-0.466214537953706}, {:x1=>-0.183094409508895, :x2=>-0.458619711747359}, {:x1=>-0.17865164688533, :x2=>-0.44680062428431}, {:x1=>-0.173092596244604, :x2=>-0.431962226143547}, {:x1=>-0.171511854738142, :x2=>-0.427733012165542}, {:x1=>-0.171413206484732, :x2=>-0.427468940069548}, {:x1=>-0.171072764947716, :x2=>-0.426557482110091}, {:x1=>-0.170227440080235, :x2=>-0.424293453237704}, {:x1=>-0.16298205814679, :x2=>-0.404839006453786}, {:x1=>-0.161107372573302, :x2=>-0.399791279519054}, {:x1=>-0.160408272932724, :x2=>-0.397907456621991}, {:x1=>-0.160320709701722, :x2=>-0.397671450061789}, {:x1=>-0.157037923165941, :x2=>-0.388814692318316}, {:x1=>-0.154367287317548, :x2=>-0.38159706085114}, {:x1=>-0.151378564483091, :x2=>-0.373506829355549}, {:x1=>-0.148217261969321, :x2=>-0.364934869553397}, {:x1=>-0.143283159054754, :x2=>-0.351526773381342}, {:x1=>-0.141810644449318, :x2=>-0.347518593009606}, {:x1=>-0.131083746183296, :x2=>-0.318230826030763}, {:x1=>-0.126885273019926, :x2=>-0.306726837874595}, {:x1=>-0.12380922647393101, :x2=>-0.29828448532125}, {:x1=>-0.12134281033082502, :x2=>-0.29150706644056}, {:x1=>-0.11856730379167602, :x2=>-0.283871769343225}, {:x1=>-0.11360919459779302, :x2=>-0.270210445932917}, {:x1=>-0.11270734447738101, :x2=>-0.2677226146513}, {:x1=>-0.10968842593972601, :x2=>-0.25938832129438}, {:x1=>-0.10618636655217302, :x2=>-0.249708291330244}, {:x1=>-0.10543850782977401, :x2=>-0.24763951875391}, {:x1=>-0.10188501872400801, :x2=>-0.237802072117201}, {:x1=>-0.08949664223341011, :x2=>-0.203414458151553}, {:x1=>-0.08534714496157991, :x2=>-0.191866946387054}, {:x1=>-0.08364605179104831, :x2=>-0.187129101793964}, {:x1=>-0.07268006491136231, :x2=>-0.156536434959337}, {:x1=>-0.07170382285201242, :x2=>-0.153808994627591}, {:x1=>-0.07023584198148831, :x2=>-0.149706602290151}, {:x1=>-0.06956692225893502, :x2=>-0.147836811804723}, {:x1=>-0.06817931694281551, :x2=>-0.143957264030293}, {:x1=>-0.06228131557737191, :x2=>-0.127454980238869}, {:x1=>-0.060658252152477915, :x2=>-0.122910442458833}, {:x1=>-0.056344831381058516, :x2=>-0.110826617723597}, {:x1=>-0.05118153976178121, :x2=>-0.0963507904721184}, {:x1=>-0.050107955838658916, :x2=>-0.0933394931314648}, {:x1=>-0.04899744169097522, :x2=>-0.0902241386692043}, {:x1=>-0.04378286446436661, :x2=>-0.0755895893915234}, {:x1=>-0.043079819032684916, :x2=>-0.0736158167377059}, {:x1=>-0.042200864795403914, :x2=>-0.0711479713837442}, {:x1=>-0.03898483351321221, :x2=>-0.0621163754711888}, {:x1=>-0.037246227385947614, :x2=>-0.0572326739834299}, {:x1=>-0.036097034900883215, :x2=>-0.0540042093111632}, {:x1=>-0.03361470013432631, :x2=>-0.047029475773808}, {:x1=>-0.027633818771435812, :x2=>-0.0302198416134992}, {:x1=>-0.02706295422659941, :x2=>-0.0286150947591766}, {:x1=>-0.02616532162200291, :x2=>-0.0260916897584448}, {:x1=>-0.02443315541670701, :x2=>-0.021221990629094}, {:x1=>-0.022781178302944412, :x2=>-0.0165774409401528}, {:x1=>-0.01850492199768671, :x2=>-0.00455375527065397}, {:x1=>-0.01660499929154351, :x2=>0.000788586664149638}, {:x1=>-0.01155945599876171, :x2=>0.0149760878181498}, {:x1=>-0.011001992949430911, :x2=>0.0165435742602139}, {:x1=>-0.008790302375713741, :x2=>0.0227622912373685}, {:x1=>-0.006724512420237191, :x2=>0.0285704599766111}, {:x1=>-0.0041331941447965105, :x2=>0.0358556218796511}, {:x1=>-0.0031853463454001607, :x2=>0.0385201791441626}, {:x1=>-0.002786975899510861, :x2=>0.039640029187445}, {:x1=>0.0015995903391472692, :x2=>0.0519693998452357}, {:x1=>0.0020839441429080893, :x2=>0.0533305749638919}, {:x1=>0.0035491648257322092, :x2=>0.0574479913884934}, {:x1=>0.01286691290378319, :x2=>0.0836198436737277}, {:x1=>0.01390596764498429, :x2=>0.0865368426440963}, {:x1=>0.015468607364503789, :x2=>0.0909230696467947}, {:x1=>0.015568336922730389, :x2=>0.0912029761118736}, {:x1=>0.01867954284575919, :x2=>0.0999332911934189}, {:x1=>0.01903011460817649, :x2=>0.100916803496491}, {:x1=>0.02318105229718419, :x2=>0.112558369195106}, {:x1=>0.02389187256543009, :x2=>0.114551193246558}, {:x1=>0.02393664205659589, :x2=>0.114676699681693}, {:x1=>0.02664114627785009, :x2=>0.122256829393908}, {:x1=>0.02802916815979319, :x2=>0.126145840462509}, {:x1=>0.02829041703970579, :x2=>0.126877714512281}, {:x1=>0.03188891360787509, :x2=>0.136955253967786}, {:x1=>0.032346204498590485, :x2=>0.138235415714236}, {:x1=>0.03312537771232529, :x2=>0.140416414694452}, {:x1=>0.042288912509131985, :x2=>0.166040343126021}, {:x1=>0.05307515691007009, :x2=>0.196132435674789}, {:x1=>0.053581459814747386, :x2=>0.197542889173444}, {:x1=>0.05791808120746168, :x2=>0.209615634445841}, {:x1=>0.06342951345490339, :x2=>0.224936793290905}, {:x1=>0.06430229595709158, :x2=>0.227360646480148}, {:x1=>0.06448023768831458, :x2=>0.227854736201427}, {:x1=>0.06574898710999529, :x2=>0.231376849914068}, {:x1=>0.06808927731969179, :x2=>0.237869806701088}, {:x1=>0.06979984304371868, :x2=>0.24261244819177}, {:x1=>0.07643007760776518, :x2=>0.260968591404474}, {:x1=>0.07662902608775299, :x2=>0.261518716635163}, {:x1=>0.08154846535327959, :x2=>0.275108746532794}, {:x1=>0.08341226752584288, :x2=>0.280250827625814}, {:x1=>0.08624050300929148, :x2=>0.288046435567299}, {:x1=>0.08745728302050938, :x2=>0.291397559147092}, {:x1=>0.08794441978354399, :x2=>0.292738708049733}, {:x1=>0.09172573192448859, :x2=>0.303139829834247}, {:x1=>0.09309122232906579, :x2=>0.306891711589999}, {:x1=>0.09370542855454708, :x2=>0.308578605426517}, {:x1=>0.09643302956910549, :x2=>0.316064334395088}, {:x1=>0.10383857603657198, :x2=>0.33634146320702}, {:x1=>0.10485946349129599, :x2=>0.339131202392892}, {:x1=>0.10530701696361999, :x2=>0.340353779472919}, {:x1=>0.10790552419591298, :x2=>0.347446799769989}, {:x1=>0.11552247844935498, :x2=>0.368184892353583}, {:x1=>0.11998496020131899, :x2=>0.380296032475456}, {:x1=>0.12297213871246299, :x2=>0.388386709965941}, {:x1=>0.12415914380860499, :x2=>0.391597924668864}, {:x1=>0.12547219356888, :x2=>0.395147611923089}, {:x1=>0.130055075121876, :x2=>0.40751587349286}, {:x1=>0.13106623957489, :x2=>0.410240321405201}, {:x1=>0.131507198281504, :x2=>0.411427912041177}, {:x1=>0.134816978826142, :x2=>0.420331750530901}, {:x1=>0.137693177575568, :x2=>0.428054546616945}, {:x1=>0.141656627136342, :x2=>0.438673896644548}, {:x1=>0.143653376783667, :x2=>0.444013636385713}, {:x1=>0.14596601652866, :x2=>0.450189454123272}, {:x1=>0.147064838841114, :x2=>0.453120517162211}, {:x1=>0.147243865713291, :x2=>0.453597861047522}, {:x1=>0.149188908207603, :x2=>0.458780289704578}, {:x1=>0.149918368971034, :x2=>0.460722135416914}, {:x1=>0.15028051457699, :x2=>0.461685820590571}, {:x1=>0.152544816580514, :x2=>0.467705821809515}, {:x1=>0.154782798537718, :x2=>0.473646603951673}, {:x1=>0.154927962180126, :x2=>0.474031624500375}, {:x1=>0.15782150324277, :x2=>0.481698004905698}, {:x1=>0.158276372973414, :x2=>0.482901740357281}, {:x1=>0.158706713337068, :x2=>0.484040202081725}, {:x1=>0.162608014469204, :x2=>0.494344908256028}, {:x1=>0.164170675172433, :x2=>0.498464195029326}, {:x1=>0.164609483384043, :x2=>0.499620067732361}, {:x1=>0.166755146939759, :x2=>0.505266544735469}, {:x1=>0.16717428055588, :x2=>0.506368463782517}, {:x1=>0.171511272625703, :x2=>0.517749945669337}, {:x1=>0.180761152631637, :x2=>0.541895397726464}, {:x1=>0.183585068431298, :x2=>0.54923090061088}, {:x1=>0.184595556515303, :x2=>0.5518516115062}, {:x1=>0.185189715533797, :x2=>0.553391535875234}, {:x1=>0.186992273729755, :x2=>0.558058648873728}, {:x1=>0.189770602500236, :x2=>0.565238212974496}, {:x1=>0.190571554235928, :x2=>0.567304802356836}, {:x1=>0.193227950196224, :x2=>0.57414848094755}, {:x1=>0.193619690821234, :x2=>0.575156380447882}, {:x1=>0.196725647111122, :x2=>0.583135286923151}, {:x1=>0.198209884855488, :x2=>0.586940362805897}, {:x1=>0.199197921818207, :x2=>0.589470534255171}, {:x1=>0.199609258756792, :x2=>0.590523222153676}, {:x1=>0.201150298964862, :x2=>0.594463533137453}, {:x1=>0.2061882825849, :x2=>0.607306307994584}, {:x1=>0.209591684867205, :x2=>0.615948000485306}, {:x1=>0.210039280124289, :x2=>0.617082425439967}, {:x1=>0.218744786284715, :x2=>0.639048642860004}, {:x1=>0.218974069785221, :x2=>0.639624637659587}, {:x1=>0.221161101793482, :x2=>0.645112126982377}, {:x1=>0.223903046510874, :x2=>0.651974787353169}, {:x1=>0.22453511696354, :x2=>0.653554033443331}, {:x1=>0.232208203087911, :x2=>0.672642787809429}, {:x1=>0.232237979853281, :x2=>0.672716564396609}, {:x1=>0.235826411513608, :x2=>0.681590202792123}, {:x1=>0.237547201578196, :x2=>0.68583322556076}, {:x1=>0.242598666760845, :x2=>0.698242474334526}, {:x1=>0.245512343675818, :x2=>0.70536829609632}, {:x1=>0.245548193795642, :x2=>0.705455826476058}, {:x1=>0.247291114273765, :x2=>0.709706965875459}, {:x1=>0.247464185857745, :x2=>0.710128640594326}, {:x1=>0.253661778154697, :x2=>0.725172994765197}, {:x1=>0.254301075050253, :x2=>0.726718655986814}, {:x1=>0.257356892073632, :x2=>0.734090664964449}, {:x1=>0.25742392995292, :x2=>0.734252088992731}, {:x1=>0.261560409497314, :x2=>0.744187286946628}, {:x1=>0.261958636106744, :x2=>0.745141131613325}, {:x1=>0.263204375403506, :x2=>0.74812195735815}, {:x1=>0.267535080429962, :x2=>0.758448847925222}, {:x1=>0.269480989312223, :x2=>0.763070817385234}, {:x1=>0.270015138458985, :x2=>0.764337553505553}, {:x1=>0.273336725557229, :x2=>0.772195372597831}, {:x1=>0.27507466627589, :x2=>0.776293436943727}, {:x1=>0.278990792598668, :x2=>0.785493734783399}, {:x1=>0.279781168381648, :x2=>0.787344856085285}, {:x1=>0.282935442935838, :x2=>0.794713069866219}, {:x1=>0.298428970710594, :x2=>0.830447366384587}, {:x1=>0.299283424514727, :x2=>0.832395533887412}, {:x1=>0.307155243949206, :x2=>0.850230015812575}, {:x1=>0.307481571633655, :x2=>0.850964895297878}, {:x1=>0.311014557197241, :x2=>0.858898136261664}, {:x1=>0.312130665896733, :x2=>0.86139556942174}, {:x1=>0.31479700433521, :x2=>0.867344692472593}, {:x1=>0.317299201472052, :x2=>0.872905480700825}, {:x1=>0.318256368058549, :x2=>0.875026962509804}, {:x1=>0.319139946942259, :x2=>0.876982538405512}, {:x1=>0.320222674519537, :x2=>0.879375198543353}, {:x1=>0.323980723320162, :x2=>0.887648302923942}, {:x1=>0.324003707704342, :x2=>0.887698750000804}, {:x1=>0.325156963720992, :x2=>0.890227588302206}, {:x1=>0.327274277342056, :x2=>0.894858233476244}, {:x1=>0.328825765733764, :x2=>0.898241361870384}, {:x1=>0.332363461536592, :x2=>0.905923624753048}, {:x1=>0.337372065405519, :x2=>0.916723498278095}, {:x1=>0.338217877397228, :x2=>0.918538372904775}, {:x1=>0.339289986389707, :x2=>0.92083509315958}, {:x1=>0.343819072524216, :x2=>0.930491329446248}, {:x1=>0.346679651888987, :x2=>0.936551497273624}, {:x1=>0.34812807019239, :x2=>0.939608474709977}, {:x1=>0.352027704353753, :x2=>0.947800189432053}, {:x1=>0.352125315518246, :x2=>0.948004507923356}, {:x1=>0.35291314688522, :x2=>0.949652282285905}, {:x1=>0.353153953659034, :x2=>0.950155473683388}, {:x1=>0.355961000592089, :x2=>0.956005038525394}, {:x1=>0.356734600081257, :x2=>0.957611917561987}, {:x1=>0.360316842226229, :x2=>0.965023233748585}, {:x1=>0.362153688755312, :x2=>0.968804575324325}, {:x1=>0.366761437790593, :x2=>0.978233269245214}, {:x1=>0.369053789389437, :x2=>0.982893573060787}, {:x1=>0.369998141759616, :x2=>0.984807502878961}, {:x1=>0.370813880114483, :x2=>0.9864579809698}, {:x1=>0.373207109138967, :x2=>0.991285229146099}, {:x1=>0.375134169649266, :x2=>0.995155924053282}, {:x1=>0.377045309708407, :x2=>0.998980244635561}, {:x1=>0.384088650911029, :x2=>1.01294976058329}, {:x1=>0.385993414974513, :x2=>1.01669366481311}, {:x1=>0.389023902830851, :x2=>1.02262021875543}, {:x1=>0.391052879775278, :x2=>1.02656748133146}, {:x1=>0.39112465605861, :x2=>1.0267068131828}, {:x1=>0.391317997161117, :x2=>1.02708202238972}, {:x1=>0.391519659783754, :x2=>1.02747321945191}, {:x1=>0.392381090004259, :x2=>1.0291424158793}, {:x1=>0.394252040934996, :x2=>1.03275737996346}, {:x1=>0.40480365719956, :x2=>1.05287625221333}, {:x1=>0.405315230631946, :x2=>1.05383999031969}, {:x1=>0.406347385301933, :x2=>1.05578112252592}, {:x1=>0.409147386300882, :x2=>1.06102460106894}, {:x1=>0.409536103825432, :x2=>1.0617499499827}, {:x1=>0.409787164031512, :x2=>1.0622180932116}, {:x1=>0.410759999261888, :x2=>1.06402960909479}, {:x1=>0.411630885764122, :x2=>1.06564791599461}, {:x1=>0.427862635178292, :x2=>1.09522142729245}, {:x1=>0.437790434542508, :x2=>1.11275018469919}, {:x1=>0.441438782969288, :x2=>1.11908340258983}, {:x1=>0.443048941148769, :x2=>1.1218598207457}, {:x1=>0.45121480332383, :x2=>1.13576301707537}, {:x1=>0.454580707301828, :x2=>1.14140701842365}, {:x1=>0.456106775436547, :x2=>1.14394915313555}, {:x1=>0.458800364221884, :x2=>1.1484104782535}, {:x1=>0.460501642646094, :x2=>1.15121132686489}, {:x1=>0.460737171899681, :x2=>1.15159804771475}, {:x1=>0.462672597175344, :x2=>1.15476630972889}, {:x1=>0.467130322652669, :x2=>1.16199851439779}, {:x1=>0.468439018678729, :x2=>1.1641044593114}, {:x1=>0.473548411230318, :x2=>1.17225098863772}, {:x1=>0.476156155495695, :x2=>1.17636232752428}, {:x1=>0.476524219444331, :x2=>1.17694007237896}, {:x1=>0.476841413842359, :x2=>1.17743746311597}, {:x1=>0.478710861710361, :x2=>1.18035942758035}, {:x1=>0.480270569892867, :x2=>1.18278480755605}, {:x1=>0.48034633052893, :x2=>1.18290232792217}, {:x1=>0.48198897535616, :x2=>1.18544381394045}, {:x1=>0.484500307682907, :x2=>1.1893049083788}, {:x1=>0.485904881582157, :x2=>1.19145149164037}, {:x1=>0.486387533844186, :x2=>1.1921869785956}, {:x1=>0.490144302570341, :x2=>1.19787418054182}, {:x1=>0.490518478545237, :x2=>1.19843697919043}, {:x1=>0.494853630453956, :x2=>1.20490911462711}, {:x1=>0.495359746616502, :x2=>1.20565889905632}, {:x1=>0.503158885021477, :x2=>1.21705830365199}, {:x1=>0.508807632802442, :x2=>1.22513231040071}, {:x1=>0.512638107205935, :x2=>1.2305196287732}, {:x1=>0.522838596299388, :x2=>1.2445174797542}, {:x1=>0.522853354696734, :x2=>1.2445373632863}, {:x1=>0.523173990425688, :x2=>1.24496908164548}, {:x1=>0.528767734288264, :x2=>1.25241928597873}, {:x1=>0.530624875861533, :x2=>1.2548586114608}, {:x1=>0.533045784724277, :x2=>1.25801277429647}, {:x1=>0.533329168016874, :x2=>1.25838008791658}, {:x1=>0.537593820439681, :x2=>1.26385956249967}, {:x1=>0.537835881195387, :x2=>1.26416785806308}, {:x1=>0.53973442019715, :x2=>1.26657574369964}, {:x1=>0.542854124148691, :x2=>1.27049325000181}, {:x1=>0.544428109954268, :x2=>1.27245123015355}, {:x1=>0.548587548855042, :x2=>1.27756545836635}, {:x1=>0.551419933167821, :x2=>1.28099808064164}, {:x1=>0.553336509104557, :x2=>1.28329780413799}, {:x1=>0.55456285469225, :x2=>1.28475954817544}, {:x1=>0.555719300877075, :x2=>1.28613098602378}, {:x1=>0.557304804992725, :x2=>1.28800020611901}, {:x1=>0.559087049581291, :x2=>1.2900861078893}, {:x1=>0.559449695638371, :x2=>1.29050856085902}, {:x1=>0.562350689724099, :x2=>1.29386383955898}, {:x1=>0.568191804954756, :x2=>1.30048909094136}, {:x1=>0.569885053334458, :x2=>1.30237692964071}, {:x1=>0.570285393877958, :x2=>1.30282112336389}, {:x1=>0.571468300153782, :x2=>1.30412878617022}, {:x1=>0.573486451496367, :x2=>1.30634314547928}, {:x1=>0.582973547753161, :x2=>1.31647047384867}, {:x1=>0.583495673190984, :x2=>1.31701428267166}, {:x1=>0.588206133736308, :x2=>1.3218561974208}, {:x1=>0.588500997348738, :x2=>1.32215544197331}, {:x1=>0.589661978635607, :x2=>1.32332925900185}, {:x1=>0.604756459404705, :x2=>1.33794724726934}, {:x1=>0.604821720129785, :x2=>1.33800784341578}, {:x1=>0.612005325445762, :x2=>1.34454018684214}, {:x1=>0.61677805920363, :x2=>1.34872880229134}, {:x1=>0.618234381615282, :x2=>1.34998274736225}, {:x1=>0.618932970027798, :x2=>1.35058024421975}, {:x1=>0.624878771587208, :x2=>1.35556016002755}, {:x1=>0.6267329962508, :x2=>1.35707448586238}, {:x1=>0.631493836965451, :x2=>1.36087816811639}, {:x1=>0.635689055012328, :x2=>1.3641289839481}, {:x1=>0.640645625048912, :x2=>1.36784754729397}, {:x1=>0.642833390176047, :x2=>1.36944667342372}, {:x1=>0.648309408296137, :x2=>1.37333575656056}, {:x1=>0.657161787282355, :x2=>1.37927854751956}, {:x1=>0.661490734116082, :x2=>1.38202934781284}, {:x1=>0.663723821858843, :x2=>1.38340836692213}, {:x1=>0.666451022423378, :x2=>1.38505555900122}, {:x1=>0.667939422078893, :x2=>1.38593737250711}, {:x1=>0.66962750303054, :x2=>1.38692281170726}, {:x1=>0.673972413149389, :x2=>1.38938738579076}, {:x1=>0.675095289199367, :x2=>1.39000747828694}, {:x1=>0.675798942406125, :x2=>1.39039253290165}, {:x1=>0.678178168314312, :x2=>1.39167435282632}, {:x1=>0.685424939567792, :x2=>1.39538674678071}, {:x1=>0.693566943457208, :x2=>1.39921243474823}, {:x1=>0.695071570723599, :x2=>1.39987933480299}, {:x1=>0.695374322803767, :x2=>1.40001201181856}, {:x1=>0.701386144714074, :x2=>1.40254158663541}, {:x1=>0.706076009167437, :x2=>1.40437592141324}, {:x1=>0.715591236135249, :x2=>1.40772253985233}, {:x1=>0.719489125154314, :x2=>1.40894818138523}, {:x1=>0.720478945161872, :x2=>1.40924595813696}, {:x1=>0.727200284959872, :x2=>1.41112369027028}, {:x1=>0.728700140294656, :x2=>1.4115083493212}, {:x1=>0.734709941345881, :x2=>1.41292379979226}, {:x1=>0.741894361956883, :x2=>1.41435136499288}, {:x1=>0.757267464276804, :x2=>1.41643708251211}, {:x1=>0.758324611417864, :x2=>1.41653193732701}, {:x1=>0.763855738118808, :x2=>1.41692627148766}, {:x1=>0.766086642996568, :x2=>1.41703686386125}, {:x1=>0.768298609143567, :x2=>1.4171190132961}, {:x1=>0.777385764677347, :x2=>1.41716911174101}, {:x1=>0.780594354050455, :x2=>1.41707637577255}, {:x1=>0.789866366093706, :x2=>1.41648454184192}, {:x1=>0.799166274268067, :x2=>1.41540774738189}, {:x1=>0.801783431110031, :x2=>1.41501751365588}, {:x1=>0.802678379165077, :x2=>1.41487528685761}, {:x1=>0.805412098949335, :x2=>1.41441312114281}, {:x1=>0.806044766409179, :x2=>1.41430021156484}, {:x1=>0.806821034415841, :x2=>1.41415861916704}, {:x1=>0.808395536227905, :x2=>1.41386109046291}, {:x1=>0.808847386200452, :x2=>1.41377314890676}, {:x1=>0.820814699911518, :x2=>1.41102925170654}, {:x1=>0.831106785420668, :x2=>1.40803097337611}, {:x1=>0.837209849731494, :x2=>1.40597470093597}, {:x1=>0.840107976732534, :x2=>1.40492579520237}, {:x1=>0.841099772041175, :x2=>1.40455613273077}, {:x1=>0.841635793330555, :x2=>1.40435407478439}, {:x1=>0.842719176423406, :x2=>1.40394081818883}, {:x1=>0.84509314788464, :x2=>1.40301251149888}, {:x1=>0.855343931171754, :x2=>1.39864577830878}, {:x1=>0.855415777801745, :x2=>1.39861312154073}, {:x1=>0.859735594280785, :x2=>1.39659723875041}, {:x1=>0.86109158341167, :x2=>1.39594321866893}, {:x1=>0.861141104334521, :x2=>1.39591914184425}, {:x1=>0.861288904888508, :x2=>1.3958472015547}, {:x1=>0.862043476049697, :x2=>1.39547804544684}, {:x1=>0.86243894354895, :x2=>1.39528331884127}, {:x1=>0.863276369152568, :x2=>1.39486812896875}, {:x1=>0.869337726457126, :x2=>1.39174782946737}, {:x1=>0.870493550826759, :x2=>1.39112988548642}, {:x1=>0.870511859243736, :x2=>1.39112003810153}, {:x1=>0.872886813004646, :x2=>1.38982703214549}, {:x1=>0.872922672288585, :x2=>1.38980727176733}, {:x1=>0.87574262962748, :x2=>1.38823122895224}, {:x1=>0.88443252234496, :x2=>1.38310055526298}, {:x1=>0.884807334549036, :x2=>1.38286996769936}, {:x1=>0.888260051733337, :x2=>1.38070975322453}, {:x1=>0.888667935935967, :x2=>1.38045026219547}, {:x1=>0.889726778566741, :x2=>1.37977240579553}, {:x1=>0.892994931966277, :x2=>1.37764165971628}, {:x1=>0.898620879445226, :x2=>1.37383761533621}, {:x1=>0.906641542418809, :x2=>1.36811752254791}, {:x1=>0.914217343342167, :x2=>1.36239544527281}, {:x1=>0.91503507041176, :x2=>1.36175931852838}, {:x1=>0.91873561945382, :x2=>1.35883564724929}, {:x1=>0.919181255626825, :x2=>1.35847860489456}, {:x1=>0.92932016360036, :x2=>1.35006801259051}, {:x1=>0.934882766215896, :x2=>1.3452205611649}, {:x1=>0.940274799104203, :x2=>1.34036483974527}, {:x1=>0.940377789706629, :x2=>1.34027059328011}, {:x1=>0.940821390334558, :x2=>1.33986401369964}, {:x1=>0.954998440275247, :x2=>1.3263234743808}, {:x1=>0.957619170654099, :x2=>1.32370478897683}, {:x1=>0.958972603485922, :x2=>1.32233834905109}, {:x1=>0.961934002388464, :x2=>1.31931514001621}, {:x1=>0.966989660946386, :x2=>1.31404843224093}, {:x1=>0.968576837231326, :x2=>1.31236761794295}, {:x1=>0.970325837662626, :x2=>1.31050031309671}, {:x1=>0.971197062040308, :x2=>1.30956424976136}, {:x1=>0.976662518174147, :x2=>1.3036026022912}, {:x1=>0.979025381613392, :x2=>1.30097757037864}, {:x1=>0.984583006055129, :x2=>1.29469033966632}, {:x1=>0.986416434902515, :x2=>1.29258154039397}, {:x1=>0.993158538485935, :x2=>1.28467947723278}, {:x1=>0.998550331192179, :x2=>1.27819403462371}, {:x1=>1.00929218674972, :x2=>1.26483675666217}, {:x1=>1.01688278503758, :x2=>1.25505016606387}, {:x1=>1.02058065736001, :x2=>1.25017891786773}, {:x1=>1.02128112320658, :x2=>1.24924857466137}, {:x1=>1.02201523068131, :x2=>1.24827095220396}, {:x1=>1.02635361081199, :x2=>1.24243930417127}, {:x1=>1.02982583177317, :x2=>1.23770540875308}, {:x1=>1.03041187463042, :x2=>1.23690060280194}, {:x1=>1.04056577700923, :x2=>1.22269104593836}, {:x1=>1.0460286144824, :x2=>1.21483997528867}, {:x1=>1.04761500919606, :x2=>1.21253318565485}, {:x1=>1.0490700458587, :x2=>1.21040681243544}, {:x1=>1.05097665995162, :x2=>1.20760519880857}, {:x1=>1.0522307832933, :x2=>1.20575291579308}, {:x1=>1.05299873218742, :x2=>1.20461499377726}, {:x1=>1.05911842620556, :x2=>1.1954470276417}, {:x1=>1.06020030942049, :x2=>1.19380782607279}, {:x1=>1.06525062856924, :x2=>1.18608304888478}, {:x1=>1.06798923883094, :x2=>1.18184418857646}, {:x1=>1.07178369198938, :x2=>1.17591328254226}, {:x1=>1.08679757000586, :x2=>1.15179384747621}, {:x1=>1.08908327782019, :x2=>1.14803149217894}, {:x1=>1.08927256112999, :x2=>1.14771886275996}, {:x1=>1.09085637620414, :x2=>1.14509660121922}, {:x1=>1.09369228702228, :x2=>1.14037298625037}, {:x1=>1.10352872679474, :x2=>1.12370944285057}, {:x1=>1.10476373298103, :x2=>1.12158681355051}, {:x1=>1.11069738626287, :x2=>1.11129461444438}, {:x1=>1.11241725179765, :x2=>1.10828249959884}, {:x1=>1.11472796826754, :x2=>1.10421522751858}, {:x1=>1.11669954822818, :x2=>1.10072649759632}, {:x1=>1.11771808412111, :x2=>1.09891757055093}, {:x1=>1.11789800554911, :x2=>1.09859756105252}, {:x1=>1.12146078752558, :x2=>1.09223192123569}, {:x1=>1.12564439755638, :x2=>1.08468722938424}, {:x1=>1.13222941405494, :x2=>1.07266030825992}, {:x1=>1.13349717412651, :x2=>1.07032373004817}, {:x1=>1.13689899470942, :x2=>1.06402041443019}, {:x1=>1.13796693404056, :x2=>1.06203157017317}, {:x1=>1.14760076408894, :x2=>1.04387538370453}, {:x1=>1.15059296136198, :x2=>1.03815809549653}, {:x1=>1.15135851520194, :x2=>1.03668942767689}, {:x1=>1.15610149087907, :x2=>1.02753702541503}, {:x1=>1.15741278037254, :x2=>1.02499053719391}, {:x1=>1.16288128628142, :x2=>1.01429608953184}, {:x1=>1.16584877134719, :x2=>1.00844258411757}, {:x1=>1.16737671655547, :x2=>1.00541496481783}, {:x1=>1.17372597281786, :x2=>0.992735070587804}, {:x1=>1.17462734781574, :x2=>0.990922121043363}, {:x1=>1.17570720885821, :x2=>0.988745999202166}, {:x1=>1.19714851425439, :x2=>0.944609403626516}, {:x1=>1.21549884848738, :x2=>0.905472615144359}, {:x1=>1.2212553228477, :x2=>0.892945286773141}, {:x1=>1.22145935299099, :x2=>0.892499123008027}, {:x1=>1.23180022552925, :x2=>0.869695950336108}, {:x1=>1.23207507429042, :x2=>0.869084823676546}, {:x1=>1.23405183136007, :x2=>0.864681888815422}, {:x1=>1.23988358576727, :x2=>0.851615175910375}, {:x1=>1.24811593275074, :x2=>0.832975775877831}, {:x1=>1.24831981080815, :x2=>0.832511318514936}, {:x1=>1.25185704136781, :x2=>0.824431465424252}, {:x1=>1.25679510638461, :x2=>0.813083891226732}, {:x1=>1.27010671305639, :x2=>0.782108066249024}, {:x1=>1.27157917838824, :x2=>0.778647738930503}, {:x1=>1.27522601416151, :x2=>0.770049023453348}, {:x1=>1.27992017650992, :x2=>0.758921547743282}, {:x1=>1.28266362660331, :x2=>0.75238766334234}, {:x1=>1.28316030568451, :x2=>0.751202367345888}, {:x1=>1.28460699465172, :x2=>0.747745773047069}, {:x1=>1.29086902389257, :x2=>0.732713113015238}, {:x1=>1.29312695530799, :x2=>0.727264837601923}, {:x1=>1.29385580921725, :x2=>0.725503027476365}, {:x1=>1.29595497552062, :x2=>0.720420386367246}, {:x1=>1.30432217145358, :x2=>0.700037859086168}, {:x1=>1.31323312831809, :x2=>0.678118735084861}, {:x1=>1.31340263073575, :x2=>0.677699718228481}, {:x1=>1.31535397753244, :x2=>0.672870402943588}, {:x1=>1.33104440403094, :x2=>0.633678520207894}, {:x1=>1.33401882545558, :x2=>0.626178586657838}, {:x1=>1.3357156706487, :x2=>0.621890253749287}, {:x1=>1.34376527132601, :x2=>0.601451880092254}, {:x1=>1.34563863845065, :x2=>0.596673125562027}, {:x1=>1.35341626929589, :x2=>0.576745944474968}, {:x1=>1.35813533599853, :x2=>0.564588005770797}, {:x1=>1.36004954837404, :x2=>0.559642189402489}, {:x1=>1.36362963851986, :x2=>0.550370614577834}, {:x1=>1.38676802626227, :x2=>0.489800132191009}, {:x1=>1.38834518654614, :x2=>0.485632596443566}, {:x1=>1.41559998133012, :x2=>0.412900310852594}, {:x1=>1.42086760719593, :x2=>0.398697872780634}, {:x1=>1.47314069739435, :x2=>0.255666488033343}, {:x1=>1.4787786530282, :x2=>0.240049709670617}, {:x1=>1.479487433837, :x2=>0.238084294014811}, {:x1=>1.48470649516327, :x2=>0.223598035861551}, {:x1=>1.49876281003037, :x2=>0.184469616077161}, {:x1=>1.50135887260799, :x2=>0.177226677443953}, {:x1=>1.50200659221554, :x2=>0.175418833138752}, {:x1=>1.50221452941502, :x2=>0.174838401203259}, {:x1=>1.53056563811058, :x2=>0.0954688761879104}, {:x1=>1.53311071972502, :x2=>0.088325977819075}, {:x1=>1.538889238654, :x2=>0.0721006019060559}, {:x1=>1.56315627577264, :x2=>0.00388947940870714}, {:x1=>1.56568398121471, :x2=>-0.00321814869661434}, {:x1=>1.5681360865691, :x2=>-0.0101130058042463}, {:x1=>1.56828563156699, :x2=>-0.0105334882710846}, {:x1=>1.57101850607846, :x2=>-0.0182173588318595}, {:x1=>1.57288917666403, :x2=>-0.0234766400495965}, {:x1=>1.5770009003266, :x2=>-0.0350350313103767}, {:x1=>1.57834509639167, :x2=>-0.0388131352901493}, {:x1=>1.58222996949711, :x2=>-0.0497304165991408}, {:x1=>1.59319310580178, :x2=>-0.080519329596412}, {:x1=>1.59437698627738, :x2=>-0.0838419737824158}, {:x1=>1.59861636639514, :x2=>-0.0957359253688871}, {:x1=>1.6146684019257, :x2=>-0.140699307028477}, {:x1=>1.62535931452273, :x2=>-0.170566047363438}, {:x1=>1.62676579062867, :x2=>-0.174489637698586}, {:x1=>1.62706383886592, :x2=>-0.175320911536539}, {:x1=>1.64154781380694, :x2=>-0.215635551610472}, {:x1=>1.64545260481398, :x2=>-0.226474162448112}, {:x1=>1.6717109134088, :x2=>-0.298964559118355}, {:x1=>1.67206208853332, :x2=>-0.299928851470804}, {:x1=>1.69248319848469, :x2=>-0.355731654146617}, {:x1=>1.69487304016232, :x2=>-0.362224967151577}, {:x1=>1.70707462274657, :x2=>-0.395244627910125}, {:x1=>1.71299895374161, :x2=>-0.411193001037033}, {:x1=>1.72979754378087, :x2=>-0.456093005095614}, {:x1=>1.74632485635441, :x2=>-0.499765184499576}, {:x1=>1.76586549998084, :x2=>-0.55069155370761}, {:x1=>1.78774209221338, :x2=>-0.606704948172869}, {:x1=>1.79648199435893, :x2=>-0.628764484390939}, {:x1=>1.81890054985215, :x2=>-0.684456214830836}, {:x1=>1.82322658753899, :x2=>-0.695048257284198}, {:x1=>1.82466672720304, :x2=>-0.69856287440718}, {:x1=>1.83478740008597, :x2=>-0.723097354593615}, {:x1=>1.84923004287468, :x2=>-0.757594992438747}, {:x1=>1.87076161385461, :x2=>-0.807846514181623}, {:x1=>1.87595459526038, :x2=>-0.819746149272426}, {:x1=>1.87814298981425, :x2=>-0.824734499853951}, {:x1=>1.89707947190189, :x2=>-0.867231787722534}, {:x1=>1.91622594445508, :x2=>-0.90894021684102}, {:x1=>1.91857134220915, :x2=>-0.913959336060173}, {:x1=>1.98127798628633, :x2=>-1.04038591789247}, {:x1=>2.01318819678915, :x2=>-1.0985905586247}, {:x1=>2.01849667671943, :x2=>-1.107847500434}, {:x1=>2.06996692796903, :x2=>-1.19100858928139}, {:x1=>2.08251783409956, :x2=>-1.20941535663879}, {:x1=>2.10219977808019, :x2=>-1.23674962900877}, {:x1=>2.1082551055825, :x2=>-1.2447777398385}, {:x1=>2.13645259370496, :x2=>-1.27975207514725}, {:x1=>2.17322816255948, :x2=>-1.31927001325192}, {:x1=>2.20336817701636, :x2=>-1.34637624987362}, {:x1=>2.20975544931194, :x2=>-1.3514990419798}, {:x1=>2.22858267561264, :x2=>-1.36532018096131}, {:x1=>2.22954869703889, :x2=>-1.36597758496961}, {:x1=>2.29381746368563, :x2=>-1.39822182308459}, {:x1=>2.33593082063324, :x2=>-1.40692850554944}, {:x1=>2.41541757251413, :x2=>-1.39634231629902}, {:x1=>2.43731927713761, :x2=>-1.38723999660115}, {:x1=>2.4481093774579, :x2=>-1.38178143535452}, {:x1=>2.46712844510554, :x2=>-1.37060390630048}, {:x1=>2.53383116830657, :x2=>-1.31595109392351}, {:x1=>2.55478448890825, :x2=>-1.29392607118093}, {:x1=>2.55983783556228, :x2=>-1.28827453937359}, {:x1=>2.58556405315696, :x2=>-1.25748652817894}, {:x1=>4.00361923790244, :x2=>1.40200909359003}]>, \"e0e45387-7dc6-486e-baa4-f23cd30991b0\"=>#<Nyaplot::DataFrame:0x000056023cadc778 @name=\"e0e45387-7dc6-486e-baa4-f23cd30991b0\", @rows=[{:data0=>-3.3981146872781, :data1=>-2.258975203900306}, {:data0=>-3.24143836303274, :data1=>-2.154750797143661}, {:data0=>-2.78228072883387, :data1=>-1.8574298158418963}, {:data0=>-2.75039586728225, :data1=>-1.8372179323762496}, {:data0=>-2.74665419119698, :data1=>-1.834849713552428}, {:data0=>-2.46437700511943, :data1=>-1.658382402673091}, {:data0=>-2.44300327979985, :data1=>-1.645196724733577}, {:data0=>-2.41894322460685, :data1=>-1.6303835696290359}, {:data0=>-2.41287142076604, :data1=>-1.626650299715196}, {:data0=>-2.39481386225415, :data1=>-1.615559424263574}, {:data0=>-2.38280139198342, :data1=>-1.6081912702093721}, {:data0=>-2.31818801686942, :data1=>-1.568694371394739}, {:data0=>-2.16238676343318, :data1=>-1.4744015019501957}, {:data0=>-2.06343015184665, :data1=>-1.4152144639132527}, {:data0=>-2.06131151676102, :data1=>-1.4139533277116396}, {:data0=>-2.05456094690978, :data1=>-1.4099366909895452}, {:data0=>-2.02808511689642, :data1=>-1.394208406455943}, {:data0=>-2.02478005966374, :data1=>-1.3922478031601302}, {:data0=>-1.99168009680669, :data1=>-1.3726469503229677}, {:data0=>-1.95240948360055, :data1=>-1.3494737248341149}, {:data0=>-1.93266283710784, :data1=>-1.3378551199673212}, {:data0=>-1.92684345651878, :data1=>-1.3344354136206578}, {:data0=>-1.91615582681068, :data1=>-1.3281600630688046}, {:data0=>-1.89746821394705, :data1=>-1.3172034694739012}, {:data0=>-1.87595523655548, :data1=>-1.3046157023414384}, {:data0=>-1.85103003404998, :data1=>-1.2900654438696721}, {:data0=>-1.82147562227814, :data1=>-1.272860541089859}, {:data0=>-1.81846805333943, :data1=>-1.2711126185562422}, {:data0=>-1.79639460682532, :data1=>-1.2583006356866697}, {:data0=>-1.79263628767266, :data1=>-1.2561221205198374}, {:data0=>-1.75894055773043, :data1=>-1.2366283253276549}, {:data0=>-1.74600030752545, :data1=>-1.2291603172002006}, {:data0=>-1.74514848478333, :data1=>-1.228669074323328}, {:data0=>-1.73222717547199, :data1=>-1.2212228182849671}, {:data0=>-1.72753066025433, :data1=>-1.21851884431922}, {:data0=>-1.72607716317567, :data1=>-1.2176822799762488}, {:data0=>-1.69905321085328, :data1=>-1.2021521202404057}, {:data0=>-1.68588573611679, :data1=>-1.1946012753449333}, {:data0=>-1.68559249536125, :data1=>-1.1944332390931538}, {:data0=>-1.6760512439288, :data1=>-1.1889686983314327}, {:data0=>-1.66331833299248, :data1=>-1.1816849851956366}, {:data0=>-1.64099080690236, :data1=>-1.1689371182758368}, {:data0=>-1.63954388221954, :data1=>-1.1681120718013245}, {:data0=>-1.63687638463821, :data1=>-1.1665913893841342}, {:data0=>-1.62930077955886, :data1=>-1.1622751305489125}, {:data0=>-1.61253408273285, :data1=>-1.1527349858021905}, {:data0=>-1.60537459542058, :data1=>-1.1486666748247105}, {:data0=>-1.60190068259612, :data1=>-1.1466938225539645}, {:data0=>-1.59285733403586, :data1=>-1.141561639648646}, {:data0=>-1.58784335462184, :data1=>-1.138718393106023}, {:data0=>-1.58473606160155, :data1=>-1.1369571601889712}, {:data0=>-1.57883340533868, :data1=>-1.1336131878045124}, {:data0=>-1.578332888866, :data1=>-1.1333297371711315}, {:data0=>-1.57287217036917, :data1=>-1.1302382797577382}, {:data0=>-1.5713482370769, :data1=>-1.1293758798965634}, {:data0=>-1.57038974221478, :data1=>-1.128833539746559}, {:data0=>-1.56780193683268, :data1=>-1.1273695881047117}, {:data0=>-1.56057061201395, :data1=>-1.123281011196145}, {:data0=>-1.54843334635488, :data1=>-1.1164261494020005}, {:data0=>-1.54474292577185, :data1=>-1.114343754621796}, {:data0=>-1.54274085587486, :data1=>-1.1132144122994487}, {:data0=>-1.54244428104005, :data1=>-1.1130471401073032}, {:data0=>-1.52353084414495, :data1=>-1.1023914169289655}, {:data0=>-1.5216215041567, :data1=>-1.1013169896755133}, {:data0=>-1.52051127473287, :data1=>-1.1006923478823243}, {:data0=>-1.50791417827017, :data1=>-1.0936105166078918}, {:data0=>-1.50344174193098, :data1=>-1.0910986837162915}, {:data0=>-1.49759221808154, :data1=>-1.0878154097019173}, {:data0=>-1.47843552009071, :data1=>-1.077078609027655}, {:data0=>-1.44875866348017, :data1=>-1.060493153830627}, {:data0=>-1.43798405958504, :data1=>-1.0544859764603154}, {:data0=>-1.43660565133467, :data1=>-1.053718027146373}, {:data0=>-1.43449235708808, :data1=>-1.0525408979338466}, {:data0=>-1.43392240578399, :data1=>-1.052223479379426}, {:data0=>-1.43279656546996, :data1=>-1.0515965374195164}, {:data0=>-1.42633426655003, :data1=>-1.047999537762598}, {:data0=>-1.41978405497584, :data1=>-1.0443564485460906}, {:data0=>-1.4101044292061, :data1=>-1.0389780996820446}, {:data0=>-1.40784141910864, :data1=>-1.0377215954835104}, {:data0=>-1.39410869529677, :data1=>-1.0301040782719935}, {:data0=>-1.39274944492331, :data1=>-1.029350795279502}, {:data0=>-1.38605930192795, :data1=>-1.0256450024603996}, {:data0=>-1.38242795554537, :data1=>-1.0236347998822604}, {:data0=>-1.38206757676203, :data1=>-1.023435353857097}, {:data0=>-1.38185234671711, :data1=>-1.023316242334639}, {:data0=>-1.36948576380536, :data1=>-1.0164776654445447}, {:data0=>-1.36562610440749, :data1=>-1.0143454456317083}, {:data0=>-1.3476632474814, :data1=>-1.0044354580038084}, {:data0=>-1.34468743796561, :data1=>-1.0027958541476922}, {:data0=>-1.34466697501469, :data1=>-1.0027845816248984}, {:data0=>-1.34107501181131, :data1=>-1.0008063048275606}, {:data0=>-1.33092962540901, :data1=>-0.9952235118017382}, {:data0=>-1.32497000905301, :data1=>-0.9919473642506216}, {:data0=>-1.30926740473336, :data1=>-0.9833270092750724}, {:data0=>-1.30742318641869, :data1=>-0.9823156985091563}, {:data0=>-1.3044821229491, :data1=>-0.9807034014011415}, {:data0=>-1.30037009480981, :data1=>-0.9784501871715079}, {:data0=>-1.28880641018697, :data1=>-0.9721201008500349}, {:data0=>-1.28351140355943, :data1=>-0.9692246740093057}, {:data0=>-1.28262446066118, :data1=>-0.9687398658590972}, {:data0=>-1.25959199141531, :data1=>-0.9561695275785476}, {:data0=>-1.25860558007121, :data1=>-0.9556320121087692}, {:data0=>-1.25219912398198, :data1=>-0.9521426784809859}, {:data0=>-1.2518727882503, :data1=>-0.9519650145203536}, {:data0=>-1.25178261636916, :data1=>-0.9519159244020452}, {:data0=>-1.24897298612489, :data1=>-0.9503866331990883}, {:data0=>-1.24113870792038, :data1=>-0.9461253659104989}, {:data0=>-1.22583770693203, :data1=>-0.9378153445739446}, {:data0=>-1.223657190725, :data1=>-0.936632459247714}, {:data0=>-1.22238835773212, :data1=>-0.9359442998469156}, {:data0=>-1.22124023242649, :data1=>-0.9353217062723956}, {:data0=>-1.2143630187339, :data1=>-0.9315943781490315}, {:data0=>-1.2102738214462, :data1=>-0.9293797138540173}, {:data0=>-1.20326076566618, :data1=>-0.9255843183377306}, {:data0=>-1.20269728961576, :data1=>-0.925279524398968}, {:data0=>-1.18697355549924, :data1=>-0.9167835277589014}, {:data0=>-1.18019353066598, :data1=>-0.9131256027506107}, {:data0=>-1.17823602383391, :data1=>-0.9120701193333399}, {:data0=>-1.17696338353105, :data1=>-0.9113840638563171}, {:data0=>-1.17527958515097, :data1=>-0.910476542133805}, {:data0=>-1.16962475363721, :data1=>-0.9074302517755111}, {:data0=>-1.1670831530402, :data1=>-0.9060618361268374}, {:data0=>-1.15782276906723, :data1=>-0.9010799719467256}, {:data0=>-1.15689917980279, :data1=>-0.9005834471717882}, {:data0=>-1.15049922085798, :data1=>-0.8971445251701585}, {:data0=>-1.15025989645627, :data1=>-0.8970159860859583}, {:data0=>-1.14390391619485, :data1=>-0.8936037839844714}, {:data0=>-1.14184755645662, :data1=>-0.8925004655123688}, {:data0=>-1.13753134314977, :data1=>-0.8901856594416395}, {:data0=>-1.1298101496781, :data1=>-0.8860481762541212}, {:data0=>-1.12753077814882, :data1=>-0.8848275936775445}, {:data0=>-1.12252918049236, :data1=>-0.8821506328026792}, {:data0=>-1.12005019128966, :data1=>-0.8808245130415466}, {:data0=>-1.11793211353066, :data1=>-0.879691822114714}, {:data0=>-1.11344941294751, :data1=>-0.8772956944340554}, {:data0=>-1.11048119852219, :data1=>-0.875709924591376}, {:data0=>-1.10585338637308, :data1=>-0.8732388240808395}, {:data0=>-1.08934882861926, :data1=>-0.8644389671876715}, {:data0=>-1.08615408736869, :data1=>-0.8627379630791736}, {:data0=>-1.0846590098706, :data1=>-0.8619421894421486}, {:data0=>-1.08390707358284, :data1=>-0.8615420255398556}, {:data0=>-1.08078212295347, :data1=>-0.8598794518204783}, {:data0=>-1.07221012845639, :data1=>-0.8553226567696872}, {:data0=>-1.07066055526576, :data1=>-0.8544995099320054}, {:data0=>-1.06886529994076, :data1=>-0.8535460817053288}, {:data0=>-1.06603574243445, :data1=>-0.8520438492750674}, {:data0=>-1.06247340919767, :data1=>-0.850153443685009}, {:data0=>-1.06178278479896, :data1=>-0.8497870648718319}, {:data0=>-1.05908161404456, :data1=>-0.8483544314848388}, {:data0=>-1.05670678628254, :data1=>-0.8470953401365588}, {:data0=>-1.05634804917324, :data1=>-0.8469051813892203}, {:data0=>-1.05285184127483, :data1=>-0.845052430229703}, {:data0=>-1.04326866908213, :data1=>-0.8399787801697391}, {:data0=>-1.04048421519603, :data1=>-0.8385059124973289}, {:data0=>-1.03829268695966, :data1=>-0.8373470965246722}, {:data0=>-1.03699492750379, :data1=>-0.8366610526623534}, {:data0=>-1.03544472933075, :data1=>-0.8358417294288946}, {:data0=>-1.03405175717462, :data1=>-0.8351056616830477}, {:data0=>-1.03059340131488, :data1=>-0.8332788572024296}, {:data0=>-1.01891735700097, :data1=>-0.8271180221109059}, {:data0=>-1.01576247775724, :data1=>-0.8254551607421283}, {:data0=>-1.01273888232178, :data1=>-0.8238622172809967}, {:data0=>-1.01270854376204, :data1=>-0.8238462373704944}, {:data0=>-1.01270396751138, :data1=>-0.8238438269762894}, {:data0=>-1.01022218149972, :data1=>-0.8225368639098107}, {:data0=>-1.00446298328386, :data1=>-0.8195057808815821}, {:data0=>-1.00301624231588, :data1=>-0.8187447609178228}, {:data0=>-0.999358177813823, :data1=>-0.8168212572784588}, {:data0=>-0.992020493271594, :data1=>-0.8129660521638438}, {:data0=>-0.987463707872414, :data1=>-0.8105740372955863}, {:data0=>-0.985707499818655, :data1=>-0.809652575336036}, {:data0=>-0.984625153470843, :data1=>-0.8090848007815606}, {:data0=>-0.979741325681475, :data1=>-0.8065239937399952}, {:data0=>-0.975184765649378, :data1=>-0.8041364717090244}, {:data0=>-0.974297134274254, :data1=>-0.8036715647919894}, {:data0=>-0.971622152558893, :data1=>-0.8022708870058085}, {:data0=>-0.968830618371219, :data1=>-0.8008097791712225}, {:data0=>-0.966899678919881, :data1=>-0.7997994709062084}, {:data0=>-0.961726464251169, :data1=>-0.7970941824319198}, {:data0=>-0.95555306590608, :data1=>-0.7938686183406343}, {:data0=>-0.950015208310051, :data1=>-0.7909776832925971}, {:data0=>-0.937709003959855, :data1=>-0.7845621635252331}, {:data0=>-0.935776877467008, :data1=>-0.7835559928406693}, {:data0=>-0.933266020396416, :data1=>-0.7822488877542959}, {:data0=>-0.92813204232612, :data1=>-0.7795778001231517}, {:data0=>-0.919655654751698, :data1=>-0.7751723456103055}, {:data0=>-0.911775872056706, :data1=>-0.7710821304751135}, {:data0=>-0.905942267007113, :data1=>-0.7680572542440791}, {:data0=>-0.904543496027214, :data1=>-0.7673323623853685}, {:data0=>-0.901113590996759, :data1=>-0.7655555338931841}, {:data0=>-0.90020254931701, :data1=>-0.7650837373137361}, {:data0=>-0.889760275294196, :data1=>-0.7596808424371921}, {:data0=>-0.879887213495618, :data1=>-0.7545805930978596}, {:data0=>-0.87984021853143, :data1=>-0.7545563352803425}, {:data0=>-0.876925206037311, :data1=>-0.7530520183825213}, {:data0=>-0.87459956066088, :data1=>-0.7518523460016229}, {:data0=>-0.871723172909685, :data1=>-0.7503691863089105}, {:data0=>-0.871385745380559, :data1=>-0.75019524189469}, {:data0=>-0.871164133119481, :data1=>-0.7500810054901395}, {:data0=>-0.870613651776601, :data1=>-0.7497972614323193}, {:data0=>-0.868749439385553, :data1=>-0.7488365423312007}, {:data0=>-0.868159808230376, :data1=>-0.748532735926894}, {:data0=>-0.866245399749668, :data1=>-0.7475465364175465}, {:data0=>-0.862561740370868, :data1=>-0.7456497587849973}, {:data0=>-0.861565536828756, :data1=>-0.7451369879637769}, {:data0=>-0.858538324119127, :data1=>-0.7435793055192075}, {:data0=>-0.858058179185896, :data1=>-0.7433323112637119}, {:data0=>-0.85681210937445, :data1=>-0.7426914012814281}, {:data0=>-0.852840705012539, :data1=>-0.7406495800538863}, {:data0=>-0.851727812886144, :data1=>-0.740077640644898}, {:data0=>-0.851069579048463, :data1=>-0.7397394079737073}, {:data0=>-0.84845715474674, :data1=>-0.7383973687119298}, {:data0=>-0.833707924680167, :data1=>-0.7308310506912623}, {:data0=>-0.832840489116991, :data1=>-0.730386618924962}, {:data0=>-0.832116765394915, :data1=>-0.7300158658620869}, {:data0=>-0.826990615755849, :data1=>-0.7273910590320595}, {:data0=>-0.822211749904916, :data1=>-0.7249460435637334}, {:data0=>-0.818698786132094, :data1=>-0.7231499155026703}, {:data0=>-0.815939595111163, :data1=>-0.7217399022464906}, {:data0=>-0.814874138480311, :data1=>-0.7211955982497055}, {:data0=>-0.813661530365351, :data1=>-0.7205762351497974}, {:data0=>-0.805567176929609, :data1=>-0.7164450378426449}, {:data0=>-0.805559982845116, :data1=>-0.7164413685652713}, {:data0=>-0.800714097622145, :data1=>-0.7139707553350781}, {:data0=>-0.8000460910784, :data1=>-0.7136303352692156}, {:data0=>-0.79866757853822, :data1=>-0.7129279556973932}, {:data0=>-0.798371655122706, :data1=>-0.7127771976534608}, {:data0=>-0.797753486349224, :data1=>-0.7124622956203289}, {:data0=>-0.789508475527996, :data1=>-0.7082652715949599}, {:data0=>-0.788100453077547, :data1=>-0.7075491075165967}, {:data0=>-0.787081964695754, :data1=>-0.7070311769160273}, {:data0=>-0.783640778014234, :data1=>-0.7052818829169062}, {:data0=>-0.779151083584451, :data1=>-0.7030010960857628}, {:data0=>-0.770008714472602, :data1=>-0.6983620106777149}, {:data0=>-0.769414085971185, :data1=>-0.6980605259897715}, {:data0=>-0.766038168942061, :data1=>-0.6963494607053242}, {:data0=>-0.761122954463194, :data1=>-0.6938599467178111}, {:data0=>-0.753236570558186, :data1=>-0.6898698705863876}, {:data0=>-0.75246275792813, :data1=>-0.6894786505793365}, {:data0=>-0.7505735424112, :data1=>-0.6885237266684044}, {:data0=>-0.748821815939221, :data1=>-0.6876385713484139}, {:data0=>-0.746808336631886, :data1=>-0.686621476244439}, {:data0=>-0.744838993623329, :data1=>-0.6856270129054053}, {:data0=>-0.741288028925765, :data1=>-0.6838347168127075}, {:data0=>-0.729384335956305, :data1=>-0.6778344283823667}, {:data0=>-0.726376390925981, :data1=>-0.6763201512884123}, {:data0=>-0.725801601036204, :data1=>-0.6760308763172101}, {:data0=>-0.725659077796664, :data1=>-0.675959152956162}, {:data0=>-0.724919093834746, :data1=>-0.6755867918725257}, {:data0=>-0.717748077002708, :data1=>-0.671980783397969}, {:data0=>-0.710391335022408, :data1=>-0.6682860224310012}, {:data0=>-0.696510887785212, :data1=>-0.6613277244636707}, {:data0=>-0.687328966152732, :data1=>-0.6567340760192787}, {:data0=>-0.684320503236326, :data1=>-0.6552305748467117}, {:data0=>-0.682287482526095, :data1=>-0.6542150090590694}, {:data0=>-0.682071993405423, :data1=>-0.6541073859564044}, {:data0=>-0.681229840540173, :data1=>-0.6536868234350527}, {:data0=>-0.676883525448156, :data1=>-0.6515173124383735}, {:data0=>-0.672022377131196, :data1=>-0.6490927929048887}, {:data0=>-0.671401255078378, :data1=>-0.6487831560343787}, {:data0=>-0.669294992879222, :data1=>-0.6477334130289307}, {:data0=>-0.669093401649416, :data1=>-0.6476329622873662}, {:data0=>-0.666250246122503, :data1=>-0.6462166319886099}, {:data0=>-0.66581319711217, :data1=>-0.6459989776658367}, {:data0=>-0.665292938921176, :data1=>-0.6457399065125339}, {:data0=>-0.660659027956712, :data1=>-0.6434334340503365}, {:data0=>-0.659271942952766, :data1=>-0.642743400448306}, {:data0=>-0.653243513995298, :data1=>-0.6397464250470547}, {:data0=>-0.653138807734992, :data1=>-0.6396943999395092}, {:data0=>-0.649350370022625, :data1=>-0.6378127072346045}, {:data0=>-0.647725818652932, :data1=>-0.637006195468591}, {:data0=>-0.643651883301986, :data1=>-0.6349847196129551}, {:data0=>-0.642903213564181, :data1=>-0.6346133931791126}, {:data0=>-0.640970094620218, :data1=>-0.6336548337963628}, {:data0=>-0.63293576556483, :data1=>-0.6296745092648801}, {:data0=>-0.62944300789234, :data1=>-0.6279459542618376}, {:data0=>-0.625477957214024, :data1=>-0.6259849939249046}, {:data0=>-0.622266614474814, :data1=>-0.624397827150465}, {:data0=>-0.620697969999405, :data1=>-0.623622882246108}, {:data0=>-0.619025535306859, :data1=>-0.62279690753518}, {:data0=>-0.618928134590201, :data1=>-0.622748811486575}, {:data0=>-0.616050009409969, :data1=>-0.6213279930965033}, {:data0=>-0.61407083755535, :data1=>-0.6203513879858651}, {:data0=>-0.607493181830977, :data1=>-0.61710825189038}, {:data0=>-0.599446321281907, :data1=>-0.6131460647255719}, {:data0=>-0.598479484846373, :data1=>-0.6126704016116226}, {:data0=>-0.596431826825955, :data1=>-0.6116632785011653}, {:data0=>-0.592966020666477, :data1=>-0.6099595232503126}, {:data0=>-0.59183894278846, :data1=>-0.6094056995818449}, {:data0=>-0.58755652137098, :data1=>-0.6073024620892109}, {:data0=>-0.582694337957738, :data1=>-0.6049165204430431}, {:data0=>-0.58195740240814, :data1=>-0.604555085019954}, {:data0=>-0.578343472692422, :data1=>-0.6027833286687944}, {:data0=>-0.574551351146387, :data1=>-0.6009255032275855}, {:data0=>-0.573013006542912, :data1=>-0.6001722191457126}, {:data0=>-0.563918448086115, :data1=>-0.5957233284255443}, {:data0=>-0.5629711976307, :data1=>-0.5952603902085777}, {:data0=>-0.561638590301836, :data1=>-0.5946092617295252}, {:data0=>-0.561227694666606, :data1=>-0.5944085261708367}, {:data0=>-0.560292190136045, :data1=>-0.593951560818881}, {:data0=>-0.547706194060783, :data1=>-0.5878115789908694}, {:data0=>-0.545068014872166, :data1=>-0.5865264302494706}, {:data0=>-0.544544142495332, :data1=>-0.5862713109727188}, {:data0=>-0.53915858809594, :data1=>-0.583650097676899}, {:data0=>-0.535684067709148, :data1=>-0.5819604447842187}, {:data0=>-0.535212468852646, :data1=>-0.5817311941331591}, {:data0=>-0.533885789225313, :data1=>-0.5810863886531998}, {:data0=>-0.533173097262603, :data1=>-0.5807400673378592}, {:data0=>-0.532477844299684, :data1=>-0.5804022660592371}, {:data0=>-0.526366443662047, :data1=>-0.5774348807634911}, {:data0=>-0.522324919359498, :data1=>-0.5754744482181399}, {:data0=>-0.520362021477778, :data1=>-0.5745228544693898}, {:data0=>-0.519377970251766, :data1=>-0.5740459325126301}, {:data0=>-0.515431887119817, :data1=>-0.5721343736509658}, {:data0=>-0.515305162623947, :data1=>-0.5720730101885764}, {:data0=>-0.515296417578276, :data1=>-0.5720687756544687}, {:data0=>-0.514107202145564, :data1=>-0.5714929998646581}, {:data0=>-0.507130284838457, :data1=>-0.5681177156158151}, {:data0=>-0.504642032331458, :data1=>-0.566915065900318}, {:data0=>-0.504213858208905, :data1=>-0.5667081751916903}, {:data0=>-0.50377520060666, :data1=>-0.5664962369571693}, {:data0=>-0.496216458740131, :data1=>-0.562847084492598}, {:data0=>-0.494006575930999, :data1=>-0.5617812394429698}, {:data0=>-0.492421162052765, :data1=>-0.5610168673001426}, {:data0=>-0.485923340921784, :data1=>-0.5578865895424514}, {:data0=>-0.482923125863969, :data1=>-0.5564426177449839}, {:data0=>-0.475079952072782, :data1=>-0.5526718492413362}, {:data0=>-0.474790562653384, :data1=>-0.5525328320245485}, {:data0=>-0.471049039362977, :data1=>-0.5507361985486058}, {:data0=>-0.469312071395442, :data1=>-0.5499025848879742}, {:data0=>-0.467926682971524, :data1=>-0.5492379108346502}, {:data0=>-0.458669662230532, :data1=>-0.5448013720324232}, {:data0=>-0.456166673649154, :data1=>-0.5436032045125074}, {:data0=>-0.44781604740884, :data1=>-0.5396101877903235}, {:data0=>-0.444985344505225, :data1=>-0.5382581653035932}, {:data0=>-0.444087932032469, :data1=>-0.5378296985488835}, {:data0=>-0.437438225912871, :data1=>-0.5346572571572558}, {:data0=>-0.434043802850953, :data1=>-0.5330395060135181}, {:data0=>-0.428441141446809, :data1=>-0.5303717881782971}, {:data0=>-0.428070207364452, :data1=>-0.5301952754718168}, {:data0=>-0.422970812363187, :data1=>-0.5277700421611381}, {:data0=>-0.422401810212413, :data1=>-0.527499587039587}, {:data0=>-0.419298690621575, :data1=>-0.5260251872208638}, {:data0=>-0.416746112943378, :data1=>-0.5248130774481544}, {:data0=>-0.411622687271468, :data1=>-0.522382114983016}, {:data0=>-0.411389336573664, :data1=>-0.5222714562716532}, {:data0=>-0.409188224495751, :data1=>-0.5212279169071544}, {:data0=>-0.409054315033621, :data1=>-0.5211644463161442}, {:data0=>-0.40702403464937, :data1=>-0.5202023478503948}, {:data0=>-0.402756953825385, :data1=>-0.5181816122487064}, {:data0=>-0.402356214580311, :data1=>-0.5179919289818861}, {:data0=>-0.400322523609662, :data1=>-0.5170295598855074}, {:data0=>-0.39253636653268, :data1=>-0.5133488339713095}, {:data0=>-0.391574348137158, :data1=>-0.5128944792566474}, {:data0=>-0.391436057524543, :data1=>-0.5128291730987669}, {:data0=>-0.389912772117767, :data1=>-0.5121099447024872}, {:data0=>-0.388261831993419, :data1=>-0.511330703716907}, {:data0=>-0.379073926652577, :data1=>-0.506998983833964}, {:data0=>-0.366949516150594, :data1=>-0.5012957231682491}, {:data0=>-0.363483181405865, :data1=>-0.49966788443648297}, {:data0=>-0.354230391779687, :data1=>-0.4953285626283227}, {:data0=>-0.349125893853536, :data1=>-0.4929383768327959}, {:data0=>-0.347070993926231, :data1=>-0.491976911157702}, {:data0=>-0.343568673487374, :data1=>-0.4903391974467536}, {:data0=>-0.342518699821288, :data1=>-0.48984846316673675}, {:data0=>-0.338610342299159, :data1=>-0.4880227663209153}, {:data0=>-0.336847232500548, :data1=>-0.48719967858963026}, {:data0=>-0.33658981717047, :data1=>-0.48707953358500927}, {:data0=>-0.336253272986194, :data1=>-0.4869224664482223}, {:data0=>-0.336143671377512, :data1=>-0.4868713172212457}, {:data0=>-0.332977450249869, :data1=>-0.48539422225030404}, {:data0=>-0.328870086008463, :data1=>-0.4834795883108144}, {:data0=>-0.32875479511251, :data1=>-0.4834258706443927}, {:data0=>-0.327033226042344, :data1=>-0.48262389847897275}, {:data0=>-0.323611806871256, :data1=>-0.48103096924526806}, {:data0=>-0.320520486282739, :data1=>-0.47959275399712786}, {:data0=>-0.320188291337589, :data1=>-0.47943826075924056}, {:data0=>-0.317049177149477, :data1=>-0.47797891672317827}, {:data0=>-0.314080823480593, :data1=>-0.4765998859793748}, {:data0=>-0.3137237387091, :data1=>-0.4764340532416761}, {:data0=>-0.313390702635387, :data1=>-0.47627940067837954}, {:data0=>-0.31335044359323, :data1=>-0.4762607062849798}, {:data0=>-0.312845249353749, :data1=>-0.4760261321290226}, {:data0=>-0.311799594710708, :data1=>-0.47554069206284133}, {:data0=>-0.311075883208893, :data1=>-0.47520477824445667}, {:data0=>-0.310369653578588, :data1=>-0.47487703055597563}, {:data0=>-0.309056007571354, :data1=>-0.47426752879358924}, {:data0=>-0.305078838117966, :data1=>-0.472423294522981}, {:data0=>-0.301783959522212, :data1=>-0.47089667511974165}, {:data0=>-0.299861089195746, :data1=>-0.4700062666529108}, {:data0=>-0.295786241951792, :data1=>-0.4681206200543082}, {:data0=>-0.293591474903443, :data1=>-0.4671056964060369}, {:data0=>-0.283406008455633, :data1=>-0.4624021707853385}, {:data0=>-0.280458282181662, :data1=>-0.4610429547771561}, {:data0=>-0.280112125937134, :data1=>-0.4608833991167078}, {:data0=>-0.279062980827444, :data1=>-0.4603998871504965}, {:data0=>-0.278202880001715, :data1=>-0.4600035840977774}, {:data0=>-0.271185093929721, :data1=>-0.45677292434658595}, {:data0=>-0.270813101601285, :data1=>-0.4566018198718434}, {:data0=>-0.266112416429895, :data1=>-0.4544409018865608}, {:data0=>-0.265816666330551, :data1=>-0.4543050219956985}, {:data0=>-0.265127420996855, :data1=>-0.4539883895539939}, {:data0=>-0.264594349380138, :data1=>-0.4537435358588682}, {:data0=>-0.263374129109546, :data1=>-0.4531831688574084}, {:data0=>-0.262566538721817, :data1=>-0.4528123814063429}, {:data0=>-0.256802697546764, :data1=>-0.4501680254453231}, {:data0=>-0.249786522450207, :data1=>-0.44695382856642707}, {:data0=>-0.248479795773367, :data1=>-0.44635577318359365}, {:data0=>-0.247471907532496, :data1=>-0.4458946114345749}, {:data0=>-0.246196198409786, :data1=>-0.4453110611603851}, {:data0=>-0.245624919667702, :data1=>-0.4450497955862069}, {:data0=>-0.243205467453226, :data1=>-0.4439436780538426}, {:data0=>-0.235280472587677, :data1=>-0.44032488658400254}, {:data0=>-0.234119658770718, :data1=>-0.4397953823201731}, {:data0=>-0.229685747022615, :data1=>-0.4377741727497189}, {:data0=>-0.229608600117401, :data1=>-0.4377390236147806}, {:data0=>-0.227675622855516, :data1=>-0.4368585404108806}, {:data0=>-0.226808316079972, :data1=>-0.4364636058378189}, {:data0=>-0.225875153573648, :data1=>-0.43603877270711644}, {:data0=>-0.224916589140709, :data1=>-0.43560247151072023}, {:data0=>-0.224544626458553, :data1=>-0.4354331949188529}, {:data0=>-0.222628443906641, :data1=>-0.4345613923187729}, {:data0=>-0.217175681028503, :data1=>-0.43208269857722126}, {:data0=>-0.210202393123692, :data1=>-0.42891743800391746}, {:data0=>-0.208187279564394, :data1=>-0.4280037224642864}, {:data0=>-0.205050610499075, :data1=>-0.426582324640488}, {:data0=>-0.203034183062263, :data1=>-0.4256691275687357}, {:data0=>-0.194646353816972, :data1=>-0.42187514894955414}, {:data0=>-0.187958551411437, :data1=>-0.4188555577432612}, {:data0=>-0.185956479141383, :data1=>-0.41795254720471997}, {:data0=>-0.183094409508895, :data1=>-0.41666239828976925}, {:data0=>-0.17865164688533, :data1=>-0.4146614705690889}, {:data0=>-0.173092596244604, :data1=>-0.4121608068733967}, {:data0=>-0.171511854738142, :data1=>-0.4114503450749781}, {:data0=>-0.171413206484732, :data1=>-0.41140601678448346}, {:data0=>-0.171072764947716, :data1=>-0.41125304510615385}, {:data0=>-0.170227440080235, :data1=>-0.41087326715111555}, {:data0=>-0.16298205814679, :data1=>-0.40762133853236476}, {:data0=>-0.161107372573302, :data1=>-0.40678086052632073}, {:data0=>-0.160408272932724, :data1=>-0.40646753141899317}, {:data0=>-0.160320709701722, :data1=>-0.4064282902648817}, {:data0=>-0.157037923165941, :data1=>-0.40495772614452225}, {:data0=>-0.154367287317548, :data1=>-0.40376225267094473}, {:data0=>-0.151378564483091, :data1=>-0.40242531893466277}, {:data0=>-0.148217261969321, :data1=>-0.40101225266220775}, {:data0=>-0.143283159054754, :data1=>-0.3988089600027197}, {:data0=>-0.141810644449318, :data1=>-0.39815193701438895}, {:data0=>-0.131083746183296, :data1=>-0.3933729086203686}, {:data0=>-0.126885273019926, :data1=>-0.39150587701649964}, {:data0=>-0.12380922647393101, :data1=>-0.39013922094744913}, {:data0=>-0.12134281033082502, :data1=>-0.38904417615864356}, {:data0=>-0.11856730379167602, :data1=>-0.3878127091821562}, {:data0=>-0.11360919459779302, :data1=>-0.3856149749558206}, {:data0=>-0.11270734447738101, :data1=>-0.38521551480028693}, {:data0=>-0.10968842593972601, :data1=>-0.3838789931388439}, {:data0=>-0.10618636655217302, :data1=>-0.3823298527711638}, {:data0=>-0.10543850782977401, :data1=>-0.38199921417954896}, {:data0=>-0.10188501872400801, :data1=>-0.3804290232115869}, {:data0=>-0.08949664223341011, :data1=>-0.3749660104394247}, {:data0=>-0.08534714496157991, :data1=>-0.373140029230896}, {:data0=>-0.08364605179104831, :data1=>-0.3723920264260351}, {:data0=>-0.07268006491136231, :data1=>-0.36757792544915685}, {:data0=>-0.07170382285201242, :data1=>-0.3671500124263346}, {:data0=>-0.07023584198148831, :data1=>-0.3665067606727584}, {:data0=>-0.06956692225893502, :data1=>-0.3662137291338563}, {:data0=>-0.06817931694281551, :data1=>-0.3656060273153964}, {:data0=>-0.06228131557737191, :data1=>-0.3630254399803957}, {:data0=>-0.060658252152477915, :data1=>-0.3623159862404863}, {:data0=>-0.056344831381058516, :data1=>-0.3604320160312235}, {:data0=>-0.05118153976178121, :data1=>-0.35817964205747793}, {:data0=>-0.050107955838658916, :data1=>-0.3577116972291966}, {:data0=>-0.04899744169097522, :data1=>-0.35722779439376845}, {:data0=>-0.04378286446436661, :data1=>-0.35495744960236886}, {:data0=>-0.043079819032684916, :data1=>-0.3546515933076368}, {:data0=>-0.042200864795403914, :data1=>-0.35426928861907614}, {:data0=>-0.03898483351321221, :data1=>-0.3528712193941987}, {:data0=>-0.037246227385947614, :data1=>-0.35211590989664115}, {:data0=>-0.036097034900883215, :data1=>-0.35161685264540327}, {:data0=>-0.03361470013432631, :data1=>-0.3505393737813028}, {:data0=>-0.027633818771435812, :data1=>-0.34794623920019274}, {:data0=>-0.02706295422659941, :data1=>-0.34769894502565196}, {:data0=>-0.02616532162200291, :data1=>-0.3473101735971682}, {:data0=>-0.02443315541670701, :data1=>-0.34656022277377996}, {:data0=>-0.022781178302944412, :data1=>-0.3458453136875216}, {:data0=>-0.01850492199768671, :data1=>-0.3439961905642121}, {:data0=>-0.01660499929154351, :data1=>-0.34317531326064266}, {:data0=>-0.01155945599876171, :data1=>-0.34099737951967796}, {:data0=>-0.011001992949430911, :data1=>-0.34075692939835633}, {:data0=>-0.008790302375713741, :data1=>-0.3398033189496986}, {:data0=>-0.006724512420237191, :data1=>-0.33891313074589546}, {:data0=>-0.0041331941447965105, :data1=>-0.3377971857924228}, {:data0=>-0.0031853463454001607, :data1=>-0.3373891931074485}, {:data0=>-0.002786975899510861, :data1=>-0.33721774937963317}, {:data0=>0.0015995903391472692, :data1=>-0.33533116146753045}, {:data0=>0.0020839441429080893, :data1=>-0.33512298699726367}, {:data0=>0.0035491648257322092, :data1=>-0.3344934046721108}, {:data0=>0.01286691290378319, :data1=>-0.33049560188846283}, {:data0=>0.01390596764498429, :data1=>-0.33005042449006144}, {:data0=>0.015468607364503789, :data1=>-0.32938115893930914}, {:data0=>0.015568336922730389, :data1=>-0.3293384553519302}, {:data0=>0.01867954284575919, :data1=>-0.32800684389171103}, {:data0=>0.01903011460817649, :data1=>-0.3278568689061163}, {:data0=>0.02318105229718419, :data1=>-0.3260821945398269}, {:data0=>0.02389187256543009, :data1=>-0.32577849728281444}, {:data0=>0.02393664205659589, :data1=>-0.3257593715585861}, {:data0=>0.02664114627785009, :data1=>-0.32460443449581905}, {:data0=>0.02802916815979319, :data1=>-0.32401202640652477}, {:data0=>0.02829041703970579, :data1=>-0.32390055079245056}, {:data0=>0.03188891360787509, :data1=>-0.3223658841854538}, {:data0=>0.032346204498590485, :data1=>-0.32217097113146975}, {:data0=>0.03312537771232529, :data1=>-0.32183891786974356}, {:data0=>0.042288912509131985, :data1=>-0.3179391815549649}, {:data0=>0.05307515691007009, :data1=>-0.3133616693115615}, {:data0=>0.053581459814747386, :data1=>-0.3131471434624476}, {:data0=>0.05791808120746168, :data1=>-0.3113109272970356}, {:data0=>0.06342951345490339, :data1=>-0.3089805217346795}, {:data0=>0.06430229595709158, :data1=>-0.30861181620061473}, {:data0=>0.06448023768831458, :data1=>-0.30853665623099386}, {:data0=>0.06574898710999529, :data1=>-0.30800086534651205}, {:data0=>0.06808927731969179, :data1=>-0.3070130718688273}, {:data0=>0.06979984304371868, :data1=>-0.30629149009426276}, {:data0=>0.07643007760776518, :data1=>-0.30349793415803245}, {:data0=>0.07662902608775299, :data1=>-0.30341419191579755}, {:data0=>0.08154846535327959, :data1=>-0.30134500082011995}, {:data0=>0.08341226752584288, :data1=>-0.3005618212855975}, {:data0=>0.08624050300929148, :data1=>-0.2993741848161208}, {:data0=>0.08745728302050938, :data1=>-0.29886353099993684}, {:data0=>0.08794441978354399, :data1=>-0.2986591415148103}, {:data0=>0.09172573192448859, :data1=>-0.29707358351786306}, {:data0=>0.09309122232906579, :data1=>-0.29650144052114796}, {:data0=>0.09370542855454708, :data1=>-0.2962441608416622}, {:data0=>0.09643302956910549, :data1=>-0.29510217304509323}, {:data0=>0.10383857603657198, :data1=>-0.2920061983184403}, {:data0=>0.10485946349129599, :data1=>-0.29157992893179185}, {:data0=>0.10530701696361999, :data1=>-0.2913930940484031}, {:data0=>0.10790552419591298, :data1=>-0.2903088092387277}, {:data0=>0.11552247844935498, :data1=>-0.2871352254940789}, {:data0=>0.11998496020131899, :data1=>-0.2852792481940042}, {:data0=>0.12297213871246299, :data1=>-0.28403822659079575}, {:data0=>0.12415914380860499, :data1=>-0.2835453906831176}, {:data0=>0.12547219356888, :data1=>-0.2830004239583116}, {:data0=>0.130055075121876, :data1=>-0.28110001427985803}, {:data0=>0.13106623957489, :data1=>-0.2806810577062407}, {:data0=>0.131507198281504, :data1=>-0.28049839444796104}, {:data0=>0.134816978826142, :data1=>-0.2791281135941956}, {:data0=>0.137693177575568, :data1=>-0.27793843942164537}, {:data0=>0.141656627136342, :data1=>-0.276300726519227}, {:data0=>0.143653376783667, :data1=>-0.27547639922208045}, {:data0=>0.14596601652866, :data1=>-0.27452227985669253}, {:data0=>0.147064838841114, :data1=>-0.27406917451603235}, {:data0=>0.147243865713291, :data1=>-0.273995366024528}, {:data0=>0.149188908207603, :data1=>-0.27319372833164274}, {:data0=>0.149918368971034, :data1=>-0.2728932067046331}, {:data0=>0.15028051457699, :data1=>-0.27274403534802627}, {:data0=>0.152544816580514, :data1=>-0.27181171700517076}, {:data0=>0.154782798537718, :data1=>-0.27089086323177297}, {:data0=>0.154927962180126, :data1=>-0.27083115486383696}, {:data0=>0.15782150324277, :data1=>-0.269641538581726}, {:data0=>0.158276372973414, :data1=>-0.2694546238262335}, {:data0=>0.158706713337068, :data1=>-0.2692778124368954}, {:data0=>0.162608014469204, :data1=>-0.26767596342306693}, {:data0=>0.164170675172433, :data1=>-0.26703487872978726}, {:data0=>0.164609483384043, :data1=>-0.2668549117194331}, {:data0=>0.166755146939759, :data1=>-0.2659752646727251}, {:data0=>0.16717428055588, :data1=>-0.2658035018558904}, {:data0=>0.171511272625703, :data1=>-0.26402747610255517}, {:data0=>0.180761152631637, :data1=>-0.2602474838419914}, {:data0=>0.183585068431298, :data1=>-0.25909562782497375}, {:data0=>0.184595556515303, :data1=>-0.2586837009278851}, {:data0=>0.185189715533797, :data1=>-0.25844155131628044}, {:data0=>0.186992273729755, :data1=>-0.2577071911085719}, {:data0=>0.189770602500236, :data1=>-0.25657610698683825}, {:data0=>0.190571554235928, :data1=>-0.2562502131238387}, {:data0=>0.193227950196224, :data1=>-0.2551699510994712}, {:data0=>0.193619690821234, :data1=>-0.2550107196675531}, {:data0=>0.196725647111122, :data1=>-0.25374892496593615}, {:data0=>0.198209884855488, :data1=>-0.25314638533080497}, {:data0=>0.199197921818207, :data1=>-0.25274543783886316}, {:data0=>0.199609258756792, :data1=>-0.2525785529735323}, {:data0=>0.201150298964862, :data1=>-0.2519535235161085}, {:data0=>0.2061882825849, :data1=>-0.24991227780379185}, {:data0=>0.209591684867205, :data1=>-0.248535145844393}, {:data0=>0.210039280124289, :data1=>-0.24835414346771018}, {:data0=>0.218744786284715, :data1=>-0.24483882331533477}, {:data0=>0.218974069785221, :data1=>-0.24474636860915847}, {:data0=>0.221161101793482, :data1=>-0.24386482311009802}, {:data0=>0.223903046510874, :data1=>-0.24276047001658219}, {:data0=>0.22453511696354, :data1=>-0.24250603232555398}, {:data0=>0.232208203087911, :data1=>-0.23942135067305653}, {:data0=>0.232237979853281, :data1=>-0.23940939476491468}, {:data0=>0.235826411513608, :data1=>-0.23796941064066596}, {:data0=>0.237547201578196, :data1=>-0.23727947184934603}, {:data0=>0.242598666760845, :data1=>-0.23525632922957831}, {:data0=>0.245512343675818, :data1=>-0.23409088317736618}, {:data0=>0.245548193795642, :data1=>-0.23407655027233304}, {:data0=>0.247291114273765, :data1=>-0.2333799299852111}, {:data0=>0.247464185857745, :data1=>-0.23331077722447907}, {:data0=>0.253661778154697, :data1=>-0.23083701600267673}, {:data0=>0.254301075050253, :data1=>-0.23058212497379774}, {:data0=>0.257356892073632, :data1=>-0.22936448814740684}, {:data0=>0.25742392995292, :data1=>-0.22933778948925446}, {:data0=>0.261560409497314, :data1=>-0.22769151690704703}, {:data0=>0.261958636106744, :data1=>-0.22753314472478778}, {:data0=>0.263204375403506, :data1=>-0.22703785557253606}, {:data0=>0.267535080429962, :data1=>-0.22531760023257572}, {:data0=>0.269480989312223, :data1=>-0.2245454377740317}, {:data0=>0.270015138458985, :data1=>-0.22433356684976577}, {:data0=>0.273336725557229, :data1=>-0.22301689253928086}, {:data0=>0.27507466627589, :data1=>-0.22232854966013538}, {:data0=>0.278990792598668, :data1=>-0.22077894751368515}, {:data0=>0.279781168381648, :data1=>-0.22046644155407344}, {:data0=>0.282935442935838, :data1=>-0.21922009254765776}, {:data0=>0.298428970710594, :data1=>-0.2131171478564028}, {:data0=>0.299283424514727, :data1=>-0.21278149787667908}, {:data0=>0.307155243949206, :data1=>-0.20969380620118047}, {:data0=>0.307481571633655, :data1=>-0.2095659827404032}, {:data0=>0.311014557197241, :data1=>-0.2081830078174449}, {:data0=>0.312130665896733, :data1=>-0.20774645571541386}, {:data0=>0.31479700433521, :data1=>-0.20670422121632917}, {:data0=>0.317299201472052, :data1=>-0.20572700815944578}, {:data0=>0.318256368058549, :data1=>-0.20535341501510757}, {:data0=>0.319139946942259, :data1=>-0.20500865242211108}, {:data0=>0.320222674519537, :data1=>-0.2045863262174612}, {:data0=>0.323980723320162, :data1=>-0.2031216845834072}, {:data0=>0.324003707704342, :data1=>-0.2031127325777207}, {:data0=>0.325156963720992, :data1=>-0.2026636506858095}, {:data0=>0.327274277342056, :data1=>-0.20183962442057665}, {:data0=>0.328825765733764, :data1=>-0.2012361895613004}, {:data0=>0.332363461536592, :data1=>-0.1998614462616345}, {:data0=>0.337372065405519, :data1=>-0.19791798093511348}, {:data0=>0.338217877397228, :data1=>-0.19759011693716827}, {:data0=>0.339289986389707, :data1=>-0.19717467113007864}, {:data0=>0.343819072524216, :data1=>-0.19542134173714393}, {:data0=>0.346679651888987, :data1=>-0.19431535926485563}, {:data0=>0.34812807019239, :data1=>-0.19375577983311165}, {:data0=>0.352027704353753, :data1=>-0.19225060976768746}, {:data0=>0.352125315518246, :data1=>-0.1922129604379005}, {:data0=>0.35291314688522, :data1=>-0.19190913535732212}, {:data0=>0.353153953659034, :data1=>-0.19181628561009653}, {:data0=>0.355961000592089, :data1=>-0.19073452936253513}, {:data0=>0.356734600081257, :data1=>-0.19043659354495673}, {:data0=>0.360316842226229, :data1=>-0.18905802430604968}, {:data0=>0.362153688755312, :data1=>-0.18835181790066544}, {:data0=>0.366761437790593, :data1=>-0.18658230785526472}, {:data0=>0.369053789389437, :data1=>-0.18570305321656402}, {:data0=>0.369998141759616, :data1=>-0.18534104531899223}, {:data0=>0.370813880114483, :data1=>-0.18502843805895358}, {:data0=>0.373207109138967, :data1=>-0.18411182801271828}, {:data0=>0.375134169649266, :data1=>-0.18337432874323759}, {:data0=>0.377045309708407, :data1=>-0.18264342284978508}, {:data0=>0.384088650911029, :data1=>-0.17995404224908898}, {:data0=>0.385993414974513, :data1=>-0.17922790674392916}, {:data0=>0.389023902830851, :data1=>-0.17807364721366314}, {:data0=>0.391052879775278, :data1=>-0.1773015499104176}, {:data0=>0.39112465605861, :data1=>-0.17727424685531393}, {:data0=>0.391317997161117, :data1=>-0.17720070515259304}, {:data0=>0.391519659783754, :data1=>-0.17712400364097497}, {:data0=>0.392381090004259, :data1=>-0.17679642527090186}, {:data0=>0.394252040934996, :data1=>-0.17608530509348722}, {:data0=>0.40480365719956, :data1=>-0.17208381972418782}, {:data0=>0.405315230631946, :data1=>-0.17189020627109808}, {:data0=>0.406347385301933, :data1=>-0.17149968028601656}, {:data0=>0.409147386300882, :data1=>-0.17044101375979034}, {:data0=>0.409536103825432, :data1=>-0.1702941273154389}, {:data0=>0.409787164031512, :data1=>-0.17019926917732997}, {:data0=>0.410759999261888, :data1=>-0.1698317850137674}, {:data0=>0.411630885764122, :data1=>-0.169502922688448}, {:data0=>0.427862635178292, :data1=>-0.1633927896992675}, {:data0=>0.437790434542508, :data1=>-0.15967374871347018}, {:data0=>0.441438782969288, :data1=>-0.1583105093405743}, {:data0=>0.443048941148769, :data1=>-0.1577094521217064}, {:data0=>0.45121480332383, :data1=>-0.15466681575235638}, {:data0=>0.454580707301828, :data1=>-0.1534153950507198}, {:data0=>0.456106775436547, :data1=>-0.15284853908062465}, {:data0=>0.458800364221884, :data1=>-0.1518488107810454}, {:data0=>0.460501642646094, :data1=>-0.15121790728678886}, {:data0=>0.460737171899681, :data1=>-0.15113059564451603}, {:data0=>0.462672597175344, :data1=>-0.150413422635306}, {:data0=>0.467130322652669, :data1=>-0.1487636255458231}, {:data0=>0.468439018678729, :data1=>-0.148279813569493}, {:data0=>0.473548411230318, :data1=>-0.1463932469997588}, {:data0=>0.476156155495695, :data1=>-0.145431805297869}, {:data0=>0.476524219444331, :data1=>-0.14529618271029035}, {:data0=>0.476841413842359, :data1=>-0.14517931976690637}, {:data0=>0.478710861710361, :data1=>-0.14449085568343015}, {:data0=>0.480270569892867, :data1=>-0.14391684048291054}, {:data0=>0.48034633052893, :data1=>-0.14388896732210138}, {:data0=>0.48198897535616, :data1=>-0.14328482151761168}, {:data0=>0.484500307682907, :data1=>-0.14236192599256842}, {:data0=>0.485904881582157, :data1=>-0.1418461480745325}, {:data0=>0.486387533844186, :data1=>-0.14166897685463517}, {:data0=>0.490144302570341, :data1=>-0.1402910857159465}, {:data0=>0.490518478545237, :data1=>-0.14015395756136645}, {:data0=>0.494853630453956, :data1=>-0.1385666701436257}, {:data0=>0.495359746616502, :data1=>-0.13838153446785356}, {:data0=>0.503158885021477, :data1=>-0.13553328021233618}, {:data0=>0.508807632802442, :data1=>-0.1334758095487131}, {:data0=>0.512638107205935, :data1=>-0.13208323255482868}, {:data0=>0.522838596299388, :data1=>-0.12838515900462752}, {:data0=>0.522853354696734, :data1=>-0.12837981942009435}, {:data0=>0.523173990425688, :data1=>-0.12826382128386213}, {:data0=>0.528767734288264, :data1=>-0.1262425410268768}, {:data0=>0.530624875861533, :data1=>-0.12557247368568486}, {:data0=>0.533045784724277, :data1=>-0.1246997486488891}, {:data0=>0.533329168016874, :data1=>-0.12459764618399076}, {:data0=>0.537593820439681, :data1=>-0.12306251193929722}, {:data0=>0.537835881195387, :data1=>-0.12297545751510028}, {:data0=>0.53973442019715, :data1=>-0.12229296564408235}, {:data0=>0.542854124148691, :data1=>-0.12117262833624626}, {:data0=>0.544428109954268, :data1=>-0.12060792347270789}, {:data0=>0.548587548855042, :data1=>-0.11911736930890236}, {:data0=>0.551419933167821, :data1=>-0.11810382080318309}, {:data0=>0.553336509104557, :data1=>-0.11741865478207099}, {:data0=>0.55456285469225, :data1=>-0.11698052523259886}, {:data0=>0.555719300877075, :data1=>-0.11656757046018744}, {:data0=>0.557304804992725, :data1=>-0.11600172280694558}, {:data0=>0.559087049581291, :data1=>-0.11536610176769171}, {:data0=>0.559449695638371, :data1=>-0.11523682458135341}, {:data0=>0.562350689724099, :data1=>-0.11420336564174557}, {:data0=>0.568191804954756, :data1=>-0.11212626952834846}, {:data0=>0.569885053334458, :data1=>-0.11152509252490053}, {:data0=>0.570285393877958, :data1=>-0.1113830160528505}, {:data0=>0.571468300153782, :data1=>-0.11096335390050234}, {:data0=>0.573486451496367, :data1=>-0.11024784746233471}, {:data0=>0.582973547753161, :data1=>-0.10689241366100376}, {:data0=>0.583495673190984, :data1=>-0.10670813371965257}, {:data0=>0.588206133736308, :data1=>-0.10504744581145105}, {:data0=>0.588500997348738, :data1=>-0.10494360042036117}, {:data0=>0.589661978635607, :data1=>-0.10453485050822732}, {:data0=>0.604756459404705, :data1=>-0.09923879079684618}, {:data0=>0.604821720129785, :data1=>-0.09921596730699693}, {:data0=>0.612005325445762, :data1=>-0.0967075638282134}, {:data0=>0.61677805920363, :data1=>-0.09504528328522915}, {:data0=>0.618234381615282, :data1=>-0.09453874754660879}, {:data0=>0.618932970027798, :data1=>-0.09429587896134332}, {:data0=>0.624878771587208, :data1=>-0.09223176139324663}, {:data0=>0.6267329962508, :data1=>-0.09158914830045485}, {:data0=>0.631493836965451, :data1=>-0.08994157795704093}, {:data0=>0.635689055012328, :data1=>-0.08849259450588845}, {:data0=>0.640645625048912, :data1=>-0.08678408754998339}, {:data0=>0.642833390176047, :data1=>-0.08603116182276178}, {:data0=>0.648309408296137, :data1=>-0.08414976640800077}, {:data0=>0.657161787282355, :data1=>-0.08111802388285615}, {:data0=>0.661490734116082, :data1=>-0.07963981669078832}, {:data0=>0.663723821858843, :data1=>-0.0788784054617018}, {:data0=>0.666451022423378, :data1=>-0.07794955481418869}, {:data0=>0.667939422078893, :data1=>-0.07744310586219573}, {:data0=>0.66962750303054, :data1=>-0.07686912433697007}, {:data0=>0.673972413149389, :data1=>-0.07539378247574183}, {:data0=>0.675095289199367, :data1=>-0.0750129752033519}, {:data0=>0.675798942406125, :data1=>-0.07477444030991984}, {:data0=>0.678178168314312, :data1=>-0.07396845988796252}, {:data0=>0.685424939567792, :data1=>-0.07151894482971088}, {:data0=>0.693566943457208, :data1=>-0.06877651857589434}, {:data0=>0.695071570723599, :data1=>-0.06827084837692235}, {:data0=>0.695374322803767, :data1=>-0.06816914292179271}, {:data0=>0.701386144714074, :data1=>-0.06615250247468821}, {:data0=>0.706076009167437, :data1=>-0.06458321243538045}, {:data0=>0.715591236135249, :data1=>-0.06140983852521072}, {:data0=>0.719489125154314, :data1=>-0.060113962724005224}, {:data0=>0.720478945161872, :data1=>-0.059785270410615515}, {:data0=>0.727200284959872, :data1=>-0.05755736362360943}, {:data0=>0.728700140294656, :data1=>-0.05706117893361033}, {:data0=>0.734709941345881, :data1=>-0.055076559131866994}, {:data0=>0.741894361956883, :data1=>-0.052711520763447685}, {:data0=>0.757267464276804, :data1=>-0.04767830666659134}, {:data0=>0.758324611417864, :data1=>-0.04733357198405493}, {:data0=>0.763855738118808, :data1=>-0.04553277926606018}, {:data0=>0.766086642996568, :data1=>-0.04480783480572584}, {:data0=>0.768298609143567, :data1=>-0.04408982927961644}, {:data0=>0.777385764677347, :data1=>-0.041148346231583366}, {:data0=>0.780594354050455, :data1=>-0.04011289792666141}, {:data0=>0.789866366093706, :data1=>-0.0371300145412477}, {:data0=>0.799166274268067, :data1=>-0.03415207779443861}, {:data0=>0.801783431110031, :data1=>-0.033316555136958546}, {:data0=>0.802678379165077, :data1=>-0.03303109903807868}, {:data0=>0.805412098949335, :data1=>-0.03215994495716382}, {:data0=>0.806044766409179, :data1=>-0.03195850557995584}, {:data0=>0.806821034415841, :data1=>-0.03171143294783136}, {:data0=>0.808395536227905, :data1=>-0.031210596705658882}, {:data0=>0.808847386200452, :data1=>-0.03106694122574131}, {:data0=>0.820814699911518, :data1=>-0.02727429171324813}, {:data0=>0.831106785420668, :data1=>-0.024031238465005912}, {:data0=>0.837209849731494, :data1=>-0.022116345088034717}, {:data0=>0.840107976732534, :data1=>-0.021209171901145827}, {:data0=>0.841099772041175, :data1=>-0.020899036711110867}, {:data0=>0.841635793330555, :data1=>-0.020731489769295532}, {:data0=>0.842719176423406, :data1=>-0.020392995448774688}, {:data0=>0.84509314788464, :data1=>-0.019651942732757634}, {:data0=>0.855343931171754, :data1=>-0.016462755754789723}, {:data0=>0.855415777801745, :data1=>-0.016440464341968622}, {:data0=>0.859735594280785, :data1=>-0.015101751250613252}, {:data0=>0.86109158341167, :data1=>-0.014682166944897067}, {:data0=>0.861141104334521, :data1=>-0.014666849432379022}, {:data0=>0.861288904888508, :data1=>-0.014621135075847495}, {:data0=>0.862043476049697, :data1=>-0.014387804474215737}, {:data0=>0.86243894354895, :data1=>-0.014265554619387619}, {:data0=>0.863276369152568, :data1=>-0.014006769015639067}, {:data0=>0.869337726457126, :data1=>-0.012137128284661888}, {:data0=>0.870493550826759, :data1=>-0.011781304603924072}, {:data0=>0.870511859243736, :data1=>-0.01177567009597352}, {:data0=>0.872886813004646, :data1=>-0.011045239067680734}, {:data0=>0.872922672288585, :data1=>-0.011034217530090698}, {:data0=>0.87574262962748, :data1=>-0.010168159817141026}, {:data0=>0.88443252234496, :data1=>-0.007507687705414358}, {:data0=>0.884807334549036, :data1=>-0.00739322018763898}, {:data0=>0.888260051733337, :data1=>-0.006339867585869827}, {:data0=>0.888667935935967, :data1=>-0.006215562414011264}, {:data0=>0.889726778566741, :data1=>-0.0058930038663717954}, {:data0=>0.892994931966277, :data1=>-0.0048986017264855625}, {:data0=>0.898620879445226, :data1=>-0.003190993607909138}, {:data0=>0.906641542418809, :data1=>-0.0007657420083370602}, {:data0=>0.914217343342167, :data1=>0.0015150253923137162}, {:data0=>0.91503507041176, :data1=>0.0017606296348579723}, {:data0=>0.91873561945382, :data1=>0.00287067325406125}, {:data0=>0.919181255626825, :data1=>0.003004192954343779}, {:data0=>0.92932016360036, :data1=>0.006032860826826155}, {:data0=>0.934882766215896, :data1=>0.007687076453208527}, {:data0=>0.940274799104203, :data1=>0.009285528970326697}, {:data0=>0.940377789706629, :data1=>0.009316011889146736}, {:data0=>0.940821390334558, :data1=>0.009447287041159448}, {:data0=>0.954998440275247, :data1=>0.013624960081220125}, {:data0=>0.957619170654099, :data1=>0.014393453970641673}, {:data0=>0.958972603485922, :data1=>0.014789867081707646}, {:data0=>0.961934002388464, :data1=>0.01565614418365207}, {:data0=>0.966989660946386, :data1=>0.01713154519907706}, {:data0=>0.968576837231326, :data1=>0.01759382313072389}, {:data0=>0.970325837662626, :data1=>0.018102729328330965}, {:data0=>0.971197062040308, :data1=>0.018356031844082882}, {:data0=>0.976662518174147, :data1=>0.01994207762872125}, {:data0=>0.979025381613392, :data1=>0.020626164726871735}, {:data0=>0.984583006055129, :data1=>0.022231365147023032}, {:data0=>0.986416434902515, :data1=>0.022759733764236817}, {:data0=>0.993158538485935, :data1=>0.024697679059177767}, {:data0=>0.998550331192179, :data1=>0.02624178444374089}, {:data0=>1.00929218674972, :data1=>0.029302880847054468}, {:data0=>1.01688278503758, :data1=>0.031453753632484954}, {:data0=>1.02058065736001, :data1=>0.03249790918260415}, {:data0=>1.02128112320658, :data1=>0.03269542574949014}, {:data0=>1.02201523068131, :data1=>0.03290233565115092}, {:data0=>1.02635361081199, :data1=>0.034123175641797336}, {:data0=>1.02982583177317, :data1=>0.035097877901463195}, {:data0=>1.03041187463042, :data1=>0.03526217814654157}, {:data0=>1.04056577700923, :data1=>0.03809921406542473}, {:data0=>1.0460286144824, :data1=>0.039617973476485956}, {:data0=>1.04761500919606, :data1=>0.04005802217542769}, {:data0=>1.0490700458587, :data1=>0.04046123926015661}, {:data0=>1.05097665995162, :data1=>0.040989025198042234}, {:data0=>1.0522307832933, :data1=>0.04133583603278054}, {:data0=>1.05299873218742, :data1=>0.04154806330268935}, {:data0=>1.05911842620556, :data1=>0.04323551123307422}, {:data0=>1.06020030942049, :data1=>0.04353313347302156}, {:data0=>1.06525062856924, :data1=>0.04491968409634644}, {:data0=>1.06798923883094, :data1=>0.0456696486773351}, {:data0=>1.07178369198938, :data1=>0.0467065278873826}, {:data0=>1.08679757000586, :data1=>0.050783815195325155}, {:data0=>1.08908327782019, :data1=>0.051400969226924886}, {:data0=>1.08927256112999, :data1=>0.051452034390495976}, {:data0=>1.09085637620414, :data1=>0.05187906433577084}, {:data0=>1.09369228702228, :data1=>0.05264255003783927}, {:data0=>1.10352872679474, :data1=>0.055279407825659946}, {:data0=>1.10476373298103, :data1=>0.055609233012914455}, {:data0=>1.11069738626287, :data1=>0.05719001946411262}, {:data0=>1.11241725179765, :data1=>0.057647008493900496}, {:data0=>1.11472796826754, :data1=>0.05826014297687145}, {:data0=>1.11669954822818, :data1=>0.05878251783286662}, {:data0=>1.11771808412111, :data1=>0.05905210276581152}, {:data0=>1.11789800554911, :data1=>0.059099704433303465}, {:data0=>1.12146078752558, :data1=>0.06004108574301946}, {:data0=>1.12564439755638, :data1=>0.061143535637112396}, {:data0=>1.13222941405494, :data1=>0.06287228369915876}, {:data0=>1.13349717412651, :data1=>0.06320418999987545}, {:data0=>1.13689899470942, :data1=>0.06409334159558691}, {:data0=>1.13796693404056, :data1=>0.06437203450785099}, {:data0=>1.14760076408894, :data1=>0.06687659050449303}, {:data0=>1.15059296136198, :data1=>0.06765099291677076}, {:data0=>1.15135851520194, :data1=>0.0678488572820625}, {:data0=>1.15610149087907, :data1=>0.0690722992753816}, {:data0=>1.15741278037254, :data1=>0.06940980705230046}, {:data0=>1.16288128628142, :data1=>0.07081387807007791}, {:data0=>1.16584877134719, :data1=>0.07157346713555322}, {:data0=>1.16737671655547, :data1=>0.07196393609853659}, {:data0=>1.17372597281786, :data1=>0.07358183155610223}, {:data0=>1.17462734781574, :data1=>0.07381090619478058}, {:data0=>1.17570720885821, :data1=>0.07408514101894459}, {:data0=>1.19714851425439, :data1=>0.0794849454994179}, {:data0=>1.21549884848738, :data1=>0.08403746706589782}, {:data0=>1.2212553228477, :data1=>0.08545242707443906}, {:data0=>1.22145935299099, :data1=>0.0855024626648649}, {:data0=>1.23180022552925, :data1=>0.08802802608746388}, {:data0=>1.23207507429042, :data1=>0.08809487424088268}, {:data0=>1.23405183136007, :data1=>0.08857523156585334}, {:data0=>1.23988358576727, :data1=>0.0899880060967693}, {:data0=>1.24811593275074, :data1=>0.09197123569979307}, {:data0=>1.24831981080815, :data1=>0.09202018612673815}, {:data0=>1.25185704136781, :data1=>0.09286819009007279}, {:data0=>1.25679510638461, :data1=>0.0940479949433762}, {:data0=>1.27010671305639, :data1=>0.09720495081240094}, {:data0=>1.27157917838824, :data1=>0.09755205056705574}, {:data0=>1.27522601416151, :data1=>0.09840989655611854}, {:data0=>1.27992017650992, :data1=>0.0995103016602983}, {:data0=>1.28266362660331, :data1=>0.10015143594956509}, {:data0=>1.28316030568451, :data1=>0.10026735132826123}, {:data0=>1.28460699465172, :data1=>0.10060470687102911}, {:data0=>1.29086902389257, :data1=>0.10206025047793371}, {:data0=>1.29312695530799, :data1=>0.10258320449191383}, {:data0=>1.29385580921725, :data1=>0.10275179973924743}, {:data0=>1.29595497552062, :data1=>0.10323678878545552}, {:data0=>1.30432217145358, :data1=>0.10516135697424055}, {:data0=>1.31323312831809, :data1=>0.10719587751221703}, {:data0=>1.31340263073575, :data1=>0.10723442626975091}, {:data0=>1.31535397753244, :data1=>0.10767779965752139}, {:data0=>1.33104440403094, :data1=>0.11121554440179984}, {:data0=>1.33401882545558, :data1=>0.11188069428777071}, {:data0=>1.3357156706487, :data1=>0.1122593614945035}, {:data0=>1.34376527132601, :data1=>0.11404790591466911}, {:data0=>1.34563863845065, :data1=>0.11446229919052305}, {:data0=>1.35341626929589, :data1=>0.11617523908794926}, {:data0=>1.35813533599853, :data1=>0.1172086674955706}, {:data0=>1.36004954837404, :data1=>0.11762658922947829}, {:data0=>1.36362963851986, :data1=>0.11840624246405318}, {:data0=>1.38676802626227, :data1=>0.12338298742676977}, {:data0=>1.38834518654614, :data1=>0.12371827633619605}, {:data0=>1.41559998133012, :data1=>0.12943251831872948}, {:data0=>1.42086760719593, :data1=>0.13051944508345673}, {:data0=>1.47314069739435, :data1=>0.14099534105119155}, {:data0=>1.4787786530282, :data1=>0.14209129576430507}, {:data0=>1.479487433837, :data1=>0.14222860387412464}, {:data0=>1.48470649516327, :data1=>0.1432364203846645}, {:data0=>1.49876281003037, :data1=>0.14592226876590025}, {:data0=>1.50135887260799, :data1=>0.14641376398312092}, {:data0=>1.50200659221554, :data1=>0.14653617059906254}, {:data0=>1.50221452941502, :data1=>0.14657544796025743}, {:data0=>1.53056563811058, :data1=>0.15184488155363896}, {:data0=>1.53311071972502, :data1=>0.15230955290654036}, {:data0=>1.538889238654, :data1=>0.15335943282454573}, {:data0=>1.56315627577264, :data1=>0.15769020283250038}, {:data0=>1.56568398121471, :data1=>0.1581340095524669}, {:data0=>1.5681360865691, :data1=>0.1585632227014936}, {:data0=>1.56828563156699, :data1=>0.1585893567706983}, {:data0=>1.57101850607846, :data1=>0.15906609377869477}, {:data0=>1.57288917666403, :data1=>0.15939149081165868}, {:data0=>1.5770009003266, :data1=>0.16010404512392457}, {:data0=>1.57834509639167, :data1=>0.16033619614720884}, {:data0=>1.58222996949711, :data1=>0.16100493127899188}, {:data0=>1.59319310580178, :data1=>0.16287438958168404}, {:data0=>1.59437698627738, :data1=>0.1630746993522152}, {:data0=>1.59861636639514, :data1=>0.16378948036727428}, {:data0=>1.6146684019257, :data1=>0.16646025473667175}, {:data0=>1.62535931452273, :data1=>0.16820759738193153}, {:data0=>1.62676579062867, :data1=>0.16843559734468302}, {:data0=>1.62706383886592, :data1=>0.16848385699187352}, {:data0=>1.64154781380694, :data1=>0.17080538515251242}, {:data0=>1.64545260481398, :data1=>0.17142328835111229}, {:data0=>1.6717109134088, :data1=>0.17549011932891118}, {:data0=>1.67206208853332, :data1=>0.1755434624725771}, {:data0=>1.69248319848469, :data1=>0.17859765387779733}, {:data0=>1.69487304016232, :data1=>0.17894892578277793}, {:data0=>1.70707462274657, :data1=>0.18072219860613248}, {:data0=>1.71299895374161, :data1=>0.18157098734645258}, {:data0=>1.72979754378087, :data1=>0.18393419382808562}, {:data0=>1.74632485635441, :data1=>0.1861960970588442}, {:data0=>1.76586549998084, :data1=>0.18878909967230248}, {:data0=>1.78774209221338, :data1=>0.19158684305396734}, {:data0=>1.79648199435893, :data1=>0.1926733053005834}, {:data0=>1.81890054985215, :data1=>0.19537804974974968}, {:data0=>1.82322658753899, :data1=>0.19588631760593433}, {:data0=>1.82466672720304, :data1=>0.19605453664627223}, {:data0=>1.83478740008597, :data1=>0.19722282311685063}, {:data0=>1.84923004287468, :data1=>0.19884779554139137}, {:data0=>1.87076161385461, :data1=>0.20117767086561322}, {:data0=>1.87595459526038, :data1=>0.2017229035466063}, {:data0=>1.87814298981425, :data1=>0.20195072343242937}, {:data0=>1.89707947190189, :data1=>0.20387367308245363}, {:data0=>1.91622594445508, :data1=>0.2057292993422254}, {:data0=>1.91857134220915, :data1=>0.20595045220240615}, {:data0=>1.98127798628633, :data1=>0.2113600796794986}, {:data0=>2.01318819678915, :data1=>0.21373636829322917}, {:data0=>2.01849667671943, :data1=>0.2141067547791386}, {:data0=>2.06996692796903, :data1=>0.21732553843059052}, {:data0=>2.08251783409956, :data1=>0.218007220997544}, {:data0=>2.10219977808019, :data1=>0.2189939506139874}, {:data0=>2.1082551055825, :data1=>0.21927723031792318}, {:data0=>2.13645259370496, :data1=>0.2204698094465738}, {:data0=>2.17322816255948, :data1=>0.22170959278652044}, {:data0=>2.20336817701636, :data1=>0.22245643656310482}, {:data0=>2.20975544931194, :data1=>0.22258330563281575}, {:data0=>2.22858267561264, :data1=>0.22289297734072078}, {:data0=>2.22954869703889, :data1=>0.22290626953326995}, {:data0=>2.29381746368563, :data1=>0.22321580790111573}, {:data0=>2.33593082063324, :data1=>0.22279709694620875}, {:data0=>2.41541757251413, :data1=>0.22063818320899597}, {:data0=>2.43731927713761, :data1=>0.21972393002766258}, {:data0=>2.4481093774579, :data1=>0.21922215688391744}, {:data0=>2.46712844510554, :data1=>0.21825470651732598}, {:data0=>2.53383116830657, :data1=>0.21401580577626236}, {:data0=>2.55478448890825, :data1=>0.2124093890165897}, {:data0=>2.55983783556228, :data1=>0.2120021046198376}, {:data0=>2.58556405315696, :data1=>0.20980831283139129}, {:data0=>4.00361923790244, :data1=>-0.2736187635099465}]>}, :extension=>[]}>"
      ]
     },
     "metadata": {},
     "output_type": "display_data"
    },
    {
     "data": {
      "text/plain": [
       "#<CZTop::Socket::PUB:0x5602340e3da0 last_endpoint=\"tcp://127.0.0.1:43201\">"
      ]
     },
     "execution_count": 167,
     "metadata": {},
     "output_type": "execute_result"
    }
   ],
   "source": [
    "def test_f472d4()\n",
    "  degree = answer_452fd8()\n",
    "  data = read_sparse_data_from_csv \"polydata-1000\"\n",
    "  polydata = z_normalize create_polynomial_features(data, degree)\n",
    "   \n",
    "  w = Hash.new {|h,k| h[k] = 0.0}\n",
    "  lr = 1e-1\n",
    "  obj = LinearRegressionModelL2.new 0.0\n",
    "  sgd = StochasticGradientDescent.new obj, w, lr\n",
    "\n",
    "  train_set = polydata\n",
    "  test_set = polydata\n",
    "  train_rmse, test_rmse = train(sgd, obj, w, train_set, test_set, num_epoch = 100, batch_size = 10)\n",
    "  \n",
    "  puts \"Weights:\", w\n",
    "  polydata[\"data\"] = polydata[\"data\"].sort_by {|r| r[\"features\"][\"x1\"]}  \n",
    "  x1 = polydata[\"data\"].collect {|r| r[\"features\"][\"x1\"]}\n",
    "  x2 = polydata[\"data\"].collect {|r| r[\"label\"]}\n",
    "  yhat = polydata[\"data\"].collect.with_index {|x1, i| obj.predict(x1, w)}\n",
    "  \n",
    "  z_plot = Daru::DataFrame.new({x1: x1, x2: x2})\n",
    "  .plot(type: :scatter, x: :x1, y: :x2) do |plot, diagram|\n",
    "    plot.x_label \"X1\"\n",
    "    plot.y_label \"Label\"\n",
    "    plot.legend false\n",
    "  end\n",
    "\n",
    "  z_plot.add(:line, x1, yhat).color(:black)\n",
    "  z_plot.show()  \n",
    "end\n",
    "\n",
    "test_f472d4()"
   ]
  },
  {
   "cell_type": "code",
   "execution_count": 168,
   "metadata": {
    "deletable": false,
    "editable": false,
    "nbgrader": {
     "cell_type": "code",
     "checksum": "03ff3a8b4e89314ee80e3e0ebbb9b49c",
     "grade": true,
     "grade_id": "cell-a6fa85464f66be18",
     "locked": true,
     "points": 2,
     "schema_version": 3,
     "solution": false,
     "task": false
    }
   },
   "outputs": [
    {
     "data": {
      "text/html": [
       "<div id='vis-dafe9b71-a2c1-4316-90ef-fc86f58c5de7'></div>\n",
       "<script>\n",
       "(function(){\n",
       "    var render = function(){\n",
       "        var model = {\"panes\":[{\"diagrams\":[{\"type\":\"line\",\"options\":{\"x\":\"data0\",\"y\":\"data1\",\"color\":\"black\"},\"data\":\"71a2fce2-397c-4e2e-b24b-0c7e9e1d4175\"}],\"options\":{\"x_label\":\"Polynomial degree\",\"y_label\":\"Train RMSE\",\"zoom\":true,\"width\":700,\"xrange\":[0,11],\"yrange\":[0.5801734344071452,0.600069873658112]}}],\"data\":{\"71a2fce2-397c-4e2e-b24b-0c7e9e1d4175\":[{\"data0\":0,\"data1\":0.600069873658112},{\"data0\":1,\"data1\":0.600069873658112},{\"data0\":2,\"data1\":0.5861209251805638},{\"data0\":3,\"data1\":0.5824621891598809},{\"data0\":4,\"data1\":0.5819455396102464},{\"data0\":5,\"data1\":0.5801734344071452},{\"data0\":6,\"data1\":0.5804396086600726},{\"data0\":7,\"data1\":0.5803752511631228},{\"data0\":8,\"data1\":0.5804239960745889},{\"data0\":9,\"data1\":0.5804324647882203},{\"data0\":10,\"data1\":0.580423453836222},{\"data0\":11,\"data1\":0.5804217551232491}]},\"extension\":[]}\n",
       "        var id_name = '#vis-dafe9b71-a2c1-4316-90ef-fc86f58c5de7';\n",
       "        Nyaplot.core.parse(model, id_name);\n",
       "\n",
       "        require(['downloadable'], function(downloadable){\n",
       "          var svg = d3.select(id_name).select(\"svg\");\n",
       "\t  if(!svg.empty())\n",
       "\t    svg.call(downloadable().filename('fig'));\n",
       "\t});\n",
       "    };\n",
       "    if(window['Nyaplot']==undefined){\n",
       "        window.addEventListener('load_nyaplot', render, false);\n",
       "\treturn;\n",
       "    } else {\n",
       "       render();\n",
       "    }\n",
       "})();\n",
       "</script>\n"
      ],
      "text/plain": [
       "#<Nyaplot::Frame:0x0000560234fd11c8 @properties={:panes=>[#<Nyaplot::Plot:0x0000560234fd3338 @properties={:diagrams=>[#<Nyaplot::Diagram:0x0000560234fd1880 @properties={:type=>:line, :options=>{:x=>\"data0\", :y=>\"data1\", :color=>:black}, :data=>\"71a2fce2-397c-4e2e-b24b-0c7e9e1d4175\"}, @xrange=[0, 11], @yrange=[0.5801734344071452, 0.600069873658112]>], :options=>{:x_label=>\"Polynomial degree\", :y_label=>\"Train RMSE\", :zoom=>true, :width=>700, :xrange=>[0, 11], :yrange=>[0.5801734344071452, 0.600069873658112]}}>], :data=>{\"71a2fce2-397c-4e2e-b24b-0c7e9e1d4175\"=>#<Nyaplot::DataFrame:0x0000560234fd2938 @name=\"71a2fce2-397c-4e2e-b24b-0c7e9e1d4175\", @rows=[{:data0=>0, :data1=>0.600069873658112}, {:data0=>1, :data1=>0.600069873658112}, {:data0=>2, :data1=>0.5861209251805638}, {:data0=>3, :data1=>0.5824621891598809}, {:data0=>4, :data1=>0.5819455396102464}, {:data0=>5, :data1=>0.5801734344071452}, {:data0=>6, :data1=>0.5804396086600726}, {:data0=>7, :data1=>0.5803752511631228}, {:data0=>8, :data1=>0.5804239960745889}, {:data0=>9, :data1=>0.5804324647882203}, {:data0=>10, :data1=>0.580423453836222}, {:data0=>11, :data1=>0.5804217551232491}]>}, :extension=>[]}>"
      ]
     },
     "metadata": {},
     "output_type": "display_data"
    },
    {
     "data": {
      "text/plain": [
       "#<CZTop::Socket::PUB:0x5602340e3da0 last_endpoint=\"tcp://127.0.0.1:43201\">"
      ]
     },
     "execution_count": 168,
     "metadata": {},
     "output_type": "execute_result"
    }
   ],
   "source": [
    "def test_a6fa85()\n",
    "  stats = Hash.new {|h,k| h[k] = []}\n",
    "  \n",
    "  12.times do |i|\n",
    "    data = read_sparse_data_from_csv \"polydata-1000\"\n",
    "    polydata = z_normalize(create_polynomial_features(data, i))\n",
    "    obj = LinearRegressionModelL2.new 0.0\n",
    "    \n",
    "    w = Hash.new {|h,k| h[k] = 0.0}\n",
    "    lr = 1e-1\n",
    "    obj = LinearRegressionModelL2.new 0.0\n",
    "    sgd = StochasticGradientDescent.new obj, w, lr\n",
    "\n",
    "    tr_rmse, te_rmse = train(sgd, obj, w, polydata, polydata, num_epoch = 100, batch_size = 10)\n",
    "    w_norm = norm(w)\n",
    "    \n",
    "    stats[:degree] << i\n",
    "    stats[:train_rmse] << tr_rmse    \n",
    "    stats[:test_rmse] << te_rmse\n",
    "    stats[:complexity] << w_norm\n",
    "  end\n",
    "  tr_rmse = stats[:train_rmse]\n",
    "  z_plot = Nyaplot::Plot.new\n",
    "  z_plot.x_label(\"Polynomial degree\").y_label(\"Train RMSE\")\n",
    "  z_plot.add(:line, stats[:degree], stats[:train_rmse]).color(:black)\n",
    "  z_plot.show()  \n",
    "end\n",
    "test_a6fa85()"
   ]
  },
  {
   "cell_type": "markdown",
   "metadata": {},
   "source": [
    "## Question 3.4 (5 points)\n",
    "\n",
    "In cross validation, we simulate having real test dataset but taking several samples of the data. Cross validation proceeds in $k$ folds deterministically where for 100 examples and 5 folds, we have in the first round, the first 20 examples in test set and the rest in training. For the second rounds, we have examples 20-39 for testing and the remainder for training.\n",
    "\n",
    "Implement this with a callback ```block``` as follows:\n",
    "\n",
    "```ruby\n",
    "def cross_validate dataset, folds, &block\n",
    "  examples = data[\"data\"]\n",
    "\n",
    "  folds.times do |fold|\n",
    "    train_data = dataset.clone\n",
    "    train_data[\"data\"] = ##CV training examples\n",
    "    \n",
    "    test_data = data.clone\n",
    "    test_data[\"data\"] = ##CV testing examples\n",
    "    \n",
    "    ## Call the callback like this:\n",
    "    yield train_data, test_data, fold\n",
    "  end\n",
    "end\n",
    "```\n",
    "\n",
    "**Note**: Do not shuffle the data. Preserve the order. Also, make a copy of the dataset so as not to overwrite any datasets or examples. "
   ]
  },
  {
   "cell_type": "code",
   "execution_count": 169,
   "metadata": {
    "deletable": false,
    "nbgrader": {
     "cell_type": "code",
     "checksum": "eaa09b5f2bc933ef8f5ea94d39f5be24",
     "grade": false,
     "grade_id": "cell-25df27a722903dc3",
     "locked": false,
     "schema_version": 3,
     "solution": true
    }
   },
   "outputs": [
    {
     "data": {
      "text/plain": [
       ":cross_validate"
      ]
     },
     "execution_count": 169,
     "metadata": {},
     "output_type": "execute_result"
    }
   ],
   "source": [
    "def cross_validate dataset, folds, &block\n",
    "  examples = dataset[\"data\"]\n",
    "  # BEGIN YOUR CODE\n",
    "  batch = examples.length/folds\n",
    "  folds.times do |fold|\n",
    "\n",
    "\n",
    "      test_data = dataset.clone\n",
    "      test_data[\"data\"] = test_data[\"data\"][fold*batch,batch]  ##CV training examples\n",
    "\n",
    "      train_data = dataset.clone\n",
    "      train_data[\"data\"] = train_data[\"data\"] - test_data[\"data\"]  ##CV testing examples\n",
    "\n",
    "    ## Call the callback like this:\n",
    "    yield train_data, test_data, fold\n",
    "  end\n",
    "  \n",
    "  \n",
    "  #END YOUR CODE\n",
    "end"
   ]
  },
  {
   "cell_type": "code",
   "execution_count": 170,
   "metadata": {
    "deletable": false,
    "editable": false,
    "nbgrader": {
     "cell_type": "code",
     "checksum": "f86bb52a9b9257038d9765beda5d964d",
     "grade": true,
     "grade_id": "cell-99aa74875f14c1f1",
     "locked": true,
     "points": 5,
     "schema_version": 3,
     "solution": false
    }
   },
   "outputs": [
    {
     "name": "stdout",
     "output_type": "stream",
     "text": [
      "Fold: 0:\n",
      "Train Data\n",
      "{\"data\"=>[{\"features\"=>{\"x2\"=>1}}, {\"features\"=>{\"x3\"=>1}}, {\"features\"=>{\"x4\"=>1}}, {\"features\"=>{\"x5\"=>1}}]}\n",
      "Test Data:\n",
      "{\"data\"=>[{\"features\"=>{\"x1\"=>1}}]}\n",
      "\n",
      "Fold: 1:\n",
      "Train Data\n",
      "{\"data\"=>[{\"features\"=>{\"x1\"=>1}}, {\"features\"=>{\"x3\"=>1}}, {\"features\"=>{\"x4\"=>1}}, {\"features\"=>{\"x5\"=>1}}]}\n",
      "Test Data:\n",
      "{\"data\"=>[{\"features\"=>{\"x2\"=>1}}]}\n",
      "\n",
      "Fold: 2:\n",
      "Train Data\n",
      "{\"data\"=>[{\"features\"=>{\"x1\"=>1}}, {\"features\"=>{\"x2\"=>1}}, {\"features\"=>{\"x4\"=>1}}, {\"features\"=>{\"x5\"=>1}}]}\n",
      "Test Data:\n",
      "{\"data\"=>[{\"features\"=>{\"x3\"=>1}}]}\n",
      "\n",
      "Fold: 3:\n",
      "Train Data\n",
      "{\"data\"=>[{\"features\"=>{\"x1\"=>1}}, {\"features\"=>{\"x2\"=>1}}, {\"features\"=>{\"x3\"=>1}}, {\"features\"=>{\"x5\"=>1}}]}\n",
      "Test Data:\n",
      "{\"data\"=>[{\"features\"=>{\"x4\"=>1}}]}\n",
      "\n",
      "Fold: 4:\n",
      "Train Data\n",
      "{\"data\"=>[{\"features\"=>{\"x1\"=>1}}, {\"features\"=>{\"x2\"=>1}}, {\"features\"=>{\"x3\"=>1}}, {\"features\"=>{\"x4\"=>1}}]}\n",
      "Test Data:\n",
      "{\"data\"=>[{\"features\"=>{\"x5\"=>1}}]}\n",
      "\n"
     ]
    }
   ],
   "source": [
    "def test_45()\n",
    "  examples = [\n",
    "    {\"features\" => {\"x1\" => 1}},\n",
    "    {\"features\" => {\"x2\" => 1}},\n",
    "    {\"features\" => {\"x3\" => 1}},\n",
    "    {\"features\" => {\"x4\" => 1}},    \n",
    "    {\"features\" => {\"x5\" => 1}},    \n",
    "  ]\n",
    "  dataset = {\"data\" => examples}\n",
    "  \n",
    "  train_sets = []\n",
    "  test_sets = []\n",
    "  folds = []\n",
    "  \n",
    "  cross_validate dataset, 5 do |train_data, test_data, fold|\n",
    "    puts \"Fold: #{fold}:\", \"Train Data\", train_data, \"Test Data:\", test_data\n",
    "    train_sets << train_data\n",
    "    test_sets << test_data\n",
    "    folds << fold\n",
    "    puts \"\"\n",
    "  end\n",
    "\n",
    "  assert_equal [0,1,2,3,4], folds\n",
    "  assert_true(test_sets[0][\"data\"][0][\"features\"].has_key? \"x1\")\n",
    "  assert_equal 4, train_sets[0][\"data\"].size\n",
    "\n",
    "  assert_true(test_sets[3][\"data\"][0][\"features\"].has_key? \"x4\")\n",
    "  assert_equal 4, train_sets[3][\"data\"].size\n",
    "  assert_true(train_sets[3][\"data\"][0][\"features\"].has_key? \"x1\")\n",
    "\n",
    "  \n",
    "end\n",
    "test_45()"
   ]
  },
  {
   "cell_type": "markdown",
   "metadata": {
    "deletable": false,
    "editable": false,
    "nbgrader": {
     "cell_type": "markdown",
     "checksum": "a235a0a5e11fb9adc45a725bb5ccabb7",
     "grade": false,
     "grade_id": "cell-42f9d2745af53726",
     "locked": true,
     "schema_version": 3,
     "solution": false,
     "task": false
    }
   },
   "source": [
    "## Question 3.5 (6 points)\n",
    "\n",
    "Let's run 5-fold cross-validation to find the best polynomial degree. If we do this right we should see some difference between the train and test RMSE as we change the degree. Is your choice for the best degree different now?"
   ]
  },
  {
   "cell_type": "code",
   "execution_count": 171,
   "metadata": {
    "deletable": false,
    "editable": false,
    "nbgrader": {
     "cell_type": "code",
     "checksum": "4c31dcaf81f6062d35e46e397129ee84",
     "grade": true,
     "grade_id": "cell-00647296c19993e7",
     "locked": true,
     "points": 11,
     "schema_version": 3,
     "solution": false,
     "task": false
    }
   },
   "outputs": [
    {
     "name": "stdout",
     "output_type": "stream",
     "text": [
      "[2020-11-18 04:18:32 +0000] Degree: 1\n",
      "[2020-11-18 04:18:32 +0000] Degree: 2\n",
      "[2020-11-18 04:18:32 +0000] Degree: 3\n",
      "[2020-11-18 04:18:32 +0000] Degree: 4\n",
      "[2020-11-18 04:18:33 +0000] Degree: 5\n",
      "[2020-11-18 04:18:33 +0000] Degree: 6\n",
      "[2020-11-18 04:18:34 +0000] Degree: 7\n",
      "[2020-11-18 04:18:34 +0000] Degree: 8\n",
      "[2020-11-18 04:18:35 +0000] Degree: 9\n",
      "[2020-11-18 04:18:36 +0000] Degree: 10\n"
     ]
    },
    {
     "data": {
      "text/html": [
       "<div id='vis-2222fd0a-7b57-45b7-b2c0-873bb2fc514a'></div>\n",
       "<script>\n",
       "(function(){\n",
       "    var render = function(){\n",
       "        var model = {\"panes\":[{\"diagrams\":[{\"type\":\"line\",\"options\":{\"x\":\"data0\",\"y\":\"data1\",\"color\":\"black\"},\"data\":\"160f2578-2063-4a06-8aec-7f8a4afe233c\"},{\"type\":\"line\",\"options\":{\"x\":\"data0\",\"y\":\"data1\",\"color\":\"red\"},\"data\":\"cf400b2c-0091-4935-a5e0-77747523d588\"}],\"options\":{\"x_label\":\"Polynomial degree\",\"y_label\":\"Test RMSE\",\"zoom\":true,\"width\":700,\"xrange\":[1,10],\"yrange\":[0.5394012998320631,0.6087515212402084]}}],\"data\":{\"160f2578-2063-4a06-8aec-7f8a4afe233c\":[{\"data0\":1,\"data1\":0.549305705009345},{\"data0\":2,\"data1\":0.5412365815588528},{\"data0\":3,\"data1\":0.5424129342927783},{\"data0\":4,\"data1\":0.539862398886614},{\"data0\":5,\"data1\":0.5401510984183187},{\"data0\":6,\"data1\":0.5395253487579404},{\"data0\":7,\"data1\":0.5395617031081175},{\"data0\":8,\"data1\":0.5394118696245821},{\"data0\":9,\"data1\":0.5394365137667919},{\"data0\":10,\"data1\":0.5394012998320631}],\"cf400b2c-0091-4935-a5e0-77747523d588\":[{\"data0\":1,\"data1\":0.5911067203654995},{\"data0\":2,\"data1\":0.5991399866619697},{\"data0\":3,\"data1\":0.5933549171200062},{\"data0\":4,\"data1\":0.6039071957673123},{\"data0\":5,\"data1\":0.6011880134340273},{\"data0\":6,\"data1\":0.607334729507612},{\"data0\":7,\"data1\":0.6055427156416335},{\"data0\":8,\"data1\":0.6086551440409339},{\"data0\":9,\"data1\":0.6071879963345127},{\"data0\":10,\"data1\":0.6087515212402084}]},\"extension\":[]}\n",
       "        var id_name = '#vis-2222fd0a-7b57-45b7-b2c0-873bb2fc514a';\n",
       "        Nyaplot.core.parse(model, id_name);\n",
       "\n",
       "        require(['downloadable'], function(downloadable){\n",
       "          var svg = d3.select(id_name).select(\"svg\");\n",
       "\t  if(!svg.empty())\n",
       "\t    svg.call(downloadable().filename('fig'));\n",
       "\t});\n",
       "    };\n",
       "    if(window['Nyaplot']==undefined){\n",
       "        window.addEventListener('load_nyaplot', render, false);\n",
       "\treturn;\n",
       "    } else {\n",
       "       render();\n",
       "    }\n",
       "})();\n",
       "</script>\n"
      ],
      "text/plain": [
       "#<Nyaplot::Frame:0x000056023cb36700 @properties={:panes=>[#<Nyaplot::Plot:0x000056023cb39478 @properties={:diagrams=>[#<Nyaplot::Diagram:0x000056023cb38320 @properties={:type=>:line, :options=>{:x=>\"data0\", :y=>\"data1\", :color=>:black}, :data=>\"160f2578-2063-4a06-8aec-7f8a4afe233c\"}, @xrange=[1, 10], @yrange=[0.5394012998320631, 0.549305705009345]>, #<Nyaplot::Diagram:0x000056023cb36d68 @properties={:type=>:line, :options=>{:x=>\"data0\", :y=>\"data1\", :color=>:red}, :data=>\"cf400b2c-0091-4935-a5e0-77747523d588\"}, @xrange=[1, 10], @yrange=[0.5911067203654995, 0.6087515212402084]>], :options=>{:x_label=>\"Polynomial degree\", :y_label=>\"Test RMSE\", :zoom=>true, :width=>700, :xrange=>[1, 10], :yrange=>[0.5394012998320631, 0.6087515212402084]}}>], :data=>{\"160f2578-2063-4a06-8aec-7f8a4afe233c\"=>#<Nyaplot::DataFrame:0x000056023cb38f00 @name=\"160f2578-2063-4a06-8aec-7f8a4afe233c\", @rows=[{:data0=>1, :data1=>0.549305705009345}, {:data0=>2, :data1=>0.5412365815588528}, {:data0=>3, :data1=>0.5424129342927783}, {:data0=>4, :data1=>0.539862398886614}, {:data0=>5, :data1=>0.5401510984183187}, {:data0=>6, :data1=>0.5395253487579404}, {:data0=>7, :data1=>0.5395617031081175}, {:data0=>8, :data1=>0.5394118696245821}, {:data0=>9, :data1=>0.5394365137667919}, {:data0=>10, :data1=>0.5394012998320631}]>, \"cf400b2c-0091-4935-a5e0-77747523d588\"=>#<Nyaplot::DataFrame:0x000056023cb37a88 @name=\"cf400b2c-0091-4935-a5e0-77747523d588\", @rows=[{:data0=>1, :data1=>0.5911067203654995}, {:data0=>2, :data1=>0.5991399866619697}, {:data0=>3, :data1=>0.5933549171200062}, {:data0=>4, :data1=>0.6039071957673123}, {:data0=>5, :data1=>0.6011880134340273}, {:data0=>6, :data1=>0.607334729507612}, {:data0=>7, :data1=>0.6055427156416335}, {:data0=>8, :data1=>0.6086551440409339}, {:data0=>9, :data1=>0.6071879963345127}, {:data0=>10, :data1=>0.6087515212402084}]>}, :extension=>[]}>"
      ]
     },
     "metadata": {},
     "output_type": "display_data"
    },
    {
     "data": {
      "text/plain": [
       "#<CZTop::Socket::PUB:0x5602340e3da0 last_endpoint=\"tcp://127.0.0.1:43201\">"
      ]
     },
     "execution_count": 171,
     "metadata": {},
     "output_type": "execute_result"
    }
   ],
   "source": [
    "def test_a6fa85()\n",
    "  stats = Hash.new {|h,k| h[k] = []}\n",
    "  \n",
    "  1.upto(10) do |i|\n",
    "    data = read_sparse_data_from_csv \"polydata-1000\"\n",
    "    polydata = create_polynomial_features(data, i)\n",
    "    obj = LinearRegressionModelL2.new 0.0\n",
    "    \n",
    "    avg_tr_rmse = 0.0\n",
    "    avg_te_rmse = 0.0\n",
    "    avg_w_norm = 0.0\n",
    "    puts \"[#{Time.now}] Degree: #{i}\"\n",
    "    cross_validate polydata, 3 do |train_data, test_data, fold|\n",
    "      w = Hash.new {|h,k| h[k] = 0.0}\n",
    "      lr = 1e-2\n",
    "      obj = LinearRegressionModelL2.new 0.0\n",
    "      sgd = StochasticGradientDescent.new obj, w, lr\n",
    "      tr_rmse, te_rmse = train(sgd, obj, w, train_data, test_data, num_epoch = 50, batch_size = 20)\n",
    "      avg_tr_rmse += tr_rmse\n",
    "      avg_te_rmse += te_rmse\n",
    "      avg_w_norm += norm(w)\n",
    "    end\n",
    "    \n",
    "    stats[:degree] << i\n",
    "    stats[:train_rmse] << avg_tr_rmse / 5.0    \n",
    "    stats[:test_rmse] << avg_te_rmse / 5.0\n",
    "    stats[:complexity] << avg_w_norm / 5.0\n",
    "  end\n",
    "  tr_rmse = stats[:train_rmse]\n",
    "  z_plot = Nyaplot::Plot.new\n",
    "  z_plot.x_label(\"Polynomial degree\").y_label(\"Test RMSE\")\n",
    "  z_plot.add(:line, stats[:degree], stats[:train_rmse]).color(:black)\n",
    "  z_plot.add(:line, stats[:degree], stats[:test_rmse]).color(:red)  \n",
    "  z_plot.show()  \n",
    "end\n",
    "test_a6fa85()"
   ]
  },
  {
   "cell_type": "markdown",
   "metadata": {},
   "source": [
    "## Question 4.1 (10 Points)\n",
    "\n",
    "Moving on to classification, implement L2 regularization for Logisitic Regression. This should follow closely what you did in Question 2.X above. \n",
    "\n",
    "Use the Log Loss formulation, $\\log(1 + \\exp(-y\\cdot \\hat{y}))$ when calculating the objective value.\n",
    "\n",
    "Map all labels to either 1 or -1."
   ]
  },
  {
   "cell_type": "code",
   "execution_count": 172,
   "metadata": {
    "deletable": false,
    "nbgrader": {
     "cell_type": "code",
     "checksum": "01b379b0d26f2e1b8116404f8cd38a1d",
     "grade": false,
     "grade_id": "cell-07e2446bcbbb508d",
     "locked": false,
     "schema_version": 3,
     "solution": true
    }
   },
   "outputs": [
    {
     "data": {
      "text/plain": [
       ":func"
      ]
     },
     "execution_count": 172,
     "metadata": {},
     "output_type": "execute_result"
    }
   ],
   "source": [
    "class LogisticRegressionModelL2\n",
    "  def initialize reg_param\n",
    "    @reg_param = reg_param\n",
    "  end\n",
    "\n",
    "  def predict row, w\n",
    "    x = row[\"features\"]    \n",
    "    1.0 / (1 + Math.exp(-dot(w, x)))\n",
    "  end\n",
    "  \n",
    "  def adjust w\n",
    "    w.each_key {|k| w[k] = 0.0 if w[k].nan? or w[k].infinite?}\n",
    "    w.each_key {|k| w[k] = 0.0 if w[k].abs > 1e5 }\n",
    "  end\n",
    "  \n",
    "  def func data, w\n",
    "    # BEGIN YOUR CODE\n",
    "    adjust w\n",
    "    i = 0\n",
    "    sum  = 0.0\n",
    "\n",
    "    while i< data.length do\n",
    "      y=(data[i][\"label\"])\n",
    "      yhat=dot(w, data[i][\"features\"])\n",
    "      sum += Math.log(Math.exp(-y*yhat)+1.0)\n",
    "      i+=1\n",
    "    end\n",
    "\n",
    "    \n",
    "    return sum/data.length + 0.5 * @reg_param *(norm(w)**2)\n",
    "    \n",
    "    \n",
    "    \n",
    "    \n",
    "    #END YOUR CODE\n",
    "  end\n",
    "end"
   ]
  },
  {
   "cell_type": "code",
   "execution_count": 173,
   "metadata": {
    "deletable": false,
    "editable": false,
    "nbgrader": {
     "cell_type": "code",
     "checksum": "fbb433f02bcb9dc21342a0f511258bec",
     "grade": true,
     "grade_id": "cell-da8b05076670bcb2",
     "locked": true,
     "points": 5,
     "schema_version": 3,
     "solution": false
    }
   },
   "outputs": [],
   "source": [
    "### TEST ###\n",
    "def test_41_0()\n",
    "  #Test loss without regularization\n",
    "  m = LogisticRegressionModelL2.new 0.0\n",
    "  w = {\"x1\" => 1.0, \"x2\" => -3.0}\n",
    "  \n",
    "  examples = [\n",
    "      {\"features\" => {\"x1\" => 0.7, \"x2\" => -0.3}, \"label\" => 1.0},\n",
    "      {\"features\" => {\"x1\" => -2.7, \"x2\" => -1.3}, \"label\" => -1.0}  \n",
    "  ]\n",
    "  \n",
    "  dataset = {\"data\" => examples}\n",
    "  e1 = 0.1839007409\n",
    "  assert_in_delta e1, m.func(examples[0,1], w), 1e-2, \"1\"\n",
    "  \n",
    "  e2 = 1.4632824673\n",
    "  assert_in_delta e2, m.func(examples[1,1], w), 1e-2, \"2\"    \n",
    "\n",
    "  #Loss for 2 examples should be their average\n",
    "  assert_in_delta (e1 + e2) / 2.0, m.func(examples, w), 1e-2, \"3\"  \n",
    "end\n",
    "\n",
    "test_41_0()"
   ]
  },
  {
   "cell_type": "code",
   "execution_count": 174,
   "metadata": {
    "deletable": false,
    "editable": false,
    "nbgrader": {
     "cell_type": "code",
     "checksum": "5592f9564c828184393368d6697003fb",
     "grade": true,
     "grade_id": "cell-0a9f2ab984b41ba5",
     "locked": true,
     "points": 5,
     "schema_version": 3,
     "solution": false
    }
   },
   "outputs": [],
   "source": [
    "### TEST ###\n",
    "def test_41_1()\n",
    "  # Test loss with regularization\n",
    "  m = LogisticRegressionModelL2.new 1.7\n",
    "  w = {\"x1\" => 1.0, \"x2\" => -3.0}\n",
    "  \n",
    "  examples = [\n",
    "      {\"features\" => {\"x1\" => 0.7, \"x2\" => -0.3}, \"label\" => 1.0},\n",
    "      {\"features\" => {\"x1\" => -2.7, \"x2\" => -1.3}, \"label\" => -1.0}  \n",
    "  ]\n",
    "  \n",
    "  dataset = {\"data\" => examples}\n",
    "\n",
    "  assert_in_delta 9.3235916041, m.func(examples, w), 1e-2, \"1\"\n",
    "end\n",
    "\n",
    "test_41_1()"
   ]
  },
  {
   "cell_type": "markdown",
   "metadata": {},
   "source": [
    "## Question 4.2 (5 Points)\n",
    "\n",
    "Implement the gradient for L2 regularized Logisitic Regression. As in Assignment 5, use the 0 / 1 version of the loss to simplify the derivation."
   ]
  },
  {
   "cell_type": "code",
   "execution_count": 175,
   "metadata": {
    "deletable": false,
    "nbgrader": {
     "cell_type": "code",
     "checksum": "e810ebcba9bd6d75f820c4a8c33ef7b4",
     "grade": false,
     "grade_id": "cell-66a9fef971a48fd7",
     "locked": false,
     "schema_version": 3,
     "solution": true
    }
   },
   "outputs": [],
   "source": [
    "# class LogisticRegressionModelL2\n",
    "#   def grad data, w\n",
    "#     # BEGIN YOUR CODE\n",
    "\n",
    "#     g = Hash.new\n",
    "#     name = data[0][\"features\"].keys\n",
    "#     sum  = Array.new(name.length)\n",
    "\n",
    "\n",
    "#     adjust w\n",
    "    \n",
    "#     if (w.keys).empty?\n",
    "#       i = 0\n",
    "#       while i<name.length do\n",
    "#         w.store(name[i],w[0])\n",
    "#         i+=1\n",
    "#       end\n",
    "#       w.delete(0)\n",
    "#     end\n",
    "    \n",
    "#     norm  = norm w\n",
    "\n",
    "#     i = 0\n",
    "#     while i< w.length do\n",
    "      \n",
    "#       sum[i] = 0.0\n",
    "#       j = 0\n",
    "#       while j<data.length\n",
    "#         yhat =dot  data[j][\"features\"], w\n",
    "#         ylabel = data[j][\"label\"]\n",
    "#         sum[i] += (1.0/(1.0+Math.exp(ylabel*yhat)))*(-ylabel *data[j][\"features\"][name[i]] )\n",
    "# #         sum[i] += (yhat -ylabel)*data[j][\"features\"][name[i]] \n",
    "#         j+=1\n",
    "#       end\n",
    "#       sum[i] = (sum[i]/data.length) + @reg_param * w[name[i]]\n",
    "#       g.store(name[i],sum[i])\n",
    "#       i+=1\n",
    "#     end\n",
    "    \n",
    "    \n",
    "#     #END YOUR CODE\n",
    "#     return g\n",
    "#   end\n",
    "# end"
   ]
  },
  {
   "cell_type": "code",
   "execution_count": 176,
   "metadata": {},
   "outputs": [
    {
     "data": {
      "text/plain": [
       ":grad"
      ]
     },
     "execution_count": 176,
     "metadata": {},
     "output_type": "execute_result"
    }
   ],
   "source": [
    "class LogisticRegressionModelL2\n",
    "  def grad data, w\n",
    "    # BEGIN YOUR CODE\n",
    "    \n",
    "    g = Hash.new()\n",
    "    key_list =[]\n",
    "    data.each do |e|\n",
    "        key_list.push(e[\"features\"].keys)\n",
    "    end\n",
    "    name = key_list.flatten.uniq{|x| x}\n",
    "\n",
    "    sum  = Array.new(name.length)\n",
    "\n",
    "\n",
    "    adjust w\n",
    "    \n",
    "    if (w.keys).empty?\n",
    "      i = 0\n",
    "      while i<name.length do\n",
    "        w.store(name[i],w[0])\n",
    "        i+=1\n",
    "      end\n",
    "      w.delete(0)\n",
    "    end\n",
    "    \n",
    "    norm  = norm w\n",
    "\n",
    "    i = 0\n",
    "    while i< w.length do\n",
    "      \n",
    "      sum = 0.0\n",
    "      j = 0\n",
    "      while j<data.length\n",
    "        yhat =dot  data[j][\"features\"], w\n",
    "        ylabel = data[j][\"label\"]\n",
    "        if data[j][\"features\"][name[i]].is_a? Numeric\n",
    "          sum += (1.0/(1.0+Math.exp(ylabel*yhat)))*(-ylabel *data[j][\"features\"][name[i]] )\n",
    "        end\n",
    "        j+=1\n",
    "      end\n",
    "      sum = (sum/data.length) + @reg_param * w[name[i]]\n",
    "      g.store(name[i],sum)\n",
    "      i+=1\n",
    "    end\n",
    "    \n",
    "    \n",
    "    #END YOUR CODE\n",
    "    return g\n",
    "  end\n",
    "end"
   ]
  },
  {
   "cell_type": "code",
   "execution_count": 177,
   "metadata": {
    "deletable": false,
    "editable": false,
    "nbgrader": {
     "cell_type": "code",
     "checksum": "9c1c0aa7c79868f5995527c854690beb",
     "grade": true,
     "grade_id": "cell-21bb36f40e985881",
     "locked": true,
     "points": 2,
     "schema_version": 3,
     "solution": false
    }
   },
   "outputs": [],
   "source": [
    "### TEST ###\n",
    "def test_42_0()\n",
    "  #First without regularization\n",
    "  m = LogisticRegressionModelL2.new 0.0\n",
    "  w = {\"x1\" => 1.0, \"x2\" => -3.0}\n",
    "  examples = [\n",
    "      {\"features\" => {\"x1\" => 0.7, \"x2\" => -0.3}, \"label\" => 1.0},\n",
    "      {\"features\" => {\"x1\" => -2.7, \"x2\" => -1.3}, \"label\" => -1.0}  \n",
    "  ]\n",
    "  dataset = {\"data\" => examples}\n",
    "  \n",
    "  g1_1 = -0.1175871304\n",
    "  assert_in_delta g1_1, m.grad(examples[0,1], w)[\"x1\"], 1e-2, \"1\"\n",
    "  \n",
    "  g2_1 =  -2.0750169154\n",
    "  assert_in_delta g2_1, m.grad(examples[1,1], w)[\"x1\"], 1e-2, \"2\"    \n",
    "  assert_in_delta (g1_1 + g2_1) / 2.0, m.grad(examples, w)[\"x1\"], 1e-2, \"3\"  \n",
    "end\n",
    "\n",
    "test_42_0()"
   ]
  },
  {
   "cell_type": "code",
   "execution_count": 178,
   "metadata": {
    "deletable": false,
    "editable": false,
    "nbgrader": {
     "cell_type": "code",
     "checksum": "9a407f8b469bedf9c9885ebf8a63fcd2",
     "grade": true,
     "grade_id": "cell-e964eeb5016b4f19",
     "locked": true,
     "points": 3,
     "schema_version": 3,
     "solution": false
    }
   },
   "outputs": [],
   "source": [
    "### TEST ###\n",
    "def test_42_1()\n",
    "  m = LogisticRegressionModelL2.new 1.7\n",
    "  w = {\"x1\" => 1.0, \"x2\" => -3.0}\n",
    "  examples = [\n",
    "      {\"features\" => {\"x1\" => 0.7, \"x2\" => -0.3}, \"label\" => 1.0},\n",
    "      {\"features\" => {\"x1\" => -2.7, \"x2\" => -1.3}, \"label\" => -1.0}  \n",
    "  ]\n",
    "  dataset = {\"data\" => examples}\n",
    "  \n",
    "  g1_1 = -0.1175871304\n",
    "  g2_1 =  -2.0750169154\n",
    "  assert_in_delta 1.0 * 1.7 + (g1_1 + g2_1) / 2.0, m.grad(examples, w)[\"x1\"], 1e-2, \"5\"\n",
    "end\n",
    "\n",
    "test_42_1()"
   ]
  },
  {
   "cell_type": "markdown",
   "metadata": {},
   "source": [
    "## Question 4.3 (2 points)\n",
    "\n",
    "Implement a function that will score your logistic regression model and return an array of pairs of (score, class label).\n",
    "\n",
    "For the example in the test below, your output should look like this:\n",
    "\n",
    "```ruby\n",
    "[\n",
    "    [0.8320183851339245, 1.0], \n",
    "    [0.7685247834990178, 0.0]\n",
    "]\n",
    "```"
   ]
  },
  {
   "cell_type": "code",
   "execution_count": 179,
   "metadata": {
    "deletable": false,
    "nbgrader": {
     "cell_type": "code",
     "checksum": "6cdc98a4f86b9aadc9d426a892e1836e",
     "grade": false,
     "grade_id": "cell-75eafcbbd387d5df",
     "locked": false,
     "schema_version": 3,
     "solution": true
    }
   },
   "outputs": [
    {
     "data": {
      "text/plain": [
       ":score_binary_classification_model"
      ]
     },
     "execution_count": 179,
     "metadata": {},
     "output_type": "execute_result"
    }
   ],
   "source": [
    "def score_binary_classification_model(data, weights, model)\n",
    "  # BEGIN YOUR CODE\n",
    "\n",
    "  scores =Array.new(data.length) { Array.new(2)}\n",
    "  i = 0\n",
    "  while i< data.length do\n",
    "    scores[i][0] = model.predict(data[i],weights)\n",
    "    scores[i][1] = data[i][\"label\"]\n",
    "    i+=1\n",
    "  end\n",
    "  \n",
    "  \n",
    "  \n",
    "  #END YOUR CODE\n",
    "  return scores\n",
    "end"
   ]
  },
  {
   "cell_type": "code",
   "execution_count": null,
   "metadata": {},
   "outputs": [],
   "source": []
  },
  {
   "cell_type": "code",
   "execution_count": 180,
   "metadata": {
    "deletable": false,
    "editable": false,
    "nbgrader": {
     "cell_type": "code",
     "checksum": "ea5792bc7fa59e4c56f0536006635b49",
     "grade": true,
     "grade_id": "cell-f2ea4529b7661a32",
     "locked": true,
     "points": 2,
     "schema_version": 3,
     "solution": false
    }
   },
   "outputs": [
    {
     "name": "stdout",
     "output_type": "stream",
     "text": [
      "[[0.8320183851339245, 1.0], [0.7685247834990178, 0.0]]\n"
     ]
    }
   ],
   "source": [
    "### TEST ###\n",
    "def test_43()\n",
    "  m = LogisticRegressionModelL2.new 888.0\n",
    "  w = {\"x1\" => 1.0, \"x2\" => -3.0}\n",
    "  examples = [\n",
    "      {\"features\" => {\"x1\" => 0.7, \"x2\" => -0.3}, \"label\" => 1.0},\n",
    "      {\"features\" => {\"x1\" => -2.7, \"x2\" => -1.3}, \"label\" => 0.0}  \n",
    "  ]\n",
    "  \n",
    "  e1 = 0.8320183851\n",
    "  e2 = 0.7685247835\n",
    "  \n",
    "  scores = score_binary_classification_model(examples, w, m)\n",
    "  puts scores\n",
    "  \n",
    "  assert_in_delta e1, scores[0][0], 1e-2, \"1\"\n",
    "  assert_in_delta e2, scores[1][0], 1e-2, \"2\"  \n",
    "  assert_in_delta 1.0, scores[0][1], 1e-2, \"3\"\n",
    "  assert_in_delta 0.0, scores[1][1], 1e-2, \"4\"  \n",
    "end\n",
    "\n",
    "test_43()"
   ]
  },
  {
   "cell_type": "markdown",
   "metadata": {},
   "source": [
    "## Question 4.4 (10 Points)\n",
    "\n",
    "Given the scores defined above, recall that accuracy, true positive, false positive, precision, and recall are defined only for a single threshold $t$. Define confusion matrix given the scores and a threshold. Next, use the confusion matrix to implement all the major metrics. Define each of these measures, given a cut point and assume here that the cut point is defined as $s \\ge t$ for score $s$ and threshold $t$. Each function should apply only to the positive class, i.e., when ```label > 0```."
   ]
  },
  {
   "cell_type": "code",
   "execution_count": 181,
   "metadata": {
    "deletable": false,
    "nbgrader": {
     "cell_type": "code",
     "checksum": "fa964a571f7a7093083bfab955bdb835",
     "grade": false,
     "grade_id": "cell-9198d9cb9a4c5f27",
     "locked": false,
     "schema_version": 3,
     "solution": true,
     "task": false
    }
   },
   "outputs": [
    {
     "data": {
      "text/plain": [
       ":num_positives"
      ]
     },
     "execution_count": 181,
     "metadata": {},
     "output_type": "execute_result"
    }
   ],
   "source": [
    "def num_positives scores\n",
    "  # BEGIN YOUR CODE\n",
    "\n",
    "  i = 0\n",
    "  sum = 0\n",
    "  while i< scores.length do\n",
    "    if scores[i][1]>0\n",
    "      sum += 1\n",
    "    end\n",
    "    i+=1\n",
    "  end\n",
    "  return sum\n",
    "  \n",
    "  #END YOUR CODE\n",
    "end"
   ]
  },
  {
   "cell_type": "code",
   "execution_count": 182,
   "metadata": {
    "deletable": false,
    "nbgrader": {
     "cell_type": "code",
     "checksum": "1f805fe122f7d39c8a41b1873fa1c909",
     "grade": false,
     "grade_id": "cell-b2794b59c042b662",
     "locked": false,
     "schema_version": 3,
     "solution": true,
     "task": false
    }
   },
   "outputs": [
    {
     "data": {
      "text/plain": [
       ":num_negatives"
      ]
     },
     "execution_count": 182,
     "metadata": {},
     "output_type": "execute_result"
    }
   ],
   "source": [
    "def num_negatives scores\n",
    "  # BEGIN YOUR CODE\n",
    "\n",
    "  return scores.length - num_positives(scores)\n",
    "  \n",
    "  #END YOUR CODE\n",
    "end"
   ]
  },
  {
   "cell_type": "code",
   "execution_count": 183,
   "metadata": {
    "deletable": false,
    "nbgrader": {
     "cell_type": "code",
     "checksum": "691aea610942eee4f294a1b8e8d52620",
     "grade": false,
     "grade_id": "cell-d378f324ae11434f",
     "locked": false,
     "schema_version": 3,
     "solution": true,
     "task": false
    }
   },
   "outputs": [
    {
     "data": {
      "text/plain": [
       ":confusion_matrix"
      ]
     },
     "execution_count": 183,
     "metadata": {},
     "output_type": "execute_result"
    }
   ],
   "source": [
    "def confusion_matrix(scores, t)\n",
    "  matrix = Hash.new {|h,predicted_class| h[predicted_class] = Hash.new {|h,true_class| h[true_class] = 0.0}}\n",
    "  # BEGIN YOUR CODE\n",
    "  matrix[\"N\"][\"N\"] = 0\n",
    "  matrix[\"N\"][\"P\"] = 0\n",
    "  matrix[\"P\"][\"N\"] = 0\n",
    "  matrix[\"P\"][\"P\"] = 0\n",
    "  i = 0\n",
    "  while i<scores.length do\n",
    "    if scores[i][1]>0 and scores[i][0]>=t\n",
    "      matrix[\"P\"][\"P\"] += 1\n",
    "    elsif scores[i][1]>0 and scores[i][0]<t\n",
    "      matrix[\"N\"][\"P\"] += 1\n",
    "    elsif scores[i][1]<=0 and scores[i][0]>=t\n",
    "      matrix[\"P\"][\"N\"] += 1\n",
    "    elsif scores[i][1]<=0 and scores[i][0]<t\n",
    "      matrix[\"N\"][\"N\"] += 1\n",
    "    end\n",
    "    i+=1\n",
    "  end\n",
    "  \n",
    "  #END YOUR CODE\n",
    "  return matrix\n",
    "end\n"
   ]
  },
  {
   "cell_type": "code",
   "execution_count": null,
   "metadata": {},
   "outputs": [],
   "source": []
  },
  {
   "cell_type": "code",
   "execution_count": 184,
   "metadata": {
    "deletable": false,
    "editable": false,
    "nbgrader": {
     "cell_type": "code",
     "checksum": "2018fe45f19906b0a2823b4390bfe22d",
     "grade": true,
     "grade_id": "cell-77fab1ae7f877b95",
     "locked": true,
     "points": 0,
     "schema_version": 3,
     "solution": false,
     "task": false
    }
   },
   "outputs": [
    {
     "name": "stdout",
     "output_type": "stream",
     "text": [
      "Confusion matrix for scores >= 0.5\n",
      "{\"N\"=>{\"N\"=>4, \"P\"=>1}, \"P\"=>{\"N\"=>2, \"P\"=>3}}\n",
      "Confusion matrix for scores >= 0.25\n",
      "{\"N\"=>{\"N\"=>2, \"P\"=>1}, \"P\"=>{\"N\"=>4, \"P\"=>3}}\n"
     ]
    }
   ],
   "source": [
    "def test_44_scores()\n",
    "  [\n",
    "    [0.22, 0.0],\n",
    "    [0.23, 0.0], \n",
    "    [0.24, 1.0], \n",
    "    [0.25, 0.0],     \n",
    "    [0.49, 0.0],\n",
    "    [0.5, 1.0],\n",
    "    [0.73, 0.0],    \n",
    "    [0.74, 0.0],\n",
    "    [0.75, 1.0],    \n",
    "    [0.76, 1.0],\n",
    "  ]\n",
    "end\n",
    "\n",
    "def test_77fab1\n",
    "  scores = test_44_scores()\n",
    "  m1 = confusion_matrix scores, 0.5\n",
    "  puts \"Confusion matrix for scores >= 0.5\", m1\n",
    "  \n",
    "  assert_equal 4, m1[\"N\"][\"N\"], \"m1[N][N]\"\n",
    "  assert_equal 3, m1[\"P\"][\"P\"], \"m1[P][P]\"\n",
    "  assert_equal 4, num_positives(scores), \"num_positives\"\n",
    "  assert_equal 6, num_negatives(scores), \"num_negatives\"\n",
    "  \n",
    "  assert_equal num_negatives(scores), m1[\"N\"][\"N\"] + m1[\"P\"][\"N\"], \"matrix negatives\"\n",
    "  assert_equal num_positives(scores), m1[\"N\"][\"P\"] + m1[\"P\"][\"P\"], \"matrix positives\"\n",
    "  \n",
    "  m2 = confusion_matrix scores, 0.25\n",
    "  puts \"Confusion matrix for scores >= 0.25\", m2\n",
    "  assert_equal 2, m2[\"N\"][\"N\"], \"m2[N][N]\"\n",
    "  assert_equal 3, m2[\"P\"][\"P\"], \"m2[P][P]\"\n",
    "end\n",
    "test_77fab1"
   ]
  },
  {
   "cell_type": "code",
   "execution_count": 185,
   "metadata": {
    "deletable": false,
    "nbgrader": {
     "cell_type": "code",
     "checksum": "1c8adeb4564d8a37c96906cd7fdd570b",
     "grade": false,
     "grade_id": "cell-cc444c8ac1132d0d",
     "locked": false,
     "schema_version": 3,
     "solution": true
    }
   },
   "outputs": [
    {
     "data": {
      "text/plain": [
       ":accuracy"
      ]
     },
     "execution_count": 185,
     "metadata": {},
     "output_type": "execute_result"
    }
   ],
   "source": [
    "def accuracy(matrix, total_pos, total_neg)\n",
    "  # BEGIN YOUR CODE\n",
    "  if (total_pos+ total_neg)>0\n",
    "    sum = (matrix[\"N\"][\"N\"]+ matrix[\"P\"][\"P\"]).to_f/(total_pos+ total_neg)\n",
    "  end\n",
    "  return sum\n",
    "  \n",
    "  #END YOUR CODE\n",
    "end"
   ]
  },
  {
   "cell_type": "code",
   "execution_count": 186,
   "metadata": {
    "deletable": false,
    "editable": false,
    "nbgrader": {
     "cell_type": "code",
     "checksum": "fe07ea2f02e6dca2f07b93ad21dad087",
     "grade": true,
     "grade_id": "cell-4e69c468a33bb747",
     "locked": true,
     "points": 2,
     "schema_version": 3,
     "solution": false
    }
   },
   "outputs": [],
   "source": [
    "### TEST ###\n",
    "def test_44_0()\n",
    "  scores = test_44_scores()\n",
    "  np = num_positives(scores)\n",
    "  nn = num_negatives(scores)\n",
    "  m0 = confusion_matrix(scores, 0.0)\n",
    "  m25 = confusion_matrix(scores, 0.25)\n",
    "  m50 = confusion_matrix(scores, 0.5)\n",
    "  m75 = confusion_matrix(scores, 0.75)\n",
    "  assert_in_delta 0.4, accuracy(m0, np, nn), 1e-3, \"t = 0.0\"\n",
    "  assert_in_delta 0.5, accuracy(m25, np, nn), 1e-3, \"t = 0.25\"\n",
    "  assert_in_delta 0.7, accuracy(m50, np, nn), 1e-3, \"t = 0.5\"\n",
    "  assert_in_delta 0.8, accuracy(m75, np, nn), 1e-3, \"t = 0.75\"\n",
    "end\n",
    "\n",
    "test_44_0()"
   ]
  },
  {
   "cell_type": "code",
   "execution_count": 187,
   "metadata": {
    "deletable": false,
    "nbgrader": {
     "cell_type": "code",
     "checksum": "8219bc01f39476c519fa05ace9264530",
     "grade": false,
     "grade_id": "cell-679fa33af5b33fec",
     "locked": false,
     "schema_version": 3,
     "solution": true
    }
   },
   "outputs": [
    {
     "data": {
      "text/plain": [
       ":true_positive_rate"
      ]
     },
     "execution_count": 187,
     "metadata": {},
     "output_type": "execute_result"
    }
   ],
   "source": [
    "def true_positive_rate(matrix, total_pos, total_neg)\n",
    "  # BEGIN YOUR CODE\n",
    "  if total_pos== 0 and matrix[\"P\"][\"P\"] == 0\n",
    "    rate = 1.0\n",
    "  elsif total_pos>0\n",
    "    rate =  matrix[\"P\"][\"P\"].to_f/total_pos\n",
    "  end\n",
    "  return  rate\n",
    "  \n",
    "  \n",
    "  #END YOUR CODE\n",
    "end"
   ]
  },
  {
   "cell_type": "code",
   "execution_count": 188,
   "metadata": {
    "deletable": false,
    "editable": false,
    "nbgrader": {
     "cell_type": "code",
     "checksum": "b933f8e79ae62e0371ad31a84e3d7826",
     "grade": true,
     "grade_id": "cell-b20c49ad0c1a0ac8",
     "locked": true,
     "points": 2,
     "schema_version": 3,
     "solution": false
    }
   },
   "outputs": [],
   "source": [
    "### TEST ###\n",
    "def test_44_1()\n",
    "  scores = test_44_scores()\n",
    "  np = num_positives(scores)\n",
    "  nn = num_negatives(scores)\n",
    "  m0 = confusion_matrix(scores, 0.0)\n",
    "  m25 = confusion_matrix(scores, 0.25)\n",
    "  m50 = confusion_matrix(scores, 0.5)\n",
    "  m75 = confusion_matrix(scores, 0.75)\n",
    "  m100 = confusion_matrix(scores, 1.0)  \n",
    "\n",
    "  assert_in_delta 1.0, true_positive_rate(m0, np, nn), 1e-3, \"t = 0.0\"\n",
    "  assert_in_delta 0.75, true_positive_rate(m25, np, nn), 1e-3, \"t = 0.25\"\n",
    "  assert_in_delta 0.75, true_positive_rate(m50, np, nn), 1e-3, \"t = 0.5\"\n",
    "  assert_in_delta 0.5, true_positive_rate(m75, np, nn), 1e-3, \"t = 0.75\"\n",
    "  assert_in_delta 0.0, true_positive_rate(m100, np, nn), 1e-3, \"t = 1.0\"\n",
    "end\n",
    "\n",
    "test_44_1()"
   ]
  },
  {
   "cell_type": "code",
   "execution_count": 189,
   "metadata": {
    "deletable": false,
    "nbgrader": {
     "cell_type": "code",
     "checksum": "5f083f651fcfd42f64da11e526b3a5bb",
     "grade": false,
     "grade_id": "cell-f38d8e83199f0229",
     "locked": false,
     "schema_version": 3,
     "solution": true
    }
   },
   "outputs": [
    {
     "data": {
      "text/plain": [
       ":false_positive_rate"
      ]
     },
     "execution_count": 189,
     "metadata": {},
     "output_type": "execute_result"
    }
   ],
   "source": [
    "def false_positive_rate(matrix, total_pos, total_neg)\n",
    "  # BEGIN YOUR CODE\n",
    "  if total_neg== 0 and matrix[\"P\"][\"N\"] == 0\n",
    "    rate = 1.0\n",
    "  elsif total_neg>0\n",
    "    rate =  matrix[\"P\"][\"N\"].to_f/total_neg\n",
    "  end\n",
    "  return  rate\n",
    "  \n",
    "  \n",
    "  \n",
    "  #END YOUR CODE\n",
    "end"
   ]
  },
  {
   "cell_type": "code",
   "execution_count": 190,
   "metadata": {
    "deletable": false,
    "editable": false,
    "nbgrader": {
     "cell_type": "code",
     "checksum": "e4de1aae30f2fde3dda967106049112a",
     "grade": true,
     "grade_id": "cell-b07039832bccd82d",
     "locked": true,
     "points": 2,
     "schema_version": 3,
     "solution": false
    }
   },
   "outputs": [],
   "source": [
    "### TEST ###\n",
    "def test_44_2()\n",
    "  scores = test_44_scores()\n",
    "  np = num_positives(scores)\n",
    "  nn = num_negatives(scores)\n",
    "  m0 = confusion_matrix(scores, 0.0)\n",
    "  m25 = confusion_matrix(scores, 0.25)\n",
    "  m50 = confusion_matrix(scores, 0.5)\n",
    "  m75 = confusion_matrix(scores, 0.75)\n",
    "  m100 = confusion_matrix(scores, 1.0)  \n",
    "  \n",
    "  assert_in_delta 1.0, false_positive_rate(m0, np, nn), 1e-3, \"t = 0.0\"\n",
    "  assert_in_delta 0.6666, false_positive_rate(m25, np, nn), 1e-3, \"t = 0.25\"\n",
    "  assert_in_delta 0.3333, false_positive_rate(m50, np, nn), 1e-3, \"t = 0.5\"\n",
    "  assert_in_delta 0.0, false_positive_rate(m75, np, nn), 1e-3, \"t = 0.75\"\n",
    "  assert_in_delta 0.0, false_positive_rate(m100, np, nn), 1e-3, \"t = 1.0\"\n",
    "end\n",
    "\n",
    "test_44_2()"
   ]
  },
  {
   "cell_type": "code",
   "execution_count": 191,
   "metadata": {
    "deletable": false,
    "nbgrader": {
     "cell_type": "code",
     "checksum": "15f1f31fa5e718ddfd1bec615ea9fb75",
     "grade": false,
     "grade_id": "cell-cdbbd3b6c301bfe6",
     "locked": false,
     "schema_version": 3,
     "solution": true
    }
   },
   "outputs": [
    {
     "data": {
      "text/plain": [
       ":precision"
      ]
     },
     "execution_count": 191,
     "metadata": {},
     "output_type": "execute_result"
    }
   ],
   "source": [
    "# For precision, set the precision to 1.0 if there are no scored examples\n",
    "def precision(matrix, total_pos, total_neg)\n",
    "  # BEGIN YOUR CODE\n",
    "\n",
    "  p = matrix[\"P\"][\"P\"] + matrix[\"P\"][\"N\"]\n",
    "  if p==0 and matrix[\"P\"][\"P\"]==0\n",
    "    rate = 1.0\n",
    "  elsif p>0\n",
    "    rate = matrix[\"P\"][\"P\"].to_f/p\n",
    "  end\n",
    "  return rate\n",
    "  \n",
    "  #END YOUR CODE\n",
    "end"
   ]
  },
  {
   "cell_type": "code",
   "execution_count": 192,
   "metadata": {
    "deletable": false,
    "editable": false,
    "nbgrader": {
     "cell_type": "code",
     "checksum": "9ad5792aa94cb1d3bc546b1f26ee5737",
     "grade": true,
     "grade_id": "cell-9df5dfa4a2a158de",
     "locked": true,
     "points": 2,
     "schema_version": 3,
     "solution": false
    }
   },
   "outputs": [],
   "source": [
    "### TEST ###\n",
    "def test_44_3()\n",
    "  scores = test_44_scores()\n",
    "  np = num_positives(scores)\n",
    "  nn = num_negatives(scores)\n",
    "  m0 = confusion_matrix(scores, 0.0)\n",
    "  m25 = confusion_matrix(scores, 0.25)\n",
    "  m50 = confusion_matrix(scores, 0.5)\n",
    "  m75 = confusion_matrix(scores, 0.75)\n",
    "  m100 = confusion_matrix(scores, 1.0)  \n",
    "\n",
    "  assert_in_delta 0.4, precision(m0, np, nn), 1e-3, \"t = 0.0\"\n",
    "  assert_in_delta 0.42857, precision(m25, np, nn), 1e-3, \"t = 0.25\"\n",
    "  assert_in_delta 0.6, precision(m50, np, nn), 1e-3, \"t = 0.5\"\n",
    "  assert_in_delta 1.0, precision(m75, np, nn), 1e-3, \"t = 0.75\"\n",
    "  assert_in_delta 1.0, precision(m100, np, nn), 1e-3, \"t = 1.0\"\n",
    "end\n",
    "\n",
    "test_44_3()"
   ]
  },
  {
   "cell_type": "code",
   "execution_count": 193,
   "metadata": {
    "deletable": false,
    "nbgrader": {
     "cell_type": "code",
     "checksum": "7883be83300cc4b36fdb3a02a1d86ca1",
     "grade": false,
     "grade_id": "cell-2d15e0821dc939cf",
     "locked": false,
     "schema_version": 3,
     "solution": true
    }
   },
   "outputs": [
    {
     "data": {
      "text/plain": [
       ":recall"
      ]
     },
     "execution_count": 193,
     "metadata": {},
     "output_type": "execute_result"
    }
   ],
   "source": [
    "def recall(matrix, total_pos, total_neg)\n",
    "  # BEGIN YOUR CODE\n",
    "  if total_pos==0 and matrix[\"P\"][\"P\"]==0\n",
    "    rate=1.0\n",
    "  elsif total_pos>0\n",
    "    rate = matrix[\"P\"][\"P\"].to_f/total_pos\n",
    "  end\n",
    "  return rate\n",
    "  \n",
    "  #END YOUR CODE\n",
    "end"
   ]
  },
  {
   "cell_type": "code",
   "execution_count": 194,
   "metadata": {
    "deletable": false,
    "editable": false,
    "nbgrader": {
     "cell_type": "code",
     "checksum": "e9f51c9c68bac98573a5a6853921c01c",
     "grade": true,
     "grade_id": "cell-09b291ddac8a7774",
     "locked": true,
     "points": 2,
     "schema_version": 3,
     "solution": false
    }
   },
   "outputs": [],
   "source": [
    "### TEST ###\n",
    "def test_44_4()\n",
    "  scores = test_44_scores()\n",
    "  np = num_positives(scores)\n",
    "  nn = num_negatives(scores)\n",
    "  m0 = confusion_matrix(scores, 0.0)\n",
    "  m25 = confusion_matrix(scores, 0.25)\n",
    "  m50 = confusion_matrix(scores, 0.5)\n",
    "  m75 = confusion_matrix(scores, 0.75)\n",
    "  m100 = confusion_matrix(scores, 1.0)  \n",
    "  \n",
    "  assert_in_delta 1.0, recall(m0, np, nn), 1e-3, \"t = 0.0\"\n",
    "  assert_in_delta 0.75, recall(m25, np, nn), 1e-3, \"t = 0.25\"\n",
    "  assert_in_delta 0.75, recall(m50, np, nn), 1e-3, \"t = 0.5\"\n",
    "  assert_in_delta 0.5, recall(m75, np, nn), 1e-3, \"t = 0.75\"\n",
    "  assert_in_delta 0.0, recall(m100, np, nn), 1e-3, \"t = 1.0\"\n",
    "end\n",
    "\n",
    "test_44_4()"
   ]
  },
  {
   "cell_type": "markdown",
   "metadata": {},
   "source": [
    "## Question 5.1 (5 Points)\n",
    "\n",
    "Given an array of pairs of score and class label (0,1), calculate the AUC metric. We will implement this by first implementing the ```roc_curve``` function which computes the points in the ROC curve and at the same time calculates the AUC. If you calculate the confusion matrix incrementally, you may use the metric methods defined above for AUC. \n",
    "\n",
    "Recall the definition of AUC as either the area under the ROC curve or the probability of mis-ranking a positive example. Choose one of these methods for the implementation, but we will test that it exectues quickly.\n"
   ]
  },
  {
   "cell_type": "code",
   "execution_count": 195,
   "metadata": {
    "deletable": false,
    "nbgrader": {
     "cell_type": "code",
     "checksum": "5488511ecd3f15329c79579a74846fb0",
     "grade": false,
     "grade_id": "cell-1768e36e21c260fb",
     "locked": false,
     "schema_version": 3,
     "solution": true
    }
   },
   "outputs": [],
   "source": [
    "# def roc_curve(scores)\n",
    "#   fp_rates = [0.0]\n",
    "#   tp_rates = [0.0]\n",
    "#   auc = 0.0\n",
    "\n",
    "#   # BEGIN YOUR CODE\n",
    "  \n",
    "#   t_list = (scores.clone).transpose[0].sort!{|x, y| y <=> x}\n",
    "#   score = (scores.clone).sort!{|x, y| y <=> x}\n",
    "#   i=0\n",
    "\n",
    "\n",
    "#   while i< scores.length do\n",
    "#     matrix = confusion_matrix(score, t_list[i])\n",
    "#     total_pos = matrix[\"P\"][\"P\"] + matrix[\"N\"][\"P\"] \n",
    "#     total_neg = matrix[\"P\"][\"N\"] + matrix[\"N\"][\"N\"]\n",
    "#     fp_rates.append(false_positive_rate(matrix, total_pos, total_neg))\n",
    "#     tp_rates.append(true_positive_rate(matrix, total_pos, total_neg))\n",
    "#     auc+=(tp_rates[-1]+tp_rates[-2])*(fp_rates[-1]-fp_rates[-2])*0.5\n",
    "\n",
    "#     i+=1\n",
    " \n",
    "#   end\n",
    "\n",
    "  \n",
    "# #   #END YOUR CODE\n",
    "#   return [fp_rates, tp_rates, auc]\n",
    "# end\n",
    "\n",
    "# def calc_auc_only scores\n",
    "#   fp, tp, auc = roc_curve scores\n",
    "#   auc\n",
    "# end\n"
   ]
  },
  {
   "cell_type": "code",
   "execution_count": 196,
   "metadata": {},
   "outputs": [
    {
     "data": {
      "text/plain": [
       ":calc_auc_only"
      ]
     },
     "execution_count": 196,
     "metadata": {},
     "output_type": "execute_result"
    }
   ],
   "source": [
    "#### this is a debug\n",
    "  \n",
    "  def roc_curve(scores)\n",
    "  fp_rates = [0.0]\n",
    "  tp_rates = [0.0]\n",
    "  auc = 0.0\n",
    "\n",
    "  # BEGIN YOUR CODE\n",
    "\n",
    "  \n",
    "  t_list = (scores.clone).transpose[0].sort!{|x, y| y <=> x}\n",
    "  score = (scores.clone).sort!{|x, y| y <=> x}\n",
    "  i=0\n",
    "  matrix = confusion_matrix(score, t_list[i])\n",
    "  total_pos = matrix[\"P\"][\"P\"] + matrix[\"N\"][\"P\"] \n",
    "  total_neg = matrix[\"P\"][\"N\"] + matrix[\"N\"][\"N\"]\n",
    "  p = 0.0\n",
    "  n = 0.0\n",
    "\n",
    "  score.each do |e|\n",
    "\n",
    "    if e[1] == 1\n",
    "      p +=1.0   \n",
    "      fp_rates.append(fp_rates[-1])      \n",
    "      tp_rates.append(p/total_pos)\n",
    "    else\n",
    "      n +=1.0 \n",
    "      fp_rates.append(n/total_neg)      \n",
    "      tp_rates.append(tp_rates[-1])\n",
    "    end\n",
    "    auc+=(tp_rates[-1]+tp_rates[-2])*(fp_rates[-1]-fp_rates[-2])*0.5\n",
    "\n",
    "    i+=1\n",
    " \n",
    "  end\n",
    "  \n",
    "  #END YOUR CODE\n",
    "    return [fp_rates, tp_rates, auc]\n",
    "  end\n",
    "\n",
    "\n",
    "\n",
    "  def calc_auc_only scores\n",
    "    fp, tp, auc = roc_curve scores\n",
    "    auc\n",
    "  end\n",
    "\n",
    "  #END YOUR CODE\n"
   ]
  },
  {
   "cell_type": "code",
   "execution_count": 197,
   "metadata": {
    "deletable": false,
    "editable": false,
    "nbgrader": {
     "cell_type": "code",
     "checksum": "d8a9a3ed8c77da403b2e3839428626cc",
     "grade": true,
     "grade_id": "cell-56ed701e23197483",
     "locked": true,
     "points": 5,
     "schema_version": 3,
     "solution": false,
     "task": false
    }
   },
   "outputs": [
    {
     "data": {
      "text/html": [
       "<div id='vis-dc0ab9c0-757d-4ef3-8062-3bc49ba04202'></div>\n",
       "<script>\n",
       "(function(){\n",
       "    var render = function(){\n",
       "        var model = {\"panes\":[{\"diagrams\":[{\"type\":\"line\",\"options\":{\"x\":\"data0\",\"y\":\"data1\",\"color\":\"black\"},\"data\":\"a6e30083-413a-4c47-8cb5-a9d097a6a603\"}],\"options\":{\"x_label\":\"False Positive Rate\",\"y_label\":\"True Positive Rate\",\"zoom\":true,\"width\":700,\"xrange\":[0.0,1.0],\"yrange\":[0.0,1.0]}}],\"data\":{\"a6e30083-413a-4c47-8cb5-a9d097a6a603\":[{\"data0\":0.0,\"data1\":0.0},{\"data0\":0.0,\"data1\":0.018518518518518517},{\"data0\":0.0,\"data1\":0.037037037037037035},{\"data0\":0.0,\"data1\":0.05555555555555555},{\"data0\":0.0,\"data1\":0.07407407407407407},{\"data0\":0.0,\"data1\":0.09259259259259259},{\"data0\":0.0,\"data1\":0.1111111111111111},{\"data0\":0.0,\"data1\":0.12962962962962962},{\"data0\":0.0,\"data1\":0.14814814814814814},{\"data0\":0.0,\"data1\":0.16666666666666666},{\"data0\":0.0,\"data1\":0.18518518518518517},{\"data0\":0.0,\"data1\":0.2037037037037037},{\"data0\":0.0,\"data1\":0.2222222222222222},{\"data0\":0.0,\"data1\":0.24074074074074073},{\"data0\":0.0,\"data1\":0.25925925925925924},{\"data0\":0.021739130434782608,\"data1\":0.25925925925925924},{\"data0\":0.021739130434782608,\"data1\":0.2777777777777778},{\"data0\":0.021739130434782608,\"data1\":0.2962962962962963},{\"data0\":0.021739130434782608,\"data1\":0.3148148148148148},{\"data0\":0.021739130434782608,\"data1\":0.3333333333333333},{\"data0\":0.021739130434782608,\"data1\":0.35185185185185186},{\"data0\":0.021739130434782608,\"data1\":0.37037037037037035},{\"data0\":0.021739130434782608,\"data1\":0.3888888888888889},{\"data0\":0.021739130434782608,\"data1\":0.4074074074074074},{\"data0\":0.021739130434782608,\"data1\":0.42592592592592593},{\"data0\":0.021739130434782608,\"data1\":0.4444444444444444},{\"data0\":0.043478260869565216,\"data1\":0.4444444444444444},{\"data0\":0.043478260869565216,\"data1\":0.46296296296296297},{\"data0\":0.043478260869565216,\"data1\":0.48148148148148145},{\"data0\":0.043478260869565216,\"data1\":0.5},{\"data0\":0.06521739130434782,\"data1\":0.5},{\"data0\":0.06521739130434782,\"data1\":0.5185185185185185},{\"data0\":0.06521739130434782,\"data1\":0.5370370370370371},{\"data0\":0.06521739130434782,\"data1\":0.5555555555555556},{\"data0\":0.06521739130434782,\"data1\":0.5740740740740741},{\"data0\":0.06521739130434782,\"data1\":0.5925925925925926},{\"data0\":0.06521739130434782,\"data1\":0.6111111111111112},{\"data0\":0.06521739130434782,\"data1\":0.6296296296296297},{\"data0\":0.08695652173913043,\"data1\":0.6296296296296297},{\"data0\":0.10869565217391304,\"data1\":0.6296296296296297},{\"data0\":0.10869565217391304,\"data1\":0.6481481481481481},{\"data0\":0.10869565217391304,\"data1\":0.6666666666666666},{\"data0\":0.13043478260869565,\"data1\":0.6666666666666666},{\"data0\":0.15217391304347827,\"data1\":0.6666666666666666},{\"data0\":0.15217391304347827,\"data1\":0.6851851851851852},{\"data0\":0.17391304347826086,\"data1\":0.6851851851851852},{\"data0\":0.17391304347826086,\"data1\":0.7037037037037037},{\"data0\":0.1956521739130435,\"data1\":0.7037037037037037},{\"data0\":0.21739130434782608,\"data1\":0.7037037037037037},{\"data0\":0.21739130434782608,\"data1\":0.7222222222222222},{\"data0\":0.2391304347826087,\"data1\":0.7222222222222222},{\"data0\":0.2391304347826087,\"data1\":0.7407407407407407},{\"data0\":0.2608695652173913,\"data1\":0.7407407407407407},{\"data0\":0.2608695652173913,\"data1\":0.7592592592592593},{\"data0\":0.2608695652173913,\"data1\":0.7777777777777778},{\"data0\":0.2608695652173913,\"data1\":0.7962962962962963},{\"data0\":0.2608695652173913,\"data1\":0.8148148148148148},{\"data0\":0.2608695652173913,\"data1\":0.8333333333333334},{\"data0\":0.2826086956521739,\"data1\":0.8333333333333334},{\"data0\":0.2826086956521739,\"data1\":0.8518518518518519},{\"data0\":0.2826086956521739,\"data1\":0.8703703703703703},{\"data0\":0.30434782608695654,\"data1\":0.8703703703703703},{\"data0\":0.30434782608695654,\"data1\":0.8888888888888888},{\"data0\":0.32608695652173914,\"data1\":0.8888888888888888},{\"data0\":0.32608695652173914,\"data1\":0.9074074074074074},{\"data0\":0.32608695652173914,\"data1\":0.9259259259259259},{\"data0\":0.34782608695652173,\"data1\":0.9259259259259259},{\"data0\":0.3695652173913043,\"data1\":0.9259259259259259},{\"data0\":0.391304347826087,\"data1\":0.9259259259259259},{\"data0\":0.41304347826086957,\"data1\":0.9259259259259259},{\"data0\":0.43478260869565216,\"data1\":0.9259259259259259},{\"data0\":0.45652173913043476,\"data1\":0.9259259259259259},{\"data0\":0.4782608695652174,\"data1\":0.9259259259259259},{\"data0\":0.4782608695652174,\"data1\":0.9444444444444444},{\"data0\":0.5,\"data1\":0.9444444444444444},{\"data0\":0.5217391304347826,\"data1\":0.9444444444444444},{\"data0\":0.5434782608695652,\"data1\":0.9444444444444444},{\"data0\":0.5652173913043478,\"data1\":0.9444444444444444},{\"data0\":0.5869565217391305,\"data1\":0.9444444444444444},{\"data0\":0.6086956521739131,\"data1\":0.9444444444444444},{\"data0\":0.6304347826086957,\"data1\":0.9444444444444444},{\"data0\":0.6521739130434783,\"data1\":0.9444444444444444},{\"data0\":0.6739130434782609,\"data1\":0.9444444444444444},{\"data0\":0.6739130434782609,\"data1\":0.9629629629629629},{\"data0\":0.6956521739130435,\"data1\":0.9629629629629629},{\"data0\":0.717391304347826,\"data1\":0.9629629629629629},{\"data0\":0.717391304347826,\"data1\":0.9814814814814815},{\"data0\":0.7391304347826086,\"data1\":0.9814814814814815},{\"data0\":0.7608695652173914,\"data1\":0.9814814814814815},{\"data0\":0.782608695652174,\"data1\":0.9814814814814815},{\"data0\":0.8043478260869565,\"data1\":0.9814814814814815},{\"data0\":0.8260869565217391,\"data1\":0.9814814814814815},{\"data0\":0.8478260869565217,\"data1\":0.9814814814814815},{\"data0\":0.8695652173913043,\"data1\":0.9814814814814815},{\"data0\":0.8913043478260869,\"data1\":0.9814814814814815},{\"data0\":0.8913043478260869,\"data1\":1.0},{\"data0\":0.9130434782608695,\"data1\":1.0},{\"data0\":0.9347826086956522,\"data1\":1.0},{\"data0\":0.9565217391304348,\"data1\":1.0},{\"data0\":0.9782608695652174,\"data1\":1.0},{\"data0\":1.0,\"data1\":1.0}]},\"extension\":[]}\n",
       "        var id_name = '#vis-dc0ab9c0-757d-4ef3-8062-3bc49ba04202';\n",
       "        Nyaplot.core.parse(model, id_name);\n",
       "\n",
       "        require(['downloadable'], function(downloadable){\n",
       "          var svg = d3.select(id_name).select(\"svg\");\n",
       "\t  if(!svg.empty())\n",
       "\t    svg.call(downloadable().filename('fig'));\n",
       "\t});\n",
       "    };\n",
       "    if(window['Nyaplot']==undefined){\n",
       "        window.addEventListener('load_nyaplot', render, false);\n",
       "\treturn;\n",
       "    } else {\n",
       "       render();\n",
       "    }\n",
       "})();\n",
       "</script>\n"
      ],
      "text/plain": [
       "#<Nyaplot::Frame:0x000056023505d3a8 @properties={:panes=>[#<Nyaplot::Plot:0x000056023506d578 @properties={:diagrams=>[#<Nyaplot::Diagram:0x000056023505d948 @properties={:type=>:line, :options=>{:x=>\"data0\", :y=>\"data1\", :color=>:black}, :data=>\"a6e30083-413a-4c47-8cb5-a9d097a6a603\"}, @xrange=[0.0, 1.0], @yrange=[0.0, 1.0]>], :options=>{:x_label=>\"False Positive Rate\", :y_label=>\"True Positive Rate\", :zoom=>true, :width=>700, :xrange=>[0.0, 1.0], :yrange=>[0.0, 1.0]}}>], :data=>{\"a6e30083-413a-4c47-8cb5-a9d097a6a603\"=>#<Nyaplot::DataFrame:0x000056023506cfd8 @name=\"a6e30083-413a-4c47-8cb5-a9d097a6a603\", @rows=[{:data0=>0.0, :data1=>0.0}, {:data0=>0.0, :data1=>0.018518518518518517}, {:data0=>0.0, :data1=>0.037037037037037035}, {:data0=>0.0, :data1=>0.05555555555555555}, {:data0=>0.0, :data1=>0.07407407407407407}, {:data0=>0.0, :data1=>0.09259259259259259}, {:data0=>0.0, :data1=>0.1111111111111111}, {:data0=>0.0, :data1=>0.12962962962962962}, {:data0=>0.0, :data1=>0.14814814814814814}, {:data0=>0.0, :data1=>0.16666666666666666}, {:data0=>0.0, :data1=>0.18518518518518517}, {:data0=>0.0, :data1=>0.2037037037037037}, {:data0=>0.0, :data1=>0.2222222222222222}, {:data0=>0.0, :data1=>0.24074074074074073}, {:data0=>0.0, :data1=>0.25925925925925924}, {:data0=>0.021739130434782608, :data1=>0.25925925925925924}, {:data0=>0.021739130434782608, :data1=>0.2777777777777778}, {:data0=>0.021739130434782608, :data1=>0.2962962962962963}, {:data0=>0.021739130434782608, :data1=>0.3148148148148148}, {:data0=>0.021739130434782608, :data1=>0.3333333333333333}, {:data0=>0.021739130434782608, :data1=>0.35185185185185186}, {:data0=>0.021739130434782608, :data1=>0.37037037037037035}, {:data0=>0.021739130434782608, :data1=>0.3888888888888889}, {:data0=>0.021739130434782608, :data1=>0.4074074074074074}, {:data0=>0.021739130434782608, :data1=>0.42592592592592593}, {:data0=>0.021739130434782608, :data1=>0.4444444444444444}, {:data0=>0.043478260869565216, :data1=>0.4444444444444444}, {:data0=>0.043478260869565216, :data1=>0.46296296296296297}, {:data0=>0.043478260869565216, :data1=>0.48148148148148145}, {:data0=>0.043478260869565216, :data1=>0.5}, {:data0=>0.06521739130434782, :data1=>0.5}, {:data0=>0.06521739130434782, :data1=>0.5185185185185185}, {:data0=>0.06521739130434782, :data1=>0.5370370370370371}, {:data0=>0.06521739130434782, :data1=>0.5555555555555556}, {:data0=>0.06521739130434782, :data1=>0.5740740740740741}, {:data0=>0.06521739130434782, :data1=>0.5925925925925926}, {:data0=>0.06521739130434782, :data1=>0.6111111111111112}, {:data0=>0.06521739130434782, :data1=>0.6296296296296297}, {:data0=>0.08695652173913043, :data1=>0.6296296296296297}, {:data0=>0.10869565217391304, :data1=>0.6296296296296297}, {:data0=>0.10869565217391304, :data1=>0.6481481481481481}, {:data0=>0.10869565217391304, :data1=>0.6666666666666666}, {:data0=>0.13043478260869565, :data1=>0.6666666666666666}, {:data0=>0.15217391304347827, :data1=>0.6666666666666666}, {:data0=>0.15217391304347827, :data1=>0.6851851851851852}, {:data0=>0.17391304347826086, :data1=>0.6851851851851852}, {:data0=>0.17391304347826086, :data1=>0.7037037037037037}, {:data0=>0.1956521739130435, :data1=>0.7037037037037037}, {:data0=>0.21739130434782608, :data1=>0.7037037037037037}, {:data0=>0.21739130434782608, :data1=>0.7222222222222222}, {:data0=>0.2391304347826087, :data1=>0.7222222222222222}, {:data0=>0.2391304347826087, :data1=>0.7407407407407407}, {:data0=>0.2608695652173913, :data1=>0.7407407407407407}, {:data0=>0.2608695652173913, :data1=>0.7592592592592593}, {:data0=>0.2608695652173913, :data1=>0.7777777777777778}, {:data0=>0.2608695652173913, :data1=>0.7962962962962963}, {:data0=>0.2608695652173913, :data1=>0.8148148148148148}, {:data0=>0.2608695652173913, :data1=>0.8333333333333334}, {:data0=>0.2826086956521739, :data1=>0.8333333333333334}, {:data0=>0.2826086956521739, :data1=>0.8518518518518519}, {:data0=>0.2826086956521739, :data1=>0.8703703703703703}, {:data0=>0.30434782608695654, :data1=>0.8703703703703703}, {:data0=>0.30434782608695654, :data1=>0.8888888888888888}, {:data0=>0.32608695652173914, :data1=>0.8888888888888888}, {:data0=>0.32608695652173914, :data1=>0.9074074074074074}, {:data0=>0.32608695652173914, :data1=>0.9259259259259259}, {:data0=>0.34782608695652173, :data1=>0.9259259259259259}, {:data0=>0.3695652173913043, :data1=>0.9259259259259259}, {:data0=>0.391304347826087, :data1=>0.9259259259259259}, {:data0=>0.41304347826086957, :data1=>0.9259259259259259}, {:data0=>0.43478260869565216, :data1=>0.9259259259259259}, {:data0=>0.45652173913043476, :data1=>0.9259259259259259}, {:data0=>0.4782608695652174, :data1=>0.9259259259259259}, {:data0=>0.4782608695652174, :data1=>0.9444444444444444}, {:data0=>0.5, :data1=>0.9444444444444444}, {:data0=>0.5217391304347826, :data1=>0.9444444444444444}, {:data0=>0.5434782608695652, :data1=>0.9444444444444444}, {:data0=>0.5652173913043478, :data1=>0.9444444444444444}, {:data0=>0.5869565217391305, :data1=>0.9444444444444444}, {:data0=>0.6086956521739131, :data1=>0.9444444444444444}, {:data0=>0.6304347826086957, :data1=>0.9444444444444444}, {:data0=>0.6521739130434783, :data1=>0.9444444444444444}, {:data0=>0.6739130434782609, :data1=>0.9444444444444444}, {:data0=>0.6739130434782609, :data1=>0.9629629629629629}, {:data0=>0.6956521739130435, :data1=>0.9629629629629629}, {:data0=>0.717391304347826, :data1=>0.9629629629629629}, {:data0=>0.717391304347826, :data1=>0.9814814814814815}, {:data0=>0.7391304347826086, :data1=>0.9814814814814815}, {:data0=>0.7608695652173914, :data1=>0.9814814814814815}, {:data0=>0.782608695652174, :data1=>0.9814814814814815}, {:data0=>0.8043478260869565, :data1=>0.9814814814814815}, {:data0=>0.8260869565217391, :data1=>0.9814814814814815}, {:data0=>0.8478260869565217, :data1=>0.9814814814814815}, {:data0=>0.8695652173913043, :data1=>0.9814814814814815}, {:data0=>0.8913043478260869, :data1=>0.9814814814814815}, {:data0=>0.8913043478260869, :data1=>1.0}, {:data0=>0.9130434782608695, :data1=>1.0}, {:data0=>0.9347826086956522, :data1=>1.0}, {:data0=>0.9565217391304348, :data1=>1.0}, {:data0=>0.9782608695652174, :data1=>1.0}, {:data0=>1.0, :data1=>1.0}]>}, :extension=>[]}>"
      ]
     },
     "metadata": {},
     "output_type": "display_data"
    },
    {
     "data": {
      "text/plain": [
       "#<CZTop::Socket::PUB:0x5602340e3da0 last_endpoint=\"tcp://127.0.0.1:43201\">"
      ]
     },
     "execution_count": 197,
     "metadata": {},
     "output_type": "execute_result"
    }
   ],
   "source": [
    "def test_51()\n",
    "  good_model = [[0.9, 1], [0.89, 1], [0.7, 0], [0.8, 1], [0.8, 0], [0.7, 1], [0.6, 0], [0.5, 0], [0.1, 0]]\n",
    "  assert_true(calc_auc_only(good_model) > 0.8)\n",
    "  assert_true(calc_auc_only(good_model) < 1)\n",
    "  \n",
    "  srand(777)\n",
    "  ok_model = Array.new(100) {|i| [100 - i, (rand < (100 - i) / 100.0) ? 1 : 0] }.shuffle\n",
    "  ok_fp, ok_tp, ok_auc = roc_curve ok_model\n",
    "\n",
    "  assert_in_delta(0.8631239935587761, ok_auc, 1e-3)\n",
    "  \n",
    "  bad_model = Array.new(1000) {|i| [1000 - i, rand < 0.5 ? 1 : 0] }\n",
    "  bad_auc = calc_auc_only(bad_model)\n",
    "  assert_in_delta(0.5, bad_auc, 5e-2)\n",
    "  \n",
    "  t_51_plot = Nyaplot::Plot.new\n",
    "  t_51_plot.x_label(\"False Positive Rate\").y_label(\"True Positive Rate\")\n",
    "  t_51_plot.add(:line, ok_fp, ok_tp).color(:black)\n",
    "  t_51_plot.show() \n",
    "\n",
    "end\n",
    "\n",
    "test_51()"
   ]
  },
  {
   "cell_type": "code",
   "execution_count": 198,
   "metadata": {
    "deletable": false,
    "editable": false,
    "nbgrader": {
     "cell_type": "code",
     "checksum": "81fd62deb99fbb0d90825d13cd7585af",
     "grade": true,
     "grade_id": "cell-75993046270a7c4b",
     "locked": true,
     "points": 5,
     "schema_version": 3,
     "solution": false
    },
    "scrolled": true
   },
   "outputs": [
    {
     "name": "stdout",
     "output_type": "stream",
     "text": [
      "At: 2020-11-18 04:18:37 +0000, 100 points. AUC = 0.503001200480192\n",
      "At: 2020-11-18 04:18:37 +0000, 100 points. AUC = 0.8683473389355744\n",
      "At: 2020-11-18 04:18:37 +0000, 1000 points. AUC = 0.48840532146516374\n",
      "At: 2020-11-18 04:18:37 +0000, 1000 points. AUC = 0.8395280000000002\n",
      "At: 2020-11-18 04:18:37 +0000, 10000 points. AUC = 0.5016753481086853\n",
      "At: 2020-11-18 04:18:37 +0000, 10000 points. AUC = 0.8348011938195139\n",
      "At: 2020-11-18 04:18:38 +0000, 100000 points. AUC = 0.49883707973997193\n",
      "At: 2020-11-18 04:18:39 +0000, 100000 points. AUC = 0.8325222069079209\n",
      "At: 2020-11-18 04:18:50 +0000, 1000000 points. AUC = 0.49956284583976207\n",
      "At: 2020-11-18 04:19:01 +0000, 1000000 points. AUC = 0.8331191662603503\n"
     ]
    }
   ],
   "source": [
    "#Tests whether model can handle a large number of examples\n",
    "# In the professor's implementation, this takes less than 1 minute\n",
    "def test_759930()\n",
    "  srand(777)\n",
    "  2.upto(6) do |d|\n",
    "    n = 10 ** d\n",
    "    bad_model = Array.new(n) {|i| [n - i, rand < 0.5 ? 1 : 0] }.shuffle\n",
    "    bad_auc = calc_auc_only(bad_model)\n",
    "    assert_in_delta(0.5, bad_auc, 5e-2, n)\n",
    "    puts \"At: #{Time.now}, #{n} points. AUC = #{bad_auc}\"\n",
    "    \n",
    "    ok_model = Array.new(n) {|i| [n - i, (rand < (n - i) / n.to_f) ? 1 : 0] }.shuffle\n",
    "    ok_auc = calc_auc_only(ok_model)\n",
    "    assert_in_delta(0.83, ok_auc, 0.05)\n",
    "    puts \"At: #{Time.now}, #{n} points. AUC = #{ok_auc}\"    \n",
    "  end\n",
    "  return\n",
    "end\n",
    "\n",
    "test_759930()"
   ]
  },
  {
   "cell_type": "markdown",
   "metadata": {},
   "source": [
    "## Question 5.2 (5 Points)\n",
    "\n",
    "The following dataset has _irrelevant features_. Find them and use regularization to control them. \n",
    "\n",
    "Implement a training method that trains a logistic regression model and returns training and testing AUC values. This follows closely question 3.2 above. Next, fill in the driver code that trains the model for each regularization value and populates an array of training AUC, testing AUC, and weight vector norm values.\n",
    "\n",
    "Hint: The weights for regularization parameter are displayed."
   ]
  },
  {
   "cell_type": "code",
   "execution_count": 199,
   "metadata": {
    "deletable": false,
    "nbgrader": {
     "cell_type": "code",
     "checksum": "81f003c01f00e981ca2ee596a0274bdc",
     "grade": false,
     "grade_id": "cell-e345def53c509c4b",
     "locked": false,
     "schema_version": 3,
     "solution": true
    }
   },
   "outputs": [
    {
     "data": {
      "text/plain": [
       ":train_logistic_regression"
      ]
     },
     "execution_count": 199,
     "metadata": {},
     "output_type": "execute_result"
    }
   ],
   "source": [
    "def train_logistic_regression(sgd, obj, w, train_set, test_set, num_epoch = 100, batch_size = 20)\n",
    "  # BEGIN YOUR CODE\n",
    "\n",
    "    iters = []\n",
    "    losses = []\n",
    "    features=train_set[\"features\"]\n",
    "    i = 0\n",
    "   num_epoch.times do\n",
    "        iters.append(i)\n",
    "        l = obj.func(train_set[\"data\"][0,batch_size],w)\n",
    "\n",
    "        losses.append(l)\n",
    "\n",
    "        sgd.update(train_set[\"data\"][0,batch_size])\n",
    "\n",
    "        w = sgd.weights\n",
    "\n",
    "        i+=1\n",
    "    end\n",
    "\n",
    "\n",
    "  train_score = score_binary_classification_model(train_set[\"data\"], w, obj)\n",
    "  train_auc = calc_auc_only(train_score)\n",
    "\n",
    "  test_score = score_binary_classification_model(test_set[\"data\"], w, obj)\n",
    "  test_auc = calc_auc_only(test_score)\n",
    "  #END YOUR CODE\n",
    "  return [train_auc, test_auc]\n",
    "end\n"
   ]
  },
  {
   "cell_type": "code",
   "execution_count": 200,
   "metadata": {
    "deletable": false,
    "nbgrader": {
     "cell_type": "code",
     "checksum": "fd0937d586958022585905e8563ae30d",
     "grade": false,
     "grade_id": "cell-6776506c206e8278",
     "locked": false,
     "schema_version": 3,
     "solution": true
    }
   },
   "outputs": [
    {
     "data": {
      "text/plain": [
       ":test_logistic_regularizers"
      ]
     },
     "execution_count": 200,
     "metadata": {},
     "output_type": "execute_result"
    }
   ],
   "source": [
    "def test_logistic_regularizers(corner)\n",
    "  stats = Hash.new {|h,k| h[k] = Array.new}\n",
    "  [0.0, 0.5, 1.0, 5.0, 7.0, 10.0, 12.0, 15.0, 20.0, 25.0, 30.0, 35.0].each do |reg|\n",
    "    tr_aucs = []\n",
    "    te_aucs = []\n",
    "    w_norms = []\n",
    "\n",
    "    cross_validate corner, 5 do |tr, te, fold|\n",
    "      # BEGIN YOUR CODE\n",
    "     \n",
    "      lr = 1e-1\n",
    "      w = Hash.new {|h,k| h[k] =0.0}\n",
    "      obj = LogisticRegressionModelL2.new(reg)\n",
    "      sgd = StochasticGradientDescent.new(obj, w, lr)\n",
    "\n",
    "      a = train_logistic_regression(sgd, obj, w, tr, te, num_epoch = 100, batch_size = 20)\n",
    "\n",
    "      tr_aucs.append(a[0])\n",
    "      te_aucs.append(a[1])\n",
    "      w_norms.append(norm w)\n",
    "\n",
    "      \n",
    "      \n",
    "      #END YOUR CODE\n",
    "      puts \"Reg: #{reg}\", \"Weights\", w if fold == 0\n",
    "    end\n",
    "    stats[:reg] << reg\n",
    "    stats[:tr_aucs] << mean(tr_aucs)\n",
    "    stats[:tr_aucs_std] << stdev(tr_aucs)\n",
    "    stats[:w_norms] << mean(w_norms)\n",
    "    stats[:te_aucs] << mean(te_aucs)    \n",
    "    stats[:te_aucs_std] << stdev(te_aucs)        \n",
    "  end\n",
    "  \n",
    "  return stats\n",
    "end"
   ]
  },
  {
   "cell_type": "code",
   "execution_count": 201,
   "metadata": {
    "deletable": false,
    "editable": false,
    "nbgrader": {
     "cell_type": "code",
     "checksum": "ce8eab2bdd2b3d603f05a326119e180f",
     "grade": true,
     "grade_id": "cell-3466fb23ace898e9",
     "locked": true,
     "points": 5,
     "schema_version": 3,
     "solution": false
    },
    "scrolled": true
   },
   "outputs": [
    {
     "name": "stdout",
     "output_type": "stream",
     "text": [
      "Reg: 0.0\n",
      "Weights\n",
      "{\"x1\"=>-0.02375866336007571, \"x2\"=>-0.11676290665253265, \"x3\"=>-0.210418197727949, \"x4\"=>0.07117114944251744, \"x5\"=>-0.08455935357116226, \"x6\"=>-0.056636891668571075, \"1\"=>-0.6586105732454504}\n",
      "Reg: 0.5\n",
      "Weights\n",
      "{\"x1\"=>-0.018440258552157997, \"x2\"=>-0.07741388432373186, \"x3\"=>-0.14196714416799514, \"x4\"=>0.04643436515649964, \"x5\"=>-0.06222954386828057, \"x6\"=>-0.04329157745857091, \"1\"=>-0.44490935113651126}\n",
      "Reg: 1.0\n",
      "Weights\n",
      "{\"x1\"=>-0.01497420342506096, \"x2\"=>-0.0548319316107266, \"x3\"=>-0.10235024649230903, \"x4\"=>0.03222936537601557, \"x5\"=>-0.048581327110121836, \"x6\"=>-0.03490599911725995, \"1\"=>-0.32054890975539296}\n",
      "Reg: 5.0\n",
      "Weights\n",
      "{\"x1\"=>-0.005596563383435679, \"x2\"=>-0.013709659283225114, \"x3\"=>-0.027370019435746074, \"x4\"=>0.00719464140632493, \"x5\"=>-0.01676708869819052, \"x6\"=>-0.01321879629273838, \"1\"=>-0.0850945530080072}\n",
      "Reg: 7.0\n",
      "Weights\n",
      "{\"x1\"=>-0.0042134357027029945, \"x2\"=>-0.009867443049658406, \"x3\"=>-0.019880875963932558, \"x4\"=>0.005061614545096915, \"x5\"=>-0.012570238626882628, \"x6\"=>-0.010022858259404206, \"1\"=>-0.061733567405544115}\n",
      "Reg: 10.0\n",
      "Weights\n",
      "{\"x1\"=>-0.003068216212830801, \"x2\"=>-0.006946941073634793, \"x3\"=>-0.014097002783593413, \"x4\"=>0.0034939382001061892, \"x5\"=>-0.009133623160524264, \"x6\"=>-0.00734725375918464, \"1\"=>-0.0437302209328463}\n",
      "Reg: 12.0\n",
      "Weights\n",
      "{\"x1\"=>-0.002596426348885448, \"x2\"=>-0.005802111538110653, \"x3\"=>-0.011807350502660416, \"x4\"=>0.0028938716235149503, \"x5\"=>-0.007724477100384772, \"x6\"=>-0.006235571582328929, \"1\"=>-0.03661289295449159}\n",
      "Reg: 15.0\n",
      "Weights\n",
      "{\"x1\"=>-0.0021092933092884, \"x2\"=>-0.00465213856763333, \"x3\"=>-0.00949439849075676, \"x4\"=>0.0023000409520714128, \"x5\"=>-0.006272314073961725, \"x6\"=>-0.0050813533421236595, \"1\"=>-0.029428804419954116}\n",
      "Reg: 20.0\n",
      "Weights\n",
      "{\"x1\"=>-0.0016064535339650541, \"x2\"=>-0.0034969819749484515, \"x3\"=>-0.007157675624070647, \"x4\"=>0.0017130638962012975, \"x5\"=>-0.004775517246400596, \"x6\"=>-0.00388271572238942, \"1\"=>-0.022176737890740383}\n",
      "Reg: 25.0\n",
      "Weights\n",
      "{\"x1\"=>-0.0012970576472991608, \"x2\"=>-0.0028013829399945595, \"x3\"=>-0.005744031670322843, \"x4\"=>0.0013644382016906459, \"x5\"=>-0.0038553141636267396, \"x6\"=>-0.00314139297975095, \"1\"=>-0.017792349867729755}\n",
      "Reg: 30.0\n",
      "Weights\n",
      "{\"x1\"=>-0.0010875393704343327, \"x2\"=>-0.0023366009809855635, \"x3\"=>-0.004796699453589982, \"x4\"=>0.0011335952770775062, \"x5\"=>-0.0032323942719939196, \"x6\"=>-0.0026376804489268834, \"1\"=>-0.014855443232461286}\n",
      "Reg: 35.0\n",
      "Weights\n",
      "{\"x1\"=>-0.0009362738723986138, \"x2\"=>-0.002004098199683092, \"x3\"=>-0.004117611314828358, \"x4\"=>0.0009695080101897623, \"x5\"=>-0.0027827472267264054, \"x6\"=>-0.002273145835568536, \"1\"=>-0.012750750592622642}\n"
     ]
    },
    {
     "data": {
      "text/html": [
       "<b> Daru::DataFrame(12x6) </b>\n",
       "<table border=\"1\" class=\"dataframe\">\n",
       "  <thead>\n",
       "  \n",
       "    <tr>\n",
       "      <th></th>\n",
       "      \n",
       "        <th>reg</th>\n",
       "      \n",
       "        <th>tr_aucs</th>\n",
       "      \n",
       "        <th>tr_aucs_std</th>\n",
       "      \n",
       "        <th>w_norms</th>\n",
       "      \n",
       "        <th>te_aucs</th>\n",
       "      \n",
       "        <th>te_aucs_std</th>\n",
       "      \n",
       "    </tr>\n",
       "  \n",
       "</thead>\n",
       "  <tbody>\n",
       "  \n",
       "    <tr>\n",
       "      <td>0</td>\n",
       "      \n",
       "        <td>0.0</td>\n",
       "      \n",
       "        <td>0.893434491901073</td>\n",
       "      \n",
       "        <td>0.01368179705377354</td>\n",
       "      \n",
       "        <td>0.7733748779259466</td>\n",
       "      \n",
       "        <td>0.9140002241266789</td>\n",
       "      \n",
       "        <td>0.04300713804110452</td>\n",
       "      \n",
       "    </tr>\n",
       "  \n",
       "    <tr>\n",
       "      <td>1</td>\n",
       "      \n",
       "        <td>0.5</td>\n",
       "      \n",
       "        <td>0.8924881319803821</td>\n",
       "      \n",
       "        <td>0.01002964542533726</td>\n",
       "      \n",
       "        <td>0.5262000203631721</td>\n",
       "      \n",
       "        <td>0.9150692752690548</td>\n",
       "      \n",
       "        <td>0.04182695647963343</td>\n",
       "      \n",
       "    </tr>\n",
       "  \n",
       "    <tr>\n",
       "      <td>2</td>\n",
       "      \n",
       "        <td>1.0</td>\n",
       "      \n",
       "        <td>0.8902606294005835</td>\n",
       "      \n",
       "        <td>0.007522310730732953</td>\n",
       "      \n",
       "        <td>0.3824021006550716</td>\n",
       "      \n",
       "        <td>0.9140436342434135</td>\n",
       "      \n",
       "        <td>0.041071696793941244</td>\n",
       "      \n",
       "    </tr>\n",
       "  \n",
       "    <tr>\n",
       "      <td>3</td>\n",
       "      \n",
       "        <td>5.0</td>\n",
       "      \n",
       "        <td>0.8810214192921764</td>\n",
       "      \n",
       "        <td>0.018234886034951794</td>\n",
       "      \n",
       "        <td>0.1053284372430818</td>\n",
       "      \n",
       "        <td>0.9093226208019566</td>\n",
       "      \n",
       "        <td>0.03712223882574103</td>\n",
       "      \n",
       "    </tr>\n",
       "  \n",
       "    <tr>\n",
       "      <td>4</td>\n",
       "      \n",
       "        <td>7.0</td>\n",
       "      \n",
       "        <td>0.8793861648976963</td>\n",
       "      \n",
       "        <td>0.02160596520948303</td>\n",
       "      \n",
       "        <td>0.07682048945967787</td>\n",
       "      \n",
       "        <td>0.9085591976965646</td>\n",
       "      \n",
       "        <td>0.0371905515226509</td>\n",
       "      \n",
       "    </tr>\n",
       "  \n",
       "    <tr>\n",
       "      <td>5</td>\n",
       "      \n",
       "        <td>10.0</td>\n",
       "      \n",
       "        <td>0.8784093541379165</td>\n",
       "      \n",
       "        <td>0.02415449936459205</td>\n",
       "      \n",
       "        <td>0.0546457951735972</td>\n",
       "      \n",
       "        <td>0.9078867233660592</td>\n",
       "      \n",
       "        <td>0.036842966027864084</td>\n",
       "      \n",
       "    </tr>\n",
       "  \n",
       "    <tr>\n",
       "      <td>6</td>\n",
       "      \n",
       "        <td>12.0</td>\n",
       "      \n",
       "        <td>0.8776634356835242</td>\n",
       "      \n",
       "        <td>0.02549978756068069</td>\n",
       "      \n",
       "        <td>0.04582859952529195</td>\n",
       "      \n",
       "        <td>0.907771991775338</td>\n",
       "      \n",
       "        <td>0.037190853724201244</td>\n",
       "      \n",
       "    </tr>\n",
       "  \n",
       "    <tr>\n",
       "      <td>7</td>\n",
       "      \n",
       "        <td>15.0</td>\n",
       "      \n",
       "        <td>0.8770062809157786</td>\n",
       "      \n",
       "        <td>0.026856934815955545</td>\n",
       "      \n",
       "        <td>0.03689894195878553</td>\n",
       "      \n",
       "        <td>0.9079200302653454</td>\n",
       "      \n",
       "        <td>0.036972922632489184</td>\n",
       "      \n",
       "    </tr>\n",
       "  \n",
       "    <tr>\n",
       "      <td>8</td>\n",
       "      \n",
       "        <td>20.0</td>\n",
       "      \n",
       "        <td>0.8764940439228681</td>\n",
       "      \n",
       "        <td>0.027885018747266063</td>\n",
       "      \n",
       "        <td>0.027854096950097367</td>\n",
       "      \n",
       "        <td>0.907771991775338</td>\n",
       "      \n",
       "        <td>0.037190853724201244</td>\n",
       "      \n",
       "    </tr>\n",
       "  \n",
       "    <tr>\n",
       "      <td>9</td>\n",
       "      \n",
       "        <td>25.0</td>\n",
       "      \n",
       "        <td>0.8762269079352046</td>\n",
       "      \n",
       "        <td>0.028691350274705454</td>\n",
       "      \n",
       "        <td>0.02237073685053468</td>\n",
       "      \n",
       "        <td>0.9079200302653454</td>\n",
       "      \n",
       "        <td>0.036972922632489184</td>\n",
       "      \n",
       "    </tr>\n",
       "  \n",
       "    <tr>\n",
       "      <td>10</td>\n",
       "      \n",
       "        <td>30.0</td>\n",
       "      \n",
       "        <td>0.8759724599122045</td>\n",
       "      \n",
       "        <td>0.02917010835338776</td>\n",
       "      \n",
       "        <td>0.01869126061166728</td>\n",
       "      \n",
       "        <td>0.9079200302653454</td>\n",
       "      \n",
       "        <td>0.036972922632489184</td>\n",
       "      \n",
       "    </tr>\n",
       "  \n",
       "    <tr>\n",
       "      <td>11</td>\n",
       "      \n",
       "        <td>35.0</td>\n",
       "      \n",
       "        <td>0.8758622585269181</td>\n",
       "      \n",
       "        <td>0.029542065036686566</td>\n",
       "      \n",
       "        <td>0.016051233992739007</td>\n",
       "      \n",
       "        <td>0.9079200302653454</td>\n",
       "      \n",
       "        <td>0.036972922632489184</td>\n",
       "      \n",
       "    </tr>\n",
       "  \n",
       "\n",
       "  \n",
       "</tbody>\n",
       "</table>"
      ],
      "text/plain": [
       "#<Daru::DataFrame(12x6)>\n",
       "                     reg     tr_aucs tr_aucs_std     w_norms     te_aucs te_aucs_std\n",
       "           0         0.0 0.893434491 0.013681797 0.773374877 0.914000224 0.043007138\n",
       "           1         0.5 0.892488131 0.010029645 0.526200020 0.915069275 0.041826956\n",
       "           2         1.0 0.890260629 0.007522310 0.382402100 0.914043634 0.041071696\n",
       "           3         5.0 0.881021419 0.018234886 0.105328437 0.909322620 0.037122238\n",
       "           4         7.0 0.879386164 0.021605965 0.076820489 0.908559197 0.037190551\n",
       "           5        10.0 0.878409354 0.024154499 0.054645795 0.907886723 0.036842966\n",
       "           6        12.0 0.877663435 0.025499787 0.045828599 0.907771991 0.037190853\n",
       "           7        15.0 0.877006280 0.026856934 0.036898941 0.907920030 0.036972922\n",
       "           8        20.0 0.876494043 0.027885018 0.027854096 0.907771991 0.037190853\n",
       "           9        25.0 0.876226907 0.028691350 0.022370736 0.907920030 0.036972922\n",
       "          10        30.0 0.875972459 0.029170108 0.018691260 0.907920030 0.036972922\n",
       "          11        35.0 0.875862258 0.029542065 0.016051233 0.907920030 0.036972922"
      ]
     },
     "execution_count": 201,
     "metadata": {},
     "output_type": "execute_result"
    }
   ],
   "source": [
    "def test_52()\n",
    "  corner = z_normalize(read_sparse_data_from_csv(\"corner\"))\n",
    "  corner[\"data\"].first\n",
    "  \n",
    "  stats = test_logistic_regularizers(corner)\n",
    "  assert_true(stats[:tr_aucs].all? {|a| a > 0.7 and a < 1.0}, \"1\")\n",
    "  assert_true(stats[:te_aucs].all? {|a| a > 0.7 and a < 1.0}, \"2\")\n",
    "  assert_true(stats[:w_norms][0] > stats[:w_norms][6], \"3\")\n",
    "  assert_true(stats[:w_norms][6] > stats[:w_norms].last, \"4\")    \n",
    "  [Daru::DataFrame.new(stats), stats]\n",
    "end\n",
    "\n",
    "df, t_52_stats = test_52()\n",
    "df"
   ]
  },
  {
   "cell_type": "markdown",
   "metadata": {},
   "source": [
    "### Interpretation\n",
    "\n",
    "Running 5-fold cross validation for several parameter combinations, we can find the best regularization parameter based on the average of the test sets obtained during cross validation. We call them test sets, but they are subsets of the original dataset--just not provided to the trainer. The plot below will help you find the best value. "
   ]
  },
  {
   "cell_type": "code",
   "execution_count": 202,
   "metadata": {},
   "outputs": [
    {
     "data": {
      "text/html": [
       "<div id='vis-931e5900-a9ec-49e0-9f88-5b180595b7b5'></div>\n",
       "<script>\n",
       "(function(){\n",
       "    var render = function(){\n",
       "        var model = {\"panes\":[{\"diagrams\":[{\"type\":\"line\",\"options\":{\"x\":\"data0\",\"y\":\"data1\",\"color\":\"red\"},\"data\":\"8a557c2c-2e97-4e6d-905d-397555e9727d\"}],\"options\":{\"x_label\":\"Regularization Parameter\",\"y_label\":\"Average CV AUC\",\"zoom\":true,\"width\":700,\"xrange\":[0.0,35.0],\"yrange\":[0.907771991775338,0.9150692752690548]}}],\"data\":{\"8a557c2c-2e97-4e6d-905d-397555e9727d\":[{\"data0\":0.0,\"data1\":0.9140002241266789},{\"data0\":0.5,\"data1\":0.9150692752690548},{\"data0\":1.0,\"data1\":0.9140436342434135},{\"data0\":5.0,\"data1\":0.9093226208019566},{\"data0\":7.0,\"data1\":0.9085591976965646},{\"data0\":10.0,\"data1\":0.9078867233660592},{\"data0\":12.0,\"data1\":0.907771991775338},{\"data0\":15.0,\"data1\":0.9079200302653454},{\"data0\":20.0,\"data1\":0.907771991775338},{\"data0\":25.0,\"data1\":0.9079200302653454},{\"data0\":30.0,\"data1\":0.9079200302653454},{\"data0\":35.0,\"data1\":0.9079200302653454}]},\"extension\":[]}\n",
       "        var id_name = '#vis-931e5900-a9ec-49e0-9f88-5b180595b7b5';\n",
       "        Nyaplot.core.parse(model, id_name);\n",
       "\n",
       "        require(['downloadable'], function(downloadable){\n",
       "          var svg = d3.select(id_name).select(\"svg\");\n",
       "\t  if(!svg.empty())\n",
       "\t    svg.call(downloadable().filename('fig'));\n",
       "\t});\n",
       "    };\n",
       "    if(window['Nyaplot']==undefined){\n",
       "        window.addEventListener('load_nyaplot', render, false);\n",
       "\treturn;\n",
       "    } else {\n",
       "       render();\n",
       "    }\n",
       "})();\n",
       "</script>\n"
      ],
      "text/plain": [
       "#<Nyaplot::Frame:0x000056023f6b0750 @properties={:panes=>[#<Nyaplot::Plot:0x000056023f6b1fb0 @properties={:diagrams=>[#<Nyaplot::Diagram:0x000056023f6b0c78 @properties={:type=>:line, :options=>{:x=>\"data0\", :y=>\"data1\", :color=>:red}, :data=>\"8a557c2c-2e97-4e6d-905d-397555e9727d\"}, @xrange=[0.0, 35.0], @yrange=[0.907771991775338, 0.9150692752690548]>], :options=>{:x_label=>\"Regularization Parameter\", :y_label=>\"Average CV AUC\", :zoom=>true, :width=>700, :xrange=>[0.0, 35.0], :yrange=>[0.907771991775338, 0.9150692752690548]}}>], :data=>{\"8a557c2c-2e97-4e6d-905d-397555e9727d\"=>#<Nyaplot::DataFrame:0x000056023f6b1a38 @name=\"8a557c2c-2e97-4e6d-905d-397555e9727d\", @rows=[{:data0=>0.0, :data1=>0.9140002241266789}, {:data0=>0.5, :data1=>0.9150692752690548}, {:data0=>1.0, :data1=>0.9140436342434135}, {:data0=>5.0, :data1=>0.9093226208019566}, {:data0=>7.0, :data1=>0.9085591976965646}, {:data0=>10.0, :data1=>0.9078867233660592}, {:data0=>12.0, :data1=>0.907771991775338}, {:data0=>15.0, :data1=>0.9079200302653454}, {:data0=>20.0, :data1=>0.907771991775338}, {:data0=>25.0, :data1=>0.9079200302653454}, {:data0=>30.0, :data1=>0.9079200302653454}, {:data0=>35.0, :data1=>0.9079200302653454}]>}, :extension=>[]}>"
      ]
     },
     "metadata": {},
     "output_type": "display_data"
    },
    {
     "data": {
      "text/plain": [
       "#<CZTop::Socket::PUB:0x5602340e3da0 last_endpoint=\"tcp://127.0.0.1:43201\">"
      ]
     },
     "execution_count": 202,
     "metadata": {},
     "output_type": "execute_result"
    }
   ],
   "source": [
    "t_52_plot = Nyaplot::Plot.new\n",
    "t_52_plot.x_label(\"Regularization Parameter\").y_label(\"Average CV AUC\")\n",
    "t_52_plot.add(:line, t_52_stats[:reg], t_52_stats[:te_aucs]).color(:red)\n",
    "t_52_plot.show() "
   ]
  },
  {
   "cell_type": "markdown",
   "metadata": {},
   "source": [
    "## Question 5.3 (2 Points)\n",
    "\n",
    "Make the function below return an array of feature names you think are irrelevant. If you think features ```\"a\", \"b\"``` are irrelevant, write your function below as follows:\n",
    "\n",
    "```ruby\n",
    "def guess_irrelevant_features()\n",
    "  answer = [\"a\", \"b\"]\n",
    "  return answer\n",
    "end\n",
    "```\n",
    "\n",
    "**Hint**: What does L2 regularization do for irrelevant features?"
   ]
  },
  {
   "cell_type": "code",
   "execution_count": 203,
   "metadata": {
    "deletable": false,
    "nbgrader": {
     "cell_type": "code",
     "checksum": "b6f35fb66ab0d03261c09b9e8f4e5be0",
     "grade": false,
     "grade_id": "cell-1db59fbc2e27be51",
     "locked": false,
     "schema_version": 3,
     "solution": true
    }
   },
   "outputs": [
    {
     "data": {
      "text/plain": [
       ":guess_irrelevant_features"
      ]
     },
     "execution_count": 203,
     "metadata": {},
     "output_type": "execute_result"
    }
   ],
   "source": [
    "def guess_irrelevant_features()\n",
    "  # BEGIN YOUR CODE\n",
    "\n",
    "  answer=[\"x4\",\"x5\",\"x6\"]\n",
    "  \n",
    "  #END YOUR CODE\n",
    "  return answer\n",
    "end"
   ]
  },
  {
   "cell_type": "code",
   "execution_count": 204,
   "metadata": {
    "deletable": false,
    "editable": false,
    "nbgrader": {
     "cell_type": "code",
     "checksum": "c9525088b92183a0491858287206d41b",
     "grade": true,
     "grade_id": "cell-f6112841216e9542",
     "locked": true,
     "points": 2,
     "schema_version": 3,
     "solution": false
    }
   },
   "outputs": [],
   "source": [
    "corner = read_sparse_data_from_csv(\"corner\")\n",
    "\n",
    "t53_answer = guess_irrelevant_features()\n",
    "assert_true(t53_answer.is_a?(Array))\n",
    "assert_false(t53_answer.empty?)\n",
    "assert_false((corner[\"features\"] & t53_answer).empty?)\n",
    "\n",
    "### Hidden Test ###\n"
   ]
  },
  {
   "cell_type": "markdown",
   "metadata": {},
   "source": [
    "## Question 5.4 (3 Points)\n",
    "\n",
    "Based on the plot above for different regularization parameters, which has the best AUC?  If your answer is, say 1.2345, write the following: \n",
    "\n",
    "```ruby\n",
    "def pick_best_regularizer()\n",
    "  answer = 1.2345\n",
    "  return answer\n",
    "end\n",
    "```"
   ]
  },
  {
   "cell_type": "code",
   "execution_count": 205,
   "metadata": {
    "deletable": false,
    "nbgrader": {
     "cell_type": "code",
     "checksum": "07ab9033c0b014e3ab60ceb66f2ab7eb",
     "grade": false,
     "grade_id": "cell-b5110128b7e93922",
     "locked": false,
     "schema_version": 3,
     "solution": true
    }
   },
   "outputs": [
    {
     "data": {
      "text/plain": [
       ":pick_best_regularizer"
      ]
     },
     "execution_count": 205,
     "metadata": {},
     "output_type": "execute_result"
    }
   ],
   "source": [
    "def pick_best_regularizer()\n",
    "  # BEGIN YOUR CODE\n",
    "  answer = 0.5\n",
    "  #END YOUR CODE\n",
    "  return answer\n",
    "end"
   ]
  },
  {
   "cell_type": "code",
   "execution_count": 206,
   "metadata": {
    "deletable": false,
    "editable": false,
    "nbgrader": {
     "cell_type": "code",
     "checksum": "56681bef9895eddefe559b8b286d9885",
     "grade": true,
     "grade_id": "cell-a752b27874b9bd2d",
     "locked": true,
     "points": 3,
     "schema_version": 3,
     "solution": false
    }
   },
   "outputs": [],
   "source": [
    "### Hidden Test ###"
   ]
  }
 ],
 "metadata": {
  "kernelspec": {
   "display_name": "Ruby 2.7.0",
   "language": "ruby",
   "name": "ruby"
  },
  "language_info": {
   "file_extension": ".rb",
   "mimetype": "application/x-ruby",
   "name": "ruby",
   "version": "2.7.0"
  }
 },
 "nbformat": 4,
 "nbformat_minor": 2
}
